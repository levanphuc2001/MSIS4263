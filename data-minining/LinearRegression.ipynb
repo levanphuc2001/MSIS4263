{
 "cells": [
  {
   "cell_type": "code",
   "execution_count": 2,
   "metadata": {},
   "outputs": [],
   "source": [
    "import pandas as pd \n",
    "import numpy as np\n",
    "import lazypredict\n",
    "from sklearn.model_selection import train_test_split\n",
    "from lazypredict.Supervised import LazyRegressor\n",
    "from sklearn.compose import ColumnTransformer\n",
    "from sklearn.preprocessing import OneHotEncoder\n",
    "from sklearn.linear_model import LinearRegression\n",
    "from sklearn.metrics import accuracy_score\n",
    "import matplotlib.pyplot as plt\n",
    "import seaborn as sns\n",
    "from sklearn.feature_selection import RFE\n",
    "import pickle\n",
    "import os\n",
    "import statsmodels.api as sm\n",
    "from statsmodels.stats.outliers_influence import variance_inflation_factor\n",
    "from sklearn.preprocessing import MinMaxScaler, StandardScaler"
   ]
  },
  {
   "cell_type": "code",
   "execution_count": 3,
   "metadata": {},
   "outputs": [],
   "source": [
    "df_dataset_origin=pd.read_csv(\"df_dataset_after_re_processing.csv\")"
   ]
  },
  {
   "cell_type": "code",
   "execution_count": 4,
   "metadata": {},
   "outputs": [
    {
     "data": {
      "text/html": [
       "<div>\n",
       "<style scoped>\n",
       "    .dataframe tbody tr th:only-of-type {\n",
       "        vertical-align: middle;\n",
       "    }\n",
       "\n",
       "    .dataframe tbody tr th {\n",
       "        vertical-align: top;\n",
       "    }\n",
       "\n",
       "    .dataframe thead th {\n",
       "        text-align: right;\n",
       "    }\n",
       "</style>\n",
       "<table border=\"1\" class=\"dataframe\">\n",
       "  <thead>\n",
       "    <tr style=\"text-align: right;\">\n",
       "      <th></th>\n",
       "      <th>price</th>\n",
       "      <th>rating</th>\n",
       "      <th>manufacturer</th>\n",
       "      <th>country_of_origin</th>\n",
       "      <th>os</th>\n",
       "      <th>ram</th>\n",
       "      <th>weight</th>\n",
       "      <th>batteries</th>\n",
       "      <th>form_factor</th>\n",
       "      <th>colour</th>\n",
       "      <th>battery_power_rating</th>\n",
       "    </tr>\n",
       "  </thead>\n",
       "  <tbody>\n",
       "    <tr>\n",
       "      <th>0</th>\n",
       "      <td>45900.00</td>\n",
       "      <td>4.20</td>\n",
       "      <td>samsung</td>\n",
       "      <td>India</td>\n",
       "      <td>Android</td>\n",
       "      <td>6.00</td>\n",
       "      <td>167.00</td>\n",
       "      <td>1 Lithium Polymer</td>\n",
       "      <td>Touchscreen Phone</td>\n",
       "      <td>Midnight Black</td>\n",
       "      <td>6000.00</td>\n",
       "    </tr>\n",
       "    <tr>\n",
       "      <th>1</th>\n",
       "      <td>9490.00</td>\n",
       "      <td>4.30</td>\n",
       "      <td>oneplus</td>\n",
       "      <td>India</td>\n",
       "      <td>Android</td>\n",
       "      <td>8.00</td>\n",
       "      <td>161.00</td>\n",
       "      <td>1 Lithium Polymer</td>\n",
       "      <td>Smartphone</td>\n",
       "      <td>Prism Black</td>\n",
       "      <td>4400.00</td>\n",
       "    </tr>\n",
       "    <tr>\n",
       "      <th>2</th>\n",
       "      <td>44000.00</td>\n",
       "      <td>4.20</td>\n",
       "      <td>oppo</td>\n",
       "      <td>India</td>\n",
       "      <td>Android 10</td>\n",
       "      <td>8.00</td>\n",
       "      <td>196.00</td>\n",
       "      <td>1 Lithium Polymer</td>\n",
       "      <td>Bar</td>\n",
       "      <td>Galactic Blue</td>\n",
       "      <td>4500.00</td>\n",
       "    </tr>\n",
       "    <tr>\n",
       "      <th>3</th>\n",
       "      <td>21490.00</td>\n",
       "      <td>4.30</td>\n",
       "      <td>oppo</td>\n",
       "      <td>India</td>\n",
       "      <td>Android</td>\n",
       "      <td>0.03</td>\n",
       "      <td>175.00</td>\n",
       "      <td>1 Lithium ion</td>\n",
       "      <td>Bar</td>\n",
       "      <td>Aqua Green</td>\n",
       "      <td>4000.00</td>\n",
       "    </tr>\n",
       "    <tr>\n",
       "      <th>4</th>\n",
       "      <td>39999.00</td>\n",
       "      <td>4.40</td>\n",
       "      <td>bhagwati products ltd. sp1-1 industrial area k...</td>\n",
       "      <td>India</td>\n",
       "      <td>Android</td>\n",
       "      <td>4.00</td>\n",
       "      <td>199.00</td>\n",
       "      <td>1 A</td>\n",
       "      <td>Touchscreen Phone</td>\n",
       "      <td>Champagne</td>\n",
       "      <td>6000.00</td>\n",
       "    </tr>\n",
       "  </tbody>\n",
       "</table>\n",
       "</div>"
      ],
      "text/plain": [
       "     price  rating                                       manufacturer  \\\n",
       "0 45900.00    4.20                                            samsung   \n",
       "1  9490.00    4.30                                            oneplus   \n",
       "2 44000.00    4.20                                               oppo   \n",
       "3 21490.00    4.30                                               oppo   \n",
       "4 39999.00    4.40  bhagwati products ltd. sp1-1 industrial area k...   \n",
       "\n",
       "  country_of_origin          os  ram  weight          batteries  \\\n",
       "0             India     Android 6.00  167.00  1 Lithium Polymer   \n",
       "1             India     Android 8.00  161.00  1 Lithium Polymer   \n",
       "2             India  Android 10 8.00  196.00  1 Lithium Polymer   \n",
       "3             India     Android 0.03  175.00      1 Lithium ion   \n",
       "4             India     Android 4.00  199.00                1 A   \n",
       "\n",
       "         form_factor          colour  battery_power_rating  \n",
       "0  Touchscreen Phone  Midnight Black               6000.00  \n",
       "1         Smartphone     Prism Black               4400.00  \n",
       "2                Bar   Galactic Blue               4500.00  \n",
       "3                Bar      Aqua Green               4000.00  \n",
       "4  Touchscreen Phone       Champagne               6000.00  "
      ]
     },
     "execution_count": 4,
     "metadata": {},
     "output_type": "execute_result"
    }
   ],
   "source": [
    "df_dataset_origin.head()"
   ]
  },
  {
   "cell_type": "code",
   "execution_count": 5,
   "metadata": {},
   "outputs": [
    {
     "data": {
      "text/plain": [
       "Index(['price', 'rating', 'manufacturer', 'country_of_origin', 'os', 'ram',\n",
       "       'weight', 'batteries', 'form_factor', 'colour', 'battery_power_rating'],\n",
       "      dtype='object')"
      ]
     },
     "execution_count": 5,
     "metadata": {},
     "output_type": "execute_result"
    }
   ],
   "source": [
    "df_dataset_origin.columns"
   ]
  },
  {
   "cell_type": "code",
   "execution_count": 6,
   "metadata": {},
   "outputs": [
    {
     "data": {
      "text/plain": [
       "['manufacturer',\n",
       " 'country_of_origin',\n",
       " 'os',\n",
       " 'batteries',\n",
       " 'form_factor',\n",
       " 'colour']"
      ]
     },
     "execution_count": 6,
     "metadata": {},
     "output_type": "execute_result"
    }
   ],
   "source": [
    "categorical_cols = [col for col in df_dataset_origin.columns if df_dataset_origin[col].dtype == 'object']\n",
    "categorical_cols"
   ]
  },
  {
   "cell_type": "code",
   "execution_count": 7,
   "metadata": {},
   "outputs": [],
   "source": [
    "\n",
    "from sklearn.preprocessing import LabelEncoder \n",
    "\n",
    "df_dataset=df_dataset_origin\n",
    "for col in categorical_cols:\n",
    "  one_hot = pd.get_dummies(df_dataset_origin[col],dtype=\"int\")\n",
    "  df_dataset = pd.concat([df_dataset, one_hot], axis=1)\n",
    "\n"
   ]
  },
  {
   "cell_type": "code",
   "execution_count": 8,
   "metadata": {},
   "outputs": [
    {
     "data": {
      "text/plain": [
       "Index(['price', 'rating', 'manufacturer', 'country_of_origin', 'os', 'ram',\n",
       "       'weight', 'batteries', 'form_factor', 'colour',\n",
       "       ...\n",
       "       'Sword Black', 'Titanium Sapphire', 'Topaz Blue', 'Tuscany Coral',\n",
       "       'Ultramarine Blue', 'Vintage Bronze', 'Vinyl Black', 'Violet', 'White',\n",
       "       'White white'],\n",
       "      dtype='object', length=215)"
      ]
     },
     "execution_count": 8,
     "metadata": {},
     "output_type": "execute_result"
    }
   ],
   "source": [
    "df_dataset.columns"
   ]
  },
  {
   "cell_type": "code",
   "execution_count": 9,
   "metadata": {},
   "outputs": [],
   "source": [
    "y = df_dataset['price']\n",
    "columns= []\n",
    "# remove categorcal variable and target\n",
    "for x in df_dataset.columns:\n",
    "  if (x not in categorical_cols)  and (x != \"price\"):\n",
    "       columns.append(x)\n",
    "\n",
    "X = df_dataset[columns]\n"
   ]
  },
  {
   "cell_type": "code",
   "execution_count": 10,
   "metadata": {},
   "outputs": [
    {
     "data": {
      "text/html": [
       "<div>\n",
       "<style scoped>\n",
       "    .dataframe tbody tr th:only-of-type {\n",
       "        vertical-align: middle;\n",
       "    }\n",
       "\n",
       "    .dataframe tbody tr th {\n",
       "        vertical-align: top;\n",
       "    }\n",
       "\n",
       "    .dataframe thead th {\n",
       "        text-align: right;\n",
       "    }\n",
       "</style>\n",
       "<table border=\"1\" class=\"dataframe\">\n",
       "  <thead>\n",
       "    <tr style=\"text-align: right;\">\n",
       "      <th></th>\n",
       "      <th>rating</th>\n",
       "      <th>ram</th>\n",
       "      <th>weight</th>\n",
       "      <th>battery_power_rating</th>\n",
       "      <th>bhagwati products ltd. sp1-1 industrial area karoli tapukara extn. bhiwadi rajasthan india</th>\n",
       "      <th>g mobile</th>\n",
       "      <th>gionee</th>\n",
       "      <th>google</th>\n",
       "      <th>hmd global</th>\n",
       "      <th>iqoo</th>\n",
       "      <th>...</th>\n",
       "      <th>Sword Black</th>\n",
       "      <th>Titanium Sapphire</th>\n",
       "      <th>Topaz Blue</th>\n",
       "      <th>Tuscany Coral</th>\n",
       "      <th>Ultramarine Blue</th>\n",
       "      <th>Vintage Bronze</th>\n",
       "      <th>Vinyl Black</th>\n",
       "      <th>Violet</th>\n",
       "      <th>White</th>\n",
       "      <th>White white</th>\n",
       "    </tr>\n",
       "  </thead>\n",
       "  <tbody>\n",
       "    <tr>\n",
       "      <th>0</th>\n",
       "      <td>4.20</td>\n",
       "      <td>6.00</td>\n",
       "      <td>167.00</td>\n",
       "      <td>6000.00</td>\n",
       "      <td>0</td>\n",
       "      <td>0</td>\n",
       "      <td>0</td>\n",
       "      <td>0</td>\n",
       "      <td>0</td>\n",
       "      <td>0</td>\n",
       "      <td>...</td>\n",
       "      <td>0</td>\n",
       "      <td>0</td>\n",
       "      <td>0</td>\n",
       "      <td>0</td>\n",
       "      <td>0</td>\n",
       "      <td>0</td>\n",
       "      <td>0</td>\n",
       "      <td>0</td>\n",
       "      <td>0</td>\n",
       "      <td>0</td>\n",
       "    </tr>\n",
       "    <tr>\n",
       "      <th>1</th>\n",
       "      <td>4.30</td>\n",
       "      <td>8.00</td>\n",
       "      <td>161.00</td>\n",
       "      <td>4400.00</td>\n",
       "      <td>0</td>\n",
       "      <td>0</td>\n",
       "      <td>0</td>\n",
       "      <td>0</td>\n",
       "      <td>0</td>\n",
       "      <td>0</td>\n",
       "      <td>...</td>\n",
       "      <td>0</td>\n",
       "      <td>0</td>\n",
       "      <td>0</td>\n",
       "      <td>0</td>\n",
       "      <td>0</td>\n",
       "      <td>0</td>\n",
       "      <td>0</td>\n",
       "      <td>0</td>\n",
       "      <td>0</td>\n",
       "      <td>0</td>\n",
       "    </tr>\n",
       "    <tr>\n",
       "      <th>2</th>\n",
       "      <td>4.20</td>\n",
       "      <td>8.00</td>\n",
       "      <td>196.00</td>\n",
       "      <td>4500.00</td>\n",
       "      <td>0</td>\n",
       "      <td>0</td>\n",
       "      <td>0</td>\n",
       "      <td>0</td>\n",
       "      <td>0</td>\n",
       "      <td>0</td>\n",
       "      <td>...</td>\n",
       "      <td>0</td>\n",
       "      <td>0</td>\n",
       "      <td>0</td>\n",
       "      <td>0</td>\n",
       "      <td>0</td>\n",
       "      <td>0</td>\n",
       "      <td>0</td>\n",
       "      <td>0</td>\n",
       "      <td>0</td>\n",
       "      <td>0</td>\n",
       "    </tr>\n",
       "    <tr>\n",
       "      <th>3</th>\n",
       "      <td>4.30</td>\n",
       "      <td>0.03</td>\n",
       "      <td>175.00</td>\n",
       "      <td>4000.00</td>\n",
       "      <td>0</td>\n",
       "      <td>0</td>\n",
       "      <td>0</td>\n",
       "      <td>0</td>\n",
       "      <td>0</td>\n",
       "      <td>0</td>\n",
       "      <td>...</td>\n",
       "      <td>0</td>\n",
       "      <td>0</td>\n",
       "      <td>0</td>\n",
       "      <td>0</td>\n",
       "      <td>0</td>\n",
       "      <td>0</td>\n",
       "      <td>0</td>\n",
       "      <td>0</td>\n",
       "      <td>0</td>\n",
       "      <td>0</td>\n",
       "    </tr>\n",
       "    <tr>\n",
       "      <th>4</th>\n",
       "      <td>4.40</td>\n",
       "      <td>4.00</td>\n",
       "      <td>199.00</td>\n",
       "      <td>6000.00</td>\n",
       "      <td>1</td>\n",
       "      <td>0</td>\n",
       "      <td>0</td>\n",
       "      <td>0</td>\n",
       "      <td>0</td>\n",
       "      <td>0</td>\n",
       "      <td>...</td>\n",
       "      <td>0</td>\n",
       "      <td>0</td>\n",
       "      <td>0</td>\n",
       "      <td>0</td>\n",
       "      <td>0</td>\n",
       "      <td>0</td>\n",
       "      <td>0</td>\n",
       "      <td>0</td>\n",
       "      <td>0</td>\n",
       "      <td>0</td>\n",
       "    </tr>\n",
       "  </tbody>\n",
       "</table>\n",
       "<p>5 rows × 208 columns</p>\n",
       "</div>"
      ],
      "text/plain": [
       "   rating  ram  weight  battery_power_rating  \\\n",
       "0    4.20 6.00  167.00               6000.00   \n",
       "1    4.30 8.00  161.00               4400.00   \n",
       "2    4.20 8.00  196.00               4500.00   \n",
       "3    4.30 0.03  175.00               4000.00   \n",
       "4    4.40 4.00  199.00               6000.00   \n",
       "\n",
       "   bhagwati products ltd. sp1-1 industrial area karoli tapukara extn. bhiwadi rajasthan india  \\\n",
       "0                                                  0                                            \n",
       "1                                                  0                                            \n",
       "2                                                  0                                            \n",
       "3                                                  0                                            \n",
       "4                                                  1                                            \n",
       "\n",
       "   g mobile  gionee  google  hmd global  iqoo  ...  Sword Black  \\\n",
       "0         0       0       0           0     0  ...            0   \n",
       "1         0       0       0           0     0  ...            0   \n",
       "2         0       0       0           0     0  ...            0   \n",
       "3         0       0       0           0     0  ...            0   \n",
       "4         0       0       0           0     0  ...            0   \n",
       "\n",
       "   Titanium Sapphire  Topaz Blue  Tuscany Coral  Ultramarine Blue  \\\n",
       "0                  0           0              0                 0   \n",
       "1                  0           0              0                 0   \n",
       "2                  0           0              0                 0   \n",
       "3                  0           0              0                 0   \n",
       "4                  0           0              0                 0   \n",
       "\n",
       "   Vintage Bronze  Vinyl Black  Violet  White  White white  \n",
       "0               0            0       0      0            0  \n",
       "1               0            0       0      0            0  \n",
       "2               0            0       0      0            0  \n",
       "3               0            0       0      0            0  \n",
       "4               0            0       0      0            0  \n",
       "\n",
       "[5 rows x 208 columns]"
      ]
     },
     "execution_count": 10,
     "metadata": {},
     "output_type": "execute_result"
    }
   ],
   "source": [
    "X.head()"
   ]
  },
  {
   "cell_type": "code",
   "execution_count": 11,
   "metadata": {},
   "outputs": [
    {
     "name": "stdout",
     "output_type": "stream",
     "text": [
      "The score train of first model: 0.6759603090405686\n",
      "The score test of first model: -6.612454697871707e+27\n"
     ]
    }
   ],
   "source": [
    "X_train, X_test, y_train, y_test = train_test_split(X,y, train_size=0.8,random_state=42)\n",
    "\n",
    "scaler = StandardScaler()\n",
    "X_train_std_scaler=scaler.fit_transform(X_train)\n",
    "X_test_std_scaler=scaler.transform(X_test)\n",
    "model = LinearRegression()\n",
    "model.fit(X_train_std_scaler, y_train)\n",
    "score_train = model.score(X_train_std_scaler, y_train)\n",
    "score_test = model.score(X_test_std_scaler, y_test)\n",
    "print(\"The score train of first model:\",score_train)\n",
    "print(\"The score test of first model:\",score_test)\n"
   ]
  },
  {
   "cell_type": "code",
   "execution_count": 12,
   "metadata": {},
   "outputs": [],
   "source": [
    "best_score = float('-inf')\n",
    "best_features = []\n",
    "current_features = []\n",
    "independent_vars=df_dataset_origin.columns\n",
    "independent_vars=independent_vars[1:-1]"
   ]
  },
  {
   "cell_type": "code",
   "execution_count": 13,
   "metadata": {},
   "outputs": [
    {
     "name": "stdout",
     "output_type": "stream",
     "text": [
      "The number of features orgin: 10\n",
      "The number of features: 2\n",
      "Best features: ['batteries', 'ram']\n",
      "Best score: 0.03536316816519269\n"
     ]
    }
   ],
   "source": [
    "filename_model = 'linear_regression_model.sav'\n",
    "dir_store_model=os.path.join(os.getcwd(),\"models\",filename_model)\n",
    "\n",
    "\n",
    "while True:\n",
    "    best_feature = None\n",
    "    for feature in independent_vars:\n",
    "        # print(feature)\n",
    "        selected_features = current_features + [feature]\n",
    "        X = df_dataset_origin[selected_features]\n",
    "        for col in X.columns:\n",
    "            if col in categorical_cols:\n",
    "                one_hot = pd.get_dummies(df_dataset_origin[col],dtype=\"int\")\n",
    "                X = pd.concat([X, one_hot], axis=1)\n",
    "                X.drop(columns=[col],inplace=True)\n",
    "        y = df_dataset_origin[\"price\"]\n",
    "        \n",
    "        X_train, X_test, y_train, y_test = train_test_split(X,y, train_size=0.8,random_state=42)\n",
    "        scaler = StandardScaler()\n",
    "        X_train_std_scaler=scaler.fit_transform(X_train)\n",
    "        X_test_std_scaler=scaler.transform(X_test)\n",
    "\n",
    "\n",
    "        model = LinearRegression()\n",
    "        model.fit(X_train_std_scaler, y_train)\n",
    "        \n",
    "        # score = model.score(X_train_std_scaler, y_train)\n",
    "        score = model.score(X_test_std_scaler, y_test)\n",
    "        if score > best_score:\n",
    "            best_score = score\n",
    "            best_feature = feature\n",
    "            pickle.dump(model, open(dir_store_model, 'wb')) #store model\n",
    "    if best_feature is None:\n",
    "        break\n",
    "    current_features.append(best_feature)\n",
    "    independent_vars = independent_vars.drop(best_feature)\n",
    "\n",
    "print(\"The number of features orgin:\", len(df_dataset_origin.columns)-1)\n",
    "print(\"The number of features:\", len(current_features))\n",
    "print(\"Best features:\", current_features)\n",
    "print(\"Best score:\", best_score)\n"
   ]
  },
  {
   "cell_type": "code",
   "execution_count": 14,
   "metadata": {},
   "outputs": [
    {
     "name": "stdout",
     "output_type": "stream",
     "text": [
      "The score of last model test: 0.03536316816519269\n",
      "The score of last model train: 0.010570481762757544\n"
     ]
    }
   ],
   "source": [
    "loaded_model = pickle.load(open(dir_store_model, 'rb'))\n",
    "X = df_dataset_origin[current_features]\n",
    "for col in X.columns:\n",
    "            if col in categorical_cols:\n",
    "                one_hot = pd.get_dummies(df_dataset_origin[col],dtype=\"int\")\n",
    "                X = pd.concat([X, one_hot], axis=1)\n",
    "                X.drop(columns=[col],inplace=True)\n",
    "y = df_dataset_origin[\"price\"]\n",
    "\n",
    "X_train, X_test, y_train, y_test = train_test_split(X,y, train_size=0.8,random_state=42)\n",
    "\n",
    "scaler = StandardScaler()\n",
    "X_train_std_scaler=scaler.fit_transform(X_train)\n",
    "X_test_std_scaler=scaler.transform(X_test)\n",
    "\n",
    "\n",
    "result_test = loaded_model.score(X_test_std_scaler, y_test)\n",
    "result_train = loaded_model.score(X_train_std_scaler, y_train)\n",
    "print(\"The score of last model test:\",result_test)\n",
    "print(\"The score of last model train:\",result_train)"
   ]
  },
  {
   "cell_type": "code",
   "execution_count": 25,
   "metadata": {},
   "outputs": [
    {
     "data": {
      "image/png": "[encoded data removed]",
      "text/plain": [
       "<Figure size 640x480 with 1 Axes>"
      ]
     },
     "metadata": {},
     "output_type": "display_data"
    }
   ],
   "source": [
    "residuals = y_train - loaded_model.predict(X_train_std_scaler)\n",
    "\n",
    "import statsmodels.api as sm\n",
    "\n",
    "# sm.qqplot(residuals, line='s')\n",
    "sm.qqplot(residuals,fit=True,line=\"45\")\n",
    "plt.title('Q-Q Plot of Residuals')\n",
    "plt.plot([], [], color='red', label='Expected')\n",
    "plt.legend()\n",
    "plt.show()"
   ]
  },
  {
   "cell_type": "code",
   "execution_count": 26,
   "metadata": {},
   "outputs": [
    {
     "data": {
      "image/png": "[encoded data removed]",
      "text/plain": [
       "<Figure size 640x480 with 1 Axes>"
      ]
     },
     "metadata": {},
     "output_type": "display_data"
    }
   ],
   "source": [
    "residuals = y_test - loaded_model.predict(X_test_std_scaler)\n",
    "\n",
    "import statsmodels.api as sm\n",
    "\n",
    "# sm.qqplot(residuals, line='s')\n",
    "sm.qqplot(residuals,fit=True,line=\"45\")\n",
    "plt.title('Q-Q Plot of Residuals')\n",
    "plt.plot([], [], color='red', label='Expected')\n",
    "plt.legend()\n",
    "plt.show()"
   ]
  },
  {
   "cell_type": "code",
   "execution_count": null,
   "metadata": {},
   "outputs": [],
   "source": []
  }
 ],
 "metadata": {
  "kernelspec": {
   "display_name": "Python 3",
   "language": "python",
   "name": "python3"
  },
  "language_info": {
   "codemirror_mode": {
    "name": "ipython",
    "version": 3
   },
   "file_extension": ".py",
   "mimetype": "text/x-python",
   "name": "python",
   "nbconvert_exporter": "python",
   "pygments_lexer": "ipython3",
   "version": "3.11.3"
  },
  "orig_nbformat": 4
 },
 "nbformat": 4,
 "nbformat_minor": 2
}
