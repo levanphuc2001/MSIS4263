{
 "cells": [
  {
   "attachments": {},
   "cell_type": "markdown",
   "metadata": {},
   "source": [
    "# I. Import library"
   ]
  },
  {
   "cell_type": "code",
   "execution_count": 296,
   "metadata": {},
   "outputs": [],
   "source": [
    "import re\n",
    "import pandas as pd\n",
    "import numpy as np"
   ]
  },
  {
   "attachments": {},
   "cell_type": "markdown",
   "metadata": {},
   "source": [
    "# II. clean dataset"
   ]
  },
  {
   "attachments": {},
   "cell_type": "markdown",
   "metadata": {},
   "source": [
    "## 1. Load dataset"
   ]
  },
  {
   "cell_type": "code",
   "execution_count": 297,
   "metadata": {},
   "outputs": [],
   "source": [
    "df_dataset=pd.read_csv('../dataset/Amazon_Mobile_Data.csv')"
   ]
  },
  {
   "cell_type": "code",
   "execution_count": 298,
   "metadata": {},
   "outputs": [
    {
     "data": {
      "text/html": [
       "<div>\n",
       "<style scoped>\n",
       "    .dataframe tbody tr th:only-of-type {\n",
       "        vertical-align: middle;\n",
       "    }\n",
       "\n",
       "    .dataframe tbody tr th {\n",
       "        vertical-align: top;\n",
       "    }\n",
       "\n",
       "    .dataframe thead th {\n",
       "        text-align: right;\n",
       "    }\n",
       "</style>\n",
       "<table border=\"1\" class=\"dataframe\">\n",
       "  <thead>\n",
       "    <tr style=\"text-align: right;\">\n",
       "      <th></th>\n",
       "      <th>Unnamed: 0</th>\n",
       "      <th>title</th>\n",
       "      <th>price</th>\n",
       "      <th>rating</th>\n",
       "      <th>total_reviews</th>\n",
       "      <th>availability_status</th>\n",
       "      <th>manufacturer</th>\n",
       "      <th>country_of_origin</th>\n",
       "      <th>os</th>\n",
       "      <th>ram</th>\n",
       "      <th>product_dimensions</th>\n",
       "      <th>weight</th>\n",
       "      <th>batteries</th>\n",
       "      <th>special_features</th>\n",
       "      <th>form_factor</th>\n",
       "      <th>colour</th>\n",
       "      <th>battery_power_rating</th>\n",
       "      <th>product_description</th>\n",
       "      <th>reviews</th>\n",
       "      <th>reviews_rating</th>\n",
       "    </tr>\n",
       "  </thead>\n",
       "  <tbody>\n",
       "    <tr>\n",
       "      <th>0</th>\n",
       "      <td>0</td>\n",
       "      <td>OnePlus Nord CE 5G (Blue Void 8GB RAM 128GB St...</td>\n",
       "      <td>₹45900.00</td>\n",
       "      <td>4.2 out of 5 stars</td>\n",
       "      <td>4 ratings</td>\n",
       "      <td>Only 1 left in stock.</td>\n",
       "      <td>Samsung India pvt Ltd</td>\n",
       "      <td>India</td>\n",
       "      <td>Android</td>\n",
       "      <td>6 GB</td>\n",
       "      <td>16.5 x 7.6 x 0.7 cm</td>\n",
       "      <td>167 Grams</td>\n",
       "      <td>1 Lithium Polymer batteries required. (included)</td>\n",
       "      <td>Dual Bluetooth Audio, IR Blaster, X-Axis Hapti...</td>\n",
       "      <td>Touchscreen Phone</td>\n",
       "      <td>Midnight Black</td>\n",
       "      <td>6000.0</td>\n",
       "      <td>Redmi 9A comes with Octa-core Helio G25 proces...</td>\n",
       "      <td>Adequate ..|| Once again proves they sale the ...</td>\n",
       "      <td>3.0 out of 5 stars|| 1.0 out of 5 stars|| 4.0 ...</td>\n",
       "    </tr>\n",
       "    <tr>\n",
       "      <th>1</th>\n",
       "      <td>1</td>\n",
       "      <td>Samsung Galaxy M42 5G (Prism Dot Black 8GB RAM...</td>\n",
       "      <td>₹9490.00</td>\n",
       "      <td>4.3 out of 5 stars</td>\n",
       "      <td>47 ratings</td>\n",
       "      <td>In stock.</td>\n",
       "      <td>OnePlus</td>\n",
       "      <td>India</td>\n",
       "      <td>Android</td>\n",
       "      <td>8 GB</td>\n",
       "      <td>15 x 1 x 7.5 cm</td>\n",
       "      <td>161 Grams</td>\n",
       "      <td>1 Lithium Polymer batteries required. (included)</td>\n",
       "      <td>Dual SIM</td>\n",
       "      <td>Smartphone</td>\n",
       "      <td>Prism Black</td>\n",
       "      <td>4400.0</td>\n",
       "      <td>The product comes in a very proper packaging. ...</td>\n",
       "      <td>Poor screen quality|| Don't Fall on Youtubers ...</td>\n",
       "      <td>1.0 out of 5 stars|| 1.0 out of 5 stars|| 1.0 ...</td>\n",
       "    </tr>\n",
       "  </tbody>\n",
       "</table>\n",
       "</div>"
      ],
      "text/plain": [
       "   Unnamed: 0                                              title      price  \\\n",
       "0           0  OnePlus Nord CE 5G (Blue Void 8GB RAM 128GB St...  ₹45900.00   \n",
       "1           1  Samsung Galaxy M42 5G (Prism Dot Black 8GB RAM...   ₹9490.00   \n",
       "\n",
       "               rating total_reviews    availability_status  \\\n",
       "0  4.2 out of 5 stars     4 ratings  Only 1 left in stock.   \n",
       "1  4.3 out of 5 stars    47 ratings              In stock.   \n",
       "\n",
       "            manufacturer country_of_origin       os   ram  \\\n",
       "0  Samsung India pvt Ltd             India  Android  6 GB   \n",
       "1                OnePlus             India  Android  8 GB   \n",
       "\n",
       "    product_dimensions      weight  \\\n",
       "0  16.5 x 7.6 x 0.7 cm   167 Grams   \n",
       "1      15 x 1 x 7.5 cm   161 Grams   \n",
       "\n",
       "                                          batteries  \\\n",
       "0  1 Lithium Polymer batteries required. (included)   \n",
       "1  1 Lithium Polymer batteries required. (included)   \n",
       "\n",
       "                                    special_features        form_factor  \\\n",
       "0  Dual Bluetooth Audio, IR Blaster, X-Axis Hapti...  Touchscreen Phone   \n",
       "1                                           Dual SIM         Smartphone   \n",
       "\n",
       "           colour  battery_power_rating  \\\n",
       "0  Midnight Black                6000.0   \n",
       "1     Prism Black                4400.0   \n",
       "\n",
       "                                 product_description  \\\n",
       "0  Redmi 9A comes with Octa-core Helio G25 proces...   \n",
       "1  The product comes in a very proper packaging. ...   \n",
       "\n",
       "                                             reviews  \\\n",
       "0  Adequate ..|| Once again proves they sale the ...   \n",
       "1  Poor screen quality|| Don't Fall on Youtubers ...   \n",
       "\n",
       "                                      reviews_rating  \n",
       "0  3.0 out of 5 stars|| 1.0 out of 5 stars|| 4.0 ...  \n",
       "1  1.0 out of 5 stars|| 1.0 out of 5 stars|| 1.0 ...  "
      ]
     },
     "execution_count": 298,
     "metadata": {},
     "output_type": "execute_result"
    }
   ],
   "source": [
    "df_dataset.head(2)"
   ]
  },
  {
   "attachments": {},
   "cell_type": "markdown",
   "metadata": {},
   "source": [
    "## 2. drop data no need"
   ]
  },
  {
   "cell_type": "code",
   "execution_count": 299,
   "metadata": {},
   "outputs": [
    {
     "data": {
      "text/plain": [
       "Index(['Unnamed: 0', 'title', 'price', 'rating', 'total_reviews',\n",
       "       'availability_status', 'manufacturer', 'country_of_origin', 'os', 'ram',\n",
       "       'product_dimensions', 'weight', 'batteries', 'special_features',\n",
       "       'form_factor', 'colour', 'battery_power_rating', 'product_description',\n",
       "       'reviews', 'reviews_rating'],\n",
       "      dtype='object')"
      ]
     },
     "execution_count": 299,
     "metadata": {},
     "output_type": "execute_result"
    }
   ],
   "source": [
    "df_dataset.columns"
   ]
  },
  {
   "cell_type": "code",
   "execution_count": 300,
   "metadata": {},
   "outputs": [],
   "source": [
    "del df_dataset[\"Unnamed: 0\"]\n",
    "del df_dataset[\"reviews\"]\n",
    "del df_dataset[\"reviews_rating\"]"
   ]
  },
  {
   "cell_type": "code",
   "execution_count": 301,
   "metadata": {},
   "outputs": [
    {
     "data": {
      "text/plain": [
       "array(['Only 1 left in stock.', 'In stock.', 'In stock on July 28 2021.',\n",
       "       'In stock on August 28 2021.', 'Only 2 left in stock.',\n",
       "       'Out of stock.', 'In stock on August 17 2021.',\n",
       "       'In stock on August 19 2021.', 'In stock on August 23 2021.',\n",
       "       'In stock on August 26 2021.', 'In stock on July 24 2021.',\n",
       "       'In stock on August 15 2021.', 'Available to ship in 1-2 days.',\n",
       "       'In stock on August 30 2021.', 'In stock on August 25 2021.',\n",
       "       'In stock on July 26 2021.', 'In stock on August 5 2021.',\n",
       "       'In stock on August 27 2021.', 'In stock on August 29 2021.',\n",
       "       'In stock on August 31 2021.'], dtype=object)"
      ]
     },
     "execution_count": 301,
     "metadata": {},
     "output_type": "execute_result"
    }
   ],
   "source": [
    "df_dataset.availability_status.unique()"
   ]
  },
  {
   "cell_type": "code",
   "execution_count": 302,
   "metadata": {},
   "outputs": [
    {
     "data": {
      "text/html": [
       "<div>\n",
       "<style scoped>\n",
       "    .dataframe tbody tr th:only-of-type {\n",
       "        vertical-align: middle;\n",
       "    }\n",
       "\n",
       "    .dataframe tbody tr th {\n",
       "        vertical-align: top;\n",
       "    }\n",
       "\n",
       "    .dataframe thead th {\n",
       "        text-align: right;\n",
       "    }\n",
       "</style>\n",
       "<table border=\"1\" class=\"dataframe\">\n",
       "  <thead>\n",
       "    <tr style=\"text-align: right;\">\n",
       "      <th></th>\n",
       "      <th>title</th>\n",
       "      <th>price</th>\n",
       "      <th>rating</th>\n",
       "      <th>total_reviews</th>\n",
       "      <th>availability_status</th>\n",
       "      <th>manufacturer</th>\n",
       "      <th>country_of_origin</th>\n",
       "      <th>os</th>\n",
       "      <th>ram</th>\n",
       "      <th>product_dimensions</th>\n",
       "      <th>weight</th>\n",
       "      <th>batteries</th>\n",
       "      <th>special_features</th>\n",
       "      <th>form_factor</th>\n",
       "      <th>colour</th>\n",
       "      <th>battery_power_rating</th>\n",
       "      <th>product_description</th>\n",
       "    </tr>\n",
       "  </thead>\n",
       "  <tbody>\n",
       "    <tr>\n",
       "      <th>0</th>\n",
       "      <td>OnePlus Nord CE 5G (Blue Void 8GB RAM 128GB St...</td>\n",
       "      <td>₹45900.00</td>\n",
       "      <td>4.2 out of 5 stars</td>\n",
       "      <td>4 ratings</td>\n",
       "      <td>Only 1 left in stock.</td>\n",
       "      <td>Samsung India pvt Ltd</td>\n",
       "      <td>India</td>\n",
       "      <td>Android</td>\n",
       "      <td>6 GB</td>\n",
       "      <td>16.5 x 7.6 x 0.7 cm</td>\n",
       "      <td>167 Grams</td>\n",
       "      <td>1 Lithium Polymer batteries required. (included)</td>\n",
       "      <td>Dual Bluetooth Audio, IR Blaster, X-Axis Hapti...</td>\n",
       "      <td>Touchscreen Phone</td>\n",
       "      <td>Midnight Black</td>\n",
       "      <td>6000.0</td>\n",
       "      <td>Redmi 9A comes with Octa-core Helio G25 proces...</td>\n",
       "    </tr>\n",
       "    <tr>\n",
       "      <th>1</th>\n",
       "      <td>Samsung Galaxy M42 5G (Prism Dot Black 8GB RAM...</td>\n",
       "      <td>₹9490.00</td>\n",
       "      <td>4.3 out of 5 stars</td>\n",
       "      <td>47 ratings</td>\n",
       "      <td>In stock.</td>\n",
       "      <td>OnePlus</td>\n",
       "      <td>India</td>\n",
       "      <td>Android</td>\n",
       "      <td>8 GB</td>\n",
       "      <td>15 x 1 x 7.5 cm</td>\n",
       "      <td>161 Grams</td>\n",
       "      <td>1 Lithium Polymer batteries required. (included)</td>\n",
       "      <td>Dual SIM</td>\n",
       "      <td>Smartphone</td>\n",
       "      <td>Prism Black</td>\n",
       "      <td>4400.0</td>\n",
       "      <td>The product comes in a very proper packaging. ...</td>\n",
       "    </tr>\n",
       "  </tbody>\n",
       "</table>\n",
       "</div>"
      ],
      "text/plain": [
       "                                               title      price  \\\n",
       "0  OnePlus Nord CE 5G (Blue Void 8GB RAM 128GB St...  ₹45900.00   \n",
       "1  Samsung Galaxy M42 5G (Prism Dot Black 8GB RAM...   ₹9490.00   \n",
       "\n",
       "               rating total_reviews    availability_status  \\\n",
       "0  4.2 out of 5 stars     4 ratings  Only 1 left in stock.   \n",
       "1  4.3 out of 5 stars    47 ratings              In stock.   \n",
       "\n",
       "            manufacturer country_of_origin       os   ram  \\\n",
       "0  Samsung India pvt Ltd             India  Android  6 GB   \n",
       "1                OnePlus             India  Android  8 GB   \n",
       "\n",
       "    product_dimensions      weight  \\\n",
       "0  16.5 x 7.6 x 0.7 cm   167 Grams   \n",
       "1      15 x 1 x 7.5 cm   161 Grams   \n",
       "\n",
       "                                          batteries  \\\n",
       "0  1 Lithium Polymer batteries required. (included)   \n",
       "1  1 Lithium Polymer batteries required. (included)   \n",
       "\n",
       "                                    special_features        form_factor  \\\n",
       "0  Dual Bluetooth Audio, IR Blaster, X-Axis Hapti...  Touchscreen Phone   \n",
       "1                                           Dual SIM         Smartphone   \n",
       "\n",
       "           colour  battery_power_rating  \\\n",
       "0  Midnight Black                6000.0   \n",
       "1     Prism Black                4400.0   \n",
       "\n",
       "                                 product_description  \n",
       "0  Redmi 9A comes with Octa-core Helio G25 proces...  \n",
       "1  The product comes in a very proper packaging. ...  "
      ]
     },
     "execution_count": 302,
     "metadata": {},
     "output_type": "execute_result"
    }
   ],
   "source": [
    "df_dataset.head(2)"
   ]
  },
  {
   "attachments": {},
   "cell_type": "markdown",
   "metadata": {},
   "source": [
    "## 3. reformat price"
   ]
  },
  {
   "cell_type": "code",
   "execution_count": 303,
   "metadata": {},
   "outputs": [
    {
     "data": {
      "text/plain": [
       "0    ₹45900.00\n",
       "1     ₹9490.00\n",
       "2    ₹44000.00\n",
       "3    ₹21490.00\n",
       "4    ₹39999.00\n",
       "Name: price, dtype: object"
      ]
     },
     "execution_count": 303,
     "metadata": {},
     "output_type": "execute_result"
    }
   ],
   "source": [
    "df_dataset[\"price\"][0:5]"
   ]
  },
  {
   "cell_type": "code",
   "execution_count": 304,
   "metadata": {},
   "outputs": [
    {
     "data": {
      "text/plain": [
       "'45900.0'"
      ]
     },
     "execution_count": 304,
     "metadata": {},
     "output_type": "execute_result"
    }
   ],
   "source": [
    "df_dataset[\"price\"][0][1:-1]"
   ]
  },
  {
   "cell_type": "code",
   "execution_count": 305,
   "metadata": {},
   "outputs": [],
   "source": [
    "df_dataset[\"price\"]=df_dataset[\"price\"].apply( lambda x: x[1:-1] )"
   ]
  },
  {
   "cell_type": "code",
   "execution_count": 306,
   "metadata": {},
   "outputs": [
    {
     "data": {
      "text/html": [
       "<div>\n",
       "<style scoped>\n",
       "    .dataframe tbody tr th:only-of-type {\n",
       "        vertical-align: middle;\n",
       "    }\n",
       "\n",
       "    .dataframe tbody tr th {\n",
       "        vertical-align: top;\n",
       "    }\n",
       "\n",
       "    .dataframe thead th {\n",
       "        text-align: right;\n",
       "    }\n",
       "</style>\n",
       "<table border=\"1\" class=\"dataframe\">\n",
       "  <thead>\n",
       "    <tr style=\"text-align: right;\">\n",
       "      <th></th>\n",
       "      <th>title</th>\n",
       "      <th>price</th>\n",
       "      <th>rating</th>\n",
       "      <th>total_reviews</th>\n",
       "      <th>availability_status</th>\n",
       "      <th>manufacturer</th>\n",
       "      <th>country_of_origin</th>\n",
       "      <th>os</th>\n",
       "      <th>ram</th>\n",
       "      <th>product_dimensions</th>\n",
       "      <th>weight</th>\n",
       "      <th>batteries</th>\n",
       "      <th>special_features</th>\n",
       "      <th>form_factor</th>\n",
       "      <th>colour</th>\n",
       "      <th>battery_power_rating</th>\n",
       "      <th>product_description</th>\n",
       "    </tr>\n",
       "  </thead>\n",
       "  <tbody>\n",
       "    <tr>\n",
       "      <th>0</th>\n",
       "      <td>OnePlus Nord CE 5G (Blue Void 8GB RAM 128GB St...</td>\n",
       "      <td>45900.0</td>\n",
       "      <td>4.2 out of 5 stars</td>\n",
       "      <td>4 ratings</td>\n",
       "      <td>Only 1 left in stock.</td>\n",
       "      <td>Samsung India pvt Ltd</td>\n",
       "      <td>India</td>\n",
       "      <td>Android</td>\n",
       "      <td>6 GB</td>\n",
       "      <td>16.5 x 7.6 x 0.7 cm</td>\n",
       "      <td>167 Grams</td>\n",
       "      <td>1 Lithium Polymer batteries required. (included)</td>\n",
       "      <td>Dual Bluetooth Audio, IR Blaster, X-Axis Hapti...</td>\n",
       "      <td>Touchscreen Phone</td>\n",
       "      <td>Midnight Black</td>\n",
       "      <td>6000.0</td>\n",
       "      <td>Redmi 9A comes with Octa-core Helio G25 proces...</td>\n",
       "    </tr>\n",
       "  </tbody>\n",
       "</table>\n",
       "</div>"
      ],
      "text/plain": [
       "                                               title    price  \\\n",
       "0  OnePlus Nord CE 5G (Blue Void 8GB RAM 128GB St...  45900.0   \n",
       "\n",
       "               rating total_reviews    availability_status  \\\n",
       "0  4.2 out of 5 stars     4 ratings  Only 1 left in stock.   \n",
       "\n",
       "            manufacturer country_of_origin       os   ram  \\\n",
       "0  Samsung India pvt Ltd             India  Android  6 GB   \n",
       "\n",
       "    product_dimensions      weight  \\\n",
       "0  16.5 x 7.6 x 0.7 cm   167 Grams   \n",
       "\n",
       "                                          batteries  \\\n",
       "0  1 Lithium Polymer batteries required. (included)   \n",
       "\n",
       "                                    special_features        form_factor  \\\n",
       "0  Dual Bluetooth Audio, IR Blaster, X-Axis Hapti...  Touchscreen Phone   \n",
       "\n",
       "           colour  battery_power_rating  \\\n",
       "0  Midnight Black                6000.0   \n",
       "\n",
       "                                 product_description  \n",
       "0  Redmi 9A comes with Octa-core Helio G25 proces...  "
      ]
     },
     "execution_count": 306,
     "metadata": {},
     "output_type": "execute_result"
    }
   ],
   "source": [
    "df_dataset.head(1)"
   ]
  },
  {
   "attachments": {},
   "cell_type": "markdown",
   "metadata": {},
   "source": [
    "## 4. reformat rating"
   ]
  },
  {
   "cell_type": "code",
   "execution_count": 307,
   "metadata": {},
   "outputs": [
    {
     "data": {
      "text/plain": [
       "array(['4.2 out of 5 stars', '4.3 out of 5 stars', '4.4 out of 5 stars',\n",
       "       '2.0 out of 5 stars', '2.5 out of 5 stars', '3.3 out of 5 stars',\n",
       "       '4.0 out of 5 stars', '3.1 out of 5 stars', '3.7 out of 5 stars',\n",
       "       '4.1 out of 5 stars', '5.0 out of 5 stars', '3.4 out of 5 stars',\n",
       "       '2.3 out of 5 stars', '4.5 out of 5 stars', '2.9 out of 5 stars',\n",
       "       '3.9 out of 5 stars', '3.8 out of 5 stars', '3.5 out of 5 stars',\n",
       "       '3.6 out of 5 stars', '4.6 out of 5 stars', '3.0 out of 5 stars',\n",
       "       '3.2 out of 5 stars', '2.4 out of 5 stars', '1.0 out of 5 stars'],\n",
       "      dtype=object)"
      ]
     },
     "execution_count": 307,
     "metadata": {},
     "output_type": "execute_result"
    }
   ],
   "source": [
    "df_dataset[\"rating\"].unique()"
   ]
  },
  {
   "cell_type": "code",
   "execution_count": 308,
   "metadata": {},
   "outputs": [],
   "source": [
    "df_dataset[\"rating\"]=df_dataset[\"rating\"].apply( lambda x:x[0:3])"
   ]
  },
  {
   "attachments": {},
   "cell_type": "markdown",
   "metadata": {},
   "source": [
    "## 5. reformat total_reviews"
   ]
  },
  {
   "cell_type": "code",
   "execution_count": 309,
   "metadata": {},
   "outputs": [
    {
     "data": {
      "text/html": [
       "<div>\n",
       "<style scoped>\n",
       "    .dataframe tbody tr th:only-of-type {\n",
       "        vertical-align: middle;\n",
       "    }\n",
       "\n",
       "    .dataframe tbody tr th {\n",
       "        vertical-align: top;\n",
       "    }\n",
       "\n",
       "    .dataframe thead th {\n",
       "        text-align: right;\n",
       "    }\n",
       "</style>\n",
       "<table border=\"1\" class=\"dataframe\">\n",
       "  <thead>\n",
       "    <tr style=\"text-align: right;\">\n",
       "      <th></th>\n",
       "      <th>title</th>\n",
       "      <th>price</th>\n",
       "      <th>rating</th>\n",
       "      <th>total_reviews</th>\n",
       "      <th>availability_status</th>\n",
       "      <th>manufacturer</th>\n",
       "      <th>country_of_origin</th>\n",
       "      <th>os</th>\n",
       "      <th>ram</th>\n",
       "      <th>product_dimensions</th>\n",
       "      <th>weight</th>\n",
       "      <th>batteries</th>\n",
       "      <th>special_features</th>\n",
       "      <th>form_factor</th>\n",
       "      <th>colour</th>\n",
       "      <th>battery_power_rating</th>\n",
       "      <th>product_description</th>\n",
       "    </tr>\n",
       "  </thead>\n",
       "  <tbody>\n",
       "    <tr>\n",
       "      <th>0</th>\n",
       "      <td>OnePlus Nord CE 5G (Blue Void 8GB RAM 128GB St...</td>\n",
       "      <td>45900.0</td>\n",
       "      <td>4.2</td>\n",
       "      <td>4 ratings</td>\n",
       "      <td>Only 1 left in stock.</td>\n",
       "      <td>Samsung India pvt Ltd</td>\n",
       "      <td>India</td>\n",
       "      <td>Android</td>\n",
       "      <td>6 GB</td>\n",
       "      <td>16.5 x 7.6 x 0.7 cm</td>\n",
       "      <td>167 Grams</td>\n",
       "      <td>1 Lithium Polymer batteries required. (included)</td>\n",
       "      <td>Dual Bluetooth Audio, IR Blaster, X-Axis Hapti...</td>\n",
       "      <td>Touchscreen Phone</td>\n",
       "      <td>Midnight Black</td>\n",
       "      <td>6000.0</td>\n",
       "      <td>Redmi 9A comes with Octa-core Helio G25 proces...</td>\n",
       "    </tr>\n",
       "  </tbody>\n",
       "</table>\n",
       "</div>"
      ],
      "text/plain": [
       "                                               title    price rating  \\\n",
       "0  OnePlus Nord CE 5G (Blue Void 8GB RAM 128GB St...  45900.0    4.2   \n",
       "\n",
       "  total_reviews    availability_status           manufacturer  \\\n",
       "0     4 ratings  Only 1 left in stock.  Samsung India pvt Ltd   \n",
       "\n",
       "  country_of_origin       os   ram   product_dimensions      weight  \\\n",
       "0             India  Android  6 GB  16.5 x 7.6 x 0.7 cm   167 Grams   \n",
       "\n",
       "                                          batteries  \\\n",
       "0  1 Lithium Polymer batteries required. (included)   \n",
       "\n",
       "                                    special_features        form_factor  \\\n",
       "0  Dual Bluetooth Audio, IR Blaster, X-Axis Hapti...  Touchscreen Phone   \n",
       "\n",
       "           colour  battery_power_rating  \\\n",
       "0  Midnight Black                6000.0   \n",
       "\n",
       "                                 product_description  \n",
       "0  Redmi 9A comes with Octa-core Helio G25 proces...  "
      ]
     },
     "execution_count": 309,
     "metadata": {},
     "output_type": "execute_result"
    }
   ],
   "source": [
    "df_dataset.head(1)"
   ]
  },
  {
   "cell_type": "code",
   "execution_count": 310,
   "metadata": {},
   "outputs": [
    {
     "data": {
      "text/plain": [
       "array(['4 ratings', '47 ratings', '327 ratings', '11236 ratings',\n",
       "       '1238 ratings', '48 ratings', '9 ratings', '15 ratings',\n",
       "       '4489 ratings', '13 ratings'], dtype=object)"
      ]
     },
     "execution_count": 310,
     "metadata": {},
     "output_type": "execute_result"
    }
   ],
   "source": [
    "df_dataset[\"total_reviews\"].unique()[0:10]"
   ]
  },
  {
   "cell_type": "code",
   "execution_count": 311,
   "metadata": {},
   "outputs": [
    {
     "data": {
      "text/plain": [
       "array(['4', '47', '327', '11236', '1238', '48', '9', '15', '4489', '13',\n",
       "       '46', '5264', '3814', '402', '35', '52867', '77740', '8', '1396',\n",
       "       '392', '2103', '952', '18', '21078', '2705', '489', '4133', '25',\n",
       "       '411', '388', '5', '39', '701', '20993', '62', '93164', '65795',\n",
       "       '1963', '1220', '14576', '49080', '27', '44', '30056', '4984',\n",
       "       '383', '769', '2935', '310', '708', '539', '1', '21689', '21077',\n",
       "       '26', '3137', '205', '985', '4573', '11624', '70126', '961', '785',\n",
       "       '3623', '67307', '724', '88', '1340', '332', '7', '6981', '20',\n",
       "       '37', '11522', '28', '640', '66356', '2463', '449', '70', '81',\n",
       "       '616', '1922', '1086', '8367', '79', '490', '85525', '1646',\n",
       "       '13703', '71', '4986', '270', '1043', '943', '10', '588', '927',\n",
       "       '2', '2334', '871', '65796', '51', '20994', '14', '2194', '86',\n",
       "       '354', '19', '3', '60', '986', '33', '2214', '78', '43', '1356',\n",
       "       '12', '1405', '833', '2041'], dtype=object)"
      ]
     },
     "execution_count": 311,
     "metadata": {},
     "output_type": "execute_result"
    }
   ],
   "source": [
    "df_dataset[\"total_reviews\"].apply(lambda x: x.split()[0]).unique()"
   ]
  },
  {
   "cell_type": "code",
   "execution_count": 312,
   "metadata": {},
   "outputs": [],
   "source": [
    "df_dataset[\"total_reviews\"]=df_dataset[\"total_reviews\"].apply(lambda x: x.split()[0])"
   ]
  },
  {
   "cell_type": "code",
   "execution_count": 313,
   "metadata": {},
   "outputs": [
    {
     "data": {
      "text/html": [
       "<div>\n",
       "<style scoped>\n",
       "    .dataframe tbody tr th:only-of-type {\n",
       "        vertical-align: middle;\n",
       "    }\n",
       "\n",
       "    .dataframe tbody tr th {\n",
       "        vertical-align: top;\n",
       "    }\n",
       "\n",
       "    .dataframe thead th {\n",
       "        text-align: right;\n",
       "    }\n",
       "</style>\n",
       "<table border=\"1\" class=\"dataframe\">\n",
       "  <thead>\n",
       "    <tr style=\"text-align: right;\">\n",
       "      <th></th>\n",
       "      <th>title</th>\n",
       "      <th>price</th>\n",
       "      <th>rating</th>\n",
       "      <th>total_reviews</th>\n",
       "      <th>availability_status</th>\n",
       "      <th>manufacturer</th>\n",
       "      <th>country_of_origin</th>\n",
       "      <th>os</th>\n",
       "      <th>ram</th>\n",
       "      <th>product_dimensions</th>\n",
       "      <th>weight</th>\n",
       "      <th>batteries</th>\n",
       "      <th>special_features</th>\n",
       "      <th>form_factor</th>\n",
       "      <th>colour</th>\n",
       "      <th>battery_power_rating</th>\n",
       "      <th>product_description</th>\n",
       "    </tr>\n",
       "  </thead>\n",
       "  <tbody>\n",
       "    <tr>\n",
       "      <th>0</th>\n",
       "      <td>OnePlus Nord CE 5G (Blue Void 8GB RAM 128GB St...</td>\n",
       "      <td>45900.0</td>\n",
       "      <td>4.2</td>\n",
       "      <td>4</td>\n",
       "      <td>Only 1 left in stock.</td>\n",
       "      <td>Samsung India pvt Ltd</td>\n",
       "      <td>India</td>\n",
       "      <td>Android</td>\n",
       "      <td>6 GB</td>\n",
       "      <td>16.5 x 7.6 x 0.7 cm</td>\n",
       "      <td>167 Grams</td>\n",
       "      <td>1 Lithium Polymer batteries required. (included)</td>\n",
       "      <td>Dual Bluetooth Audio, IR Blaster, X-Axis Hapti...</td>\n",
       "      <td>Touchscreen Phone</td>\n",
       "      <td>Midnight Black</td>\n",
       "      <td>6000.0</td>\n",
       "      <td>Redmi 9A comes with Octa-core Helio G25 proces...</td>\n",
       "    </tr>\n",
       "  </tbody>\n",
       "</table>\n",
       "</div>"
      ],
      "text/plain": [
       "                                               title    price rating  \\\n",
       "0  OnePlus Nord CE 5G (Blue Void 8GB RAM 128GB St...  45900.0    4.2   \n",
       "\n",
       "  total_reviews    availability_status           manufacturer  \\\n",
       "0             4  Only 1 left in stock.  Samsung India pvt Ltd   \n",
       "\n",
       "  country_of_origin       os   ram   product_dimensions      weight  \\\n",
       "0             India  Android  6 GB  16.5 x 7.6 x 0.7 cm   167 Grams   \n",
       "\n",
       "                                          batteries  \\\n",
       "0  1 Lithium Polymer batteries required. (included)   \n",
       "\n",
       "                                    special_features        form_factor  \\\n",
       "0  Dual Bluetooth Audio, IR Blaster, X-Axis Hapti...  Touchscreen Phone   \n",
       "\n",
       "           colour  battery_power_rating  \\\n",
       "0  Midnight Black                6000.0   \n",
       "\n",
       "                                 product_description  \n",
       "0  Redmi 9A comes with Octa-core Helio G25 proces...  "
      ]
     },
     "execution_count": 313,
     "metadata": {},
     "output_type": "execute_result"
    }
   ],
   "source": [
    "df_dataset.head(1)"
   ]
  },
  {
   "attachments": {},
   "cell_type": "markdown",
   "metadata": {},
   "source": [
    "## 6. reformat ram"
   ]
  },
  {
   "cell_type": "code",
   "execution_count": 314,
   "metadata": {},
   "outputs": [
    {
     "data": {
      "text/plain": [
       "array(['6 GB', '8 GB', '32 MB', '4 GB', '8GB', '3 GB', '12 GB', '2 GB',\n",
       "       '32 GB', '64 GB', '512 MB', '1 GB'], dtype=object)"
      ]
     },
     "execution_count": 314,
     "metadata": {},
     "output_type": "execute_result"
    }
   ],
   "source": [
    "df_dataset.ram.unique()"
   ]
  },
  {
   "cell_type": "code",
   "execution_count": 315,
   "metadata": {},
   "outputs": [
    {
     "data": {
      "text/plain": [
       "array(['6 GB', '8 GB', '32 MB', '4 GB', '8GB', '3 GB', '12 GB', '2 GB',\n",
       "       '32 GB', '64 GB', '512 MB', '1 GB'], dtype=object)"
      ]
     },
     "execution_count": 315,
     "metadata": {},
     "output_type": "execute_result"
    }
   ],
   "source": [
    "df_dataset[\"ram\"].apply(lambda x  :x.strip()).unique()"
   ]
  },
  {
   "cell_type": "code",
   "execution_count": 316,
   "metadata": {},
   "outputs": [],
   "source": [
    "df_dataset[\"ram\"]=df_dataset[\"ram\"].apply(lambda x  :x.strip())"
   ]
  },
  {
   "cell_type": "code",
   "execution_count": 317,
   "metadata": {},
   "outputs": [
    {
     "data": {
      "text/plain": [
       "array(['6 GB', '8 GB', '32 MB', '4 GB', '8GB', '3 GB', '12 GB', '2 GB',\n",
       "       '32 GB', '64 GB', '512 MB', '1 GB'], dtype=object)"
      ]
     },
     "execution_count": 317,
     "metadata": {},
     "output_type": "execute_result"
    }
   ],
   "source": [
    "df_dataset.ram.unique()"
   ]
  },
  {
   "cell_type": "code",
   "execution_count": 318,
   "metadata": {},
   "outputs": [
    {
     "data": {
      "text/plain": [
       "'G'"
      ]
     },
     "execution_count": 318,
     "metadata": {},
     "output_type": "execute_result"
    }
   ],
   "source": [
    "# df_dataset[\"ram\"][0][len(df_dataset[\"ram\"][0])-2]\n",
    "df_dataset[\"ram\"][0][-2]"
   ]
  },
  {
   "cell_type": "code",
   "execution_count": 319,
   "metadata": {},
   "outputs": [
    {
     "data": {
      "text/plain": [
       "array(['6', '8', '0.03125', '4', '3', '12', '2', '32', '64', '0.5', '1'],\n",
       "      dtype=object)"
      ]
     },
     "execution_count": 319,
     "metadata": {},
     "output_type": "execute_result"
    }
   ],
   "source": [
    "df_dataset[\"ram\"].apply(lambda x  : re.sub(r'[a-zA-Z]', '', x).strip() if x[-2]==\"G\" else str(int(re.sub(r'[a-zA-Z]', '', x).strip())/1024)).unique()"
   ]
  },
  {
   "cell_type": "code",
   "execution_count": 320,
   "metadata": {},
   "outputs": [],
   "source": [
    "df_dataset[\"ram\"]=df_dataset[\"ram\"].apply(lambda x  : re.sub(r'[a-zA-Z]', '', x).strip() if x[-2]==\"G\" else str(int(re.sub(r'[a-zA-Z]', '', x).strip())/1024))\n"
   ]
  },
  {
   "cell_type": "code",
   "execution_count": 436,
   "metadata": {},
   "outputs": [
    {
     "data": {
      "text/plain": [
       "array(['6', '8', '0.03125', '4', '3', '12', '2', '32', '64', '0.5', '1'],\n",
       "      dtype=object)"
      ]
     },
     "execution_count": 436,
     "metadata": {},
     "output_type": "execute_result"
    }
   ],
   "source": [
    "df_dataset[\"ram\"].unique()"
   ]
  },
  {
   "cell_type": "code",
   "execution_count": 321,
   "metadata": {},
   "outputs": [
    {
     "data": {
      "text/html": [
       "<div>\n",
       "<style scoped>\n",
       "    .dataframe tbody tr th:only-of-type {\n",
       "        vertical-align: middle;\n",
       "    }\n",
       "\n",
       "    .dataframe tbody tr th {\n",
       "        vertical-align: top;\n",
       "    }\n",
       "\n",
       "    .dataframe thead th {\n",
       "        text-align: right;\n",
       "    }\n",
       "</style>\n",
       "<table border=\"1\" class=\"dataframe\">\n",
       "  <thead>\n",
       "    <tr style=\"text-align: right;\">\n",
       "      <th></th>\n",
       "      <th>title</th>\n",
       "      <th>price</th>\n",
       "      <th>rating</th>\n",
       "      <th>total_reviews</th>\n",
       "      <th>availability_status</th>\n",
       "      <th>manufacturer</th>\n",
       "      <th>country_of_origin</th>\n",
       "      <th>os</th>\n",
       "      <th>ram</th>\n",
       "      <th>product_dimensions</th>\n",
       "      <th>weight</th>\n",
       "      <th>batteries</th>\n",
       "      <th>special_features</th>\n",
       "      <th>form_factor</th>\n",
       "      <th>colour</th>\n",
       "      <th>battery_power_rating</th>\n",
       "      <th>product_description</th>\n",
       "    </tr>\n",
       "  </thead>\n",
       "  <tbody>\n",
       "    <tr>\n",
       "      <th>0</th>\n",
       "      <td>OnePlus Nord CE 5G (Blue Void 8GB RAM 128GB St...</td>\n",
       "      <td>45900.0</td>\n",
       "      <td>4.2</td>\n",
       "      <td>4</td>\n",
       "      <td>Only 1 left in stock.</td>\n",
       "      <td>Samsung India pvt Ltd</td>\n",
       "      <td>India</td>\n",
       "      <td>Android</td>\n",
       "      <td>6</td>\n",
       "      <td>16.5 x 7.6 x 0.7 cm</td>\n",
       "      <td>167 Grams</td>\n",
       "      <td>1 Lithium Polymer batteries required. (included)</td>\n",
       "      <td>Dual Bluetooth Audio, IR Blaster, X-Axis Hapti...</td>\n",
       "      <td>Touchscreen Phone</td>\n",
       "      <td>Midnight Black</td>\n",
       "      <td>6000.0</td>\n",
       "      <td>Redmi 9A comes with Octa-core Helio G25 proces...</td>\n",
       "    </tr>\n",
       "  </tbody>\n",
       "</table>\n",
       "</div>"
      ],
      "text/plain": [
       "                                               title    price rating  \\\n",
       "0  OnePlus Nord CE 5G (Blue Void 8GB RAM 128GB St...  45900.0    4.2   \n",
       "\n",
       "  total_reviews    availability_status           manufacturer  \\\n",
       "0             4  Only 1 left in stock.  Samsung India pvt Ltd   \n",
       "\n",
       "  country_of_origin       os ram   product_dimensions      weight  \\\n",
       "0             India  Android   6  16.5 x 7.6 x 0.7 cm   167 Grams   \n",
       "\n",
       "                                          batteries  \\\n",
       "0  1 Lithium Polymer batteries required. (included)   \n",
       "\n",
       "                                    special_features        form_factor  \\\n",
       "0  Dual Bluetooth Audio, IR Blaster, X-Axis Hapti...  Touchscreen Phone   \n",
       "\n",
       "           colour  battery_power_rating  \\\n",
       "0  Midnight Black                6000.0   \n",
       "\n",
       "                                 product_description  \n",
       "0  Redmi 9A comes with Octa-core Helio G25 proces...  "
      ]
     },
     "execution_count": 321,
     "metadata": {},
     "output_type": "execute_result"
    }
   ],
   "source": [
    "df_dataset.head(1)"
   ]
  },
  {
   "cell_type": "code",
   "execution_count": 322,
   "metadata": {},
   "outputs": [
    {
     "data": {
      "text/plain": [
       "array(['6', '8', '0.03125', '4', '3', '12', '2', '32', '64', '0.5', '1'],\n",
       "      dtype=object)"
      ]
     },
     "execution_count": 322,
     "metadata": {},
     "output_type": "execute_result"
    }
   ],
   "source": [
    "df_dataset.ram.unique()"
   ]
  },
  {
   "attachments": {},
   "cell_type": "markdown",
   "metadata": {},
   "source": [
    "## 7. reformat weight"
   ]
  },
  {
   "cell_type": "code",
   "execution_count": 323,
   "metadata": {},
   "outputs": [
    {
     "data": {
      "text/plain": [
       "array([' 167 Grams', ' 161 Grams', ' 196 Grams', ' 175 Grams',\n",
       "       ' 199 Grams', ' 193 Grams', ' 141.75 Grams', ' 0.37 Grams',\n",
       "       ' 840 Grams', ' 180 Grams', ' 194 Grams', ' 69 Grams',\n",
       "       ' 209 Grams', ' 197 Grams', ' 141 Grams', ' 215 Grams',\n",
       "       ' 450 Grams', ' 185.5 Grams', ' 190 Grams', ' 188 Grams',\n",
       "       ' 420 Grams', ' 480 Grams', ' 157 Grams', ' 218 Grams',\n",
       "       ' 198 Grams', ' 184 Grams', ' 177 Grams', ' 187 Grams',\n",
       "       ' 213 Grams', ' 172 Grams', ' 500 Grams', ' 173 Grams',\n",
       "       ' 176 Grams', ' 179 Grams', ' 216 Grams', ' 192 Grams',\n",
       "       ' 202 Grams', ' 170 Grams', ' 169 Grams', ' 214 Grams',\n",
       "       ' 690 Grams', ' 360 Grams', ' 186 Grams', ' 400 Grams',\n",
       "       ' 206 Grams', ' 205 Grams', ' 185 Grams', ' 203 Grams',\n",
       "       ' 210 Grams', ' 730 Grams', ' 300 Grams', ' 165 Grams',\n",
       "       ' 392 Grams', ' 160 Grams', ' 183 Grams', ' 207 Grams',\n",
       "       ' 208 Grams', ' 105 Grams', ' 191 Grams', ' 120 Grams',\n",
       "       ' 900 Grams', ' 700 Grams', ' 154 Grams', ' 181 Grams',\n",
       "       ' 114 Grams', ' 156 Grams'], dtype=object)"
      ]
     },
     "execution_count": 323,
     "metadata": {},
     "output_type": "execute_result"
    }
   ],
   "source": [
    "df_dataset[\"weight\"].unique()"
   ]
  },
  {
   "cell_type": "code",
   "execution_count": 324,
   "metadata": {},
   "outputs": [],
   "source": [
    "df_dataset[\"weight\"]=df_dataset[\"weight\"].apply(lambda x: x.split(\" \")[1])\n"
   ]
  },
  {
   "cell_type": "code",
   "execution_count": 325,
   "metadata": {},
   "outputs": [
    {
     "data": {
      "text/html": [
       "<div>\n",
       "<style scoped>\n",
       "    .dataframe tbody tr th:only-of-type {\n",
       "        vertical-align: middle;\n",
       "    }\n",
       "\n",
       "    .dataframe tbody tr th {\n",
       "        vertical-align: top;\n",
       "    }\n",
       "\n",
       "    .dataframe thead th {\n",
       "        text-align: right;\n",
       "    }\n",
       "</style>\n",
       "<table border=\"1\" class=\"dataframe\">\n",
       "  <thead>\n",
       "    <tr style=\"text-align: right;\">\n",
       "      <th></th>\n",
       "      <th>title</th>\n",
       "      <th>price</th>\n",
       "      <th>rating</th>\n",
       "      <th>total_reviews</th>\n",
       "      <th>availability_status</th>\n",
       "      <th>manufacturer</th>\n",
       "      <th>country_of_origin</th>\n",
       "      <th>os</th>\n",
       "      <th>ram</th>\n",
       "      <th>product_dimensions</th>\n",
       "      <th>weight</th>\n",
       "      <th>batteries</th>\n",
       "      <th>special_features</th>\n",
       "      <th>form_factor</th>\n",
       "      <th>colour</th>\n",
       "      <th>battery_power_rating</th>\n",
       "      <th>product_description</th>\n",
       "    </tr>\n",
       "  </thead>\n",
       "  <tbody>\n",
       "    <tr>\n",
       "      <th>0</th>\n",
       "      <td>OnePlus Nord CE 5G (Blue Void 8GB RAM 128GB St...</td>\n",
       "      <td>45900.0</td>\n",
       "      <td>4.2</td>\n",
       "      <td>4</td>\n",
       "      <td>Only 1 left in stock.</td>\n",
       "      <td>Samsung India pvt Ltd</td>\n",
       "      <td>India</td>\n",
       "      <td>Android</td>\n",
       "      <td>6</td>\n",
       "      <td>16.5 x 7.6 x 0.7 cm</td>\n",
       "      <td>167</td>\n",
       "      <td>1 Lithium Polymer batteries required. (included)</td>\n",
       "      <td>Dual Bluetooth Audio, IR Blaster, X-Axis Hapti...</td>\n",
       "      <td>Touchscreen Phone</td>\n",
       "      <td>Midnight Black</td>\n",
       "      <td>6000.0</td>\n",
       "      <td>Redmi 9A comes with Octa-core Helio G25 proces...</td>\n",
       "    </tr>\n",
       "  </tbody>\n",
       "</table>\n",
       "</div>"
      ],
      "text/plain": [
       "                                               title    price rating  \\\n",
       "0  OnePlus Nord CE 5G (Blue Void 8GB RAM 128GB St...  45900.0    4.2   \n",
       "\n",
       "  total_reviews    availability_status           manufacturer  \\\n",
       "0             4  Only 1 left in stock.  Samsung India pvt Ltd   \n",
       "\n",
       "  country_of_origin       os ram   product_dimensions weight  \\\n",
       "0             India  Android   6  16.5 x 7.6 x 0.7 cm    167   \n",
       "\n",
       "                                          batteries  \\\n",
       "0  1 Lithium Polymer batteries required. (included)   \n",
       "\n",
       "                                    special_features        form_factor  \\\n",
       "0  Dual Bluetooth Audio, IR Blaster, X-Axis Hapti...  Touchscreen Phone   \n",
       "\n",
       "           colour  battery_power_rating  \\\n",
       "0  Midnight Black                6000.0   \n",
       "\n",
       "                                 product_description  \n",
       "0  Redmi 9A comes with Octa-core Helio G25 proces...  "
      ]
     },
     "execution_count": 325,
     "metadata": {},
     "output_type": "execute_result"
    }
   ],
   "source": [
    "df_dataset.head(1)"
   ]
  },
  {
   "attachments": {},
   "cell_type": "markdown",
   "metadata": {},
   "source": [
    "## 8. format os"
   ]
  },
  {
   "cell_type": "code",
   "execution_count": 326,
   "metadata": {},
   "outputs": [
    {
     "name": "stdout",
     "output_type": "stream",
     "text": [
      "['Android' 'Android 10.0' 'Android 11.0'\n",
      " 'Funtouch OS 11.1 (Based on Android 11)' 'Android 11'\n",
      " 'Android 11, MIUI 12' 'HiOS 7.5, Android 11 (Go Edition)'\n",
      " 'OneU 3.1, Android 11' 'Funtouch OS 11(Based on Android 11)' 'SPREADTRUM'\n",
      " 'Android 10.0 (Go), Android 10.0 (Go Edition, HiOS 6.2'\n",
      " 'Android 11, Funtouch OS 11.1' 'Android 6.0' 'MiUI 12.5 (Android 11)'\n",
      " 'Funtouch OS 11.1 Global (Based on Android 11)'\n",
      " 'Go Edition, Android 10.0' 'Funtouch OS 10.5 based on Android 10'\n",
      " 'ThreadX' 'HiOS 7.6, Android 11' 'OneUI 3.1, Android 11.0'\n",
      " 'Funtouch OS 11 (Based on Android 11)' 'Stock Android 10' 'Android 8.1'\n",
      " 'HiOS 7.5, Android 11' 'MIUI 12' 'Android 9.0']\n",
      "264\n"
     ]
    }
   ],
   "source": [
    "\n",
    "df_os_raw=pd.DataFrame()\n",
    "df_os_raw['os']=df_dataset['os']\n",
    "print(df_os_raw['os'].unique())\n",
    "print(len(df_os_raw))\n",
    "# df_os_raw= df_os_raw.drop_duplicates()\n",
    "# print(len(df_os_raw))\n"
   ]
  },
  {
   "cell_type": "code",
   "execution_count": 327,
   "metadata": {},
   "outputs": [
    {
     "name": "stdout",
     "output_type": "stream",
     "text": [
      "                                                    os\n",
      "0                                              Android\n",
      "2                                         Android 10.0\n",
      "5                                         Android 11.0\n",
      "6               Funtouch OS 11.1 (Based on Android 11)\n",
      "7                                           Android 11\n",
      "11                                 Android 11, MIUI 12\n",
      "15                   HiOS 7.5, Android 11 (Go Edition)\n",
      "18                                OneU 3.1, Android 11\n",
      "28                 Funtouch OS 11(Based on Android 11)\n",
      "34                                          SPREADTRUM\n",
      "38   Android 10.0 (Go), Android 10.0 (Go Edition, H...\n",
      "39                        Android 11, Funtouch OS 11.1\n",
      "41                                         Android 6.0\n",
      "59                              MiUI 12.5 (Android 11)\n",
      "74       Funtouch OS 11.1 Global (Based on Android 11)\n",
      "76                            Go Edition, Android 10.0\n",
      "77                Funtouch OS 10.5 based on Android 10\n",
      "79                                             ThreadX\n",
      "89                                HiOS 7.6, Android 11\n",
      "100                            OneUI 3.1, Android 11.0\n",
      "113               Funtouch OS 11 (Based on Android 11)\n",
      "136                                   Stock Android 10\n",
      "193                                        Android 8.1\n",
      "208                               HiOS 7.5, Android 11\n",
      "235                                            MIUI 12\n",
      "262                                        Android 9.0\n"
     ]
    }
   ],
   "source": [
    "print(df_os_raw.drop_duplicates())\n"
   ]
  },
  {
   "cell_type": "code",
   "execution_count": 328,
   "metadata": {},
   "outputs": [
    {
     "data": {
      "text/plain": [
       "0         Android\n",
       "1         Android\n",
       "2      Android 10\n",
       "3         Android\n",
       "4         Android\n",
       "          ...    \n",
       "259       Android\n",
       "260       Android\n",
       "261       Android\n",
       "262     Android 9\n",
       "263       Android\n",
       "Name: os, Length: 264, dtype: object"
      ]
     },
     "execution_count": 328,
     "metadata": {},
     "output_type": "execute_result"
    }
   ],
   "source": [
    "df_os_raw[\"os\"].apply(lambda x: x.replace(\".0\",\"\"))"
   ]
  },
  {
   "cell_type": "code",
   "execution_count": 329,
   "metadata": {},
   "outputs": [
    {
     "name": "stdout",
     "output_type": "stream",
     "text": [
      "0         Android\n",
      "1         Android\n",
      "2      Android 10\n",
      "3         Android\n",
      "4         Android\n",
      "          ...    \n",
      "259       Android\n",
      "260       Android\n",
      "261       Android\n",
      "262     Android 9\n",
      "263       Android\n",
      "Name: os, Length: 264, dtype: object\n"
     ]
    }
   ],
   "source": [
    "\n",
    "\n",
    "\n",
    "df_os_raw[\"os\"]=df_os_raw[\"os\"].apply(lambda x: x.replace(\".0\",\"\"))\n",
    "print(df_os_raw[\"os\"].apply(lambda x: x.split(\"(Based on\")[0]))\n",
    "df_os_raw[\"os\"]=df_os_raw[\"os\"].apply(lambda x: x.split(\"(Based on\")[0])\n",
    "df_os_raw[\"os\"]=df_os_raw[\"os\"].apply(lambda x: x.split(\"based on\")[0])\n",
    "\n"
   ]
  },
  {
   "cell_type": "code",
   "execution_count": 330,
   "metadata": {},
   "outputs": [],
   "source": [
    "\n",
    "list_os_real=[]\n",
    "list_os_raw=[]\n",
    "\n",
    "for df_os_raw_index in df_os_raw.index:\n",
    "  if (\",\" in df_os_raw['os'][df_os_raw_index]) or (\"(\" in df_os_raw['os'][df_os_raw_index]):\n",
    "    list_os_raw.append(df_os_raw['os'][df_os_raw_index].strip())\n",
    "  else:\n",
    "    list_os_real.append(df_os_raw['os'][df_os_raw_index].strip())\n"
   ]
  },
  {
   "cell_type": "code",
   "execution_count": 331,
   "metadata": {},
   "outputs": [
    {
     "name": "stdout",
     "output_type": "stream",
     "text": [
      "True\n",
      "220\n",
      "44\n"
     ]
    }
   ],
   "source": [
    "\n",
    "print(len(list_os_real)+len(list_os_raw)==len(df_os_raw))\n",
    "print(len(list_os_real))\n",
    "print(len(list_os_raw))\n",
    "\n",
    "\n"
   ]
  },
  {
   "cell_type": "code",
   "execution_count": 332,
   "metadata": {},
   "outputs": [
    {
     "data": {
      "text/plain": [
       "['Android',\n",
       " 'Android',\n",
       " 'Android 10',\n",
       " 'Android',\n",
       " 'Android',\n",
       " 'Android 11',\n",
       " 'Funtouch OS 11.1',\n",
       " 'Android 11',\n",
       " 'Android',\n",
       " 'Android',\n",
       " 'Android',\n",
       " 'Android',\n",
       " 'Android',\n",
       " 'Funtouch OS 11.1',\n",
       " 'Android',\n",
       " 'Android',\n",
       " 'Android 11',\n",
       " 'Android',\n",
       " 'Android',\n",
       " 'Android',\n",
       " 'Android 10',\n",
       " 'Android',\n",
       " 'Android',\n",
       " 'Android',\n",
       " 'Funtouch OS 11',\n",
       " 'Android',\n",
       " 'Android',\n",
       " 'Android',\n",
       " 'Android',\n",
       " 'SPREADTRUM',\n",
       " 'Android 11',\n",
       " 'Android',\n",
       " 'Android',\n",
       " 'Funtouch OS 11.1',\n",
       " 'Android 6',\n",
       " 'Android',\n",
       " 'Android',\n",
       " 'Android 11',\n",
       " 'Android 11',\n",
       " 'Android 10',\n",
       " 'Android',\n",
       " 'Android',\n",
       " 'Funtouch OS 11.1',\n",
       " 'Android',\n",
       " 'Android',\n",
       " 'Android',\n",
       " 'Funtouch OS 11.1',\n",
       " 'Android',\n",
       " 'Android 11',\n",
       " 'Android',\n",
       " 'Android',\n",
       " 'Android 11',\n",
       " 'Android',\n",
       " 'Android',\n",
       " 'Android',\n",
       " 'Android',\n",
       " 'Android',\n",
       " 'Android',\n",
       " 'Android',\n",
       " 'Android',\n",
       " 'Android',\n",
       " 'Android',\n",
       " 'Funtouch OS 11.1',\n",
       " 'Android',\n",
       " 'Funtouch OS 11.1 Global',\n",
       " 'Android',\n",
       " 'Funtouch OS 10.5',\n",
       " 'Funtouch OS 11.1 Global',\n",
       " 'ThreadX',\n",
       " 'Android',\n",
       " 'Android',\n",
       " 'Android',\n",
       " 'Funtouch OS 11.1',\n",
       " 'Android',\n",
       " 'Android',\n",
       " 'Android',\n",
       " 'Android',\n",
       " 'Android',\n",
       " 'Android',\n",
       " 'Android',\n",
       " 'Android',\n",
       " 'Android',\n",
       " 'Android 11',\n",
       " 'Android',\n",
       " 'Android',\n",
       " 'Android',\n",
       " 'Android 10',\n",
       " 'Android',\n",
       " 'Android',\n",
       " 'Android 11',\n",
       " 'Android',\n",
       " 'Funtouch OS 11.1 Global',\n",
       " 'Android',\n",
       " 'Android',\n",
       " 'Android',\n",
       " 'Android',\n",
       " 'Funtouch OS 11',\n",
       " 'Android',\n",
       " 'Android',\n",
       " 'Android',\n",
       " 'Android',\n",
       " 'Android',\n",
       " 'Android',\n",
       " 'Funtouch OS 11',\n",
       " 'Android',\n",
       " 'Android',\n",
       " 'Android 10',\n",
       " 'Android',\n",
       " 'Android',\n",
       " 'Android',\n",
       " 'Android',\n",
       " 'Android 11',\n",
       " 'Funtouch OS 11.1',\n",
       " 'Android',\n",
       " 'Android 11',\n",
       " 'Android 11',\n",
       " 'Android',\n",
       " 'Stock Android 10',\n",
       " 'Android',\n",
       " 'Android',\n",
       " 'Android',\n",
       " 'Android 6',\n",
       " 'Android',\n",
       " 'Android',\n",
       " 'Android 10',\n",
       " 'Funtouch OS 10.5',\n",
       " 'Android',\n",
       " 'Android 10',\n",
       " 'Funtouch OS 11.1 Global',\n",
       " 'Funtouch OS 11.1 Global',\n",
       " 'Android',\n",
       " 'Android 11',\n",
       " 'Android',\n",
       " 'Android 11',\n",
       " 'Android',\n",
       " 'Funtouch OS 11.1 Global',\n",
       " 'Android 11',\n",
       " 'Android',\n",
       " 'Android 11',\n",
       " 'ThreadX',\n",
       " 'Android 10',\n",
       " 'Android',\n",
       " 'Android 10',\n",
       " 'Funtouch OS 11.1 Global',\n",
       " 'Android 10',\n",
       " 'Android 11',\n",
       " 'Android',\n",
       " 'Funtouch OS 11.1 Global',\n",
       " 'Android',\n",
       " 'Android',\n",
       " 'Funtouch OS 11.1',\n",
       " 'Android',\n",
       " 'Android',\n",
       " 'Android 11',\n",
       " 'Android',\n",
       " 'Android',\n",
       " 'Funtouch OS 11',\n",
       " 'Android',\n",
       " 'Android',\n",
       " 'Android 10',\n",
       " 'Android',\n",
       " 'Android 8.1',\n",
       " 'Android 11',\n",
       " 'Android',\n",
       " 'Android',\n",
       " 'Android 8.1',\n",
       " 'Android',\n",
       " 'Funtouch OS 11.1',\n",
       " 'Android',\n",
       " 'Funtouch OS 11.1 Global',\n",
       " 'Android',\n",
       " 'Android',\n",
       " 'Android',\n",
       " 'Funtouch OS 11',\n",
       " 'Android 10',\n",
       " 'Android',\n",
       " 'Android 11',\n",
       " 'Android',\n",
       " 'Android',\n",
       " 'Android 10',\n",
       " 'Android 11',\n",
       " 'Android',\n",
       " 'Android',\n",
       " 'Funtouch OS 11.1',\n",
       " 'Funtouch OS 11.1 Global',\n",
       " 'Android 11',\n",
       " 'Funtouch OS 11.1',\n",
       " 'Android',\n",
       " 'Android',\n",
       " 'Android',\n",
       " 'Android 11',\n",
       " 'Funtouch OS 11.1',\n",
       " 'Android 6',\n",
       " 'Android',\n",
       " 'MIUI 12',\n",
       " 'Android',\n",
       " 'Android',\n",
       " 'Funtouch OS 11.1',\n",
       " 'Android',\n",
       " 'Android 11',\n",
       " 'Android',\n",
       " 'Android 10',\n",
       " 'Android',\n",
       " 'Android',\n",
       " 'Android 11',\n",
       " 'Android',\n",
       " 'Funtouch OS 11.1',\n",
       " 'Android',\n",
       " 'Android',\n",
       " 'Android',\n",
       " 'Android',\n",
       " 'Android',\n",
       " 'Android',\n",
       " 'Funtouch OS 11.1 Global',\n",
       " 'Android 11',\n",
       " 'Android',\n",
       " 'Android',\n",
       " 'Android',\n",
       " 'Android 9',\n",
       " 'Android']"
      ]
     },
     "execution_count": 332,
     "metadata": {},
     "output_type": "execute_result"
    }
   ],
   "source": [
    "list_os_real"
   ]
  },
  {
   "cell_type": "code",
   "execution_count": 333,
   "metadata": {},
   "outputs": [
    {
     "data": {
      "text/plain": [
       "['Android 11, MIUI 12',\n",
       " 'HiOS 7.5, Android 11 (Go Edition)',\n",
       " 'OneU 3.1, Android 11',\n",
       " 'OneU 3.1, Android 11',\n",
       " 'OneU 3.1, Android 11',\n",
       " 'Android 10 (Go), Android 10 (Go Edition, HiOS 6.2',\n",
       " 'Android 11, Funtouch OS 11.1',\n",
       " 'MiUI 12.5 (Android 11)',\n",
       " 'Android 11, MIUI 12',\n",
       " 'Android 11, Funtouch OS 11.1',\n",
       " 'Go Edition, Android 10',\n",
       " 'Android 11, MIUI 12',\n",
       " 'HiOS 7.6, Android 11',\n",
       " 'Android 10 (Go), Android 10 (Go Edition, HiOS 6.2',\n",
       " 'Android 11, MIUI 12',\n",
       " 'OneUI 3.1, Android 11',\n",
       " 'Android 11, Funtouch OS 11.1',\n",
       " 'Android 11, MIUI 12',\n",
       " 'Android 11, MIUI 12',\n",
       " 'Android 11, Funtouch OS 11.1',\n",
       " 'HiOS 7.5, Android 11 (Go Edition)',\n",
       " 'Android 11, Funtouch OS 11.1',\n",
       " 'OneU 3.1, Android 11',\n",
       " 'OneU 3.1, Android 11',\n",
       " 'MiUI 12.5 (Android 11)',\n",
       " 'HiOS 7.6, Android 11',\n",
       " 'MiUI 12.5 (Android 11)',\n",
       " 'HiOS 7.5, Android 11 (Go Edition)',\n",
       " 'MiUI 12.5 (Android 11)',\n",
       " 'OneUI 3.1, Android 11',\n",
       " 'OneU 3.1, Android 11',\n",
       " 'OneU 3.1, Android 11',\n",
       " 'Android 11, Funtouch OS 11.1',\n",
       " 'Android 11, Funtouch OS 11.1',\n",
       " 'HiOS 7.6, Android 11',\n",
       " 'HiOS 7.5, Android 11',\n",
       " 'HiOS 7.6, Android 11',\n",
       " 'Android 11, Funtouch OS 11.1',\n",
       " 'Android 11, Funtouch OS 11.1',\n",
       " 'MiUI 12.5 (Android 11)',\n",
       " 'MiUI 12.5 (Android 11)',\n",
       " 'Android 11, Funtouch OS 11.1',\n",
       " 'OneU 3.1, Android 11',\n",
       " 'Android 11, Funtouch OS 11.1']"
      ]
     },
     "execution_count": 333,
     "metadata": {},
     "output_type": "execute_result"
    }
   ],
   "source": [
    "list_os_raw\n"
   ]
  },
  {
   "cell_type": "code",
   "execution_count": 334,
   "metadata": {},
   "outputs": [],
   "source": [
    "\n",
    "\n",
    "list_os_raw_v2=[]\n",
    "for index in range(0,len(list_os_raw)):\n",
    "  if(list_os_raw[index]=='Go Edition, Android 10'):\n",
    "    list_os_raw[index]='Go Edition- Android 10'\n",
    "    list_os_raw_v2.append(list_os_raw[index])\n",
    "  elif(list_os_raw[index]=='MiUI 12.5 (Android 11)'):\n",
    "    list_os_raw_v2.append(list_os_raw[index].split(\" \")[0])\n",
    "  else:\n",
    "    for os_i in list_os_raw[index].split(\", \"):\n",
    "      if (\"Android\" not in  os_i):\n",
    "        #print(os_i)\n",
    "        list_os_raw_v2.append(os_i.strip())\n",
    "      \n",
    "\n",
    "\n"
   ]
  },
  {
   "cell_type": "code",
   "execution_count": 335,
   "metadata": {},
   "outputs": [],
   "source": [
    "len(list_os_raw_v2)==len(list_os_raw)\n",
    "\n",
    "\n",
    "list_os_raw_v2\n",
    "\n",
    "list_os= np.concatenate((list_os_real, list_os_raw_v2))\n",
    "\n",
    "\n",
    "\n",
    "df_os=pd.DataFrame()\n",
    "df_os['os']=list_os\n",
    "df_dataset['os']= df_os['os']"
   ]
  },
  {
   "attachments": {},
   "cell_type": "markdown",
   "metadata": {},
   "source": [
    "## 9. reformat batteries"
   ]
  },
  {
   "cell_type": "code",
   "execution_count": 336,
   "metadata": {},
   "outputs": [
    {
     "data": {
      "text/html": [
       "<div>\n",
       "<style scoped>\n",
       "    .dataframe tbody tr th:only-of-type {\n",
       "        vertical-align: middle;\n",
       "    }\n",
       "\n",
       "    .dataframe tbody tr th {\n",
       "        vertical-align: top;\n",
       "    }\n",
       "\n",
       "    .dataframe thead th {\n",
       "        text-align: right;\n",
       "    }\n",
       "</style>\n",
       "<table border=\"1\" class=\"dataframe\">\n",
       "  <thead>\n",
       "    <tr style=\"text-align: right;\">\n",
       "      <th></th>\n",
       "      <th>title</th>\n",
       "      <th>price</th>\n",
       "      <th>rating</th>\n",
       "      <th>total_reviews</th>\n",
       "      <th>availability_status</th>\n",
       "      <th>manufacturer</th>\n",
       "      <th>country_of_origin</th>\n",
       "      <th>os</th>\n",
       "      <th>ram</th>\n",
       "      <th>product_dimensions</th>\n",
       "      <th>weight</th>\n",
       "      <th>batteries</th>\n",
       "      <th>special_features</th>\n",
       "      <th>form_factor</th>\n",
       "      <th>colour</th>\n",
       "      <th>battery_power_rating</th>\n",
       "      <th>product_description</th>\n",
       "    </tr>\n",
       "  </thead>\n",
       "  <tbody>\n",
       "    <tr>\n",
       "      <th>0</th>\n",
       "      <td>OnePlus Nord CE 5G (Blue Void 8GB RAM 128GB St...</td>\n",
       "      <td>45900.0</td>\n",
       "      <td>4.2</td>\n",
       "      <td>4</td>\n",
       "      <td>Only 1 left in stock.</td>\n",
       "      <td>Samsung India pvt Ltd</td>\n",
       "      <td>India</td>\n",
       "      <td>Android</td>\n",
       "      <td>6</td>\n",
       "      <td>16.5 x 7.6 x 0.7 cm</td>\n",
       "      <td>167</td>\n",
       "      <td>1 Lithium Polymer batteries required. (included)</td>\n",
       "      <td>Dual Bluetooth Audio, IR Blaster, X-Axis Hapti...</td>\n",
       "      <td>Touchscreen Phone</td>\n",
       "      <td>Midnight Black</td>\n",
       "      <td>6000.0</td>\n",
       "      <td>Redmi 9A comes with Octa-core Helio G25 proces...</td>\n",
       "    </tr>\n",
       "  </tbody>\n",
       "</table>\n",
       "</div>"
      ],
      "text/plain": [
       "                                               title    price rating  \\\n",
       "0  OnePlus Nord CE 5G (Blue Void 8GB RAM 128GB St...  45900.0    4.2   \n",
       "\n",
       "  total_reviews    availability_status           manufacturer  \\\n",
       "0             4  Only 1 left in stock.  Samsung India pvt Ltd   \n",
       "\n",
       "  country_of_origin       os ram   product_dimensions weight  \\\n",
       "0             India  Android   6  16.5 x 7.6 x 0.7 cm    167   \n",
       "\n",
       "                                          batteries  \\\n",
       "0  1 Lithium Polymer batteries required. (included)   \n",
       "\n",
       "                                    special_features        form_factor  \\\n",
       "0  Dual Bluetooth Audio, IR Blaster, X-Axis Hapti...  Touchscreen Phone   \n",
       "\n",
       "           colour  battery_power_rating  \\\n",
       "0  Midnight Black                6000.0   \n",
       "\n",
       "                                 product_description  \n",
       "0  Redmi 9A comes with Octa-core Helio G25 proces...  "
      ]
     },
     "execution_count": 336,
     "metadata": {},
     "output_type": "execute_result"
    }
   ],
   "source": [
    "df_dataset.head(1)"
   ]
  },
  {
   "cell_type": "code",
   "execution_count": 337,
   "metadata": {},
   "outputs": [
    {
     "data": {
      "text/plain": [
       "array(['1 Lithium Polymer batteries required. (included)',\n",
       "       '1 Lithium ion batteries required. (included)',\n",
       "       '1 A batteries required. (included)',\n",
       "       '2 Lithium ion batteries required. (included)',\n",
       "       '1 AAA batteries required. (included)',\n",
       "       '1 C batteries required. (included)'], dtype=object)"
      ]
     },
     "execution_count": 337,
     "metadata": {},
     "output_type": "execute_result"
    }
   ],
   "source": [
    "\n",
    "\n",
    "df_dataset.batteries.unique()"
   ]
  },
  {
   "cell_type": "code",
   "execution_count": 338,
   "metadata": {},
   "outputs": [
    {
     "data": {
      "text/plain": [
       "array(['1 Lithium Polymer', '1 Lithium ion', '1 A', '2 Lithium ion',\n",
       "       '1 AAA', '1 C'], dtype=object)"
      ]
     },
     "execution_count": 338,
     "metadata": {},
     "output_type": "execute_result"
    }
   ],
   "source": [
    "df_dataset.batteries.apply(lambda x: x.replace(\" batteries required. (included)\",\"\")).unique()"
   ]
  },
  {
   "cell_type": "code",
   "execution_count": 339,
   "metadata": {},
   "outputs": [],
   "source": [
    "df_dataset.batteries=df_dataset.batteries.apply(lambda x: x.replace(\" batteries required. (included)\",\"\"))"
   ]
  },
  {
   "attachments": {},
   "cell_type": "markdown",
   "metadata": {},
   "source": [
    "## 10. company"
   ]
  },
  {
   "cell_type": "code",
   "execution_count": 340,
   "metadata": {},
   "outputs": [
    {
     "data": {
      "text/html": [
       "<div>\n",
       "<style scoped>\n",
       "    .dataframe tbody tr th:only-of-type {\n",
       "        vertical-align: middle;\n",
       "    }\n",
       "\n",
       "    .dataframe tbody tr th {\n",
       "        vertical-align: top;\n",
       "    }\n",
       "\n",
       "    .dataframe thead th {\n",
       "        text-align: right;\n",
       "    }\n",
       "</style>\n",
       "<table border=\"1\" class=\"dataframe\">\n",
       "  <thead>\n",
       "    <tr style=\"text-align: right;\">\n",
       "      <th></th>\n",
       "      <th>title</th>\n",
       "      <th>price</th>\n",
       "      <th>rating</th>\n",
       "      <th>total_reviews</th>\n",
       "      <th>availability_status</th>\n",
       "      <th>manufacturer</th>\n",
       "      <th>country_of_origin</th>\n",
       "      <th>os</th>\n",
       "      <th>ram</th>\n",
       "      <th>product_dimensions</th>\n",
       "      <th>weight</th>\n",
       "      <th>batteries</th>\n",
       "      <th>special_features</th>\n",
       "      <th>form_factor</th>\n",
       "      <th>colour</th>\n",
       "      <th>battery_power_rating</th>\n",
       "      <th>product_description</th>\n",
       "    </tr>\n",
       "  </thead>\n",
       "  <tbody>\n",
       "    <tr>\n",
       "      <th>0</th>\n",
       "      <td>OnePlus Nord CE 5G (Blue Void 8GB RAM 128GB St...</td>\n",
       "      <td>45900.0</td>\n",
       "      <td>4.2</td>\n",
       "      <td>4</td>\n",
       "      <td>Only 1 left in stock.</td>\n",
       "      <td>Samsung India pvt Ltd</td>\n",
       "      <td>India</td>\n",
       "      <td>Android</td>\n",
       "      <td>6</td>\n",
       "      <td>16.5 x 7.6 x 0.7 cm</td>\n",
       "      <td>167</td>\n",
       "      <td>1 Lithium Polymer</td>\n",
       "      <td>Dual Bluetooth Audio, IR Blaster, X-Axis Hapti...</td>\n",
       "      <td>Touchscreen Phone</td>\n",
       "      <td>Midnight Black</td>\n",
       "      <td>6000.0</td>\n",
       "      <td>Redmi 9A comes with Octa-core Helio G25 proces...</td>\n",
       "    </tr>\n",
       "  </tbody>\n",
       "</table>\n",
       "</div>"
      ],
      "text/plain": [
       "                                               title    price rating  \\\n",
       "0  OnePlus Nord CE 5G (Blue Void 8GB RAM 128GB St...  45900.0    4.2   \n",
       "\n",
       "  total_reviews    availability_status           manufacturer  \\\n",
       "0             4  Only 1 left in stock.  Samsung India pvt Ltd   \n",
       "\n",
       "  country_of_origin       os ram   product_dimensions weight  \\\n",
       "0             India  Android   6  16.5 x 7.6 x 0.7 cm    167   \n",
       "\n",
       "           batteries                                   special_features  \\\n",
       "0  1 Lithium Polymer  Dual Bluetooth Audio, IR Blaster, X-Axis Hapti...   \n",
       "\n",
       "         form_factor          colour  battery_power_rating  \\\n",
       "0  Touchscreen Phone  Midnight Black                6000.0   \n",
       "\n",
       "                                 product_description  \n",
       "0  Redmi 9A comes with Octa-core Helio G25 proces...  "
      ]
     },
     "execution_count": 340,
     "metadata": {},
     "output_type": "execute_result"
    }
   ],
   "source": [
    "df_dataset.head(1)"
   ]
  },
  {
   "cell_type": "code",
   "execution_count": 341,
   "metadata": {},
   "outputs": [],
   "source": [
    "df_dataset.manufacturer=df_dataset.manufacturer.apply(lambda x : x.lower())"
   ]
  },
  {
   "cell_type": "code",
   "execution_count": 342,
   "metadata": {},
   "outputs": [
    {
     "data": {
      "text/plain": [
       "array(['samsung india pvt ltd', 'oneplus',\n",
       "       'oppo mobiles india privte limited', 'oppo mobiles india pvt ltd',\n",
       "       'bhagwati products ltd. sp1-1 industrial area karoli tapukara extn. bhiwadi rajasthan india',\n",
       "       'sky cable', 'oppo mobiles india private limited', 'oppo',\n",
       "       'xiaomi', 'padget electronics private limited', 'realme',\n",
       "       'samsung india electronics private limited', 'hmd global', 'vivo',\n",
       "       'samsung india private limited', 'iqoo',\n",
       "       'rising stars mobile india private limited', 'redmi',\n",
       "       'vivo mobile india pvt ltd', 'gionee', 'g mobiles india', 'lg',\n",
       "       'google llc 1600 amphitheatre pkwy mountain view ca 94043 united states',\n",
       "       'samsung', 'panasonic', 'google', 'oppo mobiles india pvt. ltd.',\n",
       "       'motorola india pvt ltd', 'lg electronics india pvt ltd',\n",
       "       'lava international', 's mobile devices private ltd',\n",
       "       'g mobile india', 'g mobiles', 'karbonn', 'micromax',\n",
       "       'g mobiles pvt ltd', 'maplin'], dtype=object)"
      ]
     },
     "execution_count": 342,
     "metadata": {},
     "output_type": "execute_result"
    }
   ],
   "source": [
    "df_dataset.manufacturer.unique()"
   ]
  },
  {
   "cell_type": "code",
   "execution_count": 343,
   "metadata": {},
   "outputs": [],
   "source": [
    "df_dataset.manufacturer=df_dataset.manufacturer.apply(lambda x : \"g mobile\" if   (\"g mobile\" in x) else x )"
   ]
  },
  {
   "cell_type": "code",
   "execution_count": 344,
   "metadata": {},
   "outputs": [
    {
     "data": {
      "text/plain": [
       "array(['samsung india pvt ltd', 'oneplus',\n",
       "       'oppo mobiles india privte limited', 'oppo mobiles india pvt ltd',\n",
       "       'bhagwati products ltd. sp1-1 industrial area karoli tapukara extn. bhiwadi rajasthan india',\n",
       "       'sky cable', 'oppo mobiles india private limited', 'oppo',\n",
       "       'xiaomi', 'padget electronics private limited', 'realme',\n",
       "       'samsung india electronics private limited', 'hmd global', 'vivo',\n",
       "       'samsung india private limited', 'iqoo',\n",
       "       'rising stars mobile india private limited', 'redmi',\n",
       "       'vivo mobile india pvt ltd', 'gionee', 'g mobile', 'lg',\n",
       "       'google llc 1600 amphitheatre pkwy mountain view ca 94043 united states',\n",
       "       'samsung', 'panasonic', 'google', 'oppo mobiles india pvt. ltd.',\n",
       "       'motorola india pvt ltd', 'lg electronics india pvt ltd',\n",
       "       'lava international', 's mobile devices private ltd', 'karbonn',\n",
       "       'micromax', 'maplin'], dtype=object)"
      ]
     },
     "execution_count": 344,
     "metadata": {},
     "output_type": "execute_result"
    }
   ],
   "source": [
    "df_dataset.manufacturer.unique()"
   ]
  },
  {
   "cell_type": "code",
   "execution_count": 345,
   "metadata": {},
   "outputs": [],
   "source": [
    "df_dataset.manufacturer=df_dataset.manufacturer.apply(lambda x : \"oppo\" if   (\"oppo\" in x) else x )"
   ]
  },
  {
   "cell_type": "code",
   "execution_count": 346,
   "metadata": {},
   "outputs": [
    {
     "data": {
      "text/plain": [
       "array(['samsung india pvt ltd', 'oneplus', 'oppo',\n",
       "       'bhagwati products ltd. sp1-1 industrial area karoli tapukara extn. bhiwadi rajasthan india',\n",
       "       'sky cable', 'xiaomi', 'padget electronics private limited',\n",
       "       'realme', 'samsung india electronics private limited',\n",
       "       'hmd global', 'vivo', 'samsung india private limited', 'iqoo',\n",
       "       'rising stars mobile india private limited', 'redmi',\n",
       "       'vivo mobile india pvt ltd', 'gionee', 'g mobile', 'lg',\n",
       "       'google llc 1600 amphitheatre pkwy mountain view ca 94043 united states',\n",
       "       'samsung', 'panasonic', 'google', 'motorola india pvt ltd',\n",
       "       'lg electronics india pvt ltd', 'lava international',\n",
       "       's mobile devices private ltd', 'karbonn', 'micromax', 'maplin'],\n",
       "      dtype=object)"
      ]
     },
     "execution_count": 346,
     "metadata": {},
     "output_type": "execute_result"
    }
   ],
   "source": [
    "df_dataset.manufacturer.unique()"
   ]
  },
  {
   "cell_type": "code",
   "execution_count": 347,
   "metadata": {},
   "outputs": [],
   "source": [
    "df_dataset.manufacturer=df_dataset.manufacturer.apply(lambda x : \"samsung\" if   (\"samsung\" in x) else x )"
   ]
  },
  {
   "cell_type": "code",
   "execution_count": 348,
   "metadata": {},
   "outputs": [
    {
     "data": {
      "text/plain": [
       "array(['samsung', 'oneplus', 'oppo',\n",
       "       'bhagwati products ltd. sp1-1 industrial area karoli tapukara extn. bhiwadi rajasthan india',\n",
       "       'sky cable', 'xiaomi', 'padget electronics private limited',\n",
       "       'realme', 'hmd global', 'vivo', 'iqoo',\n",
       "       'rising stars mobile india private limited', 'redmi',\n",
       "       'vivo mobile india pvt ltd', 'gionee', 'g mobile', 'lg',\n",
       "       'google llc 1600 amphitheatre pkwy mountain view ca 94043 united states',\n",
       "       'panasonic', 'google', 'motorola india pvt ltd',\n",
       "       'lg electronics india pvt ltd', 'lava international',\n",
       "       's mobile devices private ltd', 'karbonn', 'micromax', 'maplin'],\n",
       "      dtype=object)"
      ]
     },
     "execution_count": 348,
     "metadata": {},
     "output_type": "execute_result"
    }
   ],
   "source": [
    "df_dataset.manufacturer.unique()"
   ]
  },
  {
   "cell_type": "code",
   "execution_count": 349,
   "metadata": {},
   "outputs": [],
   "source": [
    "df_dataset.manufacturer=df_dataset.manufacturer.apply(lambda x : \"google\" if   (\"google\" in x) else x )"
   ]
  },
  {
   "cell_type": "code",
   "execution_count": 350,
   "metadata": {},
   "outputs": [
    {
     "data": {
      "text/plain": [
       "array(['samsung', 'oneplus', 'oppo',\n",
       "       'bhagwati products ltd. sp1-1 industrial area karoli tapukara extn. bhiwadi rajasthan india',\n",
       "       'sky cable', 'xiaomi', 'padget electronics private limited',\n",
       "       'realme', 'hmd global', 'vivo', 'iqoo',\n",
       "       'rising stars mobile india private limited', 'redmi',\n",
       "       'vivo mobile india pvt ltd', 'gionee', 'g mobile', 'lg', 'google',\n",
       "       'panasonic', 'motorola india pvt ltd',\n",
       "       'lg electronics india pvt ltd', 'lava international',\n",
       "       's mobile devices private ltd', 'karbonn', 'micromax', 'maplin'],\n",
       "      dtype=object)"
      ]
     },
     "execution_count": 350,
     "metadata": {},
     "output_type": "execute_result"
    }
   ],
   "source": [
    "df_dataset.manufacturer.unique()"
   ]
  },
  {
   "cell_type": "code",
   "execution_count": 351,
   "metadata": {},
   "outputs": [],
   "source": [
    "df_dataset.manufacturer=df_dataset.manufacturer.apply(lambda x : \"lg\" if   (\"lg\" in x) else x )"
   ]
  },
  {
   "cell_type": "code",
   "execution_count": 352,
   "metadata": {},
   "outputs": [
    {
     "data": {
      "text/plain": [
       "array(['samsung', 'oneplus', 'oppo',\n",
       "       'bhagwati products ltd. sp1-1 industrial area karoli tapukara extn. bhiwadi rajasthan india',\n",
       "       'sky cable', 'xiaomi', 'padget electronics private limited',\n",
       "       'realme', 'hmd global', 'vivo', 'iqoo',\n",
       "       'rising stars mobile india private limited', 'redmi',\n",
       "       'vivo mobile india pvt ltd', 'gionee', 'g mobile', 'lg', 'google',\n",
       "       'panasonic', 'motorola india pvt ltd', 'lava international',\n",
       "       's mobile devices private ltd', 'karbonn', 'micromax', 'maplin'],\n",
       "      dtype=object)"
      ]
     },
     "execution_count": 352,
     "metadata": {},
     "output_type": "execute_result"
    }
   ],
   "source": [
    "df_dataset.manufacturer.unique()"
   ]
  },
  {
   "cell_type": "code",
   "execution_count": 353,
   "metadata": {},
   "outputs": [],
   "source": [
    "df_dataset.manufacturer=df_dataset.manufacturer.apply(lambda x : \"vivo\" if   (\"vivo\" in x) else x )"
   ]
  },
  {
   "cell_type": "code",
   "execution_count": 354,
   "metadata": {},
   "outputs": [
    {
     "name": "stdout",
     "output_type": "stream",
     "text": [
      "samsung\n",
      "oneplus\n",
      "oppo\n",
      "bhagwati products ltd. sp1-1 industrial area karoli tapukara extn. bhiwadi rajasthan india\n",
      "sky cable\n",
      "xiaomi\n",
      "padget electronics private limited\n",
      "realme\n",
      "hmd global\n",
      "vivo\n",
      "iqoo\n",
      "rising stars mobile india private limited\n",
      "redmi\n",
      "gionee\n",
      "g mobile\n",
      "lg\n",
      "google\n",
      "panasonic\n",
      "motorola india pvt ltd\n",
      "lava international\n",
      "s mobile devices private ltd\n",
      "karbonn\n",
      "micromax\n",
      "maplin\n"
     ]
    }
   ],
   "source": [
    "for i in df_dataset.manufacturer.unique():\n",
    "  print(i)"
   ]
  },
  {
   "attachments": {},
   "cell_type": "markdown",
   "metadata": {},
   "source": [
    "## 11. save data after clean"
   ]
  },
  {
   "cell_type": "code",
   "execution_count": 355,
   "metadata": {},
   "outputs": [],
   "source": [
    "df_dataset.to_csv('../data_cleaned/Amazon_Mobile_Data_cleaned.csv',index=False)\n",
    "# df_dataset.to_excel('../data_cleaned/Amazon_Mobile_Data_cleaned_bug.xlsx',sheet_name=\"data_clean\",index=False,float_format=\"%.2f\",engine=\"xlsxwriter\")"
   ]
  },
  {
   "attachments": {},
   "cell_type": "markdown",
   "metadata": {},
   "source": [
    "# III. Dim"
   ]
  },
  {
   "attachments": {},
   "cell_type": "markdown",
   "metadata": {},
   "source": [
    "## 1. Load data clean "
   ]
  },
  {
   "cell_type": "code",
   "execution_count": 356,
   "metadata": {},
   "outputs": [
    {
     "data": {
      "text/html": [
       "<div>\n",
       "<style scoped>\n",
       "    .dataframe tbody tr th:only-of-type {\n",
       "        vertical-align: middle;\n",
       "    }\n",
       "\n",
       "    .dataframe tbody tr th {\n",
       "        vertical-align: top;\n",
       "    }\n",
       "\n",
       "    .dataframe thead th {\n",
       "        text-align: right;\n",
       "    }\n",
       "</style>\n",
       "<table border=\"1\" class=\"dataframe\">\n",
       "  <thead>\n",
       "    <tr style=\"text-align: right;\">\n",
       "      <th></th>\n",
       "      <th>title</th>\n",
       "      <th>price</th>\n",
       "      <th>rating</th>\n",
       "      <th>total_reviews</th>\n",
       "      <th>availability_status</th>\n",
       "      <th>manufacturer</th>\n",
       "      <th>country_of_origin</th>\n",
       "      <th>os</th>\n",
       "      <th>ram</th>\n",
       "      <th>product_dimensions</th>\n",
       "      <th>weight</th>\n",
       "      <th>batteries</th>\n",
       "      <th>special_features</th>\n",
       "      <th>form_factor</th>\n",
       "      <th>colour</th>\n",
       "      <th>battery_power_rating</th>\n",
       "      <th>product_description</th>\n",
       "    </tr>\n",
       "  </thead>\n",
       "  <tbody>\n",
       "    <tr>\n",
       "      <th>0</th>\n",
       "      <td>OnePlus Nord CE 5G (Blue Void 8GB RAM 128GB St...</td>\n",
       "      <td>45900.0</td>\n",
       "      <td>4.2</td>\n",
       "      <td>4</td>\n",
       "      <td>Only 1 left in stock.</td>\n",
       "      <td>samsung</td>\n",
       "      <td>India</td>\n",
       "      <td>Android</td>\n",
       "      <td>6.0</td>\n",
       "      <td>16.5 x 7.6 x 0.7 cm</td>\n",
       "      <td>167.0</td>\n",
       "      <td>1 Lithium Polymer</td>\n",
       "      <td>Dual Bluetooth Audio, IR Blaster, X-Axis Hapti...</td>\n",
       "      <td>Touchscreen Phone</td>\n",
       "      <td>Midnight Black</td>\n",
       "      <td>6000.0</td>\n",
       "      <td>Redmi 9A comes with Octa-core Helio G25 proces...</td>\n",
       "    </tr>\n",
       "  </tbody>\n",
       "</table>\n",
       "</div>"
      ],
      "text/plain": [
       "                                               title    price  rating  \\\n",
       "0  OnePlus Nord CE 5G (Blue Void 8GB RAM 128GB St...  45900.0     4.2   \n",
       "\n",
       "   total_reviews    availability_status manufacturer country_of_origin  \\\n",
       "0              4  Only 1 left in stock.      samsung             India   \n",
       "\n",
       "        os  ram   product_dimensions  weight          batteries  \\\n",
       "0  Android  6.0  16.5 x 7.6 x 0.7 cm   167.0  1 Lithium Polymer   \n",
       "\n",
       "                                    special_features        form_factor  \\\n",
       "0  Dual Bluetooth Audio, IR Blaster, X-Axis Hapti...  Touchscreen Phone   \n",
       "\n",
       "           colour  battery_power_rating  \\\n",
       "0  Midnight Black                6000.0   \n",
       "\n",
       "                                 product_description  \n",
       "0  Redmi 9A comes with Octa-core Helio G25 proces...  "
      ]
     },
     "execution_count": 356,
     "metadata": {},
     "output_type": "execute_result"
    }
   ],
   "source": [
    "df_dataset_cleaned=pd.read_csv('../data_cleaned/Amazon_Mobile_Data_cleaned.csv')\n",
    "df_dataset_cleaned.head(1)"
   ]
  },
  {
   "cell_type": "code",
   "execution_count": 357,
   "metadata": {},
   "outputs": [
    {
     "data": {
      "text/plain": [
       "Index(['title', 'price', 'rating', 'total_reviews', 'availability_status',\n",
       "       'manufacturer', 'country_of_origin', 'os', 'ram', 'product_dimensions',\n",
       "       'weight', 'batteries', 'special_features', 'form_factor', 'colour',\n",
       "       'battery_power_rating', 'product_description'],\n",
       "      dtype='object')"
      ]
     },
     "execution_count": 357,
     "metadata": {},
     "output_type": "execute_result"
    }
   ],
   "source": [
    "df_dataset_cleaned.columns"
   ]
  },
  {
   "attachments": {},
   "cell_type": "markdown",
   "metadata": {},
   "source": [
    "## 2. Dim product_dimensions ( length x width x height cm)"
   ]
  },
  {
   "cell_type": "code",
   "execution_count": 358,
   "metadata": {},
   "outputs": [
    {
     "data": {
      "text/plain": [
       "array(['16.5 x 7.6 x 0.7 cm', '15 x 1 x 7.5 cm', '16.3 x 7.5 x 0.8 cm',\n",
       "       '16.1 x 7.6 x 0.9 cm', '15.4 x 0.9 x 7.4 cm',\n",
       "       '0.9 x 7.6 x 16.4 cm', '16.39 x 7.53 x 0.85 cm',\n",
       "       '16.2 x 1 x 7.7 cm', '16.6 x 7.6 x 0.8 cm', '16 x 0.7 x 7.5 cm'],\n",
       "      dtype=object)"
      ]
     },
     "execution_count": 358,
     "metadata": {},
     "output_type": "execute_result"
    }
   ],
   "source": [
    "df_dataset_cleaned[\"product_dimensions\"].unique()[0:10]"
   ]
  },
  {
   "cell_type": "code",
   "execution_count": 359,
   "metadata": {},
   "outputs": [
    {
     "data": {
      "text/plain": [
       "264"
      ]
     },
     "execution_count": 359,
     "metadata": {},
     "output_type": "execute_result"
    }
   ],
   "source": [
    "len(df_dataset_cleaned[\"product_dimensions\"])"
   ]
  },
  {
   "cell_type": "code",
   "execution_count": 360,
   "metadata": {},
   "outputs": [
    {
     "data": {
      "text/plain": [
       "0    16.5 x 7.6 x 0.7 cm\n",
       "1        15 x 1 x 7.5 cm\n",
       "2    16.3 x 7.5 x 0.8 cm\n",
       "3    16.1 x 7.6 x 0.9 cm\n",
       "4    15.4 x 0.9 x 7.4 cm\n",
       "Name: product_dimensions, dtype: object"
      ]
     },
     "execution_count": 360,
     "metadata": {},
     "output_type": "execute_result"
    }
   ],
   "source": [
    "df_dataset_cleaned[\"product_dimensions\"][0:5]"
   ]
  },
  {
   "cell_type": "code",
   "execution_count": 361,
   "metadata": {},
   "outputs": [],
   "source": [
    "df_product_dimension=pd.DataFrame()"
   ]
  },
  {
   "cell_type": "code",
   "execution_count": null,
   "metadata": {},
   "outputs": [],
   "source": []
  },
  {
   "cell_type": "code",
   "execution_count": 362,
   "metadata": {},
   "outputs": [],
   "source": [
    "df_product_dimension[\"product_dimensions\"]=df_dataset_cleaned[\"product_dimensions\"]"
   ]
  },
  {
   "cell_type": "code",
   "execution_count": 363,
   "metadata": {},
   "outputs": [
    {
     "data": {
      "text/html": [
       "<div>\n",
       "<style scoped>\n",
       "    .dataframe tbody tr th:only-of-type {\n",
       "        vertical-align: middle;\n",
       "    }\n",
       "\n",
       "    .dataframe tbody tr th {\n",
       "        vertical-align: top;\n",
       "    }\n",
       "\n",
       "    .dataframe thead th {\n",
       "        text-align: right;\n",
       "    }\n",
       "</style>\n",
       "<table border=\"1\" class=\"dataframe\">\n",
       "  <thead>\n",
       "    <tr style=\"text-align: right;\">\n",
       "      <th></th>\n",
       "      <th>product_dimensions</th>\n",
       "    </tr>\n",
       "  </thead>\n",
       "  <tbody>\n",
       "    <tr>\n",
       "      <th>0</th>\n",
       "      <td>16.5 x 7.6 x 0.7 cm</td>\n",
       "    </tr>\n",
       "    <tr>\n",
       "      <th>1</th>\n",
       "      <td>15 x 1 x 7.5 cm</td>\n",
       "    </tr>\n",
       "    <tr>\n",
       "      <th>2</th>\n",
       "      <td>16.3 x 7.5 x 0.8 cm</td>\n",
       "    </tr>\n",
       "    <tr>\n",
       "      <th>3</th>\n",
       "      <td>16.1 x 7.6 x 0.9 cm</td>\n",
       "    </tr>\n",
       "    <tr>\n",
       "      <th>4</th>\n",
       "      <td>15.4 x 0.9 x 7.4 cm</td>\n",
       "    </tr>\n",
       "  </tbody>\n",
       "</table>\n",
       "</div>"
      ],
      "text/plain": [
       "    product_dimensions\n",
       "0  16.5 x 7.6 x 0.7 cm\n",
       "1      15 x 1 x 7.5 cm\n",
       "2  16.3 x 7.5 x 0.8 cm\n",
       "3  16.1 x 7.6 x 0.9 cm\n",
       "4  15.4 x 0.9 x 7.4 cm"
      ]
     },
     "execution_count": 363,
     "metadata": {},
     "output_type": "execute_result"
    }
   ],
   "source": [
    "df_product_dimension.head(5)\n"
   ]
  },
  {
   "cell_type": "code",
   "execution_count": 364,
   "metadata": {},
   "outputs": [
    {
     "data": {
      "text/plain": [
       "264"
      ]
     },
     "execution_count": 364,
     "metadata": {},
     "output_type": "execute_result"
    }
   ],
   "source": [
    "len(df_product_dimension)"
   ]
  },
  {
   "cell_type": "code",
   "execution_count": 365,
   "metadata": {},
   "outputs": [
    {
     "data": {
      "text/plain": [
       "93"
      ]
     },
     "execution_count": 365,
     "metadata": {},
     "output_type": "execute_result"
    }
   ],
   "source": [
    "df_product_dimension=df_product_dimension.drop_duplicates()\n",
    "len(df_product_dimension)\n"
   ]
  },
  {
   "cell_type": "code",
   "execution_count": 366,
   "metadata": {},
   "outputs": [
    {
     "name": "stdout",
     "output_type": "stream",
     "text": [
      "0    16.5\n",
      "1      15\n",
      "2    16.3\n",
      "3    16.1\n",
      "4    15.4\n",
      "Name: product_dimensions, dtype: object\n"
     ]
    }
   ],
   "source": [
    "print(df_product_dimension[\"product_dimensions\"].apply(lambda x: x.split(\" x \")[0])[0:5])"
   ]
  },
  {
   "cell_type": "code",
   "execution_count": 367,
   "metadata": {},
   "outputs": [],
   "source": [
    "df_product_dimension[\"product_dimension_length\"]=df_product_dimension[\"product_dimensions\"].apply(lambda x: x.split(\" x \")[0])"
   ]
  },
  {
   "cell_type": "code",
   "execution_count": 368,
   "metadata": {},
   "outputs": [
    {
     "data": {
      "text/html": [
       "<div>\n",
       "<style scoped>\n",
       "    .dataframe tbody tr th:only-of-type {\n",
       "        vertical-align: middle;\n",
       "    }\n",
       "\n",
       "    .dataframe tbody tr th {\n",
       "        vertical-align: top;\n",
       "    }\n",
       "\n",
       "    .dataframe thead th {\n",
       "        text-align: right;\n",
       "    }\n",
       "</style>\n",
       "<table border=\"1\" class=\"dataframe\">\n",
       "  <thead>\n",
       "    <tr style=\"text-align: right;\">\n",
       "      <th></th>\n",
       "      <th>product_dimensions</th>\n",
       "      <th>product_dimension_length</th>\n",
       "    </tr>\n",
       "  </thead>\n",
       "  <tbody>\n",
       "    <tr>\n",
       "      <th>0</th>\n",
       "      <td>16.5 x 7.6 x 0.7 cm</td>\n",
       "      <td>16.5</td>\n",
       "    </tr>\n",
       "    <tr>\n",
       "      <th>1</th>\n",
       "      <td>15 x 1 x 7.5 cm</td>\n",
       "      <td>15</td>\n",
       "    </tr>\n",
       "    <tr>\n",
       "      <th>2</th>\n",
       "      <td>16.3 x 7.5 x 0.8 cm</td>\n",
       "      <td>16.3</td>\n",
       "    </tr>\n",
       "    <tr>\n",
       "      <th>3</th>\n",
       "      <td>16.1 x 7.6 x 0.9 cm</td>\n",
       "      <td>16.1</td>\n",
       "    </tr>\n",
       "    <tr>\n",
       "      <th>4</th>\n",
       "      <td>15.4 x 0.9 x 7.4 cm</td>\n",
       "      <td>15.4</td>\n",
       "    </tr>\n",
       "  </tbody>\n",
       "</table>\n",
       "</div>"
      ],
      "text/plain": [
       "    product_dimensions product_dimension_length\n",
       "0  16.5 x 7.6 x 0.7 cm                     16.5\n",
       "1      15 x 1 x 7.5 cm                       15\n",
       "2  16.3 x 7.5 x 0.8 cm                     16.3\n",
       "3  16.1 x 7.6 x 0.9 cm                     16.1\n",
       "4  15.4 x 0.9 x 7.4 cm                     15.4"
      ]
     },
     "execution_count": 368,
     "metadata": {},
     "output_type": "execute_result"
    }
   ],
   "source": [
    "df_product_dimension.head(5)"
   ]
  },
  {
   "cell_type": "code",
   "execution_count": 369,
   "metadata": {},
   "outputs": [
    {
     "name": "stdout",
     "output_type": "stream",
     "text": [
      "0    7.6\n",
      "1      1\n",
      "2    7.5\n",
      "3    7.6\n",
      "4    0.9\n",
      "Name: product_dimensions, dtype: object\n"
     ]
    }
   ],
   "source": [
    "print(df_product_dimension[\"product_dimensions\"].apply(lambda x: x.split(\" x \")[1])[0:5])"
   ]
  },
  {
   "cell_type": "code",
   "execution_count": 370,
   "metadata": {},
   "outputs": [],
   "source": [
    "df_product_dimension[\"product_dimension_width\"] = df_product_dimension[\"product_dimensions\"].apply(lambda x: x.split(\" x \")[1])"
   ]
  },
  {
   "cell_type": "code",
   "execution_count": 371,
   "metadata": {},
   "outputs": [
    {
     "data": {
      "text/html": [
       "<div>\n",
       "<style scoped>\n",
       "    .dataframe tbody tr th:only-of-type {\n",
       "        vertical-align: middle;\n",
       "    }\n",
       "\n",
       "    .dataframe tbody tr th {\n",
       "        vertical-align: top;\n",
       "    }\n",
       "\n",
       "    .dataframe thead th {\n",
       "        text-align: right;\n",
       "    }\n",
       "</style>\n",
       "<table border=\"1\" class=\"dataframe\">\n",
       "  <thead>\n",
       "    <tr style=\"text-align: right;\">\n",
       "      <th></th>\n",
       "      <th>product_dimensions</th>\n",
       "      <th>product_dimension_length</th>\n",
       "      <th>product_dimension_width</th>\n",
       "    </tr>\n",
       "  </thead>\n",
       "  <tbody>\n",
       "    <tr>\n",
       "      <th>0</th>\n",
       "      <td>16.5 x 7.6 x 0.7 cm</td>\n",
       "      <td>16.5</td>\n",
       "      <td>7.6</td>\n",
       "    </tr>\n",
       "    <tr>\n",
       "      <th>1</th>\n",
       "      <td>15 x 1 x 7.5 cm</td>\n",
       "      <td>15</td>\n",
       "      <td>1</td>\n",
       "    </tr>\n",
       "    <tr>\n",
       "      <th>2</th>\n",
       "      <td>16.3 x 7.5 x 0.8 cm</td>\n",
       "      <td>16.3</td>\n",
       "      <td>7.5</td>\n",
       "    </tr>\n",
       "    <tr>\n",
       "      <th>3</th>\n",
       "      <td>16.1 x 7.6 x 0.9 cm</td>\n",
       "      <td>16.1</td>\n",
       "      <td>7.6</td>\n",
       "    </tr>\n",
       "    <tr>\n",
       "      <th>4</th>\n",
       "      <td>15.4 x 0.9 x 7.4 cm</td>\n",
       "      <td>15.4</td>\n",
       "      <td>0.9</td>\n",
       "    </tr>\n",
       "  </tbody>\n",
       "</table>\n",
       "</div>"
      ],
      "text/plain": [
       "    product_dimensions product_dimension_length product_dimension_width\n",
       "0  16.5 x 7.6 x 0.7 cm                     16.5                     7.6\n",
       "1      15 x 1 x 7.5 cm                       15                       1\n",
       "2  16.3 x 7.5 x 0.8 cm                     16.3                     7.5\n",
       "3  16.1 x 7.6 x 0.9 cm                     16.1                     7.6\n",
       "4  15.4 x 0.9 x 7.4 cm                     15.4                     0.9"
      ]
     },
     "execution_count": 371,
     "metadata": {},
     "output_type": "execute_result"
    }
   ],
   "source": [
    "df_product_dimension.head(5)"
   ]
  },
  {
   "cell_type": "code",
   "execution_count": 372,
   "metadata": {},
   "outputs": [
    {
     "name": "stdout",
     "output_type": "stream",
     "text": [
      "0    0.7\n",
      "1    7.5\n",
      "2    0.8\n",
      "3    0.9\n",
      "4    7.4\n",
      "Name: product_dimensions, dtype: object\n"
     ]
    }
   ],
   "source": [
    "print(df_product_dimension[\"product_dimensions\"].apply(lambda x: x.split(\" x \")[2][0:-3])[0:5])"
   ]
  },
  {
   "cell_type": "code",
   "execution_count": 373,
   "metadata": {},
   "outputs": [],
   "source": [
    "df_product_dimension[\"product_dimension_height\"] = df_product_dimension[\"product_dimensions\"].apply(lambda x: x.split(\" x \")[2][0:-3])"
   ]
  },
  {
   "cell_type": "code",
   "execution_count": 374,
   "metadata": {},
   "outputs": [
    {
     "data": {
      "text/html": [
       "<div>\n",
       "<style scoped>\n",
       "    .dataframe tbody tr th:only-of-type {\n",
       "        vertical-align: middle;\n",
       "    }\n",
       "\n",
       "    .dataframe tbody tr th {\n",
       "        vertical-align: top;\n",
       "    }\n",
       "\n",
       "    .dataframe thead th {\n",
       "        text-align: right;\n",
       "    }\n",
       "</style>\n",
       "<table border=\"1\" class=\"dataframe\">\n",
       "  <thead>\n",
       "    <tr style=\"text-align: right;\">\n",
       "      <th></th>\n",
       "      <th>product_dimensions</th>\n",
       "      <th>product_dimension_length</th>\n",
       "      <th>product_dimension_width</th>\n",
       "      <th>product_dimension_height</th>\n",
       "    </tr>\n",
       "  </thead>\n",
       "  <tbody>\n",
       "    <tr>\n",
       "      <th>0</th>\n",
       "      <td>16.5 x 7.6 x 0.7 cm</td>\n",
       "      <td>16.5</td>\n",
       "      <td>7.6</td>\n",
       "      <td>0.7</td>\n",
       "    </tr>\n",
       "    <tr>\n",
       "      <th>1</th>\n",
       "      <td>15 x 1 x 7.5 cm</td>\n",
       "      <td>15</td>\n",
       "      <td>1</td>\n",
       "      <td>7.5</td>\n",
       "    </tr>\n",
       "    <tr>\n",
       "      <th>2</th>\n",
       "      <td>16.3 x 7.5 x 0.8 cm</td>\n",
       "      <td>16.3</td>\n",
       "      <td>7.5</td>\n",
       "      <td>0.8</td>\n",
       "    </tr>\n",
       "    <tr>\n",
       "      <th>3</th>\n",
       "      <td>16.1 x 7.6 x 0.9 cm</td>\n",
       "      <td>16.1</td>\n",
       "      <td>7.6</td>\n",
       "      <td>0.9</td>\n",
       "    </tr>\n",
       "    <tr>\n",
       "      <th>4</th>\n",
       "      <td>15.4 x 0.9 x 7.4 cm</td>\n",
       "      <td>15.4</td>\n",
       "      <td>0.9</td>\n",
       "      <td>7.4</td>\n",
       "    </tr>\n",
       "  </tbody>\n",
       "</table>\n",
       "</div>"
      ],
      "text/plain": [
       "    product_dimensions product_dimension_length product_dimension_width  \\\n",
       "0  16.5 x 7.6 x 0.7 cm                     16.5                     7.6   \n",
       "1      15 x 1 x 7.5 cm                       15                       1   \n",
       "2  16.3 x 7.5 x 0.8 cm                     16.3                     7.5   \n",
       "3  16.1 x 7.6 x 0.9 cm                     16.1                     7.6   \n",
       "4  15.4 x 0.9 x 7.4 cm                     15.4                     0.9   \n",
       "\n",
       "  product_dimension_height  \n",
       "0                      0.7  \n",
       "1                      7.5  \n",
       "2                      0.8  \n",
       "3                      0.9  \n",
       "4                      7.4  "
      ]
     },
     "execution_count": 374,
     "metadata": {},
     "output_type": "execute_result"
    }
   ],
   "source": [
    "df_product_dimension.head(5)"
   ]
  },
  {
   "cell_type": "code",
   "execution_count": 375,
   "metadata": {},
   "outputs": [
    {
     "name": "stdout",
     "output_type": "stream",
     "text": [
      "93\n"
     ]
    }
   ],
   "source": [
    "print(len(df_product_dimension))\n"
   ]
  },
  {
   "cell_type": "code",
   "execution_count": 376,
   "metadata": {},
   "outputs": [],
   "source": [
    "df_product_dimension.to_csv('../data_cleaned/df_product_dimensions.csv',index=False)"
   ]
  },
  {
   "attachments": {},
   "cell_type": "markdown",
   "metadata": {},
   "source": [
    "## 3. Dim special_features"
   ]
  },
  {
   "cell_type": "code",
   "execution_count": 377,
   "metadata": {},
   "outputs": [
    {
     "name": "stdout",
     "output_type": "stream",
     "text": [
      "Dual Bluetooth Audio, IR Blaster, X-Axis Haptic Motor, Wi-Fi 6, IP 53 Certified, 33W Fast Charger in box, 50% in 19 mins, Flagship 108MP Triple Camera Setup 8MP Ultrawide-FOV 119 degrees 5MP Super Macro Sensor Slow Motion Support - Up to 1080p@960 fps Portrait | Panaroma | Dual Mode | Vlog Mode | Clone Mode | Time Lapse | Long Exposure | Pro Mode | Night Mode | Short Video Mode | Ultra wide-angle distortion correction | Custom Watermark | Document mode | HDR | AI scene detection | Macro and Ultrawide video mode | Movie effects | Time burst | Google Lens | AI Watermark | Pro Colour, Premium glass body design with Gorilla glass 5 on front and back, Dual Stereo Speakers with Dolby Atmos support, Wired and wireless Hi-Res certified audio, triple mic setup.NavIC support\n",
      "Dual SIM\n",
      "Front Camera, Dual_Sim, Camera, Fast Charging\n",
      "Fast Charging Support, Dual SIM, Fingerprint Sensor, Smartphone\n",
      "Dual SIM, Infrared, E-mail, Accelerometer, Ambient light sensor, Gyroscope, GPS, Video Player, Music Player, Proximity sensor\n",
      "Front Camera, Camera\n",
      "Light sensor, Acceleration sensor, Other sensors, Magnetic induction, Fingerprint, Proximity Sensor, Dual SIM, GPS, G-sensor, Video Player, Music Player\n",
      "Dual SIM, GPS, Video Player, Music Player\n",
      "Dual SIM, Serial_number, GPS\n",
      "Front Camera, Camera\n"
     ]
    }
   ],
   "source": [
    "for feature in df_dataset_cleaned.special_features[0:10]:\n",
    "  print(feature)"
   ]
  },
  {
   "cell_type": "code",
   "execution_count": 378,
   "metadata": {},
   "outputs": [
    {
     "name": "stdout",
     "output_type": "stream",
     "text": [
      "Dual Bluetooth Audio, IR Blaster, X-Axis Haptic Motor, Wi-Fi 6, IP 53 Certified, 33W Fast Charger in box, 50% in 19 mins, Flagship 108MP Triple Camera Setup 8MP Ultrawide-FOV 119 degrees 5MP Super Macro Sensor Slow Motion Support - Up to 1080p@960 fps Portrait | Panaroma | Dual Mode | Vlog Mode | Clone Mode | Time Lapse | Long Exposure | Pro Mode | Night Mode | Short Video Mode | Ultra wide-angle distortion correction | Custom Watermark | Document mode | HDR | AI scene detection | Macro and Ultrawide video mode | Movie effects | Time burst | Google Lens | AI Watermark | Pro Colour, Premium glass body design with Gorilla glass 5 on front and back, Dual Stereo Speakers with Dolby Atmos support, Wired and wireless Hi-Res certified audio, triple mic setup.NavIC support\n",
      "Dual Stereo Speakers with Dolby Atmos support, Wired and wireless Hi-Res certified audio, triple mic setup. NavIC support, IR Blaster, X-Axis Haptic Motor, Wi-Fi 6, IP 53 Certified, 48MP AI Triple Camera Setup with Sony IMX 582 Primary sensor 8MP Ultrawide-FOV 119 degrees 5MP Super Macro Sensor Slow Motion Support - Up to 1080p@960 fps Portrait | Panaroma | Dual Mode | Vlog Mode | Clone Mode | Time Lapse | Long Exposure | Pro Mode | Night Mode | Short Video Mode | Ultra wide-angle distortion correction | Custom Watermark | Document mode | HDR | AI scene detection | Macro and Ultrawide video mode | Movie effects | Time burst | Google Lens | AI Watermark, 33W Fast Charger in box, 50% in 19 mins, Premium glass body design with Gorilla glass 5 on front and back\n",
      "Dual Stereo Speakers for immersive audio experience, The display is protected by Corning Gorilla Glass 3, 33W Fast Charger in box, 67% in 30 mins, 3.5mm Jack, IR Blaster, Dedicated Micro SD Slot, Z-Axis Linear Vibration Motor, 48 MP AI Quad Camera Setup 8MP Ultrawide-FOV 118 degrees 2 MP Macro Sensor 2 MP Depth Sensor Slow Motion Support - Up to 960 fps Portrait | Panaroma | Time Lapse | Pro Mode | Night Mode | Short Video Mode | Ultra wide-angle distortion correction | Custom Watermark | Document mode | HDR | AI scene detection | Video macro mode | Movie frame | Time burst | Google Lens| AI Watermark\n",
      "Dual Stereo Speakers for immersive audio experience, The display is protected by Corning Gorilla Glass 5, 64MP AI Quad Camera Setup 8MP Ultrawide-FOV 118 degrees 5MP Macro Sensor 2 MP Depth Sensor Slow Motion Support - Up to 960 fps Portrait | Panaroma | Dual Mode | Vlog Mode | Clone Mode | Time Lapse | Long Exposure | Pro Mode | Night Mode | Short Video Mode | Ultra wide-angle distortion correction | Custom Watermark | Document mode | HDR | AI scene detection | Video macro mode | Movie frame | Time burst | Google Lens| AI Watermark, 3.5mm Jack, IR Blaster, Dedicated Micro SD Slot, Z-Axis Linear Vibration Motor, IP 52 Certified, 33W Fast Charger in box, 49% in 30 mins\n",
      "Dual Stereo Speakers for immersive audio experience, The display is protected by Corning Gorilla Glass 5, 3.5mm Jack, IR Blaster, Dedicated Micro SD Slot, Z-Axis Linear Vibration Motor, IP 52 Certified, Flagship 108MP Main Camera 8MP Ultrawide-FOV 118 degrees 5MP Macro Sensor 2MP Depth Sensor Slow Motion Support - Up to 960 fps Portrait | Panaroma | Dual Mode | Vlog Mode | Clone Mode | Time Lapse | Long Exposure | Pro Mode | Night Mode | Short Video Mode | Ultra wide-angle distortion correction | Custom Watermark | Document mode | HDR | AI scene detection | Video macro mode | Movie frame | Time burst | Google Lens| AI Watermark, 33W Fast Charger in box, 49% in 30 mins\n",
      "33W Fast Charger in box, 54% in 30 mins, The display is protected by Corning Gorilla Glass 3, 64 MP AI Quad Camera Setup 8MP Ultrawide-FOV 118 degrees 2 MP Macro Sensor 2 MP Depth Sensor Slow Motion Support - Up to 960 fps Portrait | Panaroma | Time Lapse | Pro Mode | Night Mode | Short Video Mode | Ultra wide-angle distortion correction | Custom Watermark | Document mode | HDR | AI scene detection | Video macro mode | Movie frame | Time burst | Google Lens| AI Watermark, Dual Stereo Speakers for immersive audio experience. Hi-Res certified audio, 3.5mm Jack, IR Blaster, Dedicated Micro SD Slot, Z-Axis Linear Vibration Motor\n"
     ]
    }
   ],
   "source": [
    "for feature in df_dataset_cleaned.special_features.unique():\n",
    "  if('|' in feature):\n",
    "    print(feature)"
   ]
  },
  {
   "cell_type": "code",
   "execution_count": 379,
   "metadata": {},
   "outputs": [],
   "source": [
    "special_feature_unique=[]\n",
    "for list_feature in df_dataset_cleaned.special_features.apply(lambda x: x.split(\", \")):\n",
    "  for feature in list_feature:\n",
    "    if feature not in special_feature_unique:\n",
    "      special_feature_unique.append(feature)\n"
   ]
  },
  {
   "cell_type": "code",
   "execution_count": 380,
   "metadata": {},
   "outputs": [
    {
     "data": {
      "text/plain": [
       "['Dual Bluetooth Audio',\n",
       " 'IR Blaster',\n",
       " 'X-Axis Haptic Motor',\n",
       " 'Wi-Fi 6',\n",
       " 'IP 53 Certified',\n",
       " '33W Fast Charger in box',\n",
       " '50% in 19 mins',\n",
       " 'Flagship 108MP Triple Camera Setup 8MP Ultrawide-FOV 119 degrees 5MP Super Macro Sensor Slow Motion Support - Up to 1080p@960 fps Portrait | Panaroma | Dual Mode | Vlog Mode | Clone Mode | Time Lapse | Long Exposure | Pro Mode | Night Mode | Short Video Mode | Ultra wide-angle distortion correction | Custom Watermark | Document mode | HDR | AI scene detection | Macro and Ultrawide video mode | Movie effects | Time burst | Google Lens | AI Watermark | Pro Colour',\n",
       " 'Premium glass body design with Gorilla glass 5 on front and back',\n",
       " 'Dual Stereo Speakers with Dolby Atmos support']"
      ]
     },
     "execution_count": 380,
     "metadata": {},
     "output_type": "execute_result"
    }
   ],
   "source": [
    "special_feature_unique[0:10]"
   ]
  },
  {
   "cell_type": "code",
   "execution_count": 381,
   "metadata": {},
   "outputs": [],
   "source": [
    "import re\n",
    "import re\n",
    "def contains_special_characters(text):\n",
    "    pattern = r'[^\\w\\s]'\n",
    "    matches = re.findall(pattern, text)\n",
    "    return len(matches) > 0\n",
    "\n",
    "special_feature_nomaly=[]\n",
    "special_feature_anomaly=[]\n",
    "for feature in special_feature_unique:\n",
    "  if(contains_special_characters(feature)):\n",
    "    special_feature_anomaly.append(feature)\n",
    "  else:\n",
    "    special_feature_nomaly.append(feature)\n",
    "\n"
   ]
  },
  {
   "cell_type": "code",
   "execution_count": 382,
   "metadata": {},
   "outputs": [
    {
     "name": "stdout",
     "output_type": "stream",
     "text": [
      "78\n",
      "147\n"
     ]
    }
   ],
   "source": [
    "print(len(special_feature_anomaly))\n",
    "print(len(special_feature_nomaly))"
   ]
  },
  {
   "cell_type": "code",
   "execution_count": 383,
   "metadata": {},
   "outputs": [
    {
     "data": {
      "text/plain": [
       "['Dual Bluetooth Audio',\n",
       " 'IR Blaster',\n",
       " 'IP 53 Certified',\n",
       " '33W Fast Charger in box',\n",
       " 'Premium glass body design with Gorilla glass 5 on front and back',\n",
       " 'Dual Stereo Speakers with Dolby Atmos support',\n",
       " 'Dual SIM',\n",
       " 'Front Camera',\n",
       " 'Dual_Sim',\n",
       " 'Camera',\n",
       " 'Fast Charging',\n",
       " 'Fast Charging Support',\n",
       " 'Fingerprint Sensor',\n",
       " 'Smartphone',\n",
       " 'Infrared',\n",
       " 'Accelerometer',\n",
       " 'Ambient light sensor',\n",
       " 'Gyroscope',\n",
       " 'GPS',\n",
       " 'Video Player']"
      ]
     },
     "execution_count": 383,
     "metadata": {},
     "output_type": "execute_result"
    }
   ],
   "source": [
    "special_feature_nomaly[0:20]"
   ]
  },
  {
   "cell_type": "code",
   "execution_count": 384,
   "metadata": {},
   "outputs": [
    {
     "data": {
      "text/plain": [
       "['X-Axis Haptic Motor',\n",
       " 'Wi-Fi 6',\n",
       " '50% in 19 mins',\n",
       " 'Flagship 108MP Triple Camera Setup 8MP Ultrawide-FOV 119 degrees 5MP Super Macro Sensor Slow Motion Support - Up to 1080p@960 fps Portrait | Panaroma | Dual Mode | Vlog Mode | Clone Mode | Time Lapse | Long Exposure | Pro Mode | Night Mode | Short Video Mode | Ultra wide-angle distortion correction | Custom Watermark | Document mode | HDR | AI scene detection | Macro and Ultrawide video mode | Movie effects | Time burst | Google Lens | AI Watermark | Pro Colour',\n",
       " 'Wired and wireless Hi-Res certified audio',\n",
       " 'triple mic setup.NavIC support',\n",
       " 'E-mail',\n",
       " 'G-sensor',\n",
       " 'E-compass and Gyroscope sensor',\n",
       " 'Knox 3.7 with Secure Folder',\n",
       " 'Knox 3.7',\n",
       " '4500mAH lithium-ion battery (non-removable)',\n",
       " 'Main camera features: Clear',\n",
       " 'high-resolution photos',\n",
       " 'and filters.',\n",
       " 'In-display fingerprint sensor.',\n",
       " 'Front camera features - Face Unlock',\n",
       " 'Thickness: 7.9mm',\n",
       " 'slimmest OnePlus phone since the OnePlus 6T. Weight: 170g',\n",
       " 'Audio Share 2.0']"
      ]
     },
     "execution_count": 384,
     "metadata": {},
     "output_type": "execute_result"
    }
   ],
   "source": [
    "special_feature_anomaly[0:20]"
   ]
  },
  {
   "cell_type": "code",
   "execution_count": 385,
   "metadata": {},
   "outputs": [],
   "source": [
    "special_feature_anomaly_v1=[]\n",
    "raw=0\n",
    "for list_feature in special_feature_anomaly:\n",
    "  for feature_raw in list_feature.split(\" | \"):\n",
    "    if(\";\" in feature_raw):\n",
    "      #print(feature)\n",
    "      #print(\"raw\",feature_raw)\n",
    "      for  feature_raw_v1 in feature_raw.split(\";\"):\n",
    "          for  feature_raw_v2 in feature_raw_v1.split(\";\"):\n",
    "              for  feature_raw_v3 in feature_raw_v2.split(\" - \"):\n",
    "                if len(feature_raw_v3)>0: \n",
    "                  #print('check',feature_raw_v3)\n",
    "                  special_feature_nomaly.append(feature_raw_v3)\n",
    "                  \n",
    "          \n",
    "    else:\n",
    "      #special_feature_nomaly.append(feature_raw)\n",
    "      for  feature_raw_v1 in feature_raw.split(\" - \"):\n",
    "        if len(feature_raw_v1)>0: \n",
    "          #print('check',feature_raw_v1)\n",
    "          special_feature_nomaly.append(feature_raw_v1)\n",
    "      "
   ]
  },
  {
   "cell_type": "code",
   "execution_count": 386,
   "metadata": {},
   "outputs": [
    {
     "data": {
      "text/plain": [
       "['Hearing Aid Compatibility: M3/T3 HAC Rating',\n",
       " \"Google's Devices Meet the Hearing Aid Compatibility (HAC) Requirements Set by the FCC\",\n",
       " 'Built-in Google Assistant',\n",
       " '64-bit Octa-core Processo',\n",
       " 'Camera: Front Camera & Rear Camera',\n",
       " 'perfect camera & an in-built safety app',\n",
       " '256',\n",
       " 'Dual SIM',\n",
       " 'GPS',\n",
       " 'Music Player',\n",
       " 'Video Player',\n",
       " 'In-display Fingerprint sensor',\n",
       " 'Accelerometer',\n",
       " 'Electronic Compass',\n",
       " 'Gyroscope',\n",
       " 'Ambient Light sensor',\n",
       " 'Proximity sensor',\n",
       " 'sensor Core',\n",
       " 'Flicker-detect sensor']"
      ]
     },
     "execution_count": 386,
     "metadata": {},
     "output_type": "execute_result"
    }
   ],
   "source": [
    "special_feature_nomaly[-20:-1]"
   ]
  },
  {
   "cell_type": "code",
   "execution_count": 387,
   "metadata": {},
   "outputs": [
    {
     "data": {
      "text/plain": [
       "366"
      ]
     },
     "execution_count": 387,
     "metadata": {},
     "output_type": "execute_result"
    }
   ],
   "source": [
    "len(special_feature_nomaly)"
   ]
  },
  {
   "cell_type": "code",
   "execution_count": 388,
   "metadata": {},
   "outputs": [],
   "source": [
    "count=0;\n",
    "special_feature_nomaly_unique=[]\n",
    "for feature in special_feature_nomaly:\n",
    "  if feature not in special_feature_nomaly_unique:\n",
    "    special_feature_nomaly_unique.append(feature)"
   ]
  },
  {
   "cell_type": "code",
   "execution_count": 389,
   "metadata": {},
   "outputs": [
    {
     "data": {
      "text/plain": [
       "249"
      ]
     },
     "execution_count": 389,
     "metadata": {},
     "output_type": "execute_result"
    }
   ],
   "source": [
    "len(special_feature_nomaly_unique)\n"
   ]
  },
  {
   "cell_type": "code",
   "execution_count": 390,
   "metadata": {},
   "outputs": [],
   "source": [
    "import uuid\n",
    "\n",
    "list_uuid=[]\n",
    "for i in range(0,len(special_feature_nomaly_unique)):\n",
    "  #print(i)\n",
    "  list_uuid.append(uuid.uuid1())"
   ]
  },
  {
   "cell_type": "code",
   "execution_count": 391,
   "metadata": {},
   "outputs": [
    {
     "name": "stdout",
     "output_type": "stream",
     "text": [
      "[UUID('b431d451-2341-11ee-a94f-3c9c0f728f90'), UUID('b431d452-2341-11ee-b640-3c9c0f728f90'), UUID('b431d453-2341-11ee-8d29-3c9c0f728f90'), UUID('b431d454-2341-11ee-a868-3c9c0f728f90'), UUID('b431d455-2341-11ee-a590-3c9c0f728f90'), UUID('b431d456-2341-11ee-adee-3c9c0f728f90'), UUID('b431d457-2341-11ee-ba57-3c9c0f728f90'), UUID('b431d458-2341-11ee-a5b2-3c9c0f728f90'), UUID('b431d459-2341-11ee-9253-3c9c0f728f90'), UUID('b431d45a-2341-11ee-94ea-3c9c0f728f90'), UUID('b431d45b-2341-11ee-90ee-3c9c0f728f90'), UUID('b431d45c-2341-11ee-8f22-3c9c0f728f90'), UUID('b431d45d-2341-11ee-a94b-3c9c0f728f90'), UUID('b431d45e-2341-11ee-a743-3c9c0f728f90'), UUID('b431d45f-2341-11ee-adc3-3c9c0f728f90'), UUID('b431d460-2341-11ee-afa3-3c9c0f728f90'), UUID('b431d461-2341-11ee-8b45-3c9c0f728f90'), UUID('b431d462-2341-11ee-8eb1-3c9c0f728f90'), UUID('b431d463-2341-11ee-ab28-3c9c0f728f90'), UUID('b431d464-2341-11ee-8925-3c9c0f728f90'), UUID('b431d465-2341-11ee-aa8a-3c9c0f728f90'), UUID('b431d466-2341-11ee-8b66-3c9c0f728f90'), UUID('b431d467-2341-11ee-92e7-3c9c0f728f90'), UUID('b431d468-2341-11ee-a18c-3c9c0f728f90'), UUID('b431d469-2341-11ee-b9a1-3c9c0f728f90'), UUID('b431d46a-2341-11ee-8b76-3c9c0f728f90'), UUID('b431d46b-2341-11ee-bd95-3c9c0f728f90'), UUID('b431d46c-2341-11ee-9dc1-3c9c0f728f90'), UUID('b431d46d-2341-11ee-932b-3c9c0f728f90'), UUID('b431d46e-2341-11ee-aa77-3c9c0f728f90'), UUID('b431d46f-2341-11ee-8842-3c9c0f728f90'), UUID('b431d470-2341-11ee-955e-3c9c0f728f90'), UUID('b431d471-2341-11ee-87d1-3c9c0f728f90'), UUID('b431d472-2341-11ee-913a-3c9c0f728f90'), UUID('b431d473-2341-11ee-b8f9-3c9c0f728f90'), UUID('b431d474-2341-11ee-90ec-3c9c0f728f90'), UUID('b431d475-2341-11ee-9699-3c9c0f728f90'), UUID('b431d476-2341-11ee-bdfe-3c9c0f728f90'), UUID('b431d477-2341-11ee-8406-3c9c0f728f90'), UUID('b431d478-2341-11ee-a218-3c9c0f728f90'), UUID('b431d479-2341-11ee-bc77-3c9c0f728f90'), UUID('b431d47a-2341-11ee-b57c-3c9c0f728f90'), UUID('b431d47b-2341-11ee-97a6-3c9c0f728f90'), UUID('b431d47c-2341-11ee-a326-3c9c0f728f90'), UUID('b431d47d-2341-11ee-8268-3c9c0f728f90'), UUID('b431d47e-2341-11ee-8e76-3c9c0f728f90'), UUID('b431d47f-2341-11ee-aad8-3c9c0f728f90'), UUID('b431d480-2341-11ee-afd9-3c9c0f728f90'), UUID('b431d481-2341-11ee-a218-3c9c0f728f90'), UUID('b431d482-2341-11ee-9f3f-3c9c0f728f90'), UUID('b431d483-2341-11ee-889b-3c9c0f728f90'), UUID('b431d484-2341-11ee-8b24-3c9c0f728f90'), UUID('b431d485-2341-11ee-822a-3c9c0f728f90'), UUID('b431d486-2341-11ee-a505-3c9c0f728f90'), UUID('b431d487-2341-11ee-8721-3c9c0f728f90'), UUID('b431d488-2341-11ee-b987-3c9c0f728f90'), UUID('b431d489-2341-11ee-9396-3c9c0f728f90'), UUID('b431d48a-2341-11ee-8abd-3c9c0f728f90'), UUID('b431d48b-2341-11ee-b4a5-3c9c0f728f90'), UUID('b431d48c-2341-11ee-97a4-3c9c0f728f90'), UUID('b431d48d-2341-11ee-bd3a-3c9c0f728f90'), UUID('b431d48e-2341-11ee-941b-3c9c0f728f90'), UUID('b431d48f-2341-11ee-8bd2-3c9c0f728f90'), UUID('b431d490-2341-11ee-ae02-3c9c0f728f90'), UUID('b431d491-2341-11ee-9a83-3c9c0f728f90'), UUID('b431d492-2341-11ee-994d-3c9c0f728f90'), UUID('b431d493-2341-11ee-9da3-3c9c0f728f90'), UUID('b431d494-2341-11ee-9181-3c9c0f728f90'), UUID('b431d495-2341-11ee-ba24-3c9c0f728f90'), UUID('b431d496-2341-11ee-929a-3c9c0f728f90'), UUID('b431d497-2341-11ee-993d-3c9c0f728f90'), UUID('b431d498-2341-11ee-9f4c-3c9c0f728f90'), UUID('b431d499-2341-11ee-9938-3c9c0f728f90'), UUID('b431d49a-2341-11ee-a0cb-3c9c0f728f90'), UUID('b431d49b-2341-11ee-af44-3c9c0f728f90'), UUID('b431d49c-2341-11ee-aa91-3c9c0f728f90'), UUID('b431d49d-2341-11ee-9a93-3c9c0f728f90'), UUID('b431d49e-2341-11ee-8dca-3c9c0f728f90'), UUID('b431d49f-2341-11ee-956f-3c9c0f728f90'), UUID('b431d4a0-2341-11ee-a877-3c9c0f728f90'), UUID('b431d4a1-2341-11ee-9148-3c9c0f728f90'), UUID('b431d4a2-2341-11ee-b05e-3c9c0f728f90'), UUID('b431d4a3-2341-11ee-91c7-3c9c0f728f90'), UUID('b431d4a4-2341-11ee-aab0-3c9c0f728f90'), UUID('b431d4a5-2341-11ee-8ab3-3c9c0f728f90'), UUID('b431d4a6-2341-11ee-8aa1-3c9c0f728f90'), UUID('b431d4a7-2341-11ee-b481-3c9c0f728f90'), UUID('b431d4a8-2341-11ee-b011-3c9c0f728f90'), UUID('b431d4a9-2341-11ee-9063-3c9c0f728f90'), UUID('b431d4aa-2341-11ee-a8ed-3c9c0f728f90'), UUID('b431d4ab-2341-11ee-a785-3c9c0f728f90'), UUID('b431d4ac-2341-11ee-9ff9-3c9c0f728f90'), UUID('b431d4ad-2341-11ee-bf59-3c9c0f728f90'), UUID('b431d4ae-2341-11ee-bd25-3c9c0f728f90'), UUID('b431d4af-2341-11ee-9bac-3c9c0f728f90'), UUID('b431d4b0-2341-11ee-8619-3c9c0f728f90'), UUID('b431d4b1-2341-11ee-8cc8-3c9c0f728f90'), UUID('b431d4b2-2341-11ee-8c3a-3c9c0f728f90'), UUID('b431d4b3-2341-11ee-9437-3c9c0f728f90'), UUID('b431d4b4-2341-11ee-b6de-3c9c0f728f90'), UUID('b431d4b5-2341-11ee-90c0-3c9c0f728f90'), UUID('b431d4b6-2341-11ee-968c-3c9c0f728f90'), UUID('b431d4b7-2341-11ee-8864-3c9c0f728f90'), UUID('b431d4b8-2341-11ee-9437-3c9c0f728f90'), UUID('b431d4b9-2341-11ee-bb63-3c9c0f728f90'), UUID('b431d4ba-2341-11ee-9536-3c9c0f728f90'), UUID('b431d4bb-2341-11ee-8015-3c9c0f728f90'), UUID('b431d4bc-2341-11ee-b1fa-3c9c0f728f90'), UUID('b431d4bd-2341-11ee-b0e4-3c9c0f728f90'), UUID('b431d4be-2341-11ee-9924-3c9c0f728f90'), UUID('b431d4bf-2341-11ee-9996-3c9c0f728f90'), UUID('b431d4c0-2341-11ee-9481-3c9c0f728f90'), UUID('b431d4c1-2341-11ee-8e2c-3c9c0f728f90'), UUID('b431d4c2-2341-11ee-a221-3c9c0f728f90'), UUID('b431d4c3-2341-11ee-8edf-3c9c0f728f90'), UUID('b431d4c4-2341-11ee-bca3-3c9c0f728f90'), UUID('b431d4c5-2341-11ee-b0ec-3c9c0f728f90'), UUID('b431d4c6-2341-11ee-9988-3c9c0f728f90'), UUID('b431d4c7-2341-11ee-9572-3c9c0f728f90'), UUID('b431d4c8-2341-11ee-a77d-3c9c0f728f90'), UUID('b431d4c9-2341-11ee-8cea-3c9c0f728f90'), UUID('b431d4ca-2341-11ee-80e6-3c9c0f728f90'), UUID('b431d4cb-2341-11ee-8b67-3c9c0f728f90'), UUID('b431d4cc-2341-11ee-a851-3c9c0f728f90'), UUID('b431d4cd-2341-11ee-9ff5-3c9c0f728f90'), UUID('b431d4ce-2341-11ee-8b1c-3c9c0f728f90'), UUID('b431d4cf-2341-11ee-a71b-3c9c0f728f90'), UUID('b431d4d0-2341-11ee-aa1d-3c9c0f728f90'), UUID('b431d4d1-2341-11ee-b34f-3c9c0f728f90'), UUID('b431d4d2-2341-11ee-a36b-3c9c0f728f90'), UUID('b431d4d3-2341-11ee-8c99-3c9c0f728f90'), UUID('b431d4d4-2341-11ee-a95c-3c9c0f728f90'), UUID('b431d4d5-2341-11ee-bd72-3c9c0f728f90'), UUID('b431d4d6-2341-11ee-a409-3c9c0f728f90'), UUID('b431d4d7-2341-11ee-9690-3c9c0f728f90'), UUID('b431d4d8-2341-11ee-a82b-3c9c0f728f90'), UUID('b431d4d9-2341-11ee-a4d8-3c9c0f728f90'), UUID('b431d4da-2341-11ee-867c-3c9c0f728f90'), UUID('b431d4db-2341-11ee-a6fe-3c9c0f728f90'), UUID('b431d4dc-2341-11ee-bf1c-3c9c0f728f90'), UUID('b431d4dd-2341-11ee-9404-3c9c0f728f90'), UUID('b431d4de-2341-11ee-957f-3c9c0f728f90'), UUID('b431d4df-2341-11ee-b50c-3c9c0f728f90'), UUID('b431d4e0-2341-11ee-b871-3c9c0f728f90'), UUID('b431d4e1-2341-11ee-b7f7-3c9c0f728f90'), UUID('b431d4e2-2341-11ee-b36d-3c9c0f728f90'), UUID('b431d4e3-2341-11ee-99f2-3c9c0f728f90'), UUID('b431d4e4-2341-11ee-a520-3c9c0f728f90'), UUID('b431d4e5-2341-11ee-ab52-3c9c0f728f90'), UUID('b431d4e6-2341-11ee-9d89-3c9c0f728f90'), UUID('b431d4e7-2341-11ee-b95b-3c9c0f728f90'), UUID('b431d4e8-2341-11ee-a1de-3c9c0f728f90'), UUID('b431d4e9-2341-11ee-8f98-3c9c0f728f90'), UUID('b431d4ea-2341-11ee-a600-3c9c0f728f90'), UUID('b431d4eb-2341-11ee-bd3d-3c9c0f728f90'), UUID('b431d4ec-2341-11ee-a710-3c9c0f728f90'), UUID('b431d4ed-2341-11ee-9d72-3c9c0f728f90'), UUID('b431d4ee-2341-11ee-86d5-3c9c0f728f90'), UUID('b431d4ef-2341-11ee-98a4-3c9c0f728f90'), UUID('b431d4f0-2341-11ee-ab64-3c9c0f728f90'), UUID('b431d4f1-2341-11ee-9e1f-3c9c0f728f90'), UUID('b431d4f2-2341-11ee-bcbc-3c9c0f728f90'), UUID('b431d4f3-2341-11ee-944e-3c9c0f728f90'), UUID('b431d4f4-2341-11ee-bf76-3c9c0f728f90'), UUID('b431d4f5-2341-11ee-bc7d-3c9c0f728f90'), UUID('b431d4f6-2341-11ee-9f21-3c9c0f728f90'), UUID('b431d4f7-2341-11ee-9b94-3c9c0f728f90'), UUID('b431d4f8-2341-11ee-87a5-3c9c0f728f90'), UUID('b431d4f9-2341-11ee-bce1-3c9c0f728f90'), UUID('b431d4fa-2341-11ee-9915-3c9c0f728f90'), UUID('b431d4fb-2341-11ee-85e6-3c9c0f728f90'), UUID('b431d4fc-2341-11ee-aba8-3c9c0f728f90'), UUID('b431d4fd-2341-11ee-9f1a-3c9c0f728f90'), UUID('b431d4fe-2341-11ee-8bea-3c9c0f728f90'), UUID('b431d4ff-2341-11ee-99d1-3c9c0f728f90'), UUID('b431d500-2341-11ee-afd6-3c9c0f728f90'), UUID('b431d501-2341-11ee-85f2-3c9c0f728f90'), UUID('b431d502-2341-11ee-a2a6-3c9c0f728f90'), UUID('b431d503-2341-11ee-9807-3c9c0f728f90'), UUID('b431d504-2341-11ee-80f2-3c9c0f728f90'), UUID('b431d505-2341-11ee-b627-3c9c0f728f90'), UUID('b431d506-2341-11ee-a077-3c9c0f728f90'), UUID('b431d507-2341-11ee-a4b9-3c9c0f728f90'), UUID('b431d508-2341-11ee-a097-3c9c0f728f90'), UUID('b431d509-2341-11ee-9f65-3c9c0f728f90'), UUID('b431d50a-2341-11ee-92bb-3c9c0f728f90'), UUID('b431d50b-2341-11ee-b694-3c9c0f728f90'), UUID('b431d50c-2341-11ee-abab-3c9c0f728f90'), UUID('b431d50d-2341-11ee-918b-3c9c0f728f90'), UUID('b431d50e-2341-11ee-bc3f-3c9c0f728f90'), UUID('b431d50f-2341-11ee-9423-3c9c0f728f90'), UUID('b431d510-2341-11ee-aa92-3c9c0f728f90'), UUID('b431d511-2341-11ee-b46e-3c9c0f728f90'), UUID('b431d512-2341-11ee-bb00-3c9c0f728f90'), UUID('b431d513-2341-11ee-b450-3c9c0f728f90'), UUID('b431d514-2341-11ee-bf83-3c9c0f728f90'), UUID('b431d515-2341-11ee-b517-3c9c0f728f90'), UUID('b431d516-2341-11ee-82da-3c9c0f728f90'), UUID('b431d517-2341-11ee-883c-3c9c0f728f90'), UUID('b431d518-2341-11ee-b38c-3c9c0f728f90'), UUID('b431d519-2341-11ee-a3f8-3c9c0f728f90'), UUID('b431d51a-2341-11ee-a056-3c9c0f728f90'), UUID('b431d51b-2341-11ee-9026-3c9c0f728f90'), UUID('b431d51c-2341-11ee-9f5c-3c9c0f728f90'), UUID('b431d51d-2341-11ee-937c-3c9c0f728f90'), UUID('b431d51e-2341-11ee-a7ab-3c9c0f728f90'), UUID('b431d51f-2341-11ee-a131-3c9c0f728f90'), UUID('b431d520-2341-11ee-bf60-3c9c0f728f90'), UUID('b431d521-2341-11ee-9206-3c9c0f728f90'), UUID('b431d522-2341-11ee-83ef-3c9c0f728f90'), UUID('b431d523-2341-11ee-83ae-3c9c0f728f90'), UUID('b431d524-2341-11ee-a58b-3c9c0f728f90'), UUID('b431d525-2341-11ee-8bcd-3c9c0f728f90'), UUID('b431d526-2341-11ee-a60a-3c9c0f728f90'), UUID('b431d527-2341-11ee-8bcb-3c9c0f728f90'), UUID('b431d528-2341-11ee-be76-3c9c0f728f90'), UUID('b431d529-2341-11ee-92bf-3c9c0f728f90'), UUID('b431d52a-2341-11ee-b3ed-3c9c0f728f90'), UUID('b431d52b-2341-11ee-aed0-3c9c0f728f90'), UUID('b431d52c-2341-11ee-9073-3c9c0f728f90'), UUID('b431d52d-2341-11ee-b914-3c9c0f728f90'), UUID('b431fb71-2341-11ee-8452-3c9c0f728f90'), UUID('b431fb72-2341-11ee-bdfd-3c9c0f728f90'), UUID('b431fb73-2341-11ee-bbfd-3c9c0f728f90'), UUID('b431fb74-2341-11ee-a3da-3c9c0f728f90'), UUID('b431fb75-2341-11ee-a9f5-3c9c0f728f90'), UUID('b431fb76-2341-11ee-8050-3c9c0f728f90'), UUID('b431fb77-2341-11ee-99b4-3c9c0f728f90'), UUID('b431fb78-2341-11ee-aed6-3c9c0f728f90'), UUID('b431fb79-2341-11ee-a609-3c9c0f728f90'), UUID('b431fb7a-2341-11ee-92fb-3c9c0f728f90'), UUID('b431fb7b-2341-11ee-bc86-3c9c0f728f90'), UUID('b431fb7c-2341-11ee-9352-3c9c0f728f90'), UUID('b431fb7d-2341-11ee-928d-3c9c0f728f90'), UUID('b431fb7e-2341-11ee-bfa8-3c9c0f728f90'), UUID('b431fb7f-2341-11ee-9a48-3c9c0f728f90'), UUID('b431fb80-2341-11ee-afde-3c9c0f728f90'), UUID('b431fb81-2341-11ee-8657-3c9c0f728f90'), UUID('b431fb82-2341-11ee-9cff-3c9c0f728f90'), UUID('b431fb83-2341-11ee-81bc-3c9c0f728f90'), UUID('b431fb84-2341-11ee-9ad5-3c9c0f728f90'), UUID('b431fb85-2341-11ee-bbd5-3c9c0f728f90'), UUID('b431fb86-2341-11ee-b696-3c9c0f728f90'), UUID('b431fb87-2341-11ee-aa7f-3c9c0f728f90'), UUID('b431fb88-2341-11ee-b756-3c9c0f728f90'), UUID('b431fb89-2341-11ee-9ae2-3c9c0f728f90'), UUID('b431fb8a-2341-11ee-ad0d-3c9c0f728f90'), UUID('b431fb8b-2341-11ee-a8e1-3c9c0f728f90'), UUID('b431fb8c-2341-11ee-94bd-3c9c0f728f90')]\n"
     ]
    }
   ],
   "source": [
    "print(list_uuid)"
   ]
  },
  {
   "cell_type": "code",
   "execution_count": 392,
   "metadata": {},
   "outputs": [],
   "source": [
    "df_special_feature_nomaly=pd.DataFrame()"
   ]
  },
  {
   "cell_type": "code",
   "execution_count": 393,
   "metadata": {},
   "outputs": [],
   "source": [
    "df_special_feature_nomaly[\"id\"]=list_uuid\n",
    "df_special_feature_nomaly[\"special_feature\"]=special_feature_nomaly_unique"
   ]
  },
  {
   "cell_type": "code",
   "execution_count": 394,
   "metadata": {},
   "outputs": [],
   "source": [
    "df_special_feature_nomaly.to_csv('../data_cleaned/df_special_feature_nomaly.csv',index=False)"
   ]
  },
  {
   "attachments": {},
   "cell_type": "markdown",
   "metadata": {},
   "source": [
    "## 4. Dim company "
   ]
  },
  {
   "cell_type": "code",
   "execution_count": 395,
   "metadata": {},
   "outputs": [],
   "source": [
    "df_company=pd.DataFrame()\n",
    "df_company['manufacturer']=df_dataset_cleaned['manufacturer']\n",
    "df_company['country_of_origin']=df_dataset_cleaned['country_of_origin']"
   ]
  },
  {
   "cell_type": "code",
   "execution_count": 396,
   "metadata": {},
   "outputs": [
    {
     "data": {
      "text/plain": [
       "264"
      ]
     },
     "execution_count": 396,
     "metadata": {},
     "output_type": "execute_result"
    }
   ],
   "source": [
    "len(df_company)"
   ]
  },
  {
   "cell_type": "code",
   "execution_count": 397,
   "metadata": {},
   "outputs": [
    {
     "data": {
      "text/plain": [
       "32"
      ]
     },
     "execution_count": 397,
     "metadata": {},
     "output_type": "execute_result"
    }
   ],
   "source": [
    "len(df_company.drop_duplicates())\n"
   ]
  },
  {
   "cell_type": "code",
   "execution_count": 398,
   "metadata": {},
   "outputs": [
    {
     "data": {
      "text/plain": [
       "32"
      ]
     },
     "execution_count": 398,
     "metadata": {},
     "output_type": "execute_result"
    }
   ],
   "source": [
    "df_company= df_company.drop_duplicates()\n",
    "len(df_company)"
   ]
  },
  {
   "cell_type": "code",
   "execution_count": 399,
   "metadata": {},
   "outputs": [],
   "source": [
    "import uuid\n",
    "\n",
    "list_uuid=[]\n",
    "for i in range(0,len(df_company)):\n",
    "  #print(i)\n",
    "  list_uuid.append(uuid.uuid1())"
   ]
  },
  {
   "cell_type": "code",
   "execution_count": 400,
   "metadata": {},
   "outputs": [],
   "source": [
    "df_company[\"id\"]=list_uuid"
   ]
  },
  {
   "cell_type": "code",
   "execution_count": 401,
   "metadata": {},
   "outputs": [
    {
     "data": {
      "text/html": [
       "<div>\n",
       "<style scoped>\n",
       "    .dataframe tbody tr th:only-of-type {\n",
       "        vertical-align: middle;\n",
       "    }\n",
       "\n",
       "    .dataframe tbody tr th {\n",
       "        vertical-align: top;\n",
       "    }\n",
       "\n",
       "    .dataframe thead th {\n",
       "        text-align: right;\n",
       "    }\n",
       "</style>\n",
       "<table border=\"1\" class=\"dataframe\">\n",
       "  <thead>\n",
       "    <tr style=\"text-align: right;\">\n",
       "      <th></th>\n",
       "      <th>manufacturer</th>\n",
       "      <th>country_of_origin</th>\n",
       "      <th>id</th>\n",
       "    </tr>\n",
       "  </thead>\n",
       "  <tbody>\n",
       "    <tr>\n",
       "      <th>0</th>\n",
       "      <td>samsung</td>\n",
       "      <td>India</td>\n",
       "      <td>b43dfc9f-2341-11ee-bbca-3c9c0f728f90</td>\n",
       "    </tr>\n",
       "    <tr>\n",
       "      <th>1</th>\n",
       "      <td>oneplus</td>\n",
       "      <td>India</td>\n",
       "      <td>b43dfca0-2341-11ee-98c7-3c9c0f728f90</td>\n",
       "    </tr>\n",
       "    <tr>\n",
       "      <th>2</th>\n",
       "      <td>oppo</td>\n",
       "      <td>India</td>\n",
       "      <td>b43dfca1-2341-11ee-8e8b-3c9c0f728f90</td>\n",
       "    </tr>\n",
       "    <tr>\n",
       "      <th>4</th>\n",
       "      <td>bhagwati products ltd. sp1-1 industrial area k...</td>\n",
       "      <td>India</td>\n",
       "      <td>b43dfca2-2341-11ee-b32c-3c9c0f728f90</td>\n",
       "    </tr>\n",
       "    <tr>\n",
       "      <th>5</th>\n",
       "      <td>sky cable</td>\n",
       "      <td>India</td>\n",
       "      <td>b43dfca3-2341-11ee-9fdf-3c9c0f728f90</td>\n",
       "    </tr>\n",
       "  </tbody>\n",
       "</table>\n",
       "</div>"
      ],
      "text/plain": [
       "                                        manufacturer country_of_origin  \\\n",
       "0                                            samsung             India   \n",
       "1                                            oneplus             India   \n",
       "2                                               oppo             India   \n",
       "4  bhagwati products ltd. sp1-1 industrial area k...             India   \n",
       "5                                          sky cable             India   \n",
       "\n",
       "                                     id  \n",
       "0  b43dfc9f-2341-11ee-bbca-3c9c0f728f90  \n",
       "1  b43dfca0-2341-11ee-98c7-3c9c0f728f90  \n",
       "2  b43dfca1-2341-11ee-8e8b-3c9c0f728f90  \n",
       "4  b43dfca2-2341-11ee-b32c-3c9c0f728f90  \n",
       "5  b43dfca3-2341-11ee-9fdf-3c9c0f728f90  "
      ]
     },
     "execution_count": 401,
     "metadata": {},
     "output_type": "execute_result"
    }
   ],
   "source": [
    "df_company.head(5)"
   ]
  },
  {
   "cell_type": "code",
   "execution_count": 402,
   "metadata": {},
   "outputs": [],
   "source": [
    "df_company.to_csv('../data_cleaned/df_company.csv',index=False)"
   ]
  },
  {
   "cell_type": "code",
   "execution_count": 403,
   "metadata": {},
   "outputs": [
    {
     "data": {
      "text/plain": [
       "Index(['title', 'price', 'rating', 'total_reviews', 'availability_status',\n",
       "       'manufacturer', 'country_of_origin', 'os', 'ram', 'product_dimensions',\n",
       "       'weight', 'batteries', 'special_features', 'form_factor', 'colour',\n",
       "       'battery_power_rating', 'product_description'],\n",
       "      dtype='object')"
      ]
     },
     "execution_count": 403,
     "metadata": {},
     "output_type": "execute_result"
    }
   ],
   "source": [
    "df_dataset_cleaned.columns"
   ]
  },
  {
   "attachments": {},
   "cell_type": "markdown",
   "metadata": {},
   "source": [
    "## 5 Dim battery power rating"
   ]
  },
  {
   "cell_type": "code",
   "execution_count": 404,
   "metadata": {},
   "outputs": [
    {
     "data": {
      "text/html": [
       "<div>\n",
       "<style scoped>\n",
       "    .dataframe tbody tr th:only-of-type {\n",
       "        vertical-align: middle;\n",
       "    }\n",
       "\n",
       "    .dataframe tbody tr th {\n",
       "        vertical-align: top;\n",
       "    }\n",
       "\n",
       "    .dataframe thead th {\n",
       "        text-align: right;\n",
       "    }\n",
       "</style>\n",
       "<table border=\"1\" class=\"dataframe\">\n",
       "  <thead>\n",
       "    <tr style=\"text-align: right;\">\n",
       "      <th></th>\n",
       "      <th>title</th>\n",
       "      <th>price</th>\n",
       "      <th>rating</th>\n",
       "      <th>total_reviews</th>\n",
       "      <th>availability_status</th>\n",
       "      <th>manufacturer</th>\n",
       "      <th>country_of_origin</th>\n",
       "      <th>os</th>\n",
       "      <th>ram</th>\n",
       "      <th>product_dimensions</th>\n",
       "      <th>weight</th>\n",
       "      <th>batteries</th>\n",
       "      <th>special_features</th>\n",
       "      <th>form_factor</th>\n",
       "      <th>colour</th>\n",
       "      <th>battery_power_rating</th>\n",
       "      <th>product_description</th>\n",
       "    </tr>\n",
       "  </thead>\n",
       "  <tbody>\n",
       "    <tr>\n",
       "      <th>0</th>\n",
       "      <td>OnePlus Nord CE 5G (Blue Void 8GB RAM 128GB St...</td>\n",
       "      <td>45900.0</td>\n",
       "      <td>4.2</td>\n",
       "      <td>4</td>\n",
       "      <td>Only 1 left in stock.</td>\n",
       "      <td>samsung</td>\n",
       "      <td>India</td>\n",
       "      <td>Android</td>\n",
       "      <td>6.0</td>\n",
       "      <td>16.5 x 7.6 x 0.7 cm</td>\n",
       "      <td>167.0</td>\n",
       "      <td>1 Lithium Polymer</td>\n",
       "      <td>Dual Bluetooth Audio, IR Blaster, X-Axis Hapti...</td>\n",
       "      <td>Touchscreen Phone</td>\n",
       "      <td>Midnight Black</td>\n",
       "      <td>6000.0</td>\n",
       "      <td>Redmi 9A comes with Octa-core Helio G25 proces...</td>\n",
       "    </tr>\n",
       "  </tbody>\n",
       "</table>\n",
       "</div>"
      ],
      "text/plain": [
       "                                               title    price  rating  \\\n",
       "0  OnePlus Nord CE 5G (Blue Void 8GB RAM 128GB St...  45900.0     4.2   \n",
       "\n",
       "   total_reviews    availability_status manufacturer country_of_origin  \\\n",
       "0              4  Only 1 left in stock.      samsung             India   \n",
       "\n",
       "        os  ram   product_dimensions  weight          batteries  \\\n",
       "0  Android  6.0  16.5 x 7.6 x 0.7 cm   167.0  1 Lithium Polymer   \n",
       "\n",
       "                                    special_features        form_factor  \\\n",
       "0  Dual Bluetooth Audio, IR Blaster, X-Axis Hapti...  Touchscreen Phone   \n",
       "\n",
       "           colour  battery_power_rating  \\\n",
       "0  Midnight Black                6000.0   \n",
       "\n",
       "                                 product_description  \n",
       "0  Redmi 9A comes with Octa-core Helio G25 proces...  "
      ]
     },
     "execution_count": 404,
     "metadata": {},
     "output_type": "execute_result"
    }
   ],
   "source": [
    "df_dataset_cleaned.head(1)"
   ]
  },
  {
   "cell_type": "code",
   "execution_count": 405,
   "metadata": {},
   "outputs": [
    {
     "data": {
      "text/html": [
       "<div>\n",
       "<style scoped>\n",
       "    .dataframe tbody tr th:only-of-type {\n",
       "        vertical-align: middle;\n",
       "    }\n",
       "\n",
       "    .dataframe tbody tr th {\n",
       "        vertical-align: top;\n",
       "    }\n",
       "\n",
       "    .dataframe thead th {\n",
       "        text-align: right;\n",
       "    }\n",
       "</style>\n",
       "<table border=\"1\" class=\"dataframe\">\n",
       "  <thead>\n",
       "    <tr style=\"text-align: right;\">\n",
       "      <th></th>\n",
       "      <th>batteries</th>\n",
       "      <th>battery_power_rating</th>\n",
       "    </tr>\n",
       "  </thead>\n",
       "  <tbody>\n",
       "    <tr>\n",
       "      <th>0</th>\n",
       "      <td>1 Lithium Polymer</td>\n",
       "      <td>6000.0</td>\n",
       "    </tr>\n",
       "    <tr>\n",
       "      <th>1</th>\n",
       "      <td>1 Lithium Polymer</td>\n",
       "      <td>4400.0</td>\n",
       "    </tr>\n",
       "    <tr>\n",
       "      <th>2</th>\n",
       "      <td>1 Lithium Polymer</td>\n",
       "      <td>4500.0</td>\n",
       "    </tr>\n",
       "    <tr>\n",
       "      <th>3</th>\n",
       "      <td>1 Lithium ion</td>\n",
       "      <td>4000.0</td>\n",
       "    </tr>\n",
       "    <tr>\n",
       "      <th>4</th>\n",
       "      <td>1 A</td>\n",
       "      <td>6000.0</td>\n",
       "    </tr>\n",
       "    <tr>\n",
       "      <th>...</th>\n",
       "      <td>...</td>\n",
       "      <td>...</td>\n",
       "    </tr>\n",
       "    <tr>\n",
       "      <th>211</th>\n",
       "      <td>1 A</td>\n",
       "      <td>4520.0</td>\n",
       "    </tr>\n",
       "    <tr>\n",
       "      <th>215</th>\n",
       "      <td>1 A</td>\n",
       "      <td>22.0</td>\n",
       "    </tr>\n",
       "    <tr>\n",
       "      <th>234</th>\n",
       "      <td>1 A</td>\n",
       "      <td>4250.0</td>\n",
       "    </tr>\n",
       "    <tr>\n",
       "      <th>257</th>\n",
       "      <td>1 Lithium ion</td>\n",
       "      <td>3040.0</td>\n",
       "    </tr>\n",
       "    <tr>\n",
       "      <th>258</th>\n",
       "      <td>1 Lithium Polymer</td>\n",
       "      <td>4350.0</td>\n",
       "    </tr>\n",
       "  </tbody>\n",
       "</table>\n",
       "<p>72 rows × 2 columns</p>\n",
       "</div>"
      ],
      "text/plain": [
       "             batteries  battery_power_rating\n",
       "0    1 Lithium Polymer                6000.0\n",
       "1    1 Lithium Polymer                4400.0\n",
       "2    1 Lithium Polymer                4500.0\n",
       "3        1 Lithium ion                4000.0\n",
       "4                  1 A                6000.0\n",
       "..                 ...                   ...\n",
       "211                1 A                4520.0\n",
       "215                1 A                  22.0\n",
       "234                1 A                4250.0\n",
       "257      1 Lithium ion                3040.0\n",
       "258  1 Lithium Polymer                4350.0\n",
       "\n",
       "[72 rows x 2 columns]"
      ]
     },
     "execution_count": 405,
     "metadata": {},
     "output_type": "execute_result"
    }
   ],
   "source": [
    "df_dataset_cleaned[[\"batteries\" ,\"battery_power_rating\"]].drop_duplicates()"
   ]
  },
  {
   "cell_type": "code",
   "execution_count": 406,
   "metadata": {},
   "outputs": [],
   "source": [
    "df_battery_power=pd.DataFrame()\n",
    "df_battery_power=df_dataset_cleaned[[\"batteries\" ,\"battery_power_rating\"]].drop_duplicates()\n"
   ]
  },
  {
   "cell_type": "code",
   "execution_count": 407,
   "metadata": {},
   "outputs": [
    {
     "name": "stdout",
     "output_type": "stream",
     "text": [
      "           batteries  battery_power_rating  \\\n",
      "0  1 Lithium Polymer                6000.0   \n",
      "1  1 Lithium Polymer                4400.0   \n",
      "2  1 Lithium Polymer                4500.0   \n",
      "3      1 Lithium ion                4000.0   \n",
      "4                1 A                6000.0   \n",
      "\n",
      "                                     id  \n",
      "0  b44d0a01-2341-11ee-b396-3c9c0f728f90  \n",
      "1  b44d0a02-2341-11ee-b844-3c9c0f728f90  \n",
      "2  b44d0a03-2341-11ee-bcf4-3c9c0f728f90  \n",
      "3  b44d0a04-2341-11ee-85a9-3c9c0f728f90  \n",
      "4  b44d0a05-2341-11ee-b332-3c9c0f728f90  \n"
     ]
    }
   ],
   "source": [
    "import uuid\n",
    "\n",
    "list_uuid=[]\n",
    "for i in range(0,len(df_battery_power)):\n",
    "  #print(i)\n",
    "  list_uuid.append(uuid.uuid1())\n",
    "df_battery_power[\"id\"]=list_uuid\n",
    "\n",
    "print(df_battery_power.head(5))\n",
    "df_battery_power.to_csv('../data_cleaned/df_battery_power.csv',index=False)"
   ]
  },
  {
   "cell_type": "markdown",
   "metadata": {},
   "source": [
    "## 6 Dim product"
   ]
  },
  {
   "cell_type": "code",
   "execution_count": 408,
   "metadata": {},
   "outputs": [
    {
     "data": {
      "text/html": [
       "<div>\n",
       "<style scoped>\n",
       "    .dataframe tbody tr th:only-of-type {\n",
       "        vertical-align: middle;\n",
       "    }\n",
       "\n",
       "    .dataframe tbody tr th {\n",
       "        vertical-align: top;\n",
       "    }\n",
       "\n",
       "    .dataframe thead th {\n",
       "        text-align: right;\n",
       "    }\n",
       "</style>\n",
       "<table border=\"1\" class=\"dataframe\">\n",
       "  <thead>\n",
       "    <tr style=\"text-align: right;\">\n",
       "      <th></th>\n",
       "      <th>title</th>\n",
       "      <th>price</th>\n",
       "      <th>rating</th>\n",
       "      <th>total_reviews</th>\n",
       "      <th>availability_status</th>\n",
       "      <th>manufacturer</th>\n",
       "      <th>country_of_origin</th>\n",
       "      <th>os</th>\n",
       "      <th>ram</th>\n",
       "      <th>product_dimensions</th>\n",
       "      <th>weight</th>\n",
       "      <th>batteries</th>\n",
       "      <th>special_features</th>\n",
       "      <th>form_factor</th>\n",
       "      <th>colour</th>\n",
       "      <th>battery_power_rating</th>\n",
       "      <th>product_description</th>\n",
       "    </tr>\n",
       "  </thead>\n",
       "  <tbody>\n",
       "    <tr>\n",
       "      <th>0</th>\n",
       "      <td>OnePlus Nord CE 5G (Blue Void 8GB RAM 128GB St...</td>\n",
       "      <td>45900.0</td>\n",
       "      <td>4.2</td>\n",
       "      <td>4</td>\n",
       "      <td>Only 1 left in stock.</td>\n",
       "      <td>samsung</td>\n",
       "      <td>India</td>\n",
       "      <td>Android</td>\n",
       "      <td>6.0</td>\n",
       "      <td>16.5 x 7.6 x 0.7 cm</td>\n",
       "      <td>167.0</td>\n",
       "      <td>1 Lithium Polymer</td>\n",
       "      <td>Dual Bluetooth Audio, IR Blaster, X-Axis Hapti...</td>\n",
       "      <td>Touchscreen Phone</td>\n",
       "      <td>Midnight Black</td>\n",
       "      <td>6000.0</td>\n",
       "      <td>Redmi 9A comes with Octa-core Helio G25 proces...</td>\n",
       "    </tr>\n",
       "  </tbody>\n",
       "</table>\n",
       "</div>"
      ],
      "text/plain": [
       "                                               title    price  rating  \\\n",
       "0  OnePlus Nord CE 5G (Blue Void 8GB RAM 128GB St...  45900.0     4.2   \n",
       "\n",
       "   total_reviews    availability_status manufacturer country_of_origin  \\\n",
       "0              4  Only 1 left in stock.      samsung             India   \n",
       "\n",
       "        os  ram   product_dimensions  weight          batteries  \\\n",
       "0  Android  6.0  16.5 x 7.6 x 0.7 cm   167.0  1 Lithium Polymer   \n",
       "\n",
       "                                    special_features        form_factor  \\\n",
       "0  Dual Bluetooth Audio, IR Blaster, X-Axis Hapti...  Touchscreen Phone   \n",
       "\n",
       "           colour  battery_power_rating  \\\n",
       "0  Midnight Black                6000.0   \n",
       "\n",
       "                                 product_description  \n",
       "0  Redmi 9A comes with Octa-core Helio G25 proces...  "
      ]
     },
     "execution_count": 408,
     "metadata": {},
     "output_type": "execute_result"
    }
   ],
   "source": [
    "df_dataset_cleaned.head(1)"
   ]
  },
  {
   "cell_type": "code",
   "execution_count": 409,
   "metadata": {},
   "outputs": [
    {
     "data": {
      "text/html": [
       "<div>\n",
       "<style scoped>\n",
       "    .dataframe tbody tr th:only-of-type {\n",
       "        vertical-align: middle;\n",
       "    }\n",
       "\n",
       "    .dataframe tbody tr th {\n",
       "        vertical-align: top;\n",
       "    }\n",
       "\n",
       "    .dataframe thead th {\n",
       "        text-align: right;\n",
       "    }\n",
       "</style>\n",
       "<table border=\"1\" class=\"dataframe\">\n",
       "  <thead>\n",
       "    <tr style=\"text-align: right;\">\n",
       "      <th></th>\n",
       "      <th>title</th>\n",
       "      <th>product_description</th>\n",
       "      <th>os</th>\n",
       "      <th>ram</th>\n",
       "      <th>form_factor</th>\n",
       "      <th>colour</th>\n",
       "    </tr>\n",
       "  </thead>\n",
       "  <tbody>\n",
       "    <tr>\n",
       "      <th>0</th>\n",
       "      <td>OnePlus Nord CE 5G (Blue Void 8GB RAM 128GB St...</td>\n",
       "      <td>Redmi 9A comes with Octa-core Helio G25 proces...</td>\n",
       "      <td>Android</td>\n",
       "      <td>6.00000</td>\n",
       "      <td>Touchscreen Phone</td>\n",
       "      <td>Midnight Black</td>\n",
       "    </tr>\n",
       "    <tr>\n",
       "      <th>1</th>\n",
       "      <td>Samsung Galaxy M42 5G (Prism Dot Black 8GB RAM...</td>\n",
       "      <td>The product comes in a very proper packaging. ...</td>\n",
       "      <td>Android</td>\n",
       "      <td>8.00000</td>\n",
       "      <td>Smartphone</td>\n",
       "      <td>Prism Black</td>\n",
       "    </tr>\n",
       "    <tr>\n",
       "      <th>2</th>\n",
       "      <td>Vivo Y20G 2021 (Obsidiant Black 4GB RAM 64GB S...</td>\n",
       "      <td>Samsung Galaxy M42 5G is Samsung's #FastestMon...</td>\n",
       "      <td>Android 10</td>\n",
       "      <td>8.00000</td>\n",
       "      <td>Bar</td>\n",
       "      <td>Galactic Blue</td>\n",
       "    </tr>\n",
       "    <tr>\n",
       "      <th>3</th>\n",
       "      <td>Redmi Note 9 (Arctic White 4GB RAM 64GB Storag...</td>\n",
       "      <td>Spark 7T is a segment leading high performer w...</td>\n",
       "      <td>Android</td>\n",
       "      <td>0.03125</td>\n",
       "      <td>Bar</td>\n",
       "      <td>Aqua Green</td>\n",
       "    </tr>\n",
       "    <tr>\n",
       "      <th>4</th>\n",
       "      <td>Realme 8 Pro (Infinite Blue, 8GB RAM, 128GB St...</td>\n",
       "      <td>13MP Main Camera + 2MP Depth Camera + 2 MP Mac...</td>\n",
       "      <td>Android</td>\n",
       "      <td>4.00000</td>\n",
       "      <td>Touchscreen Phone</td>\n",
       "      <td>Champagne</td>\n",
       "    </tr>\n",
       "    <tr>\n",
       "      <th>...</th>\n",
       "      <td>...</td>\n",
       "      <td>...</td>\n",
       "      <td>...</td>\n",
       "      <td>...</td>\n",
       "      <td>...</td>\n",
       "      <td>...</td>\n",
       "    </tr>\n",
       "    <tr>\n",
       "      <th>259</th>\n",
       "      <td>Redmi 9 Prime (Matte Black 4GB RAM 64GB Storag...</td>\n",
       "      <td>The Vivo V21 smartphone comes with 64MP+8MP+2M...</td>\n",
       "      <td>MiUI</td>\n",
       "      <td>6.00000</td>\n",
       "      <td>Touchscreen Phone</td>\n",
       "      <td>Glacier Blue</td>\n",
       "    </tr>\n",
       "    <tr>\n",
       "      <th>260</th>\n",
       "      <td>OnePlus Nord CE 5G (Charcoal Ink 12GB RAM 256G...</td>\n",
       "      <td>Oxygen OS based on Android v10 operating syste...</td>\n",
       "      <td>MiUI</td>\n",
       "      <td>12.00000</td>\n",
       "      <td>Touchscreen Phone</td>\n",
       "      <td>Red</td>\n",
       "    </tr>\n",
       "    <tr>\n",
       "      <th>261</th>\n",
       "      <td>BOLLYWOOD COLLECTION Jio Phone 3 Model 2021  B...</td>\n",
       "      <td>Designed to impress you with its speed the Sam...</td>\n",
       "      <td>Funtouch OS 11.1</td>\n",
       "      <td>12.00000</td>\n",
       "      <td>Bar</td>\n",
       "      <td>Jazz Blue</td>\n",
       "    </tr>\n",
       "    <tr>\n",
       "      <th>262</th>\n",
       "      <td>Redmi Note 10 (Shadow Black 4GB RAM 64GB Stora...</td>\n",
       "      <td>Get ready to experience download speeds 10x hi...</td>\n",
       "      <td>OneU 3.1</td>\n",
       "      <td>8.00000</td>\n",
       "      <td>Touchscreen Phone</td>\n",
       "      <td>Ocean</td>\n",
       "    </tr>\n",
       "    <tr>\n",
       "      <th>263</th>\n",
       "      <td>iQOO 7 5G (Storm Black 8GB RAM 256GB Storage)|...</td>\n",
       "      <td>Redmi 9A comes with Octa-core Helio G25 proces...</td>\n",
       "      <td>Funtouch OS 11.1</td>\n",
       "      <td>6.00000</td>\n",
       "      <td>Bar</td>\n",
       "      <td>Nordic Blue</td>\n",
       "    </tr>\n",
       "  </tbody>\n",
       "</table>\n",
       "<p>264 rows × 6 columns</p>\n",
       "</div>"
      ],
      "text/plain": [
       "                                                 title  \\\n",
       "0    OnePlus Nord CE 5G (Blue Void 8GB RAM 128GB St...   \n",
       "1    Samsung Galaxy M42 5G (Prism Dot Black 8GB RAM...   \n",
       "2    Vivo Y20G 2021 (Obsidiant Black 4GB RAM 64GB S...   \n",
       "3    Redmi Note 9 (Arctic White 4GB RAM 64GB Storag...   \n",
       "4    Realme 8 Pro (Infinite Blue, 8GB RAM, 128GB St...   \n",
       "..                                                 ...   \n",
       "259  Redmi 9 Prime (Matte Black 4GB RAM 64GB Storag...   \n",
       "260  OnePlus Nord CE 5G (Charcoal Ink 12GB RAM 256G...   \n",
       "261  BOLLYWOOD COLLECTION Jio Phone 3 Model 2021  B...   \n",
       "262  Redmi Note 10 (Shadow Black 4GB RAM 64GB Stora...   \n",
       "263  iQOO 7 5G (Storm Black 8GB RAM 256GB Storage)|...   \n",
       "\n",
       "                                   product_description                os  \\\n",
       "0    Redmi 9A comes with Octa-core Helio G25 proces...           Android   \n",
       "1    The product comes in a very proper packaging. ...           Android   \n",
       "2    Samsung Galaxy M42 5G is Samsung's #FastestMon...        Android 10   \n",
       "3    Spark 7T is a segment leading high performer w...           Android   \n",
       "4    13MP Main Camera + 2MP Depth Camera + 2 MP Mac...           Android   \n",
       "..                                                 ...               ...   \n",
       "259  The Vivo V21 smartphone comes with 64MP+8MP+2M...              MiUI   \n",
       "260  Oxygen OS based on Android v10 operating syste...              MiUI   \n",
       "261  Designed to impress you with its speed the Sam...  Funtouch OS 11.1   \n",
       "262  Get ready to experience download speeds 10x hi...          OneU 3.1   \n",
       "263  Redmi 9A comes with Octa-core Helio G25 proces...  Funtouch OS 11.1   \n",
       "\n",
       "          ram        form_factor          colour  \n",
       "0     6.00000  Touchscreen Phone  Midnight Black  \n",
       "1     8.00000         Smartphone     Prism Black  \n",
       "2     8.00000                Bar   Galactic Blue  \n",
       "3     0.03125                Bar      Aqua Green  \n",
       "4     4.00000  Touchscreen Phone       Champagne  \n",
       "..        ...                ...             ...  \n",
       "259   6.00000  Touchscreen Phone    Glacier Blue  \n",
       "260  12.00000  Touchscreen Phone             Red  \n",
       "261  12.00000                Bar       Jazz Blue  \n",
       "262   8.00000  Touchscreen Phone           Ocean  \n",
       "263   6.00000                Bar     Nordic Blue  \n",
       "\n",
       "[264 rows x 6 columns]"
      ]
     },
     "execution_count": 409,
     "metadata": {},
     "output_type": "execute_result"
    }
   ],
   "source": [
    "df_dataset_cleaned[[\"title\",\"product_description\",\"os\",\"ram\",\"form_factor\",\"colour\"]].drop_duplicates()"
   ]
  },
  {
   "cell_type": "code",
   "execution_count": 410,
   "metadata": {},
   "outputs": [],
   "source": [
    "df_product=pd.DataFrame()\n",
    "df_product= df_dataset_cleaned[[\"title\",\"product_description\",\"os\",\"ram\",\"form_factor\",\"colour\"]].drop_duplicates()\n",
    "\n"
   ]
  },
  {
   "cell_type": "code",
   "execution_count": 411,
   "metadata": {},
   "outputs": [
    {
     "name": "stdout",
     "output_type": "stream",
     "text": [
      "                                               title  \\\n",
      "0  OnePlus Nord CE 5G (Blue Void 8GB RAM 128GB St...   \n",
      "1  Samsung Galaxy M42 5G (Prism Dot Black 8GB RAM...   \n",
      "2  Vivo Y20G 2021 (Obsidiant Black 4GB RAM 64GB S...   \n",
      "3  Redmi Note 9 (Arctic White 4GB RAM 64GB Storag...   \n",
      "4  Realme 8 Pro (Infinite Blue, 8GB RAM, 128GB St...   \n",
      "\n",
      "                                 product_description          os      ram  \\\n",
      "0  Redmi 9A comes with Octa-core Helio G25 proces...     Android  6.00000   \n",
      "1  The product comes in a very proper packaging. ...     Android  8.00000   \n",
      "2  Samsung Galaxy M42 5G is Samsung's #FastestMon...  Android 10  8.00000   \n",
      "3  Spark 7T is a segment leading high performer w...     Android  0.03125   \n",
      "4  13MP Main Camera + 2MP Depth Camera + 2 MP Mac...     Android  4.00000   \n",
      "\n",
      "         form_factor          colour                                    id  \n",
      "0  Touchscreen Phone  Midnight Black  b456f2d5-2341-11ee-ae4e-3c9c0f728f90  \n",
      "1         Smartphone     Prism Black  b456f2d6-2341-11ee-99d1-3c9c0f728f90  \n",
      "2                Bar   Galactic Blue  b456f2d7-2341-11ee-8cca-3c9c0f728f90  \n",
      "3                Bar      Aqua Green  b456f2d8-2341-11ee-9841-3c9c0f728f90  \n",
      "4  Touchscreen Phone       Champagne  b456f2d9-2341-11ee-9bbc-3c9c0f728f90  \n"
     ]
    }
   ],
   "source": [
    "import uuid\n",
    "\n",
    "list_uuid=[]\n",
    "for i in range(0,len(df_product)):\n",
    "  #print(i)\n",
    "  list_uuid.append(uuid.uuid1())\n",
    "df_product[\"id\"]=list_uuid\n",
    "\n",
    "print(df_product.head(5))\n",
    "df_product.to_csv('../data_cleaned/df_product.csv',index=False,sep=';')"
   ]
  },
  {
   "attachments": {},
   "cell_type": "markdown",
   "metadata": {},
   "source": [
    "# III Fact"
   ]
  },
  {
   "cell_type": "code",
   "execution_count": 412,
   "metadata": {},
   "outputs": [
    {
     "data": {
      "text/html": [
       "<div>\n",
       "<style scoped>\n",
       "    .dataframe tbody tr th:only-of-type {\n",
       "        vertical-align: middle;\n",
       "    }\n",
       "\n",
       "    .dataframe tbody tr th {\n",
       "        vertical-align: top;\n",
       "    }\n",
       "\n",
       "    .dataframe thead th {\n",
       "        text-align: right;\n",
       "    }\n",
       "</style>\n",
       "<table border=\"1\" class=\"dataframe\">\n",
       "  <thead>\n",
       "    <tr style=\"text-align: right;\">\n",
       "      <th></th>\n",
       "      <th>title</th>\n",
       "      <th>price</th>\n",
       "      <th>rating</th>\n",
       "      <th>total_reviews</th>\n",
       "      <th>availability_status</th>\n",
       "      <th>manufacturer</th>\n",
       "      <th>country_of_origin</th>\n",
       "      <th>os</th>\n",
       "      <th>ram</th>\n",
       "      <th>product_dimensions</th>\n",
       "      <th>weight</th>\n",
       "      <th>batteries</th>\n",
       "      <th>special_features</th>\n",
       "      <th>form_factor</th>\n",
       "      <th>colour</th>\n",
       "      <th>battery_power_rating</th>\n",
       "      <th>product_description</th>\n",
       "    </tr>\n",
       "  </thead>\n",
       "  <tbody>\n",
       "    <tr>\n",
       "      <th>0</th>\n",
       "      <td>OnePlus Nord CE 5G (Blue Void 8GB RAM 128GB St...</td>\n",
       "      <td>45900.0</td>\n",
       "      <td>4.2</td>\n",
       "      <td>4</td>\n",
       "      <td>Only 1 left in stock.</td>\n",
       "      <td>samsung</td>\n",
       "      <td>India</td>\n",
       "      <td>Android</td>\n",
       "      <td>6.0</td>\n",
       "      <td>16.5 x 7.6 x 0.7 cm</td>\n",
       "      <td>167.0</td>\n",
       "      <td>1 Lithium Polymer</td>\n",
       "      <td>Dual Bluetooth Audio, IR Blaster, X-Axis Hapti...</td>\n",
       "      <td>Touchscreen Phone</td>\n",
       "      <td>Midnight Black</td>\n",
       "      <td>6000.0</td>\n",
       "      <td>Redmi 9A comes with Octa-core Helio G25 proces...</td>\n",
       "    </tr>\n",
       "  </tbody>\n",
       "</table>\n",
       "</div>"
      ],
      "text/plain": [
       "                                               title    price  rating  \\\n",
       "0  OnePlus Nord CE 5G (Blue Void 8GB RAM 128GB St...  45900.0     4.2   \n",
       "\n",
       "   total_reviews    availability_status manufacturer country_of_origin  \\\n",
       "0              4  Only 1 left in stock.      samsung             India   \n",
       "\n",
       "        os  ram   product_dimensions  weight          batteries  \\\n",
       "0  Android  6.0  16.5 x 7.6 x 0.7 cm   167.0  1 Lithium Polymer   \n",
       "\n",
       "                                    special_features        form_factor  \\\n",
       "0  Dual Bluetooth Audio, IR Blaster, X-Axis Hapti...  Touchscreen Phone   \n",
       "\n",
       "           colour  battery_power_rating  \\\n",
       "0  Midnight Black                6000.0   \n",
       "\n",
       "                                 product_description  \n",
       "0  Redmi 9A comes with Octa-core Helio G25 proces...  "
      ]
     },
     "execution_count": 412,
     "metadata": {},
     "output_type": "execute_result"
    }
   ],
   "source": [
    "df_dataset_cleaned=pd.read_csv('../data_cleaned/Amazon_Mobile_Data_cleaned.csv')\n",
    "df_dataset_cleaned.head(1)"
   ]
  },
  {
   "cell_type": "code",
   "execution_count": 413,
   "metadata": {},
   "outputs": [
    {
     "data": {
      "text/html": [
       "<div>\n",
       "<style scoped>\n",
       "    .dataframe tbody tr th:only-of-type {\n",
       "        vertical-align: middle;\n",
       "    }\n",
       "\n",
       "    .dataframe tbody tr th {\n",
       "        vertical-align: top;\n",
       "    }\n",
       "\n",
       "    .dataframe thead th {\n",
       "        text-align: right;\n",
       "    }\n",
       "</style>\n",
       "<table border=\"1\" class=\"dataframe\">\n",
       "  <thead>\n",
       "    <tr style=\"text-align: right;\">\n",
       "      <th></th>\n",
       "      <th>manufacturer</th>\n",
       "      <th>country_of_origin</th>\n",
       "      <th>id</th>\n",
       "    </tr>\n",
       "  </thead>\n",
       "  <tbody>\n",
       "    <tr>\n",
       "      <th>0</th>\n",
       "      <td>samsung</td>\n",
       "      <td>India</td>\n",
       "      <td>b43dfc9f-2341-11ee-bbca-3c9c0f728f90</td>\n",
       "    </tr>\n",
       "  </tbody>\n",
       "</table>\n",
       "</div>"
      ],
      "text/plain": [
       "  manufacturer country_of_origin                                    id\n",
       "0      samsung             India  b43dfc9f-2341-11ee-bbca-3c9c0f728f90"
      ]
     },
     "execution_count": 413,
     "metadata": {},
     "output_type": "execute_result"
    }
   ],
   "source": [
    "df_company=pd.read_csv('../data_cleaned/df_company.csv')\n",
    "df_company.head(1)"
   ]
  },
  {
   "cell_type": "code",
   "execution_count": 414,
   "metadata": {},
   "outputs": [
    {
     "data": {
      "text/html": [
       "<div>\n",
       "<style scoped>\n",
       "    .dataframe tbody tr th:only-of-type {\n",
       "        vertical-align: middle;\n",
       "    }\n",
       "\n",
       "    .dataframe tbody tr th {\n",
       "        vertical-align: top;\n",
       "    }\n",
       "\n",
       "    .dataframe thead th {\n",
       "        text-align: right;\n",
       "    }\n",
       "</style>\n",
       "<table border=\"1\" class=\"dataframe\">\n",
       "  <thead>\n",
       "    <tr style=\"text-align: right;\">\n",
       "      <th></th>\n",
       "      <th>product_dimensions</th>\n",
       "      <th>product_dimension_length</th>\n",
       "      <th>product_dimension_width</th>\n",
       "      <th>product_dimension_height</th>\n",
       "    </tr>\n",
       "  </thead>\n",
       "  <tbody>\n",
       "    <tr>\n",
       "      <th>0</th>\n",
       "      <td>16.5 x 7.6 x 0.7 cm</td>\n",
       "      <td>16.5</td>\n",
       "      <td>7.6</td>\n",
       "      <td>0.7</td>\n",
       "    </tr>\n",
       "  </tbody>\n",
       "</table>\n",
       "</div>"
      ],
      "text/plain": [
       "    product_dimensions  product_dimension_length  product_dimension_width  \\\n",
       "0  16.5 x 7.6 x 0.7 cm                      16.5                      7.6   \n",
       "\n",
       "   product_dimension_height  \n",
       "0                       0.7  "
      ]
     },
     "execution_count": 414,
     "metadata": {},
     "output_type": "execute_result"
    }
   ],
   "source": [
    "\n",
    "df_product_dimensions=pd.read_csv('../data_cleaned/df_product_dimensions.csv')\n",
    "df_product_dimensions.head(1)"
   ]
  },
  {
   "cell_type": "code",
   "execution_count": 415,
   "metadata": {},
   "outputs": [
    {
     "data": {
      "text/html": [
       "<div>\n",
       "<style scoped>\n",
       "    .dataframe tbody tr th:only-of-type {\n",
       "        vertical-align: middle;\n",
       "    }\n",
       "\n",
       "    .dataframe tbody tr th {\n",
       "        vertical-align: top;\n",
       "    }\n",
       "\n",
       "    .dataframe thead th {\n",
       "        text-align: right;\n",
       "    }\n",
       "</style>\n",
       "<table border=\"1\" class=\"dataframe\">\n",
       "  <thead>\n",
       "    <tr style=\"text-align: right;\">\n",
       "      <th></th>\n",
       "      <th>title</th>\n",
       "      <th>product_description</th>\n",
       "      <th>os</th>\n",
       "      <th>ram</th>\n",
       "      <th>form_factor</th>\n",
       "      <th>colour</th>\n",
       "      <th>id</th>\n",
       "    </tr>\n",
       "  </thead>\n",
       "  <tbody>\n",
       "    <tr>\n",
       "      <th>0</th>\n",
       "      <td>OnePlus Nord CE 5G (Blue Void 8GB RAM 128GB St...</td>\n",
       "      <td>Redmi 9A comes with Octa-core Helio G25 proces...</td>\n",
       "      <td>Android</td>\n",
       "      <td>6.0</td>\n",
       "      <td>Touchscreen Phone</td>\n",
       "      <td>Midnight Black</td>\n",
       "      <td>b456f2d5-2341-11ee-ae4e-3c9c0f728f90</td>\n",
       "    </tr>\n",
       "  </tbody>\n",
       "</table>\n",
       "</div>"
      ],
      "text/plain": [
       "                                               title  \\\n",
       "0  OnePlus Nord CE 5G (Blue Void 8GB RAM 128GB St...   \n",
       "\n",
       "                                 product_description       os  ram  \\\n",
       "0  Redmi 9A comes with Octa-core Helio G25 proces...  Android  6.0   \n",
       "\n",
       "         form_factor          colour                                    id  \n",
       "0  Touchscreen Phone  Midnight Black  b456f2d5-2341-11ee-ae4e-3c9c0f728f90  "
      ]
     },
     "execution_count": 415,
     "metadata": {},
     "output_type": "execute_result"
    }
   ],
   "source": [
    "\n",
    "df_product=pd.read_csv('../data_cleaned/df_product.csv',sep=';')\n",
    "df_product.head(1)\n"
   ]
  },
  {
   "cell_type": "code",
   "execution_count": 416,
   "metadata": {},
   "outputs": [],
   "source": [
    "# df_product.dtypes"
   ]
  },
  {
   "cell_type": "code",
   "execution_count": 417,
   "metadata": {},
   "outputs": [
    {
     "data": {
      "text/html": [
       "<div>\n",
       "<style scoped>\n",
       "    .dataframe tbody tr th:only-of-type {\n",
       "        vertical-align: middle;\n",
       "    }\n",
       "\n",
       "    .dataframe tbody tr th {\n",
       "        vertical-align: top;\n",
       "    }\n",
       "\n",
       "    .dataframe thead th {\n",
       "        text-align: right;\n",
       "    }\n",
       "</style>\n",
       "<table border=\"1\" class=\"dataframe\">\n",
       "  <thead>\n",
       "    <tr style=\"text-align: right;\">\n",
       "      <th></th>\n",
       "      <th>id</th>\n",
       "      <th>special_feature</th>\n",
       "    </tr>\n",
       "  </thead>\n",
       "  <tbody>\n",
       "    <tr>\n",
       "      <th>0</th>\n",
       "      <td>b431d451-2341-11ee-a94f-3c9c0f728f90</td>\n",
       "      <td>Dual Bluetooth Audio</td>\n",
       "    </tr>\n",
       "  </tbody>\n",
       "</table>\n",
       "</div>"
      ],
      "text/plain": [
       "                                     id       special_feature\n",
       "0  b431d451-2341-11ee-a94f-3c9c0f728f90  Dual Bluetooth Audio"
      ]
     },
     "execution_count": 417,
     "metadata": {},
     "output_type": "execute_result"
    }
   ],
   "source": [
    "df_special_feature_nomaly=pd.read_csv('../data_cleaned/df_special_feature_nomaly.csv')\n",
    "df_special_feature_nomaly.head(1)"
   ]
  },
  {
   "cell_type": "code",
   "execution_count": 418,
   "metadata": {},
   "outputs": [],
   "source": [
    "df_fact=pd.DataFrame()\n"
   ]
  },
  {
   "cell_type": "code",
   "execution_count": 419,
   "metadata": {},
   "outputs": [
    {
     "data": {
      "text/plain": [
       "Index(['title', 'price', 'rating', 'total_reviews', 'availability_status',\n",
       "       'manufacturer', 'country_of_origin', 'os', 'ram', 'product_dimensions',\n",
       "       'weight', 'batteries', 'special_features', 'form_factor', 'colour',\n",
       "       'battery_power_rating', 'product_description'],\n",
       "      dtype='object')"
      ]
     },
     "execution_count": 419,
     "metadata": {},
     "output_type": "execute_result"
    }
   ],
   "source": [
    "df_dataset_cleaned.columns"
   ]
  },
  {
   "cell_type": "code",
   "execution_count": 420,
   "metadata": {},
   "outputs": [],
   "source": [
    "\n",
    "df_fact=df_dataset_cleaned[[ 'price', 'rating', 'total_reviews','availability_status',\n",
    "        'product_dimensions', 'weight', ]]"
   ]
  },
  {
   "cell_type": "code",
   "execution_count": 421,
   "metadata": {},
   "outputs": [
    {
     "data": {
      "text/html": [
       "<div>\n",
       "<style scoped>\n",
       "    .dataframe tbody tr th:only-of-type {\n",
       "        vertical-align: middle;\n",
       "    }\n",
       "\n",
       "    .dataframe tbody tr th {\n",
       "        vertical-align: top;\n",
       "    }\n",
       "\n",
       "    .dataframe thead th {\n",
       "        text-align: right;\n",
       "    }\n",
       "</style>\n",
       "<table border=\"1\" class=\"dataframe\">\n",
       "  <thead>\n",
       "    <tr style=\"text-align: right;\">\n",
       "      <th></th>\n",
       "      <th>price</th>\n",
       "      <th>rating</th>\n",
       "      <th>total_reviews</th>\n",
       "      <th>availability_status</th>\n",
       "      <th>product_dimensions</th>\n",
       "      <th>weight</th>\n",
       "    </tr>\n",
       "  </thead>\n",
       "  <tbody>\n",
       "    <tr>\n",
       "      <th>0</th>\n",
       "      <td>45900.0</td>\n",
       "      <td>4.2</td>\n",
       "      <td>4</td>\n",
       "      <td>Only 1 left in stock.</td>\n",
       "      <td>16.5 x 7.6 x 0.7 cm</td>\n",
       "      <td>167.0</td>\n",
       "    </tr>\n",
       "    <tr>\n",
       "      <th>1</th>\n",
       "      <td>9490.0</td>\n",
       "      <td>4.3</td>\n",
       "      <td>47</td>\n",
       "      <td>In stock.</td>\n",
       "      <td>15 x 1 x 7.5 cm</td>\n",
       "      <td>161.0</td>\n",
       "    </tr>\n",
       "  </tbody>\n",
       "</table>\n",
       "</div>"
      ],
      "text/plain": [
       "     price  rating  total_reviews    availability_status   product_dimensions  \\\n",
       "0  45900.0     4.2              4  Only 1 left in stock.  16.5 x 7.6 x 0.7 cm   \n",
       "1   9490.0     4.3             47              In stock.      15 x 1 x 7.5 cm   \n",
       "\n",
       "   weight  \n",
       "0   167.0  \n",
       "1   161.0  "
      ]
     },
     "execution_count": 421,
     "metadata": {},
     "output_type": "execute_result"
    }
   ],
   "source": [
    "df_fact.head(2)"
   ]
  },
  {
   "cell_type": "code",
   "execution_count": 422,
   "metadata": {},
   "outputs": [],
   "source": [
    "number_special_features=[]\n",
    "count=0\n",
    "for special_features in df_dataset_cleaned.special_features:\n",
    "  for features in df_special_feature_nomaly.special_feature:\n",
    "    if features in special_features:\n",
    "      count=count+1\n",
    "  number_special_features.append(count)\n",
    "  count=0"
   ]
  },
  {
   "cell_type": "code",
   "execution_count": 423,
   "metadata": {},
   "outputs": [
    {
     "data": {
      "text/plain": [
       "True"
      ]
     },
     "execution_count": 423,
     "metadata": {},
     "output_type": "execute_result"
    }
   ],
   "source": [
    "len(number_special_features)==len(df_fact)"
   ]
  },
  {
   "cell_type": "code",
   "execution_count": 424,
   "metadata": {},
   "outputs": [
    {
     "name": "stderr",
     "output_type": "stream",
     "text": [
      "C:\\Users\\Acer\\AppData\\Local\\Temp\\ipykernel_21460\\2669433462.py:1: SettingWithCopyWarning: \n",
      "A value is trying to be set on a copy of a slice from a DataFrame.\n",
      "Try using .loc[row_indexer,col_indexer] = value instead\n",
      "\n",
      "See the caveats in the documentation: https://pandas.pydata.org/pandas-docs/stable/user_guide/indexing.html#returning-a-view-versus-a-copy\n",
      "  df_fact['number_special_features']=number_special_features\n"
     ]
    }
   ],
   "source": [
    "df_fact['number_special_features']=number_special_features"
   ]
  },
  {
   "cell_type": "code",
   "execution_count": 425,
   "metadata": {},
   "outputs": [],
   "source": [
    "key_company=[]\n",
    "for index_dataset_cleaned  in df_dataset_cleaned.index:\t\n",
    "  for index_company in df_company.index:\n",
    "    #print(df_company[\"country_of_origin\"])\n",
    "    if((df_dataset_cleaned[\"country_of_origin\"][index_dataset_cleaned]\t== df_company[\"country_of_origin\"][index_company]\t) and (df_dataset_cleaned[\"manufacturer\"][index_dataset_cleaned]==df_company[\"manufacturer\"][index_company])):\n",
    "      key_company.append(df_company[\"id\"][index_company])\n",
    " "
   ]
  },
  {
   "cell_type": "code",
   "execution_count": 426,
   "metadata": {},
   "outputs": [
    {
     "data": {
      "text/plain": [
       "['b43dfc9f-2341-11ee-bbca-3c9c0f728f90',\n",
       " 'b43dfca0-2341-11ee-98c7-3c9c0f728f90',\n",
       " 'b43dfca1-2341-11ee-8e8b-3c9c0f728f90',\n",
       " 'b43dfca1-2341-11ee-8e8b-3c9c0f728f90',\n",
       " 'b43dfca2-2341-11ee-b32c-3c9c0f728f90']"
      ]
     },
     "execution_count": 426,
     "metadata": {},
     "output_type": "execute_result"
    }
   ],
   "source": [
    "key_company[0:5]"
   ]
  },
  {
   "cell_type": "code",
   "execution_count": 427,
   "metadata": {},
   "outputs": [
    {
     "data": {
      "text/plain": [
       "264"
      ]
     },
     "execution_count": 427,
     "metadata": {},
     "output_type": "execute_result"
    }
   ],
   "source": [
    "len(df_fact)"
   ]
  },
  {
   "cell_type": "code",
   "execution_count": 428,
   "metadata": {},
   "outputs": [
    {
     "data": {
      "text/plain": [
       "264"
      ]
     },
     "execution_count": 428,
     "metadata": {},
     "output_type": "execute_result"
    }
   ],
   "source": [
    "len(key_company)"
   ]
  },
  {
   "cell_type": "code",
   "execution_count": 429,
   "metadata": {},
   "outputs": [
    {
     "name": "stderr",
     "output_type": "stream",
     "text": [
      "C:\\Users\\Acer\\AppData\\Local\\Temp\\ipykernel_21460\\980503691.py:1: SettingWithCopyWarning: \n",
      "A value is trying to be set on a copy of a slice from a DataFrame.\n",
      "Try using .loc[row_indexer,col_indexer] = value instead\n",
      "\n",
      "See the caveats in the documentation: https://pandas.pydata.org/pandas-docs/stable/user_guide/indexing.html#returning-a-view-versus-a-copy\n",
      "  df_fact[\"key_company\"]=key_company\n"
     ]
    }
   ],
   "source": [
    "df_fact[\"key_company\"]=key_company"
   ]
  },
  {
   "cell_type": "code",
   "execution_count": 430,
   "metadata": {},
   "outputs": [
    {
     "data": {
      "text/html": [
       "<div>\n",
       "<style scoped>\n",
       "    .dataframe tbody tr th:only-of-type {\n",
       "        vertical-align: middle;\n",
       "    }\n",
       "\n",
       "    .dataframe tbody tr th {\n",
       "        vertical-align: top;\n",
       "    }\n",
       "\n",
       "    .dataframe thead th {\n",
       "        text-align: right;\n",
       "    }\n",
       "</style>\n",
       "<table border=\"1\" class=\"dataframe\">\n",
       "  <thead>\n",
       "    <tr style=\"text-align: right;\">\n",
       "      <th></th>\n",
       "      <th>price</th>\n",
       "      <th>rating</th>\n",
       "      <th>total_reviews</th>\n",
       "      <th>availability_status</th>\n",
       "      <th>product_dimensions</th>\n",
       "      <th>weight</th>\n",
       "      <th>number_special_features</th>\n",
       "      <th>key_company</th>\n",
       "    </tr>\n",
       "  </thead>\n",
       "  <tbody>\n",
       "    <tr>\n",
       "      <th>0</th>\n",
       "      <td>45900.0</td>\n",
       "      <td>4.2</td>\n",
       "      <td>4</td>\n",
       "      <td>Only 1 left in stock.</td>\n",
       "      <td>16.5 x 7.6 x 0.7 cm</td>\n",
       "      <td>167.0</td>\n",
       "      <td>35</td>\n",
       "      <td>b43dfc9f-2341-11ee-bbca-3c9c0f728f90</td>\n",
       "    </tr>\n",
       "  </tbody>\n",
       "</table>\n",
       "</div>"
      ],
      "text/plain": [
       "     price  rating  total_reviews    availability_status   product_dimensions  \\\n",
       "0  45900.0     4.2              4  Only 1 left in stock.  16.5 x 7.6 x 0.7 cm   \n",
       "\n",
       "   weight  number_special_features                           key_company  \n",
       "0   167.0                       35  b43dfc9f-2341-11ee-bbca-3c9c0f728f90  "
      ]
     },
     "execution_count": 430,
     "metadata": {},
     "output_type": "execute_result"
    }
   ],
   "source": [
    "df_fact.head(1)"
   ]
  },
  {
   "cell_type": "code",
   "execution_count": 431,
   "metadata": {},
   "outputs": [
    {
     "name": "stderr",
     "output_type": "stream",
     "text": [
      "C:\\Users\\Acer\\AppData\\Local\\Temp\\ipykernel_21460\\2052449128.py:11: SettingWithCopyWarning: \n",
      "A value is trying to be set on a copy of a slice from a DataFrame.\n",
      "Try using .loc[row_indexer,col_indexer] = value instead\n",
      "\n",
      "See the caveats in the documentation: https://pandas.pydata.org/pandas-docs/stable/user_guide/indexing.html#returning-a-view-versus-a-copy\n",
      "  df_fact[\"key_battery_power\"]=key_battery_power\n"
     ]
    },
    {
     "data": {
      "text/html": [
       "<div>\n",
       "<style scoped>\n",
       "    .dataframe tbody tr th:only-of-type {\n",
       "        vertical-align: middle;\n",
       "    }\n",
       "\n",
       "    .dataframe tbody tr th {\n",
       "        vertical-align: top;\n",
       "    }\n",
       "\n",
       "    .dataframe thead th {\n",
       "        text-align: right;\n",
       "    }\n",
       "</style>\n",
       "<table border=\"1\" class=\"dataframe\">\n",
       "  <thead>\n",
       "    <tr style=\"text-align: right;\">\n",
       "      <th></th>\n",
       "      <th>price</th>\n",
       "      <th>rating</th>\n",
       "      <th>total_reviews</th>\n",
       "      <th>availability_status</th>\n",
       "      <th>product_dimensions</th>\n",
       "      <th>weight</th>\n",
       "      <th>number_special_features</th>\n",
       "      <th>key_company</th>\n",
       "      <th>key_battery_power</th>\n",
       "    </tr>\n",
       "  </thead>\n",
       "  <tbody>\n",
       "    <tr>\n",
       "      <th>0</th>\n",
       "      <td>45900.0</td>\n",
       "      <td>4.2</td>\n",
       "      <td>4</td>\n",
       "      <td>Only 1 left in stock.</td>\n",
       "      <td>16.5 x 7.6 x 0.7 cm</td>\n",
       "      <td>167.0</td>\n",
       "      <td>35</td>\n",
       "      <td>b43dfc9f-2341-11ee-bbca-3c9c0f728f90</td>\n",
       "      <td>b44d0a01-2341-11ee-b396-3c9c0f728f90</td>\n",
       "    </tr>\n",
       "  </tbody>\n",
       "</table>\n",
       "</div>"
      ],
      "text/plain": [
       "     price  rating  total_reviews    availability_status   product_dimensions  \\\n",
       "0  45900.0     4.2              4  Only 1 left in stock.  16.5 x 7.6 x 0.7 cm   \n",
       "\n",
       "   weight  number_special_features                           key_company  \\\n",
       "0   167.0                       35  b43dfc9f-2341-11ee-bbca-3c9c0f728f90   \n",
       "\n",
       "                      key_battery_power  \n",
       "0  b44d0a01-2341-11ee-b396-3c9c0f728f90  "
      ]
     },
     "execution_count": 431,
     "metadata": {},
     "output_type": "execute_result"
    }
   ],
   "source": [
    "\n",
    "\n",
    "key_battery_power=[]\n",
    "for index_dataset_cleaned  in df_dataset_cleaned.index:\t\n",
    "  for index_battery_power in df_battery_power.index:\n",
    "    if(\n",
    "      (df_dataset_cleaned[\"battery_power_rating\"][index_dataset_cleaned]\t== df_battery_power[\"battery_power_rating\"][index_battery_power]\t)\n",
    "      and \n",
    "      (df_dataset_cleaned[\"batteries\"][index_dataset_cleaned]\t== df_battery_power[\"batteries\"][index_battery_power]\t)\n",
    "    ):\n",
    "      key_battery_power.append(df_battery_power[\"id\"][index_battery_power])\n",
    "if(len(df_fact)==len(key_battery_power)):\n",
    "  df_fact[\"key_battery_power\"]=key_battery_power\n",
    "else:\n",
    "  stop\n",
    "df_fact.head(1)"
   ]
  },
  {
   "cell_type": "code",
   "execution_count": 432,
   "metadata": {},
   "outputs": [
    {
     "name": "stderr",
     "output_type": "stream",
     "text": [
      "C:\\Users\\Acer\\AppData\\Local\\Temp\\ipykernel_21460\\3170035158.py:24: SettingWithCopyWarning: \n",
      "A value is trying to be set on a copy of a slice from a DataFrame.\n",
      "Try using .loc[row_indexer,col_indexer] = value instead\n",
      "\n",
      "See the caveats in the documentation: https://pandas.pydata.org/pandas-docs/stable/user_guide/indexing.html#returning-a-view-versus-a-copy\n",
      "  df_fact[\"key_product\"]=key_product\n"
     ]
    },
    {
     "data": {
      "text/html": [
       "<div>\n",
       "<style scoped>\n",
       "    .dataframe tbody tr th:only-of-type {\n",
       "        vertical-align: middle;\n",
       "    }\n",
       "\n",
       "    .dataframe tbody tr th {\n",
       "        vertical-align: top;\n",
       "    }\n",
       "\n",
       "    .dataframe thead th {\n",
       "        text-align: right;\n",
       "    }\n",
       "</style>\n",
       "<table border=\"1\" class=\"dataframe\">\n",
       "  <thead>\n",
       "    <tr style=\"text-align: right;\">\n",
       "      <th></th>\n",
       "      <th>price</th>\n",
       "      <th>rating</th>\n",
       "      <th>total_reviews</th>\n",
       "      <th>availability_status</th>\n",
       "      <th>product_dimensions</th>\n",
       "      <th>weight</th>\n",
       "      <th>number_special_features</th>\n",
       "      <th>key_company</th>\n",
       "      <th>key_battery_power</th>\n",
       "      <th>key_product</th>\n",
       "    </tr>\n",
       "  </thead>\n",
       "  <tbody>\n",
       "    <tr>\n",
       "      <th>0</th>\n",
       "      <td>45900.0</td>\n",
       "      <td>4.2</td>\n",
       "      <td>4</td>\n",
       "      <td>Only 1 left in stock.</td>\n",
       "      <td>16.5 x 7.6 x 0.7 cm</td>\n",
       "      <td>167.0</td>\n",
       "      <td>35</td>\n",
       "      <td>b43dfc9f-2341-11ee-bbca-3c9c0f728f90</td>\n",
       "      <td>b44d0a01-2341-11ee-b396-3c9c0f728f90</td>\n",
       "      <td>b456f2d5-2341-11ee-ae4e-3c9c0f728f90</td>\n",
       "    </tr>\n",
       "  </tbody>\n",
       "</table>\n",
       "</div>"
      ],
      "text/plain": [
       "     price  rating  total_reviews    availability_status   product_dimensions  \\\n",
       "0  45900.0     4.2              4  Only 1 left in stock.  16.5 x 7.6 x 0.7 cm   \n",
       "\n",
       "   weight  number_special_features                           key_company  \\\n",
       "0   167.0                       35  b43dfc9f-2341-11ee-bbca-3c9c0f728f90   \n",
       "\n",
       "                      key_battery_power                           key_product  \n",
       "0  b44d0a01-2341-11ee-b396-3c9c0f728f90  b456f2d5-2341-11ee-ae4e-3c9c0f728f90  "
      ]
     },
     "execution_count": 432,
     "metadata": {},
     "output_type": "execute_result"
    }
   ],
   "source": [
    "\n",
    "# df_dataset_cleaned[[\"title\",\"product_description\",\"os\",\"ram\",\"form_factor\",\"colour\"]].drop_duplicates()\n",
    "key_product=[]\n",
    "for index_dataset_cleaned  in df_dataset_cleaned.index:\t\n",
    "  flag=0\n",
    "  for index_product in df_product.index:\n",
    "    if(\n",
    "      (df_dataset_cleaned[\"title\"][index_dataset_cleaned]\t== df_product[\"title\"][index_product]\t)\n",
    "      and \n",
    "      (df_dataset_cleaned[\"product_description\"][index_dataset_cleaned]\t== df_product[\"product_description\"][index_product]\t)\n",
    "      and \n",
    "      (df_dataset_cleaned[\"os\"][index_dataset_cleaned]\t== df_product[\"os\"][index_product]\t)\n",
    "      and \n",
    "      (df_dataset_cleaned[\"ram\"][index_dataset_cleaned]\t== df_product[\"ram\"][index_product]\t)\n",
    "      and \n",
    "      (df_dataset_cleaned[\"form_factor\"][index_dataset_cleaned]\t== df_product[\"form_factor\"][index_product]\t)\n",
    "      and \n",
    "      (df_dataset_cleaned[\"colour\"][index_dataset_cleaned]\t== df_product[\"colour\"][index_product]\t)\n",
    "    ):  \n",
    "      flag=1\n",
    "      key_product.append(df_product[\"id\"][index_product])\n",
    "  if(flag==0):\n",
    "    print(index_dataset_cleaned)\n",
    "if(len(df_fact)==len(key_product)):\n",
    "  df_fact[\"key_product\"]=key_product\n",
    "else:\n",
    "  stop\n",
    "df_fact.head(1)"
   ]
  },
  {
   "attachments": {},
   "cell_type": "markdown",
   "metadata": {},
   "source": [
    "## save data"
   ]
  },
  {
   "cell_type": "code",
   "execution_count": 433,
   "metadata": {},
   "outputs": [
    {
     "data": {
      "text/html": [
       "<div>\n",
       "<style scoped>\n",
       "    .dataframe tbody tr th:only-of-type {\n",
       "        vertical-align: middle;\n",
       "    }\n",
       "\n",
       "    .dataframe tbody tr th {\n",
       "        vertical-align: top;\n",
       "    }\n",
       "\n",
       "    .dataframe thead th {\n",
       "        text-align: right;\n",
       "    }\n",
       "</style>\n",
       "<table border=\"1\" class=\"dataframe\">\n",
       "  <thead>\n",
       "    <tr style=\"text-align: right;\">\n",
       "      <th></th>\n",
       "      <th>price</th>\n",
       "      <th>rating</th>\n",
       "      <th>total_reviews</th>\n",
       "      <th>availability_status</th>\n",
       "      <th>product_dimensions</th>\n",
       "      <th>weight</th>\n",
       "      <th>number_special_features</th>\n",
       "      <th>key_company</th>\n",
       "      <th>key_battery_power</th>\n",
       "      <th>key_product</th>\n",
       "    </tr>\n",
       "  </thead>\n",
       "  <tbody>\n",
       "    <tr>\n",
       "      <th>0</th>\n",
       "      <td>45900.0</td>\n",
       "      <td>4.2</td>\n",
       "      <td>4</td>\n",
       "      <td>Only 1 left in stock.</td>\n",
       "      <td>16.5 x 7.6 x 0.7 cm</td>\n",
       "      <td>167.0</td>\n",
       "      <td>35</td>\n",
       "      <td>b43dfc9f-2341-11ee-bbca-3c9c0f728f90</td>\n",
       "      <td>b44d0a01-2341-11ee-b396-3c9c0f728f90</td>\n",
       "      <td>b456f2d5-2341-11ee-ae4e-3c9c0f728f90</td>\n",
       "    </tr>\n",
       "  </tbody>\n",
       "</table>\n",
       "</div>"
      ],
      "text/plain": [
       "     price  rating  total_reviews    availability_status   product_dimensions  \\\n",
       "0  45900.0     4.2              4  Only 1 left in stock.  16.5 x 7.6 x 0.7 cm   \n",
       "\n",
       "   weight  number_special_features                           key_company  \\\n",
       "0   167.0                       35  b43dfc9f-2341-11ee-bbca-3c9c0f728f90   \n",
       "\n",
       "                      key_battery_power                           key_product  \n",
       "0  b44d0a01-2341-11ee-b396-3c9c0f728f90  b456f2d5-2341-11ee-ae4e-3c9c0f728f90  "
      ]
     },
     "execution_count": 433,
     "metadata": {},
     "output_type": "execute_result"
    }
   ],
   "source": [
    "df_fact.head(1)"
   ]
  },
  {
   "cell_type": "code",
   "execution_count": 434,
   "metadata": {},
   "outputs": [],
   "source": [
    "df_fact.to_csv('../data_cleaned/df_facts.csv',index=False,sep=';')\n"
   ]
  },
  {
   "cell_type": "code",
   "execution_count": 435,
   "metadata": {},
   "outputs": [
    {
     "data": {
      "text/plain": [
       "264"
      ]
     },
     "execution_count": 435,
     "metadata": {},
     "output_type": "execute_result"
    }
   ],
   "source": [
    "len(df_fact)"
   ]
  },
  {
   "cell_type": "code",
   "execution_count": null,
   "metadata": {},
   "outputs": [],
   "source": []
  }
 ],
 "metadata": {
  "kernelspec": {
   "display_name": "Python 3",
   "language": "python",
   "name": "python3"
  },
  "language_info": {
   "codemirror_mode": {
    "name": "ipython",
    "version": 3
   },
   "file_extension": ".py",
   "mimetype": "text/x-python",
   "name": "python",
   "nbconvert_exporter": "python",
   "pygments_lexer": "ipython3",
   "version": "3.11.3"
  },
  "orig_nbformat": 4
 },
 "nbformat": 4,
 "nbformat_minor": 2
}
