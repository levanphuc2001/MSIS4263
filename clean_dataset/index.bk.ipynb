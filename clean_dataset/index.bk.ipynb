{
 "cells": [
  {
   "attachments": {},
   "cell_type": "markdown",
   "metadata": {},
   "source": [
    "# I. Import library"
   ]
  },
  {
   "cell_type": "code",
   "execution_count": 1,
   "metadata": {},
   "outputs": [],
   "source": [
    "import re\n",
    "import pandas as pd\n",
    "import numpy as np"
   ]
  },
  {
   "attachments": {},
   "cell_type": "markdown",
   "metadata": {},
   "source": [
    "# II. clean dataset"
   ]
  },
  {
   "attachments": {},
   "cell_type": "markdown",
   "metadata": {},
   "source": [
    "## 1. Load dataset"
   ]
  },
  {
   "cell_type": "code",
   "execution_count": 2,
   "metadata": {},
   "outputs": [],
   "source": [
    "df_dataset=pd.read_csv('../dataset/Amazon_Mobile_Data.csv')"
   ]
  },
  {
   "cell_type": "code",
   "execution_count": 3,
   "metadata": {},
   "outputs": [
    {
     "data": {
      "text/html": [
       "<div>\n",
       "<style scoped>\n",
       "    .dataframe tbody tr th:only-of-type {\n",
       "        vertical-align: middle;\n",
       "    }\n",
       "\n",
       "    .dataframe tbody tr th {\n",
       "        vertical-align: top;\n",
       "    }\n",
       "\n",
       "    .dataframe thead th {\n",
       "        text-align: right;\n",
       "    }\n",
       "</style>\n",
       "<table border=\"1\" class=\"dataframe\">\n",
       "  <thead>\n",
       "    <tr style=\"text-align: right;\">\n",
       "      <th></th>\n",
       "      <th>Unnamed: 0</th>\n",
       "      <th>title</th>\n",
       "      <th>price</th>\n",
       "      <th>rating</th>\n",
       "      <th>total_reviews</th>\n",
       "      <th>availability_status</th>\n",
       "      <th>manufacturer</th>\n",
       "      <th>country_of_origin</th>\n",
       "      <th>os</th>\n",
       "      <th>ram</th>\n",
       "      <th>product_dimensions</th>\n",
       "      <th>weight</th>\n",
       "      <th>batteries</th>\n",
       "      <th>special_features</th>\n",
       "      <th>form_factor</th>\n",
       "      <th>colour</th>\n",
       "      <th>battery_power_rating</th>\n",
       "      <th>product_description</th>\n",
       "      <th>reviews</th>\n",
       "      <th>reviews_rating</th>\n",
       "    </tr>\n",
       "  </thead>\n",
       "  <tbody>\n",
       "    <tr>\n",
       "      <th>0</th>\n",
       "      <td>0</td>\n",
       "      <td>OnePlus Nord CE 5G (Blue Void 8GB RAM 128GB St...</td>\n",
       "      <td>₹45900.00</td>\n",
       "      <td>4.2 out of 5 stars</td>\n",
       "      <td>4 ratings</td>\n",
       "      <td>Only 1 left in stock.</td>\n",
       "      <td>Samsung India pvt Ltd</td>\n",
       "      <td>India</td>\n",
       "      <td>Android</td>\n",
       "      <td>6 GB</td>\n",
       "      <td>16.5 x 7.6 x 0.7 cm</td>\n",
       "      <td>167 Grams</td>\n",
       "      <td>1 Lithium Polymer batteries required. (included)</td>\n",
       "      <td>Dual Bluetooth Audio, IR Blaster, X-Axis Hapti...</td>\n",
       "      <td>Touchscreen Phone</td>\n",
       "      <td>Midnight Black</td>\n",
       "      <td>6000.0</td>\n",
       "      <td>Redmi 9A comes with Octa-core Helio G25 proces...</td>\n",
       "      <td>Adequate ..|| Once again proves they sale the ...</td>\n",
       "      <td>3.0 out of 5 stars|| 1.0 out of 5 stars|| 4.0 ...</td>\n",
       "    </tr>\n",
       "    <tr>\n",
       "      <th>1</th>\n",
       "      <td>1</td>\n",
       "      <td>Samsung Galaxy M42 5G (Prism Dot Black 8GB RAM...</td>\n",
       "      <td>₹9490.00</td>\n",
       "      <td>4.3 out of 5 stars</td>\n",
       "      <td>47 ratings</td>\n",
       "      <td>In stock.</td>\n",
       "      <td>OnePlus</td>\n",
       "      <td>India</td>\n",
       "      <td>Android</td>\n",
       "      <td>8 GB</td>\n",
       "      <td>15 x 1 x 7.5 cm</td>\n",
       "      <td>161 Grams</td>\n",
       "      <td>1 Lithium Polymer batteries required. (included)</td>\n",
       "      <td>Dual SIM</td>\n",
       "      <td>Smartphone</td>\n",
       "      <td>Prism Black</td>\n",
       "      <td>4400.0</td>\n",
       "      <td>The product comes in a very proper packaging. ...</td>\n",
       "      <td>Poor screen quality|| Don't Fall on Youtubers ...</td>\n",
       "      <td>1.0 out of 5 stars|| 1.0 out of 5 stars|| 1.0 ...</td>\n",
       "    </tr>\n",
       "  </tbody>\n",
       "</table>\n",
       "</div>"
      ],
      "text/plain": [
       "   Unnamed: 0                                              title      price  \\\n",
       "0           0  OnePlus Nord CE 5G (Blue Void 8GB RAM 128GB St...  ₹45900.00   \n",
       "1           1  Samsung Galaxy M42 5G (Prism Dot Black 8GB RAM...   ₹9490.00   \n",
       "\n",
       "               rating total_reviews    availability_status  \\\n",
       "0  4.2 out of 5 stars     4 ratings  Only 1 left in stock.   \n",
       "1  4.3 out of 5 stars    47 ratings              In stock.   \n",
       "\n",
       "            manufacturer country_of_origin       os   ram  \\\n",
       "0  Samsung India pvt Ltd             India  Android  6 GB   \n",
       "1                OnePlus             India  Android  8 GB   \n",
       "\n",
       "    product_dimensions      weight  \\\n",
       "0  16.5 x 7.6 x 0.7 cm   167 Grams   \n",
       "1      15 x 1 x 7.5 cm   161 Grams   \n",
       "\n",
       "                                          batteries  \\\n",
       "0  1 Lithium Polymer batteries required. (included)   \n",
       "1  1 Lithium Polymer batteries required. (included)   \n",
       "\n",
       "                                    special_features        form_factor  \\\n",
       "0  Dual Bluetooth Audio, IR Blaster, X-Axis Hapti...  Touchscreen Phone   \n",
       "1                                           Dual SIM         Smartphone   \n",
       "\n",
       "           colour  battery_power_rating  \\\n",
       "0  Midnight Black                6000.0   \n",
       "1     Prism Black                4400.0   \n",
       "\n",
       "                                 product_description  \\\n",
       "0  Redmi 9A comes with Octa-core Helio G25 proces...   \n",
       "1  The product comes in a very proper packaging. ...   \n",
       "\n",
       "                                             reviews  \\\n",
       "0  Adequate ..|| Once again proves they sale the ...   \n",
       "1  Poor screen quality|| Don't Fall on Youtubers ...   \n",
       "\n",
       "                                      reviews_rating  \n",
       "0  3.0 out of 5 stars|| 1.0 out of 5 stars|| 4.0 ...  \n",
       "1  1.0 out of 5 stars|| 1.0 out of 5 stars|| 1.0 ...  "
      ]
     },
     "execution_count": 3,
     "metadata": {},
     "output_type": "execute_result"
    }
   ],
   "source": [
    "df_dataset.head(2)"
   ]
  },
  {
   "attachments": {},
   "cell_type": "markdown",
   "metadata": {},
   "source": [
    "## 2. drop data no need"
   ]
  },
  {
   "cell_type": "code",
   "execution_count": 4,
   "metadata": {},
   "outputs": [],
   "source": [
    "del df_dataset[\"Unnamed: 0\"]\n",
    "del df_dataset[\"reviews\"]\n",
    "del df_dataset[\"reviews_rating\"]"
   ]
  },
  {
   "cell_type": "code",
   "execution_count": 5,
   "metadata": {},
   "outputs": [
    {
     "data": {
      "text/html": [
       "<div>\n",
       "<style scoped>\n",
       "    .dataframe tbody tr th:only-of-type {\n",
       "        vertical-align: middle;\n",
       "    }\n",
       "\n",
       "    .dataframe tbody tr th {\n",
       "        vertical-align: top;\n",
       "    }\n",
       "\n",
       "    .dataframe thead th {\n",
       "        text-align: right;\n",
       "    }\n",
       "</style>\n",
       "<table border=\"1\" class=\"dataframe\">\n",
       "  <thead>\n",
       "    <tr style=\"text-align: right;\">\n",
       "      <th></th>\n",
       "      <th>title</th>\n",
       "      <th>price</th>\n",
       "      <th>rating</th>\n",
       "      <th>total_reviews</th>\n",
       "      <th>availability_status</th>\n",
       "      <th>manufacturer</th>\n",
       "      <th>country_of_origin</th>\n",
       "      <th>os</th>\n",
       "      <th>ram</th>\n",
       "      <th>product_dimensions</th>\n",
       "      <th>weight</th>\n",
       "      <th>batteries</th>\n",
       "      <th>special_features</th>\n",
       "      <th>form_factor</th>\n",
       "      <th>colour</th>\n",
       "      <th>battery_power_rating</th>\n",
       "      <th>product_description</th>\n",
       "    </tr>\n",
       "  </thead>\n",
       "  <tbody>\n",
       "    <tr>\n",
       "      <th>0</th>\n",
       "      <td>OnePlus Nord CE 5G (Blue Void 8GB RAM 128GB St...</td>\n",
       "      <td>₹45900.00</td>\n",
       "      <td>4.2 out of 5 stars</td>\n",
       "      <td>4 ratings</td>\n",
       "      <td>Only 1 left in stock.</td>\n",
       "      <td>Samsung India pvt Ltd</td>\n",
       "      <td>India</td>\n",
       "      <td>Android</td>\n",
       "      <td>6 GB</td>\n",
       "      <td>16.5 x 7.6 x 0.7 cm</td>\n",
       "      <td>167 Grams</td>\n",
       "      <td>1 Lithium Polymer batteries required. (included)</td>\n",
       "      <td>Dual Bluetooth Audio, IR Blaster, X-Axis Hapti...</td>\n",
       "      <td>Touchscreen Phone</td>\n",
       "      <td>Midnight Black</td>\n",
       "      <td>6000.0</td>\n",
       "      <td>Redmi 9A comes with Octa-core Helio G25 proces...</td>\n",
       "    </tr>\n",
       "    <tr>\n",
       "      <th>1</th>\n",
       "      <td>Samsung Galaxy M42 5G (Prism Dot Black 8GB RAM...</td>\n",
       "      <td>₹9490.00</td>\n",
       "      <td>4.3 out of 5 stars</td>\n",
       "      <td>47 ratings</td>\n",
       "      <td>In stock.</td>\n",
       "      <td>OnePlus</td>\n",
       "      <td>India</td>\n",
       "      <td>Android</td>\n",
       "      <td>8 GB</td>\n",
       "      <td>15 x 1 x 7.5 cm</td>\n",
       "      <td>161 Grams</td>\n",
       "      <td>1 Lithium Polymer batteries required. (included)</td>\n",
       "      <td>Dual SIM</td>\n",
       "      <td>Smartphone</td>\n",
       "      <td>Prism Black</td>\n",
       "      <td>4400.0</td>\n",
       "      <td>The product comes in a very proper packaging. ...</td>\n",
       "    </tr>\n",
       "  </tbody>\n",
       "</table>\n",
       "</div>"
      ],
      "text/plain": [
       "                                               title      price  \\\n",
       "0  OnePlus Nord CE 5G (Blue Void 8GB RAM 128GB St...  ₹45900.00   \n",
       "1  Samsung Galaxy M42 5G (Prism Dot Black 8GB RAM...   ₹9490.00   \n",
       "\n",
       "               rating total_reviews    availability_status  \\\n",
       "0  4.2 out of 5 stars     4 ratings  Only 1 left in stock.   \n",
       "1  4.3 out of 5 stars    47 ratings              In stock.   \n",
       "\n",
       "            manufacturer country_of_origin       os   ram  \\\n",
       "0  Samsung India pvt Ltd             India  Android  6 GB   \n",
       "1                OnePlus             India  Android  8 GB   \n",
       "\n",
       "    product_dimensions      weight  \\\n",
       "0  16.5 x 7.6 x 0.7 cm   167 Grams   \n",
       "1      15 x 1 x 7.5 cm   161 Grams   \n",
       "\n",
       "                                          batteries  \\\n",
       "0  1 Lithium Polymer batteries required. (included)   \n",
       "1  1 Lithium Polymer batteries required. (included)   \n",
       "\n",
       "                                    special_features        form_factor  \\\n",
       "0  Dual Bluetooth Audio, IR Blaster, X-Axis Hapti...  Touchscreen Phone   \n",
       "1                                           Dual SIM         Smartphone   \n",
       "\n",
       "           colour  battery_power_rating  \\\n",
       "0  Midnight Black                6000.0   \n",
       "1     Prism Black                4400.0   \n",
       "\n",
       "                                 product_description  \n",
       "0  Redmi 9A comes with Octa-core Helio G25 proces...  \n",
       "1  The product comes in a very proper packaging. ...  "
      ]
     },
     "execution_count": 5,
     "metadata": {},
     "output_type": "execute_result"
    }
   ],
   "source": [
    "df_dataset.head(2)"
   ]
  },
  {
   "attachments": {},
   "cell_type": "markdown",
   "metadata": {},
   "source": [
    "## 3. reformat price"
   ]
  },
  {
   "cell_type": "code",
   "execution_count": 6,
   "metadata": {},
   "outputs": [
    {
     "data": {
      "text/plain": [
       "0    ₹45900.00\n",
       "1     ₹9490.00\n",
       "2    ₹44000.00\n",
       "3    ₹21490.00\n",
       "4    ₹39999.00\n",
       "Name: price, dtype: object"
      ]
     },
     "execution_count": 6,
     "metadata": {},
     "output_type": "execute_result"
    }
   ],
   "source": [
    "df_dataset[\"price\"][0:5]"
   ]
  },
  {
   "cell_type": "code",
   "execution_count": 7,
   "metadata": {},
   "outputs": [
    {
     "data": {
      "text/plain": [
       "'45900.0'"
      ]
     },
     "execution_count": 7,
     "metadata": {},
     "output_type": "execute_result"
    }
   ],
   "source": [
    "df_dataset[\"price\"][0][1:-1]"
   ]
  },
  {
   "cell_type": "code",
   "execution_count": 8,
   "metadata": {},
   "outputs": [],
   "source": [
    "df_dataset[\"price\"]=df_dataset[\"price\"].apply( lambda x: x[1:-1] )"
   ]
  },
  {
   "cell_type": "code",
   "execution_count": 9,
   "metadata": {},
   "outputs": [
    {
     "data": {
      "text/html": [
       "<div>\n",
       "<style scoped>\n",
       "    .dataframe tbody tr th:only-of-type {\n",
       "        vertical-align: middle;\n",
       "    }\n",
       "\n",
       "    .dataframe tbody tr th {\n",
       "        vertical-align: top;\n",
       "    }\n",
       "\n",
       "    .dataframe thead th {\n",
       "        text-align: right;\n",
       "    }\n",
       "</style>\n",
       "<table border=\"1\" class=\"dataframe\">\n",
       "  <thead>\n",
       "    <tr style=\"text-align: right;\">\n",
       "      <th></th>\n",
       "      <th>title</th>\n",
       "      <th>price</th>\n",
       "      <th>rating</th>\n",
       "      <th>total_reviews</th>\n",
       "      <th>availability_status</th>\n",
       "      <th>manufacturer</th>\n",
       "      <th>country_of_origin</th>\n",
       "      <th>os</th>\n",
       "      <th>ram</th>\n",
       "      <th>product_dimensions</th>\n",
       "      <th>weight</th>\n",
       "      <th>batteries</th>\n",
       "      <th>special_features</th>\n",
       "      <th>form_factor</th>\n",
       "      <th>colour</th>\n",
       "      <th>battery_power_rating</th>\n",
       "      <th>product_description</th>\n",
       "    </tr>\n",
       "  </thead>\n",
       "  <tbody>\n",
       "    <tr>\n",
       "      <th>0</th>\n",
       "      <td>OnePlus Nord CE 5G (Blue Void 8GB RAM 128GB St...</td>\n",
       "      <td>45900.0</td>\n",
       "      <td>4.2 out of 5 stars</td>\n",
       "      <td>4 ratings</td>\n",
       "      <td>Only 1 left in stock.</td>\n",
       "      <td>Samsung India pvt Ltd</td>\n",
       "      <td>India</td>\n",
       "      <td>Android</td>\n",
       "      <td>6 GB</td>\n",
       "      <td>16.5 x 7.6 x 0.7 cm</td>\n",
       "      <td>167 Grams</td>\n",
       "      <td>1 Lithium Polymer batteries required. (included)</td>\n",
       "      <td>Dual Bluetooth Audio, IR Blaster, X-Axis Hapti...</td>\n",
       "      <td>Touchscreen Phone</td>\n",
       "      <td>Midnight Black</td>\n",
       "      <td>6000.0</td>\n",
       "      <td>Redmi 9A comes with Octa-core Helio G25 proces...</td>\n",
       "    </tr>\n",
       "  </tbody>\n",
       "</table>\n",
       "</div>"
      ],
      "text/plain": [
       "                                               title    price  \\\n",
       "0  OnePlus Nord CE 5G (Blue Void 8GB RAM 128GB St...  45900.0   \n",
       "\n",
       "               rating total_reviews    availability_status  \\\n",
       "0  4.2 out of 5 stars     4 ratings  Only 1 left in stock.   \n",
       "\n",
       "            manufacturer country_of_origin       os   ram  \\\n",
       "0  Samsung India pvt Ltd             India  Android  6 GB   \n",
       "\n",
       "    product_dimensions      weight  \\\n",
       "0  16.5 x 7.6 x 0.7 cm   167 Grams   \n",
       "\n",
       "                                          batteries  \\\n",
       "0  1 Lithium Polymer batteries required. (included)   \n",
       "\n",
       "                                    special_features        form_factor  \\\n",
       "0  Dual Bluetooth Audio, IR Blaster, X-Axis Hapti...  Touchscreen Phone   \n",
       "\n",
       "           colour  battery_power_rating  \\\n",
       "0  Midnight Black                6000.0   \n",
       "\n",
       "                                 product_description  \n",
       "0  Redmi 9A comes with Octa-core Helio G25 proces...  "
      ]
     },
     "execution_count": 9,
     "metadata": {},
     "output_type": "execute_result"
    }
   ],
   "source": [
    "df_dataset.head(1)"
   ]
  },
  {
   "attachments": {},
   "cell_type": "markdown",
   "metadata": {},
   "source": [
    "## 4. reformat rating"
   ]
  },
  {
   "cell_type": "code",
   "execution_count": 10,
   "metadata": {},
   "outputs": [
    {
     "data": {
      "text/plain": [
       "array(['4.2 out of 5 stars', '4.3 out of 5 stars', '4.4 out of 5 stars',\n",
       "       '2.0 out of 5 stars', '2.5 out of 5 stars', '3.3 out of 5 stars',\n",
       "       '4.0 out of 5 stars', '3.1 out of 5 stars', '3.7 out of 5 stars',\n",
       "       '4.1 out of 5 stars', '5.0 out of 5 stars', '3.4 out of 5 stars',\n",
       "       '2.3 out of 5 stars', '4.5 out of 5 stars', '2.9 out of 5 stars',\n",
       "       '3.9 out of 5 stars', '3.8 out of 5 stars', '3.5 out of 5 stars',\n",
       "       '3.6 out of 5 stars', '4.6 out of 5 stars', '3.0 out of 5 stars',\n",
       "       '3.2 out of 5 stars', '2.4 out of 5 stars', '1.0 out of 5 stars'],\n",
       "      dtype=object)"
      ]
     },
     "execution_count": 10,
     "metadata": {},
     "output_type": "execute_result"
    }
   ],
   "source": [
    "df_dataset[\"rating\"].unique()"
   ]
  },
  {
   "cell_type": "code",
   "execution_count": 11,
   "metadata": {},
   "outputs": [],
   "source": [
    "df_dataset[\"rating\"]=df_dataset[\"rating\"].apply( lambda x:x[0:3])"
   ]
  },
  {
   "attachments": {},
   "cell_type": "markdown",
   "metadata": {},
   "source": [
    "## 5. reformat total_reviews"
   ]
  },
  {
   "cell_type": "code",
   "execution_count": 12,
   "metadata": {},
   "outputs": [
    {
     "data": {
      "text/html": [
       "<div>\n",
       "<style scoped>\n",
       "    .dataframe tbody tr th:only-of-type {\n",
       "        vertical-align: middle;\n",
       "    }\n",
       "\n",
       "    .dataframe tbody tr th {\n",
       "        vertical-align: top;\n",
       "    }\n",
       "\n",
       "    .dataframe thead th {\n",
       "        text-align: right;\n",
       "    }\n",
       "</style>\n",
       "<table border=\"1\" class=\"dataframe\">\n",
       "  <thead>\n",
       "    <tr style=\"text-align: right;\">\n",
       "      <th></th>\n",
       "      <th>title</th>\n",
       "      <th>price</th>\n",
       "      <th>rating</th>\n",
       "      <th>total_reviews</th>\n",
       "      <th>availability_status</th>\n",
       "      <th>manufacturer</th>\n",
       "      <th>country_of_origin</th>\n",
       "      <th>os</th>\n",
       "      <th>ram</th>\n",
       "      <th>product_dimensions</th>\n",
       "      <th>weight</th>\n",
       "      <th>batteries</th>\n",
       "      <th>special_features</th>\n",
       "      <th>form_factor</th>\n",
       "      <th>colour</th>\n",
       "      <th>battery_power_rating</th>\n",
       "      <th>product_description</th>\n",
       "    </tr>\n",
       "  </thead>\n",
       "  <tbody>\n",
       "    <tr>\n",
       "      <th>0</th>\n",
       "      <td>OnePlus Nord CE 5G (Blue Void 8GB RAM 128GB St...</td>\n",
       "      <td>45900.0</td>\n",
       "      <td>4.2</td>\n",
       "      <td>4 ratings</td>\n",
       "      <td>Only 1 left in stock.</td>\n",
       "      <td>Samsung India pvt Ltd</td>\n",
       "      <td>India</td>\n",
       "      <td>Android</td>\n",
       "      <td>6 GB</td>\n",
       "      <td>16.5 x 7.6 x 0.7 cm</td>\n",
       "      <td>167 Grams</td>\n",
       "      <td>1 Lithium Polymer batteries required. (included)</td>\n",
       "      <td>Dual Bluetooth Audio, IR Blaster, X-Axis Hapti...</td>\n",
       "      <td>Touchscreen Phone</td>\n",
       "      <td>Midnight Black</td>\n",
       "      <td>6000.0</td>\n",
       "      <td>Redmi 9A comes with Octa-core Helio G25 proces...</td>\n",
       "    </tr>\n",
       "  </tbody>\n",
       "</table>\n",
       "</div>"
      ],
      "text/plain": [
       "                                               title    price rating  \\\n",
       "0  OnePlus Nord CE 5G (Blue Void 8GB RAM 128GB St...  45900.0    4.2   \n",
       "\n",
       "  total_reviews    availability_status           manufacturer  \\\n",
       "0     4 ratings  Only 1 left in stock.  Samsung India pvt Ltd   \n",
       "\n",
       "  country_of_origin       os   ram   product_dimensions      weight  \\\n",
       "0             India  Android  6 GB  16.5 x 7.6 x 0.7 cm   167 Grams   \n",
       "\n",
       "                                          batteries  \\\n",
       "0  1 Lithium Polymer batteries required. (included)   \n",
       "\n",
       "                                    special_features        form_factor  \\\n",
       "0  Dual Bluetooth Audio, IR Blaster, X-Axis Hapti...  Touchscreen Phone   \n",
       "\n",
       "           colour  battery_power_rating  \\\n",
       "0  Midnight Black                6000.0   \n",
       "\n",
       "                                 product_description  \n",
       "0  Redmi 9A comes with Octa-core Helio G25 proces...  "
      ]
     },
     "execution_count": 12,
     "metadata": {},
     "output_type": "execute_result"
    }
   ],
   "source": [
    "df_dataset.head(1)"
   ]
  },
  {
   "cell_type": "code",
   "execution_count": 13,
   "metadata": {},
   "outputs": [
    {
     "data": {
      "text/plain": [
       "array(['4 ratings', '47 ratings', '327 ratings', '11236 ratings',\n",
       "       '1238 ratings', '48 ratings', '9 ratings', '15 ratings',\n",
       "       '4489 ratings', '13 ratings'], dtype=object)"
      ]
     },
     "execution_count": 13,
     "metadata": {},
     "output_type": "execute_result"
    }
   ],
   "source": [
    "df_dataset[\"total_reviews\"].unique()[0:10]"
   ]
  },
  {
   "cell_type": "code",
   "execution_count": 14,
   "metadata": {},
   "outputs": [
    {
     "data": {
      "text/plain": [
       "array(['4', '47', '327', '11236', '1238', '48', '9', '15', '4489', '13',\n",
       "       '46', '5264', '3814', '402', '35', '52867', '77740', '8', '1396',\n",
       "       '392', '2103', '952', '18', '21078', '2705', '489', '4133', '25',\n",
       "       '411', '388', '5', '39', '701', '20993', '62', '93164', '65795',\n",
       "       '1963', '1220', '14576', '49080', '27', '44', '30056', '4984',\n",
       "       '383', '769', '2935', '310', '708', '539', '1', '21689', '21077',\n",
       "       '26', '3137', '205', '985', '4573', '11624', '70126', '961', '785',\n",
       "       '3623', '67307', '724', '88', '1340', '332', '7', '6981', '20',\n",
       "       '37', '11522', '28', '640', '66356', '2463', '449', '70', '81',\n",
       "       '616', '1922', '1086', '8367', '79', '490', '85525', '1646',\n",
       "       '13703', '71', '4986', '270', '1043', '943', '10', '588', '927',\n",
       "       '2', '2334', '871', '65796', '51', '20994', '14', '2194', '86',\n",
       "       '354', '19', '3', '60', '986', '33', '2214', '78', '43', '1356',\n",
       "       '12', '1405', '833', '2041'], dtype=object)"
      ]
     },
     "execution_count": 14,
     "metadata": {},
     "output_type": "execute_result"
    }
   ],
   "source": [
    "df_dataset[\"total_reviews\"].apply(lambda x: x.split()[0]).unique()"
   ]
  },
  {
   "cell_type": "code",
   "execution_count": 15,
   "metadata": {},
   "outputs": [],
   "source": [
    "df_dataset[\"total_reviews\"]=df_dataset[\"total_reviews\"].apply(lambda x: x.split()[0])"
   ]
  },
  {
   "cell_type": "code",
   "execution_count": 16,
   "metadata": {},
   "outputs": [
    {
     "data": {
      "text/html": [
       "<div>\n",
       "<style scoped>\n",
       "    .dataframe tbody tr th:only-of-type {\n",
       "        vertical-align: middle;\n",
       "    }\n",
       "\n",
       "    .dataframe tbody tr th {\n",
       "        vertical-align: top;\n",
       "    }\n",
       "\n",
       "    .dataframe thead th {\n",
       "        text-align: right;\n",
       "    }\n",
       "</style>\n",
       "<table border=\"1\" class=\"dataframe\">\n",
       "  <thead>\n",
       "    <tr style=\"text-align: right;\">\n",
       "      <th></th>\n",
       "      <th>title</th>\n",
       "      <th>price</th>\n",
       "      <th>rating</th>\n",
       "      <th>total_reviews</th>\n",
       "      <th>availability_status</th>\n",
       "      <th>manufacturer</th>\n",
       "      <th>country_of_origin</th>\n",
       "      <th>os</th>\n",
       "      <th>ram</th>\n",
       "      <th>product_dimensions</th>\n",
       "      <th>weight</th>\n",
       "      <th>batteries</th>\n",
       "      <th>special_features</th>\n",
       "      <th>form_factor</th>\n",
       "      <th>colour</th>\n",
       "      <th>battery_power_rating</th>\n",
       "      <th>product_description</th>\n",
       "    </tr>\n",
       "  </thead>\n",
       "  <tbody>\n",
       "    <tr>\n",
       "      <th>0</th>\n",
       "      <td>OnePlus Nord CE 5G (Blue Void 8GB RAM 128GB St...</td>\n",
       "      <td>45900.0</td>\n",
       "      <td>4.2</td>\n",
       "      <td>4</td>\n",
       "      <td>Only 1 left in stock.</td>\n",
       "      <td>Samsung India pvt Ltd</td>\n",
       "      <td>India</td>\n",
       "      <td>Android</td>\n",
       "      <td>6 GB</td>\n",
       "      <td>16.5 x 7.6 x 0.7 cm</td>\n",
       "      <td>167 Grams</td>\n",
       "      <td>1 Lithium Polymer batteries required. (included)</td>\n",
       "      <td>Dual Bluetooth Audio, IR Blaster, X-Axis Hapti...</td>\n",
       "      <td>Touchscreen Phone</td>\n",
       "      <td>Midnight Black</td>\n",
       "      <td>6000.0</td>\n",
       "      <td>Redmi 9A comes with Octa-core Helio G25 proces...</td>\n",
       "    </tr>\n",
       "  </tbody>\n",
       "</table>\n",
       "</div>"
      ],
      "text/plain": [
       "                                               title    price rating  \\\n",
       "0  OnePlus Nord CE 5G (Blue Void 8GB RAM 128GB St...  45900.0    4.2   \n",
       "\n",
       "  total_reviews    availability_status           manufacturer  \\\n",
       "0             4  Only 1 left in stock.  Samsung India pvt Ltd   \n",
       "\n",
       "  country_of_origin       os   ram   product_dimensions      weight  \\\n",
       "0             India  Android  6 GB  16.5 x 7.6 x 0.7 cm   167 Grams   \n",
       "\n",
       "                                          batteries  \\\n",
       "0  1 Lithium Polymer batteries required. (included)   \n",
       "\n",
       "                                    special_features        form_factor  \\\n",
       "0  Dual Bluetooth Audio, IR Blaster, X-Axis Hapti...  Touchscreen Phone   \n",
       "\n",
       "           colour  battery_power_rating  \\\n",
       "0  Midnight Black                6000.0   \n",
       "\n",
       "                                 product_description  \n",
       "0  Redmi 9A comes with Octa-core Helio G25 proces...  "
      ]
     },
     "execution_count": 16,
     "metadata": {},
     "output_type": "execute_result"
    }
   ],
   "source": [
    "df_dataset.head(1)"
   ]
  },
  {
   "attachments": {},
   "cell_type": "markdown",
   "metadata": {},
   "source": [
    "## 6. reformat ram"
   ]
  },
  {
   "cell_type": "code",
   "execution_count": 17,
   "metadata": {},
   "outputs": [
    {
     "data": {
      "text/plain": [
       "array(['6 GB', '8 GB', '32 MB', '4 GB', '8GB', '3 GB', '12 GB', '2 GB',\n",
       "       '32 GB', '64 GB', '512 MB', '1 GB'], dtype=object)"
      ]
     },
     "execution_count": 17,
     "metadata": {},
     "output_type": "execute_result"
    }
   ],
   "source": [
    "df_dataset.ram.unique()"
   ]
  },
  {
   "cell_type": "code",
   "execution_count": 18,
   "metadata": {},
   "outputs": [
    {
     "data": {
      "text/plain": [
       "array(['6 ', '8 ', '32 ', '4 ', '8', '3 ', '12 ', '2 ', '64 ', '512 ',\n",
       "       '1 '], dtype=object)"
      ]
     },
     "execution_count": 18,
     "metadata": {},
     "output_type": "execute_result"
    }
   ],
   "source": [
    "df_dataset[\"ram\"].apply(lambda x  :re.sub(r'[a-zA-Z]', '', x)).unique()\n"
   ]
  },
  {
   "cell_type": "code",
   "execution_count": 19,
   "metadata": {},
   "outputs": [],
   "source": [
    "df_dataset[\"ram\"]=df_dataset[\"ram\"].apply(lambda x  :re.sub(r'[a-zA-Z]', '', x))\n"
   ]
  },
  {
   "cell_type": "code",
   "execution_count": 20,
   "metadata": {},
   "outputs": [
    {
     "data": {
      "text/html": [
       "<div>\n",
       "<style scoped>\n",
       "    .dataframe tbody tr th:only-of-type {\n",
       "        vertical-align: middle;\n",
       "    }\n",
       "\n",
       "    .dataframe tbody tr th {\n",
       "        vertical-align: top;\n",
       "    }\n",
       "\n",
       "    .dataframe thead th {\n",
       "        text-align: right;\n",
       "    }\n",
       "</style>\n",
       "<table border=\"1\" class=\"dataframe\">\n",
       "  <thead>\n",
       "    <tr style=\"text-align: right;\">\n",
       "      <th></th>\n",
       "      <th>title</th>\n",
       "      <th>price</th>\n",
       "      <th>rating</th>\n",
       "      <th>total_reviews</th>\n",
       "      <th>availability_status</th>\n",
       "      <th>manufacturer</th>\n",
       "      <th>country_of_origin</th>\n",
       "      <th>os</th>\n",
       "      <th>ram</th>\n",
       "      <th>product_dimensions</th>\n",
       "      <th>weight</th>\n",
       "      <th>batteries</th>\n",
       "      <th>special_features</th>\n",
       "      <th>form_factor</th>\n",
       "      <th>colour</th>\n",
       "      <th>battery_power_rating</th>\n",
       "      <th>product_description</th>\n",
       "    </tr>\n",
       "  </thead>\n",
       "  <tbody>\n",
       "    <tr>\n",
       "      <th>0</th>\n",
       "      <td>OnePlus Nord CE 5G (Blue Void 8GB RAM 128GB St...</td>\n",
       "      <td>45900.0</td>\n",
       "      <td>4.2</td>\n",
       "      <td>4</td>\n",
       "      <td>Only 1 left in stock.</td>\n",
       "      <td>Samsung India pvt Ltd</td>\n",
       "      <td>India</td>\n",
       "      <td>Android</td>\n",
       "      <td>6</td>\n",
       "      <td>16.5 x 7.6 x 0.7 cm</td>\n",
       "      <td>167 Grams</td>\n",
       "      <td>1 Lithium Polymer batteries required. (included)</td>\n",
       "      <td>Dual Bluetooth Audio, IR Blaster, X-Axis Hapti...</td>\n",
       "      <td>Touchscreen Phone</td>\n",
       "      <td>Midnight Black</td>\n",
       "      <td>6000.0</td>\n",
       "      <td>Redmi 9A comes with Octa-core Helio G25 proces...</td>\n",
       "    </tr>\n",
       "  </tbody>\n",
       "</table>\n",
       "</div>"
      ],
      "text/plain": [
       "                                               title    price rating  \\\n",
       "0  OnePlus Nord CE 5G (Blue Void 8GB RAM 128GB St...  45900.0    4.2   \n",
       "\n",
       "  total_reviews    availability_status           manufacturer  \\\n",
       "0             4  Only 1 left in stock.  Samsung India pvt Ltd   \n",
       "\n",
       "  country_of_origin       os ram   product_dimensions      weight  \\\n",
       "0             India  Android  6   16.5 x 7.6 x 0.7 cm   167 Grams   \n",
       "\n",
       "                                          batteries  \\\n",
       "0  1 Lithium Polymer batteries required. (included)   \n",
       "\n",
       "                                    special_features        form_factor  \\\n",
       "0  Dual Bluetooth Audio, IR Blaster, X-Axis Hapti...  Touchscreen Phone   \n",
       "\n",
       "           colour  battery_power_rating  \\\n",
       "0  Midnight Black                6000.0   \n",
       "\n",
       "                                 product_description  \n",
       "0  Redmi 9A comes with Octa-core Helio G25 proces...  "
      ]
     },
     "execution_count": 20,
     "metadata": {},
     "output_type": "execute_result"
    }
   ],
   "source": [
    "df_dataset.head(1)"
   ]
  },
  {
   "cell_type": "code",
   "execution_count": 21,
   "metadata": {},
   "outputs": [
    {
     "data": {
      "text/plain": [
       "array(['6 ', '8 ', '32 ', '4 ', '8', '3 ', '12 ', '2 ', '64 ', '512 ',\n",
       "       '1 '], dtype=object)"
      ]
     },
     "execution_count": 21,
     "metadata": {},
     "output_type": "execute_result"
    }
   ],
   "source": [
    "df_dataset.ram.unique()"
   ]
  },
  {
   "attachments": {},
   "cell_type": "markdown",
   "metadata": {},
   "source": [
    "## 7. reformat weight"
   ]
  },
  {
   "cell_type": "code",
   "execution_count": 22,
   "metadata": {},
   "outputs": [
    {
     "data": {
      "text/plain": [
       "array([' 167 Grams', ' 161 Grams', ' 196 Grams', ' 175 Grams',\n",
       "       ' 199 Grams', ' 193 Grams', ' 141.75 Grams', ' 0.37 Grams',\n",
       "       ' 840 Grams', ' 180 Grams', ' 194 Grams', ' 69 Grams',\n",
       "       ' 209 Grams', ' 197 Grams', ' 141 Grams', ' 215 Grams',\n",
       "       ' 450 Grams', ' 185.5 Grams', ' 190 Grams', ' 188 Grams',\n",
       "       ' 420 Grams', ' 480 Grams', ' 157 Grams', ' 218 Grams',\n",
       "       ' 198 Grams', ' 184 Grams', ' 177 Grams', ' 187 Grams',\n",
       "       ' 213 Grams', ' 172 Grams', ' 500 Grams', ' 173 Grams',\n",
       "       ' 176 Grams', ' 179 Grams', ' 216 Grams', ' 192 Grams',\n",
       "       ' 202 Grams', ' 170 Grams', ' 169 Grams', ' 214 Grams',\n",
       "       ' 690 Grams', ' 360 Grams', ' 186 Grams', ' 400 Grams',\n",
       "       ' 206 Grams', ' 205 Grams', ' 185 Grams', ' 203 Grams',\n",
       "       ' 210 Grams', ' 730 Grams', ' 300 Grams', ' 165 Grams',\n",
       "       ' 392 Grams', ' 160 Grams', ' 183 Grams', ' 207 Grams',\n",
       "       ' 208 Grams', ' 105 Grams', ' 191 Grams', ' 120 Grams',\n",
       "       ' 900 Grams', ' 700 Grams', ' 154 Grams', ' 181 Grams',\n",
       "       ' 114 Grams', ' 156 Grams'], dtype=object)"
      ]
     },
     "execution_count": 22,
     "metadata": {},
     "output_type": "execute_result"
    }
   ],
   "source": [
    "df_dataset[\"weight\"].unique()"
   ]
  },
  {
   "cell_type": "code",
   "execution_count": 23,
   "metadata": {},
   "outputs": [],
   "source": [
    "df_dataset[\"weight\"]=df_dataset[\"weight\"].apply(lambda x: x.split(\" \")[1])\n"
   ]
  },
  {
   "cell_type": "code",
   "execution_count": 24,
   "metadata": {},
   "outputs": [
    {
     "data": {
      "text/html": [
       "<div>\n",
       "<style scoped>\n",
       "    .dataframe tbody tr th:only-of-type {\n",
       "        vertical-align: middle;\n",
       "    }\n",
       "\n",
       "    .dataframe tbody tr th {\n",
       "        vertical-align: top;\n",
       "    }\n",
       "\n",
       "    .dataframe thead th {\n",
       "        text-align: right;\n",
       "    }\n",
       "</style>\n",
       "<table border=\"1\" class=\"dataframe\">\n",
       "  <thead>\n",
       "    <tr style=\"text-align: right;\">\n",
       "      <th></th>\n",
       "      <th>title</th>\n",
       "      <th>price</th>\n",
       "      <th>rating</th>\n",
       "      <th>total_reviews</th>\n",
       "      <th>availability_status</th>\n",
       "      <th>manufacturer</th>\n",
       "      <th>country_of_origin</th>\n",
       "      <th>os</th>\n",
       "      <th>ram</th>\n",
       "      <th>product_dimensions</th>\n",
       "      <th>weight</th>\n",
       "      <th>batteries</th>\n",
       "      <th>special_features</th>\n",
       "      <th>form_factor</th>\n",
       "      <th>colour</th>\n",
       "      <th>battery_power_rating</th>\n",
       "      <th>product_description</th>\n",
       "    </tr>\n",
       "  </thead>\n",
       "  <tbody>\n",
       "    <tr>\n",
       "      <th>0</th>\n",
       "      <td>OnePlus Nord CE 5G (Blue Void 8GB RAM 128GB St...</td>\n",
       "      <td>45900.0</td>\n",
       "      <td>4.2</td>\n",
       "      <td>4</td>\n",
       "      <td>Only 1 left in stock.</td>\n",
       "      <td>Samsung India pvt Ltd</td>\n",
       "      <td>India</td>\n",
       "      <td>Android</td>\n",
       "      <td>6</td>\n",
       "      <td>16.5 x 7.6 x 0.7 cm</td>\n",
       "      <td>167</td>\n",
       "      <td>1 Lithium Polymer batteries required. (included)</td>\n",
       "      <td>Dual Bluetooth Audio, IR Blaster, X-Axis Hapti...</td>\n",
       "      <td>Touchscreen Phone</td>\n",
       "      <td>Midnight Black</td>\n",
       "      <td>6000.0</td>\n",
       "      <td>Redmi 9A comes with Octa-core Helio G25 proces...</td>\n",
       "    </tr>\n",
       "  </tbody>\n",
       "</table>\n",
       "</div>"
      ],
      "text/plain": [
       "                                               title    price rating  \\\n",
       "0  OnePlus Nord CE 5G (Blue Void 8GB RAM 128GB St...  45900.0    4.2   \n",
       "\n",
       "  total_reviews    availability_status           manufacturer  \\\n",
       "0             4  Only 1 left in stock.  Samsung India pvt Ltd   \n",
       "\n",
       "  country_of_origin       os ram   product_dimensions weight  \\\n",
       "0             India  Android  6   16.5 x 7.6 x 0.7 cm    167   \n",
       "\n",
       "                                          batteries  \\\n",
       "0  1 Lithium Polymer batteries required. (included)   \n",
       "\n",
       "                                    special_features        form_factor  \\\n",
       "0  Dual Bluetooth Audio, IR Blaster, X-Axis Hapti...  Touchscreen Phone   \n",
       "\n",
       "           colour  battery_power_rating  \\\n",
       "0  Midnight Black                6000.0   \n",
       "\n",
       "                                 product_description  \n",
       "0  Redmi 9A comes with Octa-core Helio G25 proces...  "
      ]
     },
     "execution_count": 24,
     "metadata": {},
     "output_type": "execute_result"
    }
   ],
   "source": [
    "df_dataset.head(1)"
   ]
  },
  {
   "attachments": {},
   "cell_type": "markdown",
   "metadata": {},
   "source": [
    "## 8. format os"
   ]
  },
  {
   "cell_type": "code",
   "execution_count": 25,
   "metadata": {},
   "outputs": [
    {
     "name": "stdout",
     "output_type": "stream",
     "text": [
      "['Android' 'Android 10.0' 'Android 11.0'\n",
      " 'Funtouch OS 11.1 (Based on Android 11)' 'Android 11'\n",
      " 'Android 11, MIUI 12' 'HiOS 7.5, Android 11 (Go Edition)'\n",
      " 'OneU 3.1, Android 11' 'Funtouch OS 11(Based on Android 11)' 'SPREADTRUM'\n",
      " 'Android 10.0 (Go), Android 10.0 (Go Edition, HiOS 6.2'\n",
      " 'Android 11, Funtouch OS 11.1' 'Android 6.0' 'MiUI 12.5 (Android 11)'\n",
      " 'Funtouch OS 11.1 Global (Based on Android 11)'\n",
      " 'Go Edition, Android 10.0' 'Funtouch OS 10.5 based on Android 10'\n",
      " 'ThreadX' 'HiOS 7.6, Android 11' 'OneUI 3.1, Android 11.0'\n",
      " 'Funtouch OS 11 (Based on Android 11)' 'Stock Android 10' 'Android 8.1'\n",
      " 'HiOS 7.5, Android 11' 'MIUI 12' 'Android 9.0']\n",
      "264\n"
     ]
    }
   ],
   "source": [
    "\n",
    "df_os_raw=pd.DataFrame()\n",
    "df_os_raw['os']=df_dataset['os']\n",
    "print(df_os_raw['os'].unique())\n",
    "print(len(df_os_raw))\n",
    "# df_os_raw= df_os_raw.drop_duplicates()\n",
    "# print(len(df_os_raw))\n"
   ]
  },
  {
   "cell_type": "code",
   "execution_count": 26,
   "metadata": {},
   "outputs": [
    {
     "name": "stdout",
     "output_type": "stream",
     "text": [
      "                                                    os\n",
      "0                                              Android\n",
      "2                                         Android 10.0\n",
      "5                                         Android 11.0\n",
      "6               Funtouch OS 11.1 (Based on Android 11)\n",
      "7                                           Android 11\n",
      "11                                 Android 11, MIUI 12\n",
      "15                   HiOS 7.5, Android 11 (Go Edition)\n",
      "18                                OneU 3.1, Android 11\n",
      "28                 Funtouch OS 11(Based on Android 11)\n",
      "34                                          SPREADTRUM\n",
      "38   Android 10.0 (Go), Android 10.0 (Go Edition, H...\n",
      "39                        Android 11, Funtouch OS 11.1\n",
      "41                                         Android 6.0\n",
      "59                              MiUI 12.5 (Android 11)\n",
      "74       Funtouch OS 11.1 Global (Based on Android 11)\n",
      "76                            Go Edition, Android 10.0\n",
      "77                Funtouch OS 10.5 based on Android 10\n",
      "79                                             ThreadX\n",
      "89                                HiOS 7.6, Android 11\n",
      "100                            OneUI 3.1, Android 11.0\n",
      "113               Funtouch OS 11 (Based on Android 11)\n",
      "136                                   Stock Android 10\n",
      "193                                        Android 8.1\n",
      "208                               HiOS 7.5, Android 11\n",
      "235                                            MIUI 12\n",
      "262                                        Android 9.0\n"
     ]
    }
   ],
   "source": [
    "print(df_os_raw.drop_duplicates())\n"
   ]
  },
  {
   "cell_type": "code",
   "execution_count": 27,
   "metadata": {},
   "outputs": [
    {
     "data": {
      "text/plain": [
       "0         Android\n",
       "1         Android\n",
       "2      Android 10\n",
       "3         Android\n",
       "4         Android\n",
       "          ...    \n",
       "259       Android\n",
       "260       Android\n",
       "261       Android\n",
       "262     Android 9\n",
       "263       Android\n",
       "Name: os, Length: 264, dtype: object"
      ]
     },
     "execution_count": 27,
     "metadata": {},
     "output_type": "execute_result"
    }
   ],
   "source": [
    "df_os_raw[\"os\"].apply(lambda x: x.replace(\".0\",\"\"))"
   ]
  },
  {
   "cell_type": "code",
   "execution_count": 28,
   "metadata": {},
   "outputs": [
    {
     "name": "stdout",
     "output_type": "stream",
     "text": [
      "0         Android\n",
      "1         Android\n",
      "2      Android 10\n",
      "3         Android\n",
      "4         Android\n",
      "          ...    \n",
      "259       Android\n",
      "260       Android\n",
      "261       Android\n",
      "262     Android 9\n",
      "263       Android\n",
      "Name: os, Length: 264, dtype: object\n"
     ]
    }
   ],
   "source": [
    "\n",
    "\n",
    "\n",
    "df_os_raw[\"os\"]=df_os_raw[\"os\"].apply(lambda x: x.replace(\".0\",\"\"))\n",
    "print(df_os_raw[\"os\"].apply(lambda x: x.split(\"(Based on\")[0]))\n",
    "df_os_raw[\"os\"]=df_os_raw[\"os\"].apply(lambda x: x.split(\"(Based on\")[0])\n",
    "df_os_raw[\"os\"]=df_os_raw[\"os\"].apply(lambda x: x.split(\"based on\")[0])\n",
    "\n"
   ]
  },
  {
   "cell_type": "code",
   "execution_count": 29,
   "metadata": {},
   "outputs": [],
   "source": [
    "\n",
    "list_os_real=[]\n",
    "list_os_raw=[]\n",
    "\n",
    "for df_os_raw_index in df_os_raw.index:\n",
    "  if (\",\" in df_os_raw['os'][df_os_raw_index]) or (\"(\" in df_os_raw['os'][df_os_raw_index]):\n",
    "    list_os_raw.append(df_os_raw['os'][df_os_raw_index].strip())\n",
    "  else:\n",
    "    list_os_real.append(df_os_raw['os'][df_os_raw_index].strip())\n"
   ]
  },
  {
   "cell_type": "code",
   "execution_count": 30,
   "metadata": {},
   "outputs": [
    {
     "name": "stdout",
     "output_type": "stream",
     "text": [
      "True\n",
      "220\n",
      "44\n"
     ]
    }
   ],
   "source": [
    "\n",
    "print(len(list_os_real)+len(list_os_raw)==len(df_os_raw))\n",
    "print(len(list_os_real))\n",
    "print(len(list_os_raw))\n",
    "\n",
    "\n"
   ]
  },
  {
   "cell_type": "code",
   "execution_count": 31,
   "metadata": {},
   "outputs": [
    {
     "data": {
      "text/plain": [
       "['Android',\n",
       " 'Android',\n",
       " 'Android 10',\n",
       " 'Android',\n",
       " 'Android',\n",
       " 'Android 11',\n",
       " 'Funtouch OS 11.1',\n",
       " 'Android 11',\n",
       " 'Android',\n",
       " 'Android',\n",
       " 'Android',\n",
       " 'Android',\n",
       " 'Android',\n",
       " 'Funtouch OS 11.1',\n",
       " 'Android',\n",
       " 'Android',\n",
       " 'Android 11',\n",
       " 'Android',\n",
       " 'Android',\n",
       " 'Android',\n",
       " 'Android 10',\n",
       " 'Android',\n",
       " 'Android',\n",
       " 'Android',\n",
       " 'Funtouch OS 11',\n",
       " 'Android',\n",
       " 'Android',\n",
       " 'Android',\n",
       " 'Android',\n",
       " 'SPREADTRUM',\n",
       " 'Android 11',\n",
       " 'Android',\n",
       " 'Android',\n",
       " 'Funtouch OS 11.1',\n",
       " 'Android 6',\n",
       " 'Android',\n",
       " 'Android',\n",
       " 'Android 11',\n",
       " 'Android 11',\n",
       " 'Android 10',\n",
       " 'Android',\n",
       " 'Android',\n",
       " 'Funtouch OS 11.1',\n",
       " 'Android',\n",
       " 'Android',\n",
       " 'Android',\n",
       " 'Funtouch OS 11.1',\n",
       " 'Android',\n",
       " 'Android 11',\n",
       " 'Android',\n",
       " 'Android',\n",
       " 'Android 11',\n",
       " 'Android',\n",
       " 'Android',\n",
       " 'Android',\n",
       " 'Android',\n",
       " 'Android',\n",
       " 'Android',\n",
       " 'Android',\n",
       " 'Android',\n",
       " 'Android',\n",
       " 'Android',\n",
       " 'Funtouch OS 11.1',\n",
       " 'Android',\n",
       " 'Funtouch OS 11.1 Global',\n",
       " 'Android',\n",
       " 'Funtouch OS 10.5',\n",
       " 'Funtouch OS 11.1 Global',\n",
       " 'ThreadX',\n",
       " 'Android',\n",
       " 'Android',\n",
       " 'Android',\n",
       " 'Funtouch OS 11.1',\n",
       " 'Android',\n",
       " 'Android',\n",
       " 'Android',\n",
       " 'Android',\n",
       " 'Android',\n",
       " 'Android',\n",
       " 'Android',\n",
       " 'Android',\n",
       " 'Android',\n",
       " 'Android 11',\n",
       " 'Android',\n",
       " 'Android',\n",
       " 'Android',\n",
       " 'Android 10',\n",
       " 'Android',\n",
       " 'Android',\n",
       " 'Android 11',\n",
       " 'Android',\n",
       " 'Funtouch OS 11.1 Global',\n",
       " 'Android',\n",
       " 'Android',\n",
       " 'Android',\n",
       " 'Android',\n",
       " 'Funtouch OS 11',\n",
       " 'Android',\n",
       " 'Android',\n",
       " 'Android',\n",
       " 'Android',\n",
       " 'Android',\n",
       " 'Android',\n",
       " 'Funtouch OS 11',\n",
       " 'Android',\n",
       " 'Android',\n",
       " 'Android 10',\n",
       " 'Android',\n",
       " 'Android',\n",
       " 'Android',\n",
       " 'Android',\n",
       " 'Android 11',\n",
       " 'Funtouch OS 11.1',\n",
       " 'Android',\n",
       " 'Android 11',\n",
       " 'Android 11',\n",
       " 'Android',\n",
       " 'Stock Android 10',\n",
       " 'Android',\n",
       " 'Android',\n",
       " 'Android',\n",
       " 'Android 6',\n",
       " 'Android',\n",
       " 'Android',\n",
       " 'Android 10',\n",
       " 'Funtouch OS 10.5',\n",
       " 'Android',\n",
       " 'Android 10',\n",
       " 'Funtouch OS 11.1 Global',\n",
       " 'Funtouch OS 11.1 Global',\n",
       " 'Android',\n",
       " 'Android 11',\n",
       " 'Android',\n",
       " 'Android 11',\n",
       " 'Android',\n",
       " 'Funtouch OS 11.1 Global',\n",
       " 'Android 11',\n",
       " 'Android',\n",
       " 'Android 11',\n",
       " 'ThreadX',\n",
       " 'Android 10',\n",
       " 'Android',\n",
       " 'Android 10',\n",
       " 'Funtouch OS 11.1 Global',\n",
       " 'Android 10',\n",
       " 'Android 11',\n",
       " 'Android',\n",
       " 'Funtouch OS 11.1 Global',\n",
       " 'Android',\n",
       " 'Android',\n",
       " 'Funtouch OS 11.1',\n",
       " 'Android',\n",
       " 'Android',\n",
       " 'Android 11',\n",
       " 'Android',\n",
       " 'Android',\n",
       " 'Funtouch OS 11',\n",
       " 'Android',\n",
       " 'Android',\n",
       " 'Android 10',\n",
       " 'Android',\n",
       " 'Android 8.1',\n",
       " 'Android 11',\n",
       " 'Android',\n",
       " 'Android',\n",
       " 'Android 8.1',\n",
       " 'Android',\n",
       " 'Funtouch OS 11.1',\n",
       " 'Android',\n",
       " 'Funtouch OS 11.1 Global',\n",
       " 'Android',\n",
       " 'Android',\n",
       " 'Android',\n",
       " 'Funtouch OS 11',\n",
       " 'Android 10',\n",
       " 'Android',\n",
       " 'Android 11',\n",
       " 'Android',\n",
       " 'Android',\n",
       " 'Android 10',\n",
       " 'Android 11',\n",
       " 'Android',\n",
       " 'Android',\n",
       " 'Funtouch OS 11.1',\n",
       " 'Funtouch OS 11.1 Global',\n",
       " 'Android 11',\n",
       " 'Funtouch OS 11.1',\n",
       " 'Android',\n",
       " 'Android',\n",
       " 'Android',\n",
       " 'Android 11',\n",
       " 'Funtouch OS 11.1',\n",
       " 'Android 6',\n",
       " 'Android',\n",
       " 'MIUI 12',\n",
       " 'Android',\n",
       " 'Android',\n",
       " 'Funtouch OS 11.1',\n",
       " 'Android',\n",
       " 'Android 11',\n",
       " 'Android',\n",
       " 'Android 10',\n",
       " 'Android',\n",
       " 'Android',\n",
       " 'Android 11',\n",
       " 'Android',\n",
       " 'Funtouch OS 11.1',\n",
       " 'Android',\n",
       " 'Android',\n",
       " 'Android',\n",
       " 'Android',\n",
       " 'Android',\n",
       " 'Android',\n",
       " 'Funtouch OS 11.1 Global',\n",
       " 'Android 11',\n",
       " 'Android',\n",
       " 'Android',\n",
       " 'Android',\n",
       " 'Android 9',\n",
       " 'Android']"
      ]
     },
     "execution_count": 31,
     "metadata": {},
     "output_type": "execute_result"
    }
   ],
   "source": [
    "list_os_real"
   ]
  },
  {
   "cell_type": "code",
   "execution_count": 32,
   "metadata": {},
   "outputs": [
    {
     "data": {
      "text/plain": [
       "['Android 11, MIUI 12',\n",
       " 'HiOS 7.5, Android 11 (Go Edition)',\n",
       " 'OneU 3.1, Android 11',\n",
       " 'OneU 3.1, Android 11',\n",
       " 'OneU 3.1, Android 11',\n",
       " 'Android 10 (Go), Android 10 (Go Edition, HiOS 6.2',\n",
       " 'Android 11, Funtouch OS 11.1',\n",
       " 'MiUI 12.5 (Android 11)',\n",
       " 'Android 11, MIUI 12',\n",
       " 'Android 11, Funtouch OS 11.1',\n",
       " 'Go Edition, Android 10',\n",
       " 'Android 11, MIUI 12',\n",
       " 'HiOS 7.6, Android 11',\n",
       " 'Android 10 (Go), Android 10 (Go Edition, HiOS 6.2',\n",
       " 'Android 11, MIUI 12',\n",
       " 'OneUI 3.1, Android 11',\n",
       " 'Android 11, Funtouch OS 11.1',\n",
       " 'Android 11, MIUI 12',\n",
       " 'Android 11, MIUI 12',\n",
       " 'Android 11, Funtouch OS 11.1',\n",
       " 'HiOS 7.5, Android 11 (Go Edition)',\n",
       " 'Android 11, Funtouch OS 11.1',\n",
       " 'OneU 3.1, Android 11',\n",
       " 'OneU 3.1, Android 11',\n",
       " 'MiUI 12.5 (Android 11)',\n",
       " 'HiOS 7.6, Android 11',\n",
       " 'MiUI 12.5 (Android 11)',\n",
       " 'HiOS 7.5, Android 11 (Go Edition)',\n",
       " 'MiUI 12.5 (Android 11)',\n",
       " 'OneUI 3.1, Android 11',\n",
       " 'OneU 3.1, Android 11',\n",
       " 'OneU 3.1, Android 11',\n",
       " 'Android 11, Funtouch OS 11.1',\n",
       " 'Android 11, Funtouch OS 11.1',\n",
       " 'HiOS 7.6, Android 11',\n",
       " 'HiOS 7.5, Android 11',\n",
       " 'HiOS 7.6, Android 11',\n",
       " 'Android 11, Funtouch OS 11.1',\n",
       " 'Android 11, Funtouch OS 11.1',\n",
       " 'MiUI 12.5 (Android 11)',\n",
       " 'MiUI 12.5 (Android 11)',\n",
       " 'Android 11, Funtouch OS 11.1',\n",
       " 'OneU 3.1, Android 11',\n",
       " 'Android 11, Funtouch OS 11.1']"
      ]
     },
     "execution_count": 32,
     "metadata": {},
     "output_type": "execute_result"
    }
   ],
   "source": [
    "list_os_raw\n"
   ]
  },
  {
   "cell_type": "code",
   "execution_count": 33,
   "metadata": {},
   "outputs": [],
   "source": [
    "\n",
    "\n",
    "list_os_raw_v2=[]\n",
    "for index in range(0,len(list_os_raw)):\n",
    "  if(list_os_raw[index]=='Go Edition, Android 10'):\n",
    "    list_os_raw[index]='Go Edition- Android 10'\n",
    "    list_os_raw_v2.append(list_os_raw[index])\n",
    "  elif(list_os_raw[index]=='MiUI 12.5 (Android 11)'):\n",
    "    list_os_raw_v2.append(list_os_raw[index].split(\" \")[0])\n",
    "  else:\n",
    "    for os_i in list_os_raw[index].split(\", \"):\n",
    "      if (\"Android\" not in  os_i):\n",
    "        #print(os_i)\n",
    "        list_os_raw_v2.append(os_i.strip())\n",
    "      \n",
    "\n",
    "\n"
   ]
  },
  {
   "cell_type": "code",
   "execution_count": 34,
   "metadata": {},
   "outputs": [],
   "source": [
    "len(list_os_raw_v2)==len(list_os_raw)\n",
    "\n",
    "\n",
    "list_os_raw_v2\n",
    "\n",
    "list_os= np.concatenate((list_os_real, list_os_raw_v2))\n",
    "\n",
    "\n",
    "\n",
    "df_os=pd.DataFrame()\n",
    "df_os['os']=list_os\n",
    "df_dataset['os']= df_os['os']"
   ]
  },
  {
   "attachments": {},
   "cell_type": "markdown",
   "metadata": {},
   "source": [
    "## 9. reformat batteries"
   ]
  },
  {
   "cell_type": "code",
   "execution_count": 35,
   "metadata": {},
   "outputs": [
    {
     "data": {
      "text/html": [
       "<div>\n",
       "<style scoped>\n",
       "    .dataframe tbody tr th:only-of-type {\n",
       "        vertical-align: middle;\n",
       "    }\n",
       "\n",
       "    .dataframe tbody tr th {\n",
       "        vertical-align: top;\n",
       "    }\n",
       "\n",
       "    .dataframe thead th {\n",
       "        text-align: right;\n",
       "    }\n",
       "</style>\n",
       "<table border=\"1\" class=\"dataframe\">\n",
       "  <thead>\n",
       "    <tr style=\"text-align: right;\">\n",
       "      <th></th>\n",
       "      <th>title</th>\n",
       "      <th>price</th>\n",
       "      <th>rating</th>\n",
       "      <th>total_reviews</th>\n",
       "      <th>availability_status</th>\n",
       "      <th>manufacturer</th>\n",
       "      <th>country_of_origin</th>\n",
       "      <th>os</th>\n",
       "      <th>ram</th>\n",
       "      <th>product_dimensions</th>\n",
       "      <th>weight</th>\n",
       "      <th>batteries</th>\n",
       "      <th>special_features</th>\n",
       "      <th>form_factor</th>\n",
       "      <th>colour</th>\n",
       "      <th>battery_power_rating</th>\n",
       "      <th>product_description</th>\n",
       "    </tr>\n",
       "  </thead>\n",
       "  <tbody>\n",
       "    <tr>\n",
       "      <th>0</th>\n",
       "      <td>OnePlus Nord CE 5G (Blue Void 8GB RAM 128GB St...</td>\n",
       "      <td>45900.0</td>\n",
       "      <td>4.2</td>\n",
       "      <td>4</td>\n",
       "      <td>Only 1 left in stock.</td>\n",
       "      <td>Samsung India pvt Ltd</td>\n",
       "      <td>India</td>\n",
       "      <td>Android</td>\n",
       "      <td>6</td>\n",
       "      <td>16.5 x 7.6 x 0.7 cm</td>\n",
       "      <td>167</td>\n",
       "      <td>1 Lithium Polymer batteries required. (included)</td>\n",
       "      <td>Dual Bluetooth Audio, IR Blaster, X-Axis Hapti...</td>\n",
       "      <td>Touchscreen Phone</td>\n",
       "      <td>Midnight Black</td>\n",
       "      <td>6000.0</td>\n",
       "      <td>Redmi 9A comes with Octa-core Helio G25 proces...</td>\n",
       "    </tr>\n",
       "  </tbody>\n",
       "</table>\n",
       "</div>"
      ],
      "text/plain": [
       "                                               title    price rating  \\\n",
       "0  OnePlus Nord CE 5G (Blue Void 8GB RAM 128GB St...  45900.0    4.2   \n",
       "\n",
       "  total_reviews    availability_status           manufacturer  \\\n",
       "0             4  Only 1 left in stock.  Samsung India pvt Ltd   \n",
       "\n",
       "  country_of_origin       os ram   product_dimensions weight  \\\n",
       "0             India  Android  6   16.5 x 7.6 x 0.7 cm    167   \n",
       "\n",
       "                                          batteries  \\\n",
       "0  1 Lithium Polymer batteries required. (included)   \n",
       "\n",
       "                                    special_features        form_factor  \\\n",
       "0  Dual Bluetooth Audio, IR Blaster, X-Axis Hapti...  Touchscreen Phone   \n",
       "\n",
       "           colour  battery_power_rating  \\\n",
       "0  Midnight Black                6000.0   \n",
       "\n",
       "                                 product_description  \n",
       "0  Redmi 9A comes with Octa-core Helio G25 proces...  "
      ]
     },
     "execution_count": 35,
     "metadata": {},
     "output_type": "execute_result"
    }
   ],
   "source": [
    "df_dataset.head(1)"
   ]
  },
  {
   "cell_type": "code",
   "execution_count": 36,
   "metadata": {},
   "outputs": [
    {
     "data": {
      "text/plain": [
       "array(['1 Lithium Polymer batteries required. (included)',\n",
       "       '1 Lithium ion batteries required. (included)',\n",
       "       '1 A batteries required. (included)',\n",
       "       '2 Lithium ion batteries required. (included)',\n",
       "       '1 AAA batteries required. (included)',\n",
       "       '1 C batteries required. (included)'], dtype=object)"
      ]
     },
     "execution_count": 36,
     "metadata": {},
     "output_type": "execute_result"
    }
   ],
   "source": [
    "\n",
    "\n",
    "df_dataset.batteries.unique()"
   ]
  },
  {
   "cell_type": "code",
   "execution_count": 37,
   "metadata": {},
   "outputs": [
    {
     "data": {
      "text/plain": [
       "array(['1 Lithium Polymer', '1 Lithium ion', '1 A', '2 Lithium ion',\n",
       "       '1 AAA', '1 C'], dtype=object)"
      ]
     },
     "execution_count": 37,
     "metadata": {},
     "output_type": "execute_result"
    }
   ],
   "source": [
    "df_dataset.batteries.apply(lambda x: x.replace(\" batteries required. (included)\",\"\")).unique()"
   ]
  },
  {
   "cell_type": "code",
   "execution_count": 38,
   "metadata": {},
   "outputs": [],
   "source": [
    "df_dataset.batteries=df_dataset.batteries.apply(lambda x: x.replace(\" batteries required. (included)\",\"\"))"
   ]
  },
  {
   "attachments": {},
   "cell_type": "markdown",
   "metadata": {},
   "source": [
    "## 10. company"
   ]
  },
  {
   "cell_type": "code",
   "execution_count": 39,
   "metadata": {},
   "outputs": [
    {
     "data": {
      "text/html": [
       "<div>\n",
       "<style scoped>\n",
       "    .dataframe tbody tr th:only-of-type {\n",
       "        vertical-align: middle;\n",
       "    }\n",
       "\n",
       "    .dataframe tbody tr th {\n",
       "        vertical-align: top;\n",
       "    }\n",
       "\n",
       "    .dataframe thead th {\n",
       "        text-align: right;\n",
       "    }\n",
       "</style>\n",
       "<table border=\"1\" class=\"dataframe\">\n",
       "  <thead>\n",
       "    <tr style=\"text-align: right;\">\n",
       "      <th></th>\n",
       "      <th>title</th>\n",
       "      <th>price</th>\n",
       "      <th>rating</th>\n",
       "      <th>total_reviews</th>\n",
       "      <th>availability_status</th>\n",
       "      <th>manufacturer</th>\n",
       "      <th>country_of_origin</th>\n",
       "      <th>os</th>\n",
       "      <th>ram</th>\n",
       "      <th>product_dimensions</th>\n",
       "      <th>weight</th>\n",
       "      <th>batteries</th>\n",
       "      <th>special_features</th>\n",
       "      <th>form_factor</th>\n",
       "      <th>colour</th>\n",
       "      <th>battery_power_rating</th>\n",
       "      <th>product_description</th>\n",
       "    </tr>\n",
       "  </thead>\n",
       "  <tbody>\n",
       "    <tr>\n",
       "      <th>0</th>\n",
       "      <td>OnePlus Nord CE 5G (Blue Void 8GB RAM 128GB St...</td>\n",
       "      <td>45900.0</td>\n",
       "      <td>4.2</td>\n",
       "      <td>4</td>\n",
       "      <td>Only 1 left in stock.</td>\n",
       "      <td>Samsung India pvt Ltd</td>\n",
       "      <td>India</td>\n",
       "      <td>Android</td>\n",
       "      <td>6</td>\n",
       "      <td>16.5 x 7.6 x 0.7 cm</td>\n",
       "      <td>167</td>\n",
       "      <td>1 Lithium Polymer</td>\n",
       "      <td>Dual Bluetooth Audio, IR Blaster, X-Axis Hapti...</td>\n",
       "      <td>Touchscreen Phone</td>\n",
       "      <td>Midnight Black</td>\n",
       "      <td>6000.0</td>\n",
       "      <td>Redmi 9A comes with Octa-core Helio G25 proces...</td>\n",
       "    </tr>\n",
       "  </tbody>\n",
       "</table>\n",
       "</div>"
      ],
      "text/plain": [
       "                                               title    price rating  \\\n",
       "0  OnePlus Nord CE 5G (Blue Void 8GB RAM 128GB St...  45900.0    4.2   \n",
       "\n",
       "  total_reviews    availability_status           manufacturer  \\\n",
       "0             4  Only 1 left in stock.  Samsung India pvt Ltd   \n",
       "\n",
       "  country_of_origin       os ram   product_dimensions weight  \\\n",
       "0             India  Android  6   16.5 x 7.6 x 0.7 cm    167   \n",
       "\n",
       "           batteries                                   special_features  \\\n",
       "0  1 Lithium Polymer  Dual Bluetooth Audio, IR Blaster, X-Axis Hapti...   \n",
       "\n",
       "         form_factor          colour  battery_power_rating  \\\n",
       "0  Touchscreen Phone  Midnight Black                6000.0   \n",
       "\n",
       "                                 product_description  \n",
       "0  Redmi 9A comes with Octa-core Helio G25 proces...  "
      ]
     },
     "execution_count": 39,
     "metadata": {},
     "output_type": "execute_result"
    }
   ],
   "source": [
    "df_dataset.head(1)"
   ]
  },
  {
   "cell_type": "code",
   "execution_count": 40,
   "metadata": {},
   "outputs": [],
   "source": [
    "df_dataset.manufacturer=df_dataset.manufacturer.apply(lambda x : x.lower())"
   ]
  },
  {
   "cell_type": "code",
   "execution_count": 41,
   "metadata": {},
   "outputs": [
    {
     "data": {
      "text/plain": [
       "array(['samsung india pvt ltd', 'oneplus',\n",
       "       'oppo mobiles india privte limited', 'oppo mobiles india pvt ltd',\n",
       "       'bhagwati products ltd. sp1-1 industrial area karoli tapukara extn. bhiwadi rajasthan india',\n",
       "       'sky cable', 'oppo mobiles india private limited', 'oppo',\n",
       "       'xiaomi', 'padget electronics private limited', 'realme',\n",
       "       'samsung india electronics private limited', 'hmd global', 'vivo',\n",
       "       'samsung india private limited', 'iqoo',\n",
       "       'rising stars mobile india private limited', 'redmi',\n",
       "       'vivo mobile india pvt ltd', 'gionee', 'g mobiles india', 'lg',\n",
       "       'google llc 1600 amphitheatre pkwy mountain view ca 94043 united states',\n",
       "       'samsung', 'panasonic', 'google', 'oppo mobiles india pvt. ltd.',\n",
       "       'motorola india pvt ltd', 'lg electronics india pvt ltd',\n",
       "       'lava international', 's mobile devices private ltd',\n",
       "       'g mobile india', 'g mobiles', 'karbonn', 'micromax',\n",
       "       'g mobiles pvt ltd', 'maplin'], dtype=object)"
      ]
     },
     "execution_count": 41,
     "metadata": {},
     "output_type": "execute_result"
    }
   ],
   "source": [
    "df_dataset.manufacturer.unique()"
   ]
  },
  {
   "cell_type": "code",
   "execution_count": 42,
   "metadata": {},
   "outputs": [],
   "source": [
    "df_dataset.manufacturer=df_dataset.manufacturer.apply(lambda x : \"g mobile\" if   (\"g mobile\" in x) else x )"
   ]
  },
  {
   "cell_type": "code",
   "execution_count": 43,
   "metadata": {},
   "outputs": [
    {
     "data": {
      "text/plain": [
       "array(['samsung india pvt ltd', 'oneplus',\n",
       "       'oppo mobiles india privte limited', 'oppo mobiles india pvt ltd',\n",
       "       'bhagwati products ltd. sp1-1 industrial area karoli tapukara extn. bhiwadi rajasthan india',\n",
       "       'sky cable', 'oppo mobiles india private limited', 'oppo',\n",
       "       'xiaomi', 'padget electronics private limited', 'realme',\n",
       "       'samsung india electronics private limited', 'hmd global', 'vivo',\n",
       "       'samsung india private limited', 'iqoo',\n",
       "       'rising stars mobile india private limited', 'redmi',\n",
       "       'vivo mobile india pvt ltd', 'gionee', 'g mobile', 'lg',\n",
       "       'google llc 1600 amphitheatre pkwy mountain view ca 94043 united states',\n",
       "       'samsung', 'panasonic', 'google', 'oppo mobiles india pvt. ltd.',\n",
       "       'motorola india pvt ltd', 'lg electronics india pvt ltd',\n",
       "       'lava international', 's mobile devices private ltd', 'karbonn',\n",
       "       'micromax', 'maplin'], dtype=object)"
      ]
     },
     "execution_count": 43,
     "metadata": {},
     "output_type": "execute_result"
    }
   ],
   "source": [
    "df_dataset.manufacturer.unique()"
   ]
  },
  {
   "cell_type": "code",
   "execution_count": 44,
   "metadata": {},
   "outputs": [],
   "source": [
    "df_dataset.manufacturer=df_dataset.manufacturer.apply(lambda x : \"oppo\" if   (\"oppo\" in x) else x )"
   ]
  },
  {
   "cell_type": "code",
   "execution_count": 45,
   "metadata": {},
   "outputs": [
    {
     "data": {
      "text/plain": [
       "array(['samsung india pvt ltd', 'oneplus', 'oppo',\n",
       "       'bhagwati products ltd. sp1-1 industrial area karoli tapukara extn. bhiwadi rajasthan india',\n",
       "       'sky cable', 'xiaomi', 'padget electronics private limited',\n",
       "       'realme', 'samsung india electronics private limited',\n",
       "       'hmd global', 'vivo', 'samsung india private limited', 'iqoo',\n",
       "       'rising stars mobile india private limited', 'redmi',\n",
       "       'vivo mobile india pvt ltd', 'gionee', 'g mobile', 'lg',\n",
       "       'google llc 1600 amphitheatre pkwy mountain view ca 94043 united states',\n",
       "       'samsung', 'panasonic', 'google', 'motorola india pvt ltd',\n",
       "       'lg electronics india pvt ltd', 'lava international',\n",
       "       's mobile devices private ltd', 'karbonn', 'micromax', 'maplin'],\n",
       "      dtype=object)"
      ]
     },
     "execution_count": 45,
     "metadata": {},
     "output_type": "execute_result"
    }
   ],
   "source": [
    "df_dataset.manufacturer.unique()"
   ]
  },
  {
   "cell_type": "code",
   "execution_count": 46,
   "metadata": {},
   "outputs": [],
   "source": [
    "df_dataset.manufacturer=df_dataset.manufacturer.apply(lambda x : \"samsung\" if   (\"samsung\" in x) else x )"
   ]
  },
  {
   "cell_type": "code",
   "execution_count": 47,
   "metadata": {},
   "outputs": [
    {
     "data": {
      "text/plain": [
       "array(['samsung', 'oneplus', 'oppo',\n",
       "       'bhagwati products ltd. sp1-1 industrial area karoli tapukara extn. bhiwadi rajasthan india',\n",
       "       'sky cable', 'xiaomi', 'padget electronics private limited',\n",
       "       'realme', 'hmd global', 'vivo', 'iqoo',\n",
       "       'rising stars mobile india private limited', 'redmi',\n",
       "       'vivo mobile india pvt ltd', 'gionee', 'g mobile', 'lg',\n",
       "       'google llc 1600 amphitheatre pkwy mountain view ca 94043 united states',\n",
       "       'panasonic', 'google', 'motorola india pvt ltd',\n",
       "       'lg electronics india pvt ltd', 'lava international',\n",
       "       's mobile devices private ltd', 'karbonn', 'micromax', 'maplin'],\n",
       "      dtype=object)"
      ]
     },
     "execution_count": 47,
     "metadata": {},
     "output_type": "execute_result"
    }
   ],
   "source": [
    "df_dataset.manufacturer.unique()"
   ]
  },
  {
   "cell_type": "code",
   "execution_count": 48,
   "metadata": {},
   "outputs": [],
   "source": [
    "df_dataset.manufacturer=df_dataset.manufacturer.apply(lambda x : \"google\" if   (\"google\" in x) else x )"
   ]
  },
  {
   "cell_type": "code",
   "execution_count": 49,
   "metadata": {},
   "outputs": [
    {
     "data": {
      "text/plain": [
       "array(['samsung', 'oneplus', 'oppo',\n",
       "       'bhagwati products ltd. sp1-1 industrial area karoli tapukara extn. bhiwadi rajasthan india',\n",
       "       'sky cable', 'xiaomi', 'padget electronics private limited',\n",
       "       'realme', 'hmd global', 'vivo', 'iqoo',\n",
       "       'rising stars mobile india private limited', 'redmi',\n",
       "       'vivo mobile india pvt ltd', 'gionee', 'g mobile', 'lg', 'google',\n",
       "       'panasonic', 'motorola india pvt ltd',\n",
       "       'lg electronics india pvt ltd', 'lava international',\n",
       "       's mobile devices private ltd', 'karbonn', 'micromax', 'maplin'],\n",
       "      dtype=object)"
      ]
     },
     "execution_count": 49,
     "metadata": {},
     "output_type": "execute_result"
    }
   ],
   "source": [
    "df_dataset.manufacturer.unique()"
   ]
  },
  {
   "cell_type": "code",
   "execution_count": 50,
   "metadata": {},
   "outputs": [],
   "source": [
    "df_dataset.manufacturer=df_dataset.manufacturer.apply(lambda x : \"lg\" if   (\"lg\" in x) else x )"
   ]
  },
  {
   "cell_type": "code",
   "execution_count": 51,
   "metadata": {},
   "outputs": [
    {
     "data": {
      "text/plain": [
       "array(['samsung', 'oneplus', 'oppo',\n",
       "       'bhagwati products ltd. sp1-1 industrial area karoli tapukara extn. bhiwadi rajasthan india',\n",
       "       'sky cable', 'xiaomi', 'padget electronics private limited',\n",
       "       'realme', 'hmd global', 'vivo', 'iqoo',\n",
       "       'rising stars mobile india private limited', 'redmi',\n",
       "       'vivo mobile india pvt ltd', 'gionee', 'g mobile', 'lg', 'google',\n",
       "       'panasonic', 'motorola india pvt ltd', 'lava international',\n",
       "       's mobile devices private ltd', 'karbonn', 'micromax', 'maplin'],\n",
       "      dtype=object)"
      ]
     },
     "execution_count": 51,
     "metadata": {},
     "output_type": "execute_result"
    }
   ],
   "source": [
    "df_dataset.manufacturer.unique()"
   ]
  },
  {
   "cell_type": "code",
   "execution_count": 52,
   "metadata": {},
   "outputs": [],
   "source": [
    "df_dataset.manufacturer=df_dataset.manufacturer.apply(lambda x : \"vivo\" if   (\"vivo\" in x) else x )"
   ]
  },
  {
   "cell_type": "code",
   "execution_count": 53,
   "metadata": {},
   "outputs": [
    {
     "name": "stdout",
     "output_type": "stream",
     "text": [
      "samsung\n",
      "oneplus\n",
      "oppo\n",
      "bhagwati products ltd. sp1-1 industrial area karoli tapukara extn. bhiwadi rajasthan india\n",
      "sky cable\n",
      "xiaomi\n",
      "padget electronics private limited\n",
      "realme\n",
      "hmd global\n",
      "vivo\n",
      "iqoo\n",
      "rising stars mobile india private limited\n",
      "redmi\n",
      "gionee\n",
      "g mobile\n",
      "lg\n",
      "google\n",
      "panasonic\n",
      "motorola india pvt ltd\n",
      "lava international\n",
      "s mobile devices private ltd\n",
      "karbonn\n",
      "micromax\n",
      "maplin\n"
     ]
    }
   ],
   "source": [
    "for i in df_dataset.manufacturer.unique():\n",
    "  print(i)"
   ]
  },
  {
   "attachments": {},
   "cell_type": "markdown",
   "metadata": {},
   "source": [
    "## 11. save data after clean"
   ]
  },
  {
   "cell_type": "code",
   "execution_count": 54,
   "metadata": {},
   "outputs": [],
   "source": [
    "df_dataset.to_csv('../data_cleaned/Amazon_Mobile_Data_cleaned.csv',index=False)"
   ]
  },
  {
   "attachments": {},
   "cell_type": "markdown",
   "metadata": {},
   "source": [
    "# III. Dim"
   ]
  },
  {
   "attachments": {},
   "cell_type": "markdown",
   "metadata": {},
   "source": [
    "## 1. Load data clean "
   ]
  },
  {
   "cell_type": "code",
   "execution_count": 165,
   "metadata": {},
   "outputs": [
    {
     "data": {
      "text/html": [
       "<div>\n",
       "<style scoped>\n",
       "    .dataframe tbody tr th:only-of-type {\n",
       "        vertical-align: middle;\n",
       "    }\n",
       "\n",
       "    .dataframe tbody tr th {\n",
       "        vertical-align: top;\n",
       "    }\n",
       "\n",
       "    .dataframe thead th {\n",
       "        text-align: right;\n",
       "    }\n",
       "</style>\n",
       "<table border=\"1\" class=\"dataframe\">\n",
       "  <thead>\n",
       "    <tr style=\"text-align: right;\">\n",
       "      <th></th>\n",
       "      <th>title</th>\n",
       "      <th>price</th>\n",
       "      <th>rating</th>\n",
       "      <th>total_reviews</th>\n",
       "      <th>availability_status</th>\n",
       "      <th>manufacturer</th>\n",
       "      <th>country_of_origin</th>\n",
       "      <th>os</th>\n",
       "      <th>ram</th>\n",
       "      <th>product_dimensions</th>\n",
       "      <th>weight</th>\n",
       "      <th>batteries</th>\n",
       "      <th>special_features</th>\n",
       "      <th>form_factor</th>\n",
       "      <th>colour</th>\n",
       "      <th>battery_power_rating</th>\n",
       "      <th>product_description</th>\n",
       "    </tr>\n",
       "  </thead>\n",
       "  <tbody>\n",
       "    <tr>\n",
       "      <th>0</th>\n",
       "      <td>OnePlus Nord CE 5G (Blue Void 8GB RAM 128GB St...</td>\n",
       "      <td>45900.0</td>\n",
       "      <td>4.2</td>\n",
       "      <td>4</td>\n",
       "      <td>Only 1 left in stock.</td>\n",
       "      <td>samsung</td>\n",
       "      <td>India</td>\n",
       "      <td>Android</td>\n",
       "      <td>6</td>\n",
       "      <td>16.5 x 7.6 x 0.7 cm</td>\n",
       "      <td>167.0</td>\n",
       "      <td>1 Lithium Polymer</td>\n",
       "      <td>Dual Bluetooth Audio, IR Blaster, X-Axis Hapti...</td>\n",
       "      <td>Touchscreen Phone</td>\n",
       "      <td>Midnight Black</td>\n",
       "      <td>6000.0</td>\n",
       "      <td>Redmi 9A comes with Octa-core Helio G25 proces...</td>\n",
       "    </tr>\n",
       "  </tbody>\n",
       "</table>\n",
       "</div>"
      ],
      "text/plain": [
       "                                               title    price  rating  \\\n",
       "0  OnePlus Nord CE 5G (Blue Void 8GB RAM 128GB St...  45900.0     4.2   \n",
       "\n",
       "   total_reviews    availability_status manufacturer country_of_origin  \\\n",
       "0              4  Only 1 left in stock.      samsung             India   \n",
       "\n",
       "        os  ram   product_dimensions  weight          batteries  \\\n",
       "0  Android    6  16.5 x 7.6 x 0.7 cm   167.0  1 Lithium Polymer   \n",
       "\n",
       "                                    special_features        form_factor  \\\n",
       "0  Dual Bluetooth Audio, IR Blaster, X-Axis Hapti...  Touchscreen Phone   \n",
       "\n",
       "           colour  battery_power_rating  \\\n",
       "0  Midnight Black                6000.0   \n",
       "\n",
       "                                 product_description  \n",
       "0  Redmi 9A comes with Octa-core Helio G25 proces...  "
      ]
     },
     "execution_count": 165,
     "metadata": {},
     "output_type": "execute_result"
    }
   ],
   "source": [
    "df_dataset_cleaned=pd.read_csv('../data_cleaned/Amazon_Mobile_Data_cleaned.csv')\n",
    "df_dataset_cleaned.head(1)"
   ]
  },
  {
   "cell_type": "code",
   "execution_count": 56,
   "metadata": {},
   "outputs": [
    {
     "data": {
      "text/plain": [
       "Index(['title', 'price', 'rating', 'total_reviews', 'availability_status',\n",
       "       'manufacturer', 'country_of_origin', 'os', 'ram', 'product_dimensions',\n",
       "       'weight', 'batteries', 'special_features', 'form_factor', 'colour',\n",
       "       'battery_power_rating', 'product_description'],\n",
       "      dtype='object')"
      ]
     },
     "execution_count": 56,
     "metadata": {},
     "output_type": "execute_result"
    }
   ],
   "source": [
    "df_dataset_cleaned.columns"
   ]
  },
  {
   "attachments": {},
   "cell_type": "markdown",
   "metadata": {},
   "source": [
    "## 2. Dim product_dimensions ( length x width x height cm)"
   ]
  },
  {
   "cell_type": "code",
   "execution_count": 57,
   "metadata": {},
   "outputs": [
    {
     "data": {
      "text/plain": [
       "array(['16.5 x 7.6 x 0.7 cm', '15 x 1 x 7.5 cm', '16.3 x 7.5 x 0.8 cm',\n",
       "       '16.1 x 7.6 x 0.9 cm', '15.4 x 0.9 x 7.4 cm',\n",
       "       '0.9 x 7.6 x 16.4 cm', '16.39 x 7.53 x 0.85 cm',\n",
       "       '16.2 x 1 x 7.7 cm', '16.6 x 7.6 x 0.8 cm', '16 x 0.7 x 7.5 cm'],\n",
       "      dtype=object)"
      ]
     },
     "execution_count": 57,
     "metadata": {},
     "output_type": "execute_result"
    }
   ],
   "source": [
    "df_dataset_cleaned[\"product_dimensions\"].unique()[0:10]"
   ]
  },
  {
   "cell_type": "code",
   "execution_count": 58,
   "metadata": {},
   "outputs": [
    {
     "data": {
      "text/plain": [
       "264"
      ]
     },
     "execution_count": 58,
     "metadata": {},
     "output_type": "execute_result"
    }
   ],
   "source": [
    "len(df_dataset_cleaned[\"product_dimensions\"])"
   ]
  },
  {
   "cell_type": "code",
   "execution_count": 59,
   "metadata": {},
   "outputs": [
    {
     "data": {
      "text/plain": [
       "0    16.5 x 7.6 x 0.7 cm\n",
       "1        15 x 1 x 7.5 cm\n",
       "2    16.3 x 7.5 x 0.8 cm\n",
       "3    16.1 x 7.6 x 0.9 cm\n",
       "4    15.4 x 0.9 x 7.4 cm\n",
       "Name: product_dimensions, dtype: object"
      ]
     },
     "execution_count": 59,
     "metadata": {},
     "output_type": "execute_result"
    }
   ],
   "source": [
    "df_dataset_cleaned[\"product_dimensions\"][0:5]"
   ]
  },
  {
   "cell_type": "code",
   "execution_count": 60,
   "metadata": {},
   "outputs": [],
   "source": [
    "df_product_dimension=pd.DataFrame()"
   ]
  },
  {
   "cell_type": "code",
   "execution_count": null,
   "metadata": {},
   "outputs": [],
   "source": []
  },
  {
   "cell_type": "code",
   "execution_count": 61,
   "metadata": {},
   "outputs": [],
   "source": [
    "df_product_dimension[\"product_dimensions\"]=df_dataset_cleaned[\"product_dimensions\"]"
   ]
  },
  {
   "cell_type": "code",
   "execution_count": 62,
   "metadata": {},
   "outputs": [
    {
     "data": {
      "text/html": [
       "<div>\n",
       "<style scoped>\n",
       "    .dataframe tbody tr th:only-of-type {\n",
       "        vertical-align: middle;\n",
       "    }\n",
       "\n",
       "    .dataframe tbody tr th {\n",
       "        vertical-align: top;\n",
       "    }\n",
       "\n",
       "    .dataframe thead th {\n",
       "        text-align: right;\n",
       "    }\n",
       "</style>\n",
       "<table border=\"1\" class=\"dataframe\">\n",
       "  <thead>\n",
       "    <tr style=\"text-align: right;\">\n",
       "      <th></th>\n",
       "      <th>product_dimensions</th>\n",
       "    </tr>\n",
       "  </thead>\n",
       "  <tbody>\n",
       "    <tr>\n",
       "      <th>0</th>\n",
       "      <td>16.5 x 7.6 x 0.7 cm</td>\n",
       "    </tr>\n",
       "    <tr>\n",
       "      <th>1</th>\n",
       "      <td>15 x 1 x 7.5 cm</td>\n",
       "    </tr>\n",
       "    <tr>\n",
       "      <th>2</th>\n",
       "      <td>16.3 x 7.5 x 0.8 cm</td>\n",
       "    </tr>\n",
       "    <tr>\n",
       "      <th>3</th>\n",
       "      <td>16.1 x 7.6 x 0.9 cm</td>\n",
       "    </tr>\n",
       "    <tr>\n",
       "      <th>4</th>\n",
       "      <td>15.4 x 0.9 x 7.4 cm</td>\n",
       "    </tr>\n",
       "  </tbody>\n",
       "</table>\n",
       "</div>"
      ],
      "text/plain": [
       "    product_dimensions\n",
       "0  16.5 x 7.6 x 0.7 cm\n",
       "1      15 x 1 x 7.5 cm\n",
       "2  16.3 x 7.5 x 0.8 cm\n",
       "3  16.1 x 7.6 x 0.9 cm\n",
       "4  15.4 x 0.9 x 7.4 cm"
      ]
     },
     "execution_count": 62,
     "metadata": {},
     "output_type": "execute_result"
    }
   ],
   "source": [
    "df_product_dimension.head(5)\n"
   ]
  },
  {
   "cell_type": "code",
   "execution_count": 63,
   "metadata": {},
   "outputs": [
    {
     "data": {
      "text/plain": [
       "264"
      ]
     },
     "execution_count": 63,
     "metadata": {},
     "output_type": "execute_result"
    }
   ],
   "source": [
    "len(df_product_dimension)"
   ]
  },
  {
   "cell_type": "code",
   "execution_count": 64,
   "metadata": {},
   "outputs": [
    {
     "data": {
      "text/plain": [
       "93"
      ]
     },
     "execution_count": 64,
     "metadata": {},
     "output_type": "execute_result"
    }
   ],
   "source": [
    "df_product_dimension=df_product_dimension.drop_duplicates()\n",
    "len(df_product_dimension)\n"
   ]
  },
  {
   "cell_type": "code",
   "execution_count": 65,
   "metadata": {},
   "outputs": [
    {
     "name": "stdout",
     "output_type": "stream",
     "text": [
      "0    16.5\n",
      "1      15\n",
      "2    16.3\n",
      "3    16.1\n",
      "4    15.4\n",
      "Name: product_dimensions, dtype: object\n"
     ]
    }
   ],
   "source": [
    "print(df_product_dimension[\"product_dimensions\"].apply(lambda x: x.split(\" x \")[0])[0:5])"
   ]
  },
  {
   "cell_type": "code",
   "execution_count": 66,
   "metadata": {},
   "outputs": [],
   "source": [
    "df_product_dimension[\"product_dimension_length\"]=df_product_dimension[\"product_dimensions\"].apply(lambda x: x.split(\" x \")[0])"
   ]
  },
  {
   "cell_type": "code",
   "execution_count": 67,
   "metadata": {},
   "outputs": [
    {
     "data": {
      "text/html": [
       "<div>\n",
       "<style scoped>\n",
       "    .dataframe tbody tr th:only-of-type {\n",
       "        vertical-align: middle;\n",
       "    }\n",
       "\n",
       "    .dataframe tbody tr th {\n",
       "        vertical-align: top;\n",
       "    }\n",
       "\n",
       "    .dataframe thead th {\n",
       "        text-align: right;\n",
       "    }\n",
       "</style>\n",
       "<table border=\"1\" class=\"dataframe\">\n",
       "  <thead>\n",
       "    <tr style=\"text-align: right;\">\n",
       "      <th></th>\n",
       "      <th>product_dimensions</th>\n",
       "      <th>product_dimension_length</th>\n",
       "    </tr>\n",
       "  </thead>\n",
       "  <tbody>\n",
       "    <tr>\n",
       "      <th>0</th>\n",
       "      <td>16.5 x 7.6 x 0.7 cm</td>\n",
       "      <td>16.5</td>\n",
       "    </tr>\n",
       "    <tr>\n",
       "      <th>1</th>\n",
       "      <td>15 x 1 x 7.5 cm</td>\n",
       "      <td>15</td>\n",
       "    </tr>\n",
       "    <tr>\n",
       "      <th>2</th>\n",
       "      <td>16.3 x 7.5 x 0.8 cm</td>\n",
       "      <td>16.3</td>\n",
       "    </tr>\n",
       "    <tr>\n",
       "      <th>3</th>\n",
       "      <td>16.1 x 7.6 x 0.9 cm</td>\n",
       "      <td>16.1</td>\n",
       "    </tr>\n",
       "    <tr>\n",
       "      <th>4</th>\n",
       "      <td>15.4 x 0.9 x 7.4 cm</td>\n",
       "      <td>15.4</td>\n",
       "    </tr>\n",
       "  </tbody>\n",
       "</table>\n",
       "</div>"
      ],
      "text/plain": [
       "    product_dimensions product_dimension_length\n",
       "0  16.5 x 7.6 x 0.7 cm                     16.5\n",
       "1      15 x 1 x 7.5 cm                       15\n",
       "2  16.3 x 7.5 x 0.8 cm                     16.3\n",
       "3  16.1 x 7.6 x 0.9 cm                     16.1\n",
       "4  15.4 x 0.9 x 7.4 cm                     15.4"
      ]
     },
     "execution_count": 67,
     "metadata": {},
     "output_type": "execute_result"
    }
   ],
   "source": [
    "df_product_dimension.head(5)"
   ]
  },
  {
   "cell_type": "code",
   "execution_count": 68,
   "metadata": {},
   "outputs": [
    {
     "name": "stdout",
     "output_type": "stream",
     "text": [
      "0    7.6\n",
      "1      1\n",
      "2    7.5\n",
      "3    7.6\n",
      "4    0.9\n",
      "Name: product_dimensions, dtype: object\n"
     ]
    }
   ],
   "source": [
    "print(df_product_dimension[\"product_dimensions\"].apply(lambda x: x.split(\" x \")[1])[0:5])"
   ]
  },
  {
   "cell_type": "code",
   "execution_count": 69,
   "metadata": {},
   "outputs": [],
   "source": [
    "df_product_dimension[\"product_dimension_width\"] = df_product_dimension[\"product_dimensions\"].apply(lambda x: x.split(\" x \")[1])"
   ]
  },
  {
   "cell_type": "code",
   "execution_count": 70,
   "metadata": {},
   "outputs": [
    {
     "data": {
      "text/html": [
       "<div>\n",
       "<style scoped>\n",
       "    .dataframe tbody tr th:only-of-type {\n",
       "        vertical-align: middle;\n",
       "    }\n",
       "\n",
       "    .dataframe tbody tr th {\n",
       "        vertical-align: top;\n",
       "    }\n",
       "\n",
       "    .dataframe thead th {\n",
       "        text-align: right;\n",
       "    }\n",
       "</style>\n",
       "<table border=\"1\" class=\"dataframe\">\n",
       "  <thead>\n",
       "    <tr style=\"text-align: right;\">\n",
       "      <th></th>\n",
       "      <th>product_dimensions</th>\n",
       "      <th>product_dimension_length</th>\n",
       "      <th>product_dimension_width</th>\n",
       "    </tr>\n",
       "  </thead>\n",
       "  <tbody>\n",
       "    <tr>\n",
       "      <th>0</th>\n",
       "      <td>16.5 x 7.6 x 0.7 cm</td>\n",
       "      <td>16.5</td>\n",
       "      <td>7.6</td>\n",
       "    </tr>\n",
       "    <tr>\n",
       "      <th>1</th>\n",
       "      <td>15 x 1 x 7.5 cm</td>\n",
       "      <td>15</td>\n",
       "      <td>1</td>\n",
       "    </tr>\n",
       "    <tr>\n",
       "      <th>2</th>\n",
       "      <td>16.3 x 7.5 x 0.8 cm</td>\n",
       "      <td>16.3</td>\n",
       "      <td>7.5</td>\n",
       "    </tr>\n",
       "    <tr>\n",
       "      <th>3</th>\n",
       "      <td>16.1 x 7.6 x 0.9 cm</td>\n",
       "      <td>16.1</td>\n",
       "      <td>7.6</td>\n",
       "    </tr>\n",
       "    <tr>\n",
       "      <th>4</th>\n",
       "      <td>15.4 x 0.9 x 7.4 cm</td>\n",
       "      <td>15.4</td>\n",
       "      <td>0.9</td>\n",
       "    </tr>\n",
       "  </tbody>\n",
       "</table>\n",
       "</div>"
      ],
      "text/plain": [
       "    product_dimensions product_dimension_length product_dimension_width\n",
       "0  16.5 x 7.6 x 0.7 cm                     16.5                     7.6\n",
       "1      15 x 1 x 7.5 cm                       15                       1\n",
       "2  16.3 x 7.5 x 0.8 cm                     16.3                     7.5\n",
       "3  16.1 x 7.6 x 0.9 cm                     16.1                     7.6\n",
       "4  15.4 x 0.9 x 7.4 cm                     15.4                     0.9"
      ]
     },
     "execution_count": 70,
     "metadata": {},
     "output_type": "execute_result"
    }
   ],
   "source": [
    "df_product_dimension.head(5)"
   ]
  },
  {
   "cell_type": "code",
   "execution_count": 71,
   "metadata": {},
   "outputs": [
    {
     "name": "stdout",
     "output_type": "stream",
     "text": [
      "0    0.7\n",
      "1    7.5\n",
      "2    0.8\n",
      "3    0.9\n",
      "4    7.4\n",
      "Name: product_dimensions, dtype: object\n"
     ]
    }
   ],
   "source": [
    "print(df_product_dimension[\"product_dimensions\"].apply(lambda x: x.split(\" x \")[2][0:-3])[0:5])"
   ]
  },
  {
   "cell_type": "code",
   "execution_count": 72,
   "metadata": {},
   "outputs": [],
   "source": [
    "df_product_dimension[\"product_dimension_height\"] = df_product_dimension[\"product_dimensions\"].apply(lambda x: x.split(\" x \")[2][0:-3])"
   ]
  },
  {
   "cell_type": "code",
   "execution_count": 73,
   "metadata": {},
   "outputs": [
    {
     "data": {
      "text/html": [
       "<div>\n",
       "<style scoped>\n",
       "    .dataframe tbody tr th:only-of-type {\n",
       "        vertical-align: middle;\n",
       "    }\n",
       "\n",
       "    .dataframe tbody tr th {\n",
       "        vertical-align: top;\n",
       "    }\n",
       "\n",
       "    .dataframe thead th {\n",
       "        text-align: right;\n",
       "    }\n",
       "</style>\n",
       "<table border=\"1\" class=\"dataframe\">\n",
       "  <thead>\n",
       "    <tr style=\"text-align: right;\">\n",
       "      <th></th>\n",
       "      <th>product_dimensions</th>\n",
       "      <th>product_dimension_length</th>\n",
       "      <th>product_dimension_width</th>\n",
       "      <th>product_dimension_height</th>\n",
       "    </tr>\n",
       "  </thead>\n",
       "  <tbody>\n",
       "    <tr>\n",
       "      <th>0</th>\n",
       "      <td>16.5 x 7.6 x 0.7 cm</td>\n",
       "      <td>16.5</td>\n",
       "      <td>7.6</td>\n",
       "      <td>0.7</td>\n",
       "    </tr>\n",
       "    <tr>\n",
       "      <th>1</th>\n",
       "      <td>15 x 1 x 7.5 cm</td>\n",
       "      <td>15</td>\n",
       "      <td>1</td>\n",
       "      <td>7.5</td>\n",
       "    </tr>\n",
       "    <tr>\n",
       "      <th>2</th>\n",
       "      <td>16.3 x 7.5 x 0.8 cm</td>\n",
       "      <td>16.3</td>\n",
       "      <td>7.5</td>\n",
       "      <td>0.8</td>\n",
       "    </tr>\n",
       "    <tr>\n",
       "      <th>3</th>\n",
       "      <td>16.1 x 7.6 x 0.9 cm</td>\n",
       "      <td>16.1</td>\n",
       "      <td>7.6</td>\n",
       "      <td>0.9</td>\n",
       "    </tr>\n",
       "    <tr>\n",
       "      <th>4</th>\n",
       "      <td>15.4 x 0.9 x 7.4 cm</td>\n",
       "      <td>15.4</td>\n",
       "      <td>0.9</td>\n",
       "      <td>7.4</td>\n",
       "    </tr>\n",
       "  </tbody>\n",
       "</table>\n",
       "</div>"
      ],
      "text/plain": [
       "    product_dimensions product_dimension_length product_dimension_width  \\\n",
       "0  16.5 x 7.6 x 0.7 cm                     16.5                     7.6   \n",
       "1      15 x 1 x 7.5 cm                       15                       1   \n",
       "2  16.3 x 7.5 x 0.8 cm                     16.3                     7.5   \n",
       "3  16.1 x 7.6 x 0.9 cm                     16.1                     7.6   \n",
       "4  15.4 x 0.9 x 7.4 cm                     15.4                     0.9   \n",
       "\n",
       "  product_dimension_height  \n",
       "0                      0.7  \n",
       "1                      7.5  \n",
       "2                      0.8  \n",
       "3                      0.9  \n",
       "4                      7.4  "
      ]
     },
     "execution_count": 73,
     "metadata": {},
     "output_type": "execute_result"
    }
   ],
   "source": [
    "df_product_dimension.head(5)"
   ]
  },
  {
   "cell_type": "code",
   "execution_count": 74,
   "metadata": {},
   "outputs": [
    {
     "name": "stdout",
     "output_type": "stream",
     "text": [
      "93\n"
     ]
    }
   ],
   "source": [
    "print(len(df_product_dimension))\n"
   ]
  },
  {
   "cell_type": "code",
   "execution_count": 75,
   "metadata": {},
   "outputs": [],
   "source": [
    "df_product_dimension.to_csv('../data_cleaned/df_product_dimensions.csv',index=False)"
   ]
  },
  {
   "attachments": {},
   "cell_type": "markdown",
   "metadata": {},
   "source": [
    "## 3. Dim special_features"
   ]
  },
  {
   "cell_type": "code",
   "execution_count": 76,
   "metadata": {},
   "outputs": [
    {
     "name": "stdout",
     "output_type": "stream",
     "text": [
      "Dual Bluetooth Audio, IR Blaster, X-Axis Haptic Motor, Wi-Fi 6, IP 53 Certified, 33W Fast Charger in box, 50% in 19 mins, Flagship 108MP Triple Camera Setup 8MP Ultrawide-FOV 119 degrees 5MP Super Macro Sensor Slow Motion Support - Up to 1080p@960 fps Portrait | Panaroma | Dual Mode | Vlog Mode | Clone Mode | Time Lapse | Long Exposure | Pro Mode | Night Mode | Short Video Mode | Ultra wide-angle distortion correction | Custom Watermark | Document mode | HDR | AI scene detection | Macro and Ultrawide video mode | Movie effects | Time burst | Google Lens | AI Watermark | Pro Colour, Premium glass body design with Gorilla glass 5 on front and back, Dual Stereo Speakers with Dolby Atmos support, Wired and wireless Hi-Res certified audio, triple mic setup.NavIC support\n",
      "Dual SIM\n",
      "Front Camera, Dual_Sim, Camera, Fast Charging\n",
      "Fast Charging Support, Dual SIM, Fingerprint Sensor, Smartphone\n",
      "Dual SIM, Infrared, E-mail, Accelerometer, Ambient light sensor, Gyroscope, GPS, Video Player, Music Player, Proximity sensor\n",
      "Front Camera, Camera\n",
      "Light sensor, Acceleration sensor, Other sensors, Magnetic induction, Fingerprint, Proximity Sensor, Dual SIM, GPS, G-sensor, Video Player, Music Player\n",
      "Dual SIM, GPS, Video Player, Music Player\n",
      "Dual SIM, Serial_number, GPS\n",
      "Front Camera, Camera\n"
     ]
    }
   ],
   "source": [
    "for feature in df_dataset_cleaned.special_features[0:10]:\n",
    "  print(feature)"
   ]
  },
  {
   "cell_type": "code",
   "execution_count": 77,
   "metadata": {},
   "outputs": [
    {
     "name": "stdout",
     "output_type": "stream",
     "text": [
      "Dual Bluetooth Audio, IR Blaster, X-Axis Haptic Motor, Wi-Fi 6, IP 53 Certified, 33W Fast Charger in box, 50% in 19 mins, Flagship 108MP Triple Camera Setup 8MP Ultrawide-FOV 119 degrees 5MP Super Macro Sensor Slow Motion Support - Up to 1080p@960 fps Portrait | Panaroma | Dual Mode | Vlog Mode | Clone Mode | Time Lapse | Long Exposure | Pro Mode | Night Mode | Short Video Mode | Ultra wide-angle distortion correction | Custom Watermark | Document mode | HDR | AI scene detection | Macro and Ultrawide video mode | Movie effects | Time burst | Google Lens | AI Watermark | Pro Colour, Premium glass body design with Gorilla glass 5 on front and back, Dual Stereo Speakers with Dolby Atmos support, Wired and wireless Hi-Res certified audio, triple mic setup.NavIC support\n",
      "Dual Stereo Speakers with Dolby Atmos support, Wired and wireless Hi-Res certified audio, triple mic setup. NavIC support, IR Blaster, X-Axis Haptic Motor, Wi-Fi 6, IP 53 Certified, 48MP AI Triple Camera Setup with Sony IMX 582 Primary sensor 8MP Ultrawide-FOV 119 degrees 5MP Super Macro Sensor Slow Motion Support - Up to 1080p@960 fps Portrait | Panaroma | Dual Mode | Vlog Mode | Clone Mode | Time Lapse | Long Exposure | Pro Mode | Night Mode | Short Video Mode | Ultra wide-angle distortion correction | Custom Watermark | Document mode | HDR | AI scene detection | Macro and Ultrawide video mode | Movie effects | Time burst | Google Lens | AI Watermark, 33W Fast Charger in box, 50% in 19 mins, Premium glass body design with Gorilla glass 5 on front and back\n",
      "Dual Stereo Speakers for immersive audio experience, The display is protected by Corning Gorilla Glass 3, 33W Fast Charger in box, 67% in 30 mins, 3.5mm Jack, IR Blaster, Dedicated Micro SD Slot, Z-Axis Linear Vibration Motor, 48 MP AI Quad Camera Setup 8MP Ultrawide-FOV 118 degrees 2 MP Macro Sensor 2 MP Depth Sensor Slow Motion Support - Up to 960 fps Portrait | Panaroma | Time Lapse | Pro Mode | Night Mode | Short Video Mode | Ultra wide-angle distortion correction | Custom Watermark | Document mode | HDR | AI scene detection | Video macro mode | Movie frame | Time burst | Google Lens| AI Watermark\n",
      "Dual Stereo Speakers for immersive audio experience, The display is protected by Corning Gorilla Glass 5, 64MP AI Quad Camera Setup 8MP Ultrawide-FOV 118 degrees 5MP Macro Sensor 2 MP Depth Sensor Slow Motion Support - Up to 960 fps Portrait | Panaroma | Dual Mode | Vlog Mode | Clone Mode | Time Lapse | Long Exposure | Pro Mode | Night Mode | Short Video Mode | Ultra wide-angle distortion correction | Custom Watermark | Document mode | HDR | AI scene detection | Video macro mode | Movie frame | Time burst | Google Lens| AI Watermark, 3.5mm Jack, IR Blaster, Dedicated Micro SD Slot, Z-Axis Linear Vibration Motor, IP 52 Certified, 33W Fast Charger in box, 49% in 30 mins\n",
      "Dual Stereo Speakers for immersive audio experience, The display is protected by Corning Gorilla Glass 5, 3.5mm Jack, IR Blaster, Dedicated Micro SD Slot, Z-Axis Linear Vibration Motor, IP 52 Certified, Flagship 108MP Main Camera 8MP Ultrawide-FOV 118 degrees 5MP Macro Sensor 2MP Depth Sensor Slow Motion Support - Up to 960 fps Portrait | Panaroma | Dual Mode | Vlog Mode | Clone Mode | Time Lapse | Long Exposure | Pro Mode | Night Mode | Short Video Mode | Ultra wide-angle distortion correction | Custom Watermark | Document mode | HDR | AI scene detection | Video macro mode | Movie frame | Time burst | Google Lens| AI Watermark, 33W Fast Charger in box, 49% in 30 mins\n",
      "33W Fast Charger in box, 54% in 30 mins, The display is protected by Corning Gorilla Glass 3, 64 MP AI Quad Camera Setup 8MP Ultrawide-FOV 118 degrees 2 MP Macro Sensor 2 MP Depth Sensor Slow Motion Support - Up to 960 fps Portrait | Panaroma | Time Lapse | Pro Mode | Night Mode | Short Video Mode | Ultra wide-angle distortion correction | Custom Watermark | Document mode | HDR | AI scene detection | Video macro mode | Movie frame | Time burst | Google Lens| AI Watermark, Dual Stereo Speakers for immersive audio experience. Hi-Res certified audio, 3.5mm Jack, IR Blaster, Dedicated Micro SD Slot, Z-Axis Linear Vibration Motor\n"
     ]
    }
   ],
   "source": [
    "for feature in df_dataset_cleaned.special_features.unique():\n",
    "  if('|' in feature):\n",
    "    print(feature)"
   ]
  },
  {
   "cell_type": "code",
   "execution_count": 78,
   "metadata": {},
   "outputs": [],
   "source": [
    "special_feature_unique=[]\n",
    "for list_feature in df_dataset_cleaned.special_features.apply(lambda x: x.split(\", \")):\n",
    "  for feature in list_feature:\n",
    "    if feature not in special_feature_unique:\n",
    "      special_feature_unique.append(feature)\n"
   ]
  },
  {
   "cell_type": "code",
   "execution_count": 79,
   "metadata": {},
   "outputs": [
    {
     "data": {
      "text/plain": [
       "['Dual Bluetooth Audio',\n",
       " 'IR Blaster',\n",
       " 'X-Axis Haptic Motor',\n",
       " 'Wi-Fi 6',\n",
       " 'IP 53 Certified',\n",
       " '33W Fast Charger in box',\n",
       " '50% in 19 mins',\n",
       " 'Flagship 108MP Triple Camera Setup 8MP Ultrawide-FOV 119 degrees 5MP Super Macro Sensor Slow Motion Support - Up to 1080p@960 fps Portrait | Panaroma | Dual Mode | Vlog Mode | Clone Mode | Time Lapse | Long Exposure | Pro Mode | Night Mode | Short Video Mode | Ultra wide-angle distortion correction | Custom Watermark | Document mode | HDR | AI scene detection | Macro and Ultrawide video mode | Movie effects | Time burst | Google Lens | AI Watermark | Pro Colour',\n",
       " 'Premium glass body design with Gorilla glass 5 on front and back',\n",
       " 'Dual Stereo Speakers with Dolby Atmos support']"
      ]
     },
     "execution_count": 79,
     "metadata": {},
     "output_type": "execute_result"
    }
   ],
   "source": [
    "special_feature_unique[0:10]"
   ]
  },
  {
   "cell_type": "code",
   "execution_count": 80,
   "metadata": {},
   "outputs": [],
   "source": [
    "import re\n",
    "import re\n",
    "def contains_special_characters(text):\n",
    "    pattern = r'[^\\w\\s]'\n",
    "    matches = re.findall(pattern, text)\n",
    "    return len(matches) > 0\n",
    "\n",
    "special_feature_nomaly=[]\n",
    "special_feature_anomaly=[]\n",
    "for feature in special_feature_unique:\n",
    "  if(contains_special_characters(feature)):\n",
    "    special_feature_anomaly.append(feature)\n",
    "  else:\n",
    "    special_feature_nomaly.append(feature)\n",
    "\n"
   ]
  },
  {
   "cell_type": "code",
   "execution_count": 81,
   "metadata": {},
   "outputs": [
    {
     "name": "stdout",
     "output_type": "stream",
     "text": [
      "78\n",
      "147\n"
     ]
    }
   ],
   "source": [
    "print(len(special_feature_anomaly))\n",
    "print(len(special_feature_nomaly))"
   ]
  },
  {
   "cell_type": "code",
   "execution_count": 82,
   "metadata": {},
   "outputs": [
    {
     "data": {
      "text/plain": [
       "['Dual Bluetooth Audio',\n",
       " 'IR Blaster',\n",
       " 'IP 53 Certified',\n",
       " '33W Fast Charger in box',\n",
       " 'Premium glass body design with Gorilla glass 5 on front and back',\n",
       " 'Dual Stereo Speakers with Dolby Atmos support',\n",
       " 'Dual SIM',\n",
       " 'Front Camera',\n",
       " 'Dual_Sim',\n",
       " 'Camera',\n",
       " 'Fast Charging',\n",
       " 'Fast Charging Support',\n",
       " 'Fingerprint Sensor',\n",
       " 'Smartphone',\n",
       " 'Infrared',\n",
       " 'Accelerometer',\n",
       " 'Ambient light sensor',\n",
       " 'Gyroscope',\n",
       " 'GPS',\n",
       " 'Video Player']"
      ]
     },
     "execution_count": 82,
     "metadata": {},
     "output_type": "execute_result"
    }
   ],
   "source": [
    "special_feature_nomaly[0:20]"
   ]
  },
  {
   "cell_type": "code",
   "execution_count": 83,
   "metadata": {},
   "outputs": [
    {
     "data": {
      "text/plain": [
       "['X-Axis Haptic Motor',\n",
       " 'Wi-Fi 6',\n",
       " '50% in 19 mins',\n",
       " 'Flagship 108MP Triple Camera Setup 8MP Ultrawide-FOV 119 degrees 5MP Super Macro Sensor Slow Motion Support - Up to 1080p@960 fps Portrait | Panaroma | Dual Mode | Vlog Mode | Clone Mode | Time Lapse | Long Exposure | Pro Mode | Night Mode | Short Video Mode | Ultra wide-angle distortion correction | Custom Watermark | Document mode | HDR | AI scene detection | Macro and Ultrawide video mode | Movie effects | Time burst | Google Lens | AI Watermark | Pro Colour',\n",
       " 'Wired and wireless Hi-Res certified audio',\n",
       " 'triple mic setup.NavIC support',\n",
       " 'E-mail',\n",
       " 'G-sensor',\n",
       " 'E-compass and Gyroscope sensor',\n",
       " 'Knox 3.7 with Secure Folder',\n",
       " 'Knox 3.7',\n",
       " '4500mAH lithium-ion battery (non-removable)',\n",
       " 'Main camera features: Clear',\n",
       " 'high-resolution photos',\n",
       " 'and filters.',\n",
       " 'In-display fingerprint sensor.',\n",
       " 'Front camera features - Face Unlock',\n",
       " 'Thickness: 7.9mm',\n",
       " 'slimmest OnePlus phone since the OnePlus 6T. Weight: 170g',\n",
       " 'Audio Share 2.0']"
      ]
     },
     "execution_count": 83,
     "metadata": {},
     "output_type": "execute_result"
    }
   ],
   "source": [
    "special_feature_anomaly[0:20]"
   ]
  },
  {
   "cell_type": "code",
   "execution_count": 84,
   "metadata": {},
   "outputs": [],
   "source": [
    "special_feature_anomaly_v1=[]\n",
    "raw=0\n",
    "for list_feature in special_feature_anomaly:\n",
    "  for feature_raw in list_feature.split(\" | \"):\n",
    "    if(\";\" in feature_raw):\n",
    "      #print(feature)\n",
    "      #print(\"raw\",feature_raw)\n",
    "      for  feature_raw_v1 in feature_raw.split(\";\"):\n",
    "          for  feature_raw_v2 in feature_raw_v1.split(\";\"):\n",
    "              for  feature_raw_v3 in feature_raw_v2.split(\" - \"):\n",
    "                if len(feature_raw_v3)>0: \n",
    "                  #print('check',feature_raw_v3)\n",
    "                  special_feature_nomaly.append(feature_raw_v3)\n",
    "                  \n",
    "          \n",
    "    else:\n",
    "      #special_feature_nomaly.append(feature_raw)\n",
    "      for  feature_raw_v1 in feature_raw.split(\" - \"):\n",
    "        if len(feature_raw_v1)>0: \n",
    "          #print('check',feature_raw_v1)\n",
    "          special_feature_nomaly.append(feature_raw_v1)\n",
    "      "
   ]
  },
  {
   "cell_type": "code",
   "execution_count": 85,
   "metadata": {},
   "outputs": [
    {
     "data": {
      "text/plain": [
       "['Hearing Aid Compatibility: M3/T3 HAC Rating',\n",
       " \"Google's Devices Meet the Hearing Aid Compatibility (HAC) Requirements Set by the FCC\",\n",
       " 'Built-in Google Assistant',\n",
       " '64-bit Octa-core Processo',\n",
       " 'Camera: Front Camera & Rear Camera',\n",
       " 'perfect camera & an in-built safety app',\n",
       " '256',\n",
       " 'Dual SIM',\n",
       " 'GPS',\n",
       " 'Music Player',\n",
       " 'Video Player',\n",
       " 'In-display Fingerprint sensor',\n",
       " 'Accelerometer',\n",
       " 'Electronic Compass',\n",
       " 'Gyroscope',\n",
       " 'Ambient Light sensor',\n",
       " 'Proximity sensor',\n",
       " 'sensor Core',\n",
       " 'Flicker-detect sensor']"
      ]
     },
     "execution_count": 85,
     "metadata": {},
     "output_type": "execute_result"
    }
   ],
   "source": [
    "special_feature_nomaly[-20:-1]"
   ]
  },
  {
   "cell_type": "code",
   "execution_count": 86,
   "metadata": {},
   "outputs": [
    {
     "data": {
      "text/plain": [
       "366"
      ]
     },
     "execution_count": 86,
     "metadata": {},
     "output_type": "execute_result"
    }
   ],
   "source": [
    "len(special_feature_nomaly)"
   ]
  },
  {
   "cell_type": "code",
   "execution_count": 87,
   "metadata": {},
   "outputs": [],
   "source": [
    "count=0;\n",
    "special_feature_nomaly_unique=[]\n",
    "for feature in special_feature_nomaly:\n",
    "  if feature not in special_feature_nomaly_unique:\n",
    "    special_feature_nomaly_unique.append(feature)"
   ]
  },
  {
   "cell_type": "code",
   "execution_count": 88,
   "metadata": {},
   "outputs": [
    {
     "data": {
      "text/plain": [
       "249"
      ]
     },
     "execution_count": 88,
     "metadata": {},
     "output_type": "execute_result"
    }
   ],
   "source": [
    "len(special_feature_nomaly_unique)\n"
   ]
  },
  {
   "cell_type": "code",
   "execution_count": 89,
   "metadata": {},
   "outputs": [],
   "source": [
    "import uuid\n",
    "\n",
    "list_uuid=[]\n",
    "for i in range(0,len(special_feature_nomaly_unique)):\n",
    "  #print(i)\n",
    "  list_uuid.append(uuid.uuid1())"
   ]
  },
  {
   "cell_type": "code",
   "execution_count": 90,
   "metadata": {},
   "outputs": [
    {
     "name": "stdout",
     "output_type": "stream",
     "text": [
      "[UUID('7f7ae427-0fc8-11ee-a9f1-3c9c0f728f90'), UUID('7f7ae428-0fc8-11ee-91a8-3c9c0f728f90'), UUID('7f7ae429-0fc8-11ee-8ba0-3c9c0f728f90'), UUID('7f7ae42a-0fc8-11ee-a71c-3c9c0f728f90'), UUID('7f7ae42b-0fc8-11ee-be02-3c9c0f728f90'), UUID('7f7ae42c-0fc8-11ee-8030-3c9c0f728f90'), UUID('7f7ae42d-0fc8-11ee-96c8-3c9c0f728f90'), UUID('7f7ae42e-0fc8-11ee-b8ff-3c9c0f728f90'), UUID('7f7ae42f-0fc8-11ee-86f5-3c9c0f728f90'), UUID('7f7ae430-0fc8-11ee-8a4e-3c9c0f728f90'), UUID('7f7ae431-0fc8-11ee-84b8-3c9c0f728f90'), UUID('7f7ae432-0fc8-11ee-b7bf-3c9c0f728f90'), UUID('7f7ae433-0fc8-11ee-ac0a-3c9c0f728f90'), UUID('7f7ae434-0fc8-11ee-a47d-3c9c0f728f90'), UUID('7f7ae435-0fc8-11ee-83f9-3c9c0f728f90'), UUID('7f7ae436-0fc8-11ee-a38a-3c9c0f728f90'), UUID('7f7ae437-0fc8-11ee-bd1e-3c9c0f728f90'), UUID('7f7ae438-0fc8-11ee-8f18-3c9c0f728f90'), UUID('7f7ae439-0fc8-11ee-a0ab-3c9c0f728f90'), UUID('7f7ae43a-0fc8-11ee-8ba8-3c9c0f728f90'), UUID('7f7ae43b-0fc8-11ee-84e4-3c9c0f728f90'), UUID('7f7ae43c-0fc8-11ee-82bc-3c9c0f728f90'), UUID('7f7ae43d-0fc8-11ee-91cb-3c9c0f728f90'), UUID('7f7ae43e-0fc8-11ee-919a-3c9c0f728f90'), UUID('7f7ae43f-0fc8-11ee-91e0-3c9c0f728f90'), UUID('7f7ae440-0fc8-11ee-9ef5-3c9c0f728f90'), UUID('7f7ae441-0fc8-11ee-9592-3c9c0f728f90'), UUID('7f7ae442-0fc8-11ee-9f7c-3c9c0f728f90'), UUID('7f7ae443-0fc8-11ee-a881-3c9c0f728f90'), UUID('7f7ae444-0fc8-11ee-bb41-3c9c0f728f90'), UUID('7f7ae445-0fc8-11ee-bacf-3c9c0f728f90'), UUID('7f7ae446-0fc8-11ee-90c6-3c9c0f728f90'), UUID('7f7ae447-0fc8-11ee-9992-3c9c0f728f90'), UUID('7f7ae448-0fc8-11ee-a94d-3c9c0f728f90'), UUID('7f7ae449-0fc8-11ee-ac94-3c9c0f728f90'), UUID('7f7ae44a-0fc8-11ee-bb34-3c9c0f728f90'), UUID('7f7ae44b-0fc8-11ee-ad70-3c9c0f728f90'), UUID('7f7ae44c-0fc8-11ee-bc30-3c9c0f728f90'), UUID('7f7ae44d-0fc8-11ee-8878-3c9c0f728f90'), UUID('7f7ae44e-0fc8-11ee-a695-3c9c0f728f90'), UUID('7f7ae44f-0fc8-11ee-a257-3c9c0f728f90'), UUID('7f7ae450-0fc8-11ee-b9c7-3c9c0f728f90'), UUID('7f7ae451-0fc8-11ee-900d-3c9c0f728f90'), UUID('7f7ae452-0fc8-11ee-8da9-3c9c0f728f90'), UUID('7f7ae453-0fc8-11ee-8336-3c9c0f728f90'), UUID('7f7ae454-0fc8-11ee-b053-3c9c0f728f90'), UUID('7f7ae455-0fc8-11ee-b04b-3c9c0f728f90'), UUID('7f7ae456-0fc8-11ee-b7b6-3c9c0f728f90'), UUID('7f7ae457-0fc8-11ee-8e8c-3c9c0f728f90'), UUID('7f7ae458-0fc8-11ee-bbb4-3c9c0f728f90'), UUID('7f7ae459-0fc8-11ee-b66e-3c9c0f728f90'), UUID('7f7ae45a-0fc8-11ee-96f7-3c9c0f728f90'), UUID('7f7ae45b-0fc8-11ee-968e-3c9c0f728f90'), UUID('7f7ae45c-0fc8-11ee-8ae7-3c9c0f728f90'), UUID('7f7ae45d-0fc8-11ee-b5a6-3c9c0f728f90'), UUID('7f7ae45e-0fc8-11ee-aaab-3c9c0f728f90'), UUID('7f7ae45f-0fc8-11ee-9bf6-3c9c0f728f90'), UUID('7f7ae460-0fc8-11ee-aa5c-3c9c0f728f90'), UUID('7f7ae461-0fc8-11ee-a5b2-3c9c0f728f90'), UUID('7f7ae462-0fc8-11ee-8e8f-3c9c0f728f90'), UUID('7f7ae463-0fc8-11ee-9b48-3c9c0f728f90'), UUID('7f7ae464-0fc8-11ee-9007-3c9c0f728f90'), UUID('7f7ae465-0fc8-11ee-ba51-3c9c0f728f90'), UUID('7f7ae466-0fc8-11ee-85c9-3c9c0f728f90'), UUID('7f7ae467-0fc8-11ee-9581-3c9c0f728f90'), UUID('7f7ae468-0fc8-11ee-b4df-3c9c0f728f90'), UUID('7f7ae469-0fc8-11ee-bc4a-3c9c0f728f90'), UUID('7f7ae46a-0fc8-11ee-99c5-3c9c0f728f90'), UUID('7f7ae46b-0fc8-11ee-a8ce-3c9c0f728f90'), UUID('7f7ae46c-0fc8-11ee-846d-3c9c0f728f90'), UUID('7f7ae46d-0fc8-11ee-84a3-3c9c0f728f90'), UUID('7f7ae46e-0fc8-11ee-9cc8-3c9c0f728f90'), UUID('7f7ae46f-0fc8-11ee-8f23-3c9c0f728f90'), UUID('7f7ae470-0fc8-11ee-91c6-3c9c0f728f90'), UUID('7f7ae471-0fc8-11ee-9a16-3c9c0f728f90'), UUID('7f7ae472-0fc8-11ee-b19e-3c9c0f728f90'), UUID('7f7ae473-0fc8-11ee-848d-3c9c0f728f90'), UUID('7f7ae474-0fc8-11ee-8eca-3c9c0f728f90'), UUID('7f7ae475-0fc8-11ee-9e54-3c9c0f728f90'), UUID('7f7ae476-0fc8-11ee-8c26-3c9c0f728f90'), UUID('7f7ae477-0fc8-11ee-88dd-3c9c0f728f90'), UUID('7f7ae478-0fc8-11ee-98b6-3c9c0f728f90'), UUID('7f7ae479-0fc8-11ee-9013-3c9c0f728f90'), UUID('7f7ae47a-0fc8-11ee-bb27-3c9c0f728f90'), UUID('7f7ae47b-0fc8-11ee-b298-3c9c0f728f90'), UUID('7f7ae47c-0fc8-11ee-b638-3c9c0f728f90'), UUID('7f7ae47d-0fc8-11ee-b438-3c9c0f728f90'), UUID('7f7ae47e-0fc8-11ee-b569-3c9c0f728f90'), UUID('7f7ae47f-0fc8-11ee-90d9-3c9c0f728f90'), UUID('7f7ae480-0fc8-11ee-a9fe-3c9c0f728f90'), UUID('7f7ae481-0fc8-11ee-8e8b-3c9c0f728f90'), UUID('7f7ae482-0fc8-11ee-adda-3c9c0f728f90'), UUID('7f7ae483-0fc8-11ee-a680-3c9c0f728f90'), UUID('7f7ae484-0fc8-11ee-ae16-3c9c0f728f90'), UUID('7f7ae485-0fc8-11ee-be6e-3c9c0f728f90'), UUID('7f7ae486-0fc8-11ee-9bbd-3c9c0f728f90'), UUID('7f7ae487-0fc8-11ee-8ac5-3c9c0f728f90'), UUID('7f7ae488-0fc8-11ee-815f-3c9c0f728f90'), UUID('7f7ae489-0fc8-11ee-bcdf-3c9c0f728f90'), UUID('7f7ae48a-0fc8-11ee-924f-3c9c0f728f90'), UUID('7f7ae48b-0fc8-11ee-8577-3c9c0f728f90'), UUID('7f7ae48c-0fc8-11ee-8f6a-3c9c0f728f90'), UUID('7f7ae48d-0fc8-11ee-a6b0-3c9c0f728f90'), UUID('7f7ae48e-0fc8-11ee-b27d-3c9c0f728f90'), UUID('7f7ae48f-0fc8-11ee-b6a4-3c9c0f728f90'), UUID('7f7ae490-0fc8-11ee-a5ae-3c9c0f728f90'), UUID('7f7ae491-0fc8-11ee-8f24-3c9c0f728f90'), UUID('7f7ae492-0fc8-11ee-b1e5-3c9c0f728f90'), UUID('7f7ae493-0fc8-11ee-ae66-3c9c0f728f90'), UUID('7f7ae494-0fc8-11ee-9fbd-3c9c0f728f90'), UUID('7f7ae495-0fc8-11ee-8735-3c9c0f728f90'), UUID('7f7ae496-0fc8-11ee-b7e2-3c9c0f728f90'), UUID('7f7ae497-0fc8-11ee-83fa-3c9c0f728f90'), UUID('7f7ae498-0fc8-11ee-bfd3-3c9c0f728f90'), UUID('7f7ae499-0fc8-11ee-95ba-3c9c0f728f90'), UUID('7f7ae49a-0fc8-11ee-baac-3c9c0f728f90'), UUID('7f7ae49b-0fc8-11ee-a786-3c9c0f728f90'), UUID('7f7ae49c-0fc8-11ee-8edc-3c9c0f728f90'), UUID('7f7ae49d-0fc8-11ee-991a-3c9c0f728f90'), UUID('7f7ae49e-0fc8-11ee-9ecd-3c9c0f728f90'), UUID('7f7ae49f-0fc8-11ee-9be2-3c9c0f728f90'), UUID('7f7ae4a0-0fc8-11ee-b81e-3c9c0f728f90'), UUID('7f7ae4a1-0fc8-11ee-bcf3-3c9c0f728f90'), UUID('7f7ae4a2-0fc8-11ee-b867-3c9c0f728f90'), UUID('7f7ae4a3-0fc8-11ee-8c36-3c9c0f728f90'), UUID('7f7ae4a4-0fc8-11ee-b130-3c9c0f728f90'), UUID('7f7ae4a5-0fc8-11ee-8442-3c9c0f728f90'), UUID('7f7ae4a6-0fc8-11ee-a7db-3c9c0f728f90'), UUID('7f7ae4a7-0fc8-11ee-9c0a-3c9c0f728f90'), UUID('7f7ae4a8-0fc8-11ee-abea-3c9c0f728f90'), UUID('7f7ae4a9-0fc8-11ee-8f40-3c9c0f728f90'), UUID('7f7ae4aa-0fc8-11ee-b099-3c9c0f728f90'), UUID('7f7ae4ab-0fc8-11ee-8208-3c9c0f728f90'), UUID('7f7ae4ac-0fc8-11ee-a8d0-3c9c0f728f90'), UUID('7f7ae4ad-0fc8-11ee-8387-3c9c0f728f90'), UUID('7f7ae4ae-0fc8-11ee-908c-3c9c0f728f90'), UUID('7f7ae4af-0fc8-11ee-945f-3c9c0f728f90'), UUID('7f7ae4b0-0fc8-11ee-8ba0-3c9c0f728f90'), UUID('7f7ae4b1-0fc8-11ee-b2e0-3c9c0f728f90'), UUID('7f7ae4b2-0fc8-11ee-8aec-3c9c0f728f90'), UUID('7f7ae4b3-0fc8-11ee-baeb-3c9c0f728f90'), UUID('7f7ae4b4-0fc8-11ee-adb5-3c9c0f728f90'), UUID('7f7ae4b5-0fc8-11ee-b94a-3c9c0f728f90'), UUID('7f7ae4b6-0fc8-11ee-8b04-3c9c0f728f90'), UUID('7f7ae4b7-0fc8-11ee-b027-3c9c0f728f90'), UUID('7f7ae4b8-0fc8-11ee-8a65-3c9c0f728f90'), UUID('7f7ae4b9-0fc8-11ee-9208-3c9c0f728f90'), UUID('7f7ae4ba-0fc8-11ee-974a-3c9c0f728f90'), UUID('7f7ae4bb-0fc8-11ee-a0b4-3c9c0f728f90'), UUID('7f7ae4bc-0fc8-11ee-8ee5-3c9c0f728f90'), UUID('7f7ae4bd-0fc8-11ee-a6a2-3c9c0f728f90'), UUID('7f7ae4be-0fc8-11ee-a5d7-3c9c0f728f90'), UUID('7f7ae4bf-0fc8-11ee-ac47-3c9c0f728f90'), UUID('7f7ae4c0-0fc8-11ee-8c0b-3c9c0f728f90'), UUID('7f7ae4c1-0fc8-11ee-93e7-3c9c0f728f90'), UUID('7f7ae4c2-0fc8-11ee-be3d-3c9c0f728f90'), UUID('7f7ae4c3-0fc8-11ee-9566-3c9c0f728f90'), UUID('7f7ae4c4-0fc8-11ee-9442-3c9c0f728f90'), UUID('7f7ae4c5-0fc8-11ee-a338-3c9c0f728f90'), UUID('7f7ae4c6-0fc8-11ee-909f-3c9c0f728f90'), UUID('7f7ae4c7-0fc8-11ee-892a-3c9c0f728f90'), UUID('7f7ae4c8-0fc8-11ee-b5c6-3c9c0f728f90'), UUID('7f7ae4c9-0fc8-11ee-9c8e-3c9c0f728f90'), UUID('7f7ae4ca-0fc8-11ee-8674-3c9c0f728f90'), UUID('7f7ae4cb-0fc8-11ee-b75f-3c9c0f728f90'), UUID('7f7ae4cc-0fc8-11ee-af5f-3c9c0f728f90'), UUID('7f7ae4cd-0fc8-11ee-b9b0-3c9c0f728f90'), UUID('7f7ae4ce-0fc8-11ee-a39c-3c9c0f728f90'), UUID('7f7ae4cf-0fc8-11ee-991e-3c9c0f728f90'), UUID('7f7ae4d0-0fc8-11ee-8102-3c9c0f728f90'), UUID('7f7ae4d1-0fc8-11ee-88fd-3c9c0f728f90'), UUID('7f7ae4d2-0fc8-11ee-b377-3c9c0f728f90'), UUID('7f7ae4d3-0fc8-11ee-aec1-3c9c0f728f90'), UUID('7f7ae4d4-0fc8-11ee-a2d0-3c9c0f728f90'), UUID('7f7ae4d5-0fc8-11ee-b017-3c9c0f728f90'), UUID('7f7ae4d6-0fc8-11ee-8410-3c9c0f728f90'), UUID('7f7ae4d7-0fc8-11ee-9042-3c9c0f728f90'), UUID('7f7ae4d8-0fc8-11ee-957a-3c9c0f728f90'), UUID('7f7ae4d9-0fc8-11ee-a217-3c9c0f728f90'), UUID('7f7ae4da-0fc8-11ee-8b74-3c9c0f728f90'), UUID('7f7ae4db-0fc8-11ee-b01f-3c9c0f728f90'), UUID('7f7ae4dc-0fc8-11ee-9e0f-3c9c0f728f90'), UUID('7f7ae4dd-0fc8-11ee-b7b4-3c9c0f728f90'), UUID('7f7ae4de-0fc8-11ee-96a8-3c9c0f728f90'), UUID('7f7ae4df-0fc8-11ee-aecf-3c9c0f728f90'), UUID('7f7ae4e0-0fc8-11ee-b707-3c9c0f728f90'), UUID('7f7ae4e1-0fc8-11ee-ac15-3c9c0f728f90'), UUID('7f7ae4e2-0fc8-11ee-860b-3c9c0f728f90'), UUID('7f7ae4e3-0fc8-11ee-97e5-3c9c0f728f90'), UUID('7f7ae4e4-0fc8-11ee-9579-3c9c0f728f90'), UUID('7f7ae4e5-0fc8-11ee-b38d-3c9c0f728f90'), UUID('7f7ae4e6-0fc8-11ee-b52a-3c9c0f728f90'), UUID('7f7ae4e7-0fc8-11ee-9556-3c9c0f728f90'), UUID('7f7ae4e8-0fc8-11ee-8f42-3c9c0f728f90'), UUID('7f7ae4e9-0fc8-11ee-b31f-3c9c0f728f90'), UUID('7f7ae4ea-0fc8-11ee-899c-3c9c0f728f90'), UUID('7f7ae4eb-0fc8-11ee-a30a-3c9c0f728f90'), UUID('7f7ae4ec-0fc8-11ee-90b7-3c9c0f728f90'), UUID('7f7ae4ed-0fc8-11ee-a888-3c9c0f728f90'), UUID('7f7ae4ee-0fc8-11ee-a1c5-3c9c0f728f90'), UUID('7f7ae4ef-0fc8-11ee-9576-3c9c0f728f90'), UUID('7f7ae4f0-0fc8-11ee-a88f-3c9c0f728f90'), UUID('7f7ae4f1-0fc8-11ee-8d33-3c9c0f728f90'), UUID('7f7ae4f2-0fc8-11ee-9999-3c9c0f728f90'), UUID('7f7ae4f3-0fc8-11ee-845c-3c9c0f728f90'), UUID('7f7ae4f4-0fc8-11ee-acd3-3c9c0f728f90'), UUID('7f7ae4f5-0fc8-11ee-add9-3c9c0f728f90'), UUID('7f7ae4f6-0fc8-11ee-ba4c-3c9c0f728f90'), UUID('7f7ae4f7-0fc8-11ee-8196-3c9c0f728f90'), UUID('7f7ae4f8-0fc8-11ee-a982-3c9c0f728f90'), UUID('7f7ae4f9-0fc8-11ee-a8d9-3c9c0f728f90'), UUID('7f7ae4fa-0fc8-11ee-ba03-3c9c0f728f90'), UUID('7f7ae4fb-0fc8-11ee-9940-3c9c0f728f90'), UUID('7f7ae4fc-0fc8-11ee-bcf9-3c9c0f728f90'), UUID('7f7ae4fd-0fc8-11ee-9863-3c9c0f728f90'), UUID('7f7ae4fe-0fc8-11ee-92ad-3c9c0f728f90'), UUID('7f7ae4ff-0fc8-11ee-8f46-3c9c0f728f90'), UUID('7f7ae500-0fc8-11ee-bd67-3c9c0f728f90'), UUID('7f7ae501-0fc8-11ee-ab4b-3c9c0f728f90'), UUID('7f7ae502-0fc8-11ee-b32d-3c9c0f728f90'), UUID('7f7ae503-0fc8-11ee-b686-3c9c0f728f90'), UUID('7f7ae504-0fc8-11ee-9bb0-3c9c0f728f90'), UUID('7f7ae505-0fc8-11ee-b5c1-3c9c0f728f90'), UUID('7f7ae506-0fc8-11ee-9be8-3c9c0f728f90'), UUID('7f7ae507-0fc8-11ee-8332-3c9c0f728f90'), UUID('7f7ae508-0fc8-11ee-a3fe-3c9c0f728f90'), UUID('7f7ae509-0fc8-11ee-8110-3c9c0f728f90'), UUID('7f7ae50a-0fc8-11ee-a6f2-3c9c0f728f90'), UUID('7f7ae50b-0fc8-11ee-bfac-3c9c0f728f90'), UUID('7f7ae50c-0fc8-11ee-a1bb-3c9c0f728f90'), UUID('7f7ae50d-0fc8-11ee-9a8e-3c9c0f728f90'), UUID('7f7ae50e-0fc8-11ee-956a-3c9c0f728f90'), UUID('7f7ae50f-0fc8-11ee-83b4-3c9c0f728f90'), UUID('7f7ae510-0fc8-11ee-adcd-3c9c0f728f90'), UUID('7f7ae511-0fc8-11ee-8d33-3c9c0f728f90'), UUID('7f7ae512-0fc8-11ee-bce0-3c9c0f728f90'), UUID('7f7ae513-0fc8-11ee-83d4-3c9c0f728f90'), UUID('7f7ae514-0fc8-11ee-8480-3c9c0f728f90'), UUID('7f7ae515-0fc8-11ee-a787-3c9c0f728f90'), UUID('7f7ae516-0fc8-11ee-8959-3c9c0f728f90'), UUID('7f7ae517-0fc8-11ee-a208-3c9c0f728f90'), UUID('7f7ae518-0fc8-11ee-9123-3c9c0f728f90'), UUID('7f7ae519-0fc8-11ee-a978-3c9c0f728f90'), UUID('7f7ae51a-0fc8-11ee-bf7b-3c9c0f728f90'), UUID('7f7ae51b-0fc8-11ee-9c20-3c9c0f728f90'), UUID('7f7ae51c-0fc8-11ee-a64a-3c9c0f728f90'), UUID('7f7b0b50-0fc8-11ee-ba28-3c9c0f728f90'), UUID('7f7b0b51-0fc8-11ee-a57b-3c9c0f728f90'), UUID('7f7b0b52-0fc8-11ee-95a7-3c9c0f728f90')]\n"
     ]
    }
   ],
   "source": [
    "print(list_uuid)"
   ]
  },
  {
   "cell_type": "code",
   "execution_count": 91,
   "metadata": {},
   "outputs": [],
   "source": [
    "df_special_feature_nomaly=pd.DataFrame()"
   ]
  },
  {
   "cell_type": "code",
   "execution_count": 92,
   "metadata": {},
   "outputs": [],
   "source": [
    "df_special_feature_nomaly[\"id\"]=list_uuid\n",
    "df_special_feature_nomaly[\"special_feature\"]=special_feature_nomaly_unique"
   ]
  },
  {
   "cell_type": "code",
   "execution_count": 93,
   "metadata": {},
   "outputs": [],
   "source": [
    "df_special_feature_nomaly.to_csv('../data_cleaned/df_special_feature_nomaly.csv',index=False)"
   ]
  },
  {
   "attachments": {},
   "cell_type": "markdown",
   "metadata": {},
   "source": [
    "## 4. Dim company "
   ]
  },
  {
   "cell_type": "code",
   "execution_count": 94,
   "metadata": {},
   "outputs": [],
   "source": [
    "df_company=pd.DataFrame()\n",
    "df_company['manufacturer']=df_dataset_cleaned['manufacturer']\n",
    "df_company['country_of_origin']=df_dataset_cleaned['country_of_origin']"
   ]
  },
  {
   "cell_type": "code",
   "execution_count": 95,
   "metadata": {},
   "outputs": [
    {
     "data": {
      "text/plain": [
       "264"
      ]
     },
     "execution_count": 95,
     "metadata": {},
     "output_type": "execute_result"
    }
   ],
   "source": [
    "len(df_company)"
   ]
  },
  {
   "cell_type": "code",
   "execution_count": 96,
   "metadata": {},
   "outputs": [
    {
     "data": {
      "text/plain": [
       "32"
      ]
     },
     "execution_count": 96,
     "metadata": {},
     "output_type": "execute_result"
    }
   ],
   "source": [
    "len(df_company.drop_duplicates())\n"
   ]
  },
  {
   "cell_type": "code",
   "execution_count": 97,
   "metadata": {},
   "outputs": [
    {
     "data": {
      "text/plain": [
       "32"
      ]
     },
     "execution_count": 97,
     "metadata": {},
     "output_type": "execute_result"
    }
   ],
   "source": [
    "df_company= df_company.drop_duplicates()\n",
    "len(df_company)"
   ]
  },
  {
   "cell_type": "code",
   "execution_count": 98,
   "metadata": {},
   "outputs": [],
   "source": [
    "import uuid\n",
    "\n",
    "list_uuid=[]\n",
    "for i in range(0,len(df_company)):\n",
    "  #print(i)\n",
    "  list_uuid.append(uuid.uuid1())"
   ]
  },
  {
   "cell_type": "code",
   "execution_count": 99,
   "metadata": {},
   "outputs": [],
   "source": [
    "df_company[\"id\"]=list_uuid"
   ]
  },
  {
   "cell_type": "code",
   "execution_count": 100,
   "metadata": {},
   "outputs": [
    {
     "data": {
      "text/html": [
       "<div>\n",
       "<style scoped>\n",
       "    .dataframe tbody tr th:only-of-type {\n",
       "        vertical-align: middle;\n",
       "    }\n",
       "\n",
       "    .dataframe tbody tr th {\n",
       "        vertical-align: top;\n",
       "    }\n",
       "\n",
       "    .dataframe thead th {\n",
       "        text-align: right;\n",
       "    }\n",
       "</style>\n",
       "<table border=\"1\" class=\"dataframe\">\n",
       "  <thead>\n",
       "    <tr style=\"text-align: right;\">\n",
       "      <th></th>\n",
       "      <th>manufacturer</th>\n",
       "      <th>country_of_origin</th>\n",
       "      <th>id</th>\n",
       "    </tr>\n",
       "  </thead>\n",
       "  <tbody>\n",
       "    <tr>\n",
       "      <th>0</th>\n",
       "      <td>samsung</td>\n",
       "      <td>India</td>\n",
       "      <td>7f8f4894-0fc8-11ee-ae4f-3c9c0f728f90</td>\n",
       "    </tr>\n",
       "    <tr>\n",
       "      <th>1</th>\n",
       "      <td>oneplus</td>\n",
       "      <td>India</td>\n",
       "      <td>7f8f4895-0fc8-11ee-a607-3c9c0f728f90</td>\n",
       "    </tr>\n",
       "    <tr>\n",
       "      <th>2</th>\n",
       "      <td>oppo</td>\n",
       "      <td>India</td>\n",
       "      <td>7f8f4896-0fc8-11ee-a4d4-3c9c0f728f90</td>\n",
       "    </tr>\n",
       "    <tr>\n",
       "      <th>4</th>\n",
       "      <td>bhagwati products ltd. sp1-1 industrial area k...</td>\n",
       "      <td>India</td>\n",
       "      <td>7f8f4897-0fc8-11ee-91df-3c9c0f728f90</td>\n",
       "    </tr>\n",
       "    <tr>\n",
       "      <th>5</th>\n",
       "      <td>sky cable</td>\n",
       "      <td>India</td>\n",
       "      <td>7f8f4898-0fc8-11ee-9dfe-3c9c0f728f90</td>\n",
       "    </tr>\n",
       "  </tbody>\n",
       "</table>\n",
       "</div>"
      ],
      "text/plain": [
       "                                        manufacturer country_of_origin  \\\n",
       "0                                            samsung             India   \n",
       "1                                            oneplus             India   \n",
       "2                                               oppo             India   \n",
       "4  bhagwati products ltd. sp1-1 industrial area k...             India   \n",
       "5                                          sky cable             India   \n",
       "\n",
       "                                     id  \n",
       "0  7f8f4894-0fc8-11ee-ae4f-3c9c0f728f90  \n",
       "1  7f8f4895-0fc8-11ee-a607-3c9c0f728f90  \n",
       "2  7f8f4896-0fc8-11ee-a4d4-3c9c0f728f90  \n",
       "4  7f8f4897-0fc8-11ee-91df-3c9c0f728f90  \n",
       "5  7f8f4898-0fc8-11ee-9dfe-3c9c0f728f90  "
      ]
     },
     "execution_count": 100,
     "metadata": {},
     "output_type": "execute_result"
    }
   ],
   "source": [
    "df_company.head(5)"
   ]
  },
  {
   "cell_type": "code",
   "execution_count": 101,
   "metadata": {},
   "outputs": [],
   "source": [
    "df_company.to_csv('../data_cleaned/df_company.csv',index=False)"
   ]
  },
  {
   "cell_type": "code",
   "execution_count": 102,
   "metadata": {},
   "outputs": [
    {
     "data": {
      "text/plain": [
       "Index(['title', 'price', 'rating', 'total_reviews', 'availability_status',\n",
       "       'manufacturer', 'country_of_origin', 'os', 'ram', 'product_dimensions',\n",
       "       'weight', 'batteries', 'special_features', 'form_factor', 'colour',\n",
       "       'battery_power_rating', 'product_description'],\n",
       "      dtype='object')"
      ]
     },
     "execution_count": 102,
     "metadata": {},
     "output_type": "execute_result"
    }
   ],
   "source": [
    "df_dataset_cleaned.columns"
   ]
  },
  {
   "attachments": {},
   "cell_type": "markdown",
   "metadata": {},
   "source": [
    "## 5. Dim colour"
   ]
  },
  {
   "cell_type": "code",
   "execution_count": 103,
   "metadata": {},
   "outputs": [],
   "source": [
    "\n",
    "df_colour=pd.DataFrame()\n",
    "df_colour['colour']=df_dataset_cleaned['colour']\n"
   ]
  },
  {
   "cell_type": "code",
   "execution_count": 104,
   "metadata": {},
   "outputs": [
    {
     "data": {
      "text/plain": [
       "264"
      ]
     },
     "execution_count": 104,
     "metadata": {},
     "output_type": "execute_result"
    }
   ],
   "source": [
    "len(df_colour)"
   ]
  },
  {
   "cell_type": "code",
   "execution_count": 105,
   "metadata": {},
   "outputs": [
    {
     "data": {
      "text/plain": [
       "142"
      ]
     },
     "execution_count": 105,
     "metadata": {},
     "output_type": "execute_result"
    }
   ],
   "source": [
    "df_colour= df_colour.drop_duplicates()\n",
    "len(df_colour)"
   ]
  },
  {
   "cell_type": "code",
   "execution_count": 106,
   "metadata": {},
   "outputs": [],
   "source": [
    "import uuid\n",
    "\n",
    "list_uuid=[]\n",
    "for i in range(0,len(df_colour)):\n",
    "  #print(i)\n",
    "  list_uuid.append(uuid.uuid1())"
   ]
  },
  {
   "cell_type": "code",
   "execution_count": 107,
   "metadata": {},
   "outputs": [],
   "source": [
    "df_colour[\"id\"]=list_uuid"
   ]
  },
  {
   "cell_type": "code",
   "execution_count": 108,
   "metadata": {},
   "outputs": [
    {
     "data": {
      "text/html": [
       "<div>\n",
       "<style scoped>\n",
       "    .dataframe tbody tr th:only-of-type {\n",
       "        vertical-align: middle;\n",
       "    }\n",
       "\n",
       "    .dataframe tbody tr th {\n",
       "        vertical-align: top;\n",
       "    }\n",
       "\n",
       "    .dataframe thead th {\n",
       "        text-align: right;\n",
       "    }\n",
       "</style>\n",
       "<table border=\"1\" class=\"dataframe\">\n",
       "  <thead>\n",
       "    <tr style=\"text-align: right;\">\n",
       "      <th></th>\n",
       "      <th>colour</th>\n",
       "      <th>id</th>\n",
       "    </tr>\n",
       "  </thead>\n",
       "  <tbody>\n",
       "    <tr>\n",
       "      <th>0</th>\n",
       "      <td>Midnight Black</td>\n",
       "      <td>7f9fadd0-0fc8-11ee-8f78-3c9c0f728f90</td>\n",
       "    </tr>\n",
       "    <tr>\n",
       "      <th>1</th>\n",
       "      <td>Prism Black</td>\n",
       "      <td>7f9fadd1-0fc8-11ee-89d3-3c9c0f728f90</td>\n",
       "    </tr>\n",
       "    <tr>\n",
       "      <th>2</th>\n",
       "      <td>Galactic Blue</td>\n",
       "      <td>7f9fadd2-0fc8-11ee-ae20-3c9c0f728f90</td>\n",
       "    </tr>\n",
       "    <tr>\n",
       "      <th>3</th>\n",
       "      <td>Aqua Green</td>\n",
       "      <td>7f9fadd3-0fc8-11ee-a6e3-3c9c0f728f90</td>\n",
       "    </tr>\n",
       "    <tr>\n",
       "      <th>4</th>\n",
       "      <td>Champagne</td>\n",
       "      <td>7f9fadd4-0fc8-11ee-8db6-3c9c0f728f90</td>\n",
       "    </tr>\n",
       "  </tbody>\n",
       "</table>\n",
       "</div>"
      ],
      "text/plain": [
       "           colour                                    id\n",
       "0  Midnight Black  7f9fadd0-0fc8-11ee-8f78-3c9c0f728f90\n",
       "1     Prism Black  7f9fadd1-0fc8-11ee-89d3-3c9c0f728f90\n",
       "2   Galactic Blue  7f9fadd2-0fc8-11ee-ae20-3c9c0f728f90\n",
       "3      Aqua Green  7f9fadd3-0fc8-11ee-a6e3-3c9c0f728f90\n",
       "4       Champagne  7f9fadd4-0fc8-11ee-8db6-3c9c0f728f90"
      ]
     },
     "execution_count": 108,
     "metadata": {},
     "output_type": "execute_result"
    }
   ],
   "source": [
    "df_colour.head(5)"
   ]
  },
  {
   "cell_type": "code",
   "execution_count": 109,
   "metadata": {},
   "outputs": [],
   "source": [
    "df_colour.to_csv('../data_cleaned/df_colour.csv',index=False)"
   ]
  },
  {
   "attachments": {},
   "cell_type": "markdown",
   "metadata": {},
   "source": [
    "## 6. Dim ram"
   ]
  },
  {
   "cell_type": "code",
   "execution_count": 110,
   "metadata": {},
   "outputs": [],
   "source": [
    "\n",
    "df_ram=pd.DataFrame()\n",
    "df_ram['ram']=df_dataset_cleaned['ram']\n"
   ]
  },
  {
   "cell_type": "code",
   "execution_count": 111,
   "metadata": {},
   "outputs": [
    {
     "data": {
      "text/plain": [
       "array([  6,   8,  32,   4,   3,  12,   2,  64, 512,   1], dtype=int64)"
      ]
     },
     "execution_count": 111,
     "metadata": {},
     "output_type": "execute_result"
    }
   ],
   "source": [
    "df_ram['ram'].unique()"
   ]
  },
  {
   "cell_type": "code",
   "execution_count": 112,
   "metadata": {},
   "outputs": [
    {
     "data": {
      "text/plain": [
       "264"
      ]
     },
     "execution_count": 112,
     "metadata": {},
     "output_type": "execute_result"
    }
   ],
   "source": [
    "len(df_ram)"
   ]
  },
  {
   "cell_type": "code",
   "execution_count": 113,
   "metadata": {},
   "outputs": [
    {
     "data": {
      "text/plain": [
       "10"
      ]
     },
     "execution_count": 113,
     "metadata": {},
     "output_type": "execute_result"
    }
   ],
   "source": [
    "df_ram= df_ram.drop_duplicates()\n",
    "len(df_ram)"
   ]
  },
  {
   "cell_type": "code",
   "execution_count": 114,
   "metadata": {},
   "outputs": [],
   "source": [
    "import uuid\n",
    "\n",
    "list_uuid=[]\n",
    "for i in range(0,len(df_ram)):\n",
    "  #print(i)\n",
    "  list_uuid.append(uuid.uuid1())"
   ]
  },
  {
   "cell_type": "code",
   "execution_count": 115,
   "metadata": {},
   "outputs": [],
   "source": [
    "df_ram[\"id\"]=list_uuid"
   ]
  },
  {
   "cell_type": "code",
   "execution_count": 116,
   "metadata": {},
   "outputs": [
    {
     "data": {
      "text/html": [
       "<div>\n",
       "<style scoped>\n",
       "    .dataframe tbody tr th:only-of-type {\n",
       "        vertical-align: middle;\n",
       "    }\n",
       "\n",
       "    .dataframe tbody tr th {\n",
       "        vertical-align: top;\n",
       "    }\n",
       "\n",
       "    .dataframe thead th {\n",
       "        text-align: right;\n",
       "    }\n",
       "</style>\n",
       "<table border=\"1\" class=\"dataframe\">\n",
       "  <thead>\n",
       "    <tr style=\"text-align: right;\">\n",
       "      <th></th>\n",
       "      <th>ram</th>\n",
       "      <th>id</th>\n",
       "    </tr>\n",
       "  </thead>\n",
       "  <tbody>\n",
       "    <tr>\n",
       "      <th>0</th>\n",
       "      <td>6</td>\n",
       "      <td>7facc0a0-0fc8-11ee-bbe5-3c9c0f728f90</td>\n",
       "    </tr>\n",
       "    <tr>\n",
       "      <th>1</th>\n",
       "      <td>8</td>\n",
       "      <td>7facc0a1-0fc8-11ee-8cc3-3c9c0f728f90</td>\n",
       "    </tr>\n",
       "    <tr>\n",
       "      <th>3</th>\n",
       "      <td>32</td>\n",
       "      <td>7facc0a2-0fc8-11ee-b424-3c9c0f728f90</td>\n",
       "    </tr>\n",
       "    <tr>\n",
       "      <th>4</th>\n",
       "      <td>4</td>\n",
       "      <td>7facc0a3-0fc8-11ee-9a1e-3c9c0f728f90</td>\n",
       "    </tr>\n",
       "    <tr>\n",
       "      <th>15</th>\n",
       "      <td>3</td>\n",
       "      <td>7facc0a4-0fc8-11ee-a178-3c9c0f728f90</td>\n",
       "    </tr>\n",
       "  </tbody>\n",
       "</table>\n",
       "</div>"
      ],
      "text/plain": [
       "    ram                                    id\n",
       "0     6  7facc0a0-0fc8-11ee-bbe5-3c9c0f728f90\n",
       "1     8  7facc0a1-0fc8-11ee-8cc3-3c9c0f728f90\n",
       "3    32  7facc0a2-0fc8-11ee-b424-3c9c0f728f90\n",
       "4     4  7facc0a3-0fc8-11ee-9a1e-3c9c0f728f90\n",
       "15    3  7facc0a4-0fc8-11ee-a178-3c9c0f728f90"
      ]
     },
     "execution_count": 116,
     "metadata": {},
     "output_type": "execute_result"
    }
   ],
   "source": [
    "df_ram.head(5)"
   ]
  },
  {
   "cell_type": "code",
   "execution_count": 117,
   "metadata": {},
   "outputs": [],
   "source": [
    "df_ram.to_csv('../data_cleaned/df_ram.csv',index=False)"
   ]
  },
  {
   "attachments": {},
   "cell_type": "markdown",
   "metadata": {},
   "source": [
    "## 7. Dim os"
   ]
  },
  {
   "cell_type": "code",
   "execution_count": 118,
   "metadata": {},
   "outputs": [],
   "source": [
    "\n",
    "df_os=pd.DataFrame()\n",
    "df_os['os']=df_dataset_cleaned['os']\n"
   ]
  },
  {
   "cell_type": "code",
   "execution_count": 119,
   "metadata": {},
   "outputs": [
    {
     "name": "stdout",
     "output_type": "stream",
     "text": [
      "                   os\n",
      "0             Android\n",
      "1             Android\n",
      "2          Android 10\n",
      "3             Android\n",
      "4             Android\n",
      "..                ...\n",
      "259              MiUI\n",
      "260              MiUI\n",
      "261  Funtouch OS 11.1\n",
      "262          OneU 3.1\n",
      "263  Funtouch OS 11.1\n",
      "\n",
      "[264 rows x 1 columns]\n"
     ]
    }
   ],
   "source": [
    "print(df_os)"
   ]
  },
  {
   "cell_type": "code",
   "execution_count": 120,
   "metadata": {},
   "outputs": [
    {
     "data": {
      "text/html": [
       "<div>\n",
       "<style scoped>\n",
       "    .dataframe tbody tr th:only-of-type {\n",
       "        vertical-align: middle;\n",
       "    }\n",
       "\n",
       "    .dataframe tbody tr th {\n",
       "        vertical-align: top;\n",
       "    }\n",
       "\n",
       "    .dataframe thead th {\n",
       "        text-align: right;\n",
       "    }\n",
       "</style>\n",
       "<table border=\"1\" class=\"dataframe\">\n",
       "  <thead>\n",
       "    <tr style=\"text-align: right;\">\n",
       "      <th></th>\n",
       "      <th>os</th>\n",
       "    </tr>\n",
       "  </thead>\n",
       "  <tbody>\n",
       "    <tr>\n",
       "      <th>1</th>\n",
       "      <td>Android</td>\n",
       "    </tr>\n",
       "    <tr>\n",
       "      <th>3</th>\n",
       "      <td>Android</td>\n",
       "    </tr>\n",
       "    <tr>\n",
       "      <th>4</th>\n",
       "      <td>Android</td>\n",
       "    </tr>\n",
       "    <tr>\n",
       "      <th>7</th>\n",
       "      <td>Android 11</td>\n",
       "    </tr>\n",
       "    <tr>\n",
       "      <th>8</th>\n",
       "      <td>Android</td>\n",
       "    </tr>\n",
       "    <tr>\n",
       "      <th>...</th>\n",
       "      <td>...</td>\n",
       "    </tr>\n",
       "    <tr>\n",
       "      <th>259</th>\n",
       "      <td>MiUI</td>\n",
       "    </tr>\n",
       "    <tr>\n",
       "      <th>260</th>\n",
       "      <td>MiUI</td>\n",
       "    </tr>\n",
       "    <tr>\n",
       "      <th>261</th>\n",
       "      <td>Funtouch OS 11.1</td>\n",
       "    </tr>\n",
       "    <tr>\n",
       "      <th>262</th>\n",
       "      <td>OneU 3.1</td>\n",
       "    </tr>\n",
       "    <tr>\n",
       "      <th>263</th>\n",
       "      <td>Funtouch OS 11.1</td>\n",
       "    </tr>\n",
       "  </tbody>\n",
       "</table>\n",
       "<p>243 rows × 1 columns</p>\n",
       "</div>"
      ],
      "text/plain": [
       "                   os\n",
       "1             Android\n",
       "3             Android\n",
       "4             Android\n",
       "7          Android 11\n",
       "8             Android\n",
       "..                ...\n",
       "259              MiUI\n",
       "260              MiUI\n",
       "261  Funtouch OS 11.1\n",
       "262          OneU 3.1\n",
       "263  Funtouch OS 11.1\n",
       "\n",
       "[243 rows x 1 columns]"
      ]
     },
     "execution_count": 120,
     "metadata": {},
     "output_type": "execute_result"
    }
   ],
   "source": [
    "df_os[df_os.duplicated()]"
   ]
  },
  {
   "cell_type": "code",
   "execution_count": 121,
   "metadata": {},
   "outputs": [],
   "source": [
    "df_os=df_os.drop_duplicates()"
   ]
  },
  {
   "cell_type": "code",
   "execution_count": 122,
   "metadata": {},
   "outputs": [
    {
     "name": "stdout",
     "output_type": "stream",
     "text": [
      "                  os                                    id\n",
      "0            Android  7fbce2c2-0fc8-11ee-850a-3c9c0f728f90\n",
      "2         Android 10  7fbce2c3-0fc8-11ee-b669-3c9c0f728f90\n",
      "5         Android 11  7fbce2c4-0fc8-11ee-9c61-3c9c0f728f90\n",
      "6   Funtouch OS 11.1  7fbce2c5-0fc8-11ee-94a4-3c9c0f728f90\n",
      "24    Funtouch OS 11  7fbce2c6-0fc8-11ee-957e-3c9c0f728f90\n"
     ]
    }
   ],
   "source": [
    "import uuid\n",
    "\n",
    "list_uuid=[]\n",
    "for i in range(0,len(df_os)):\n",
    "  #print(i)\n",
    "  list_uuid.append(uuid.uuid1())\n",
    "df_os[\"id\"]=list_uuid\n",
    "\n",
    "print(df_os.head())\n",
    "df_os.to_csv('../data_cleaned/df_os.csv',index=False)"
   ]
  },
  {
   "attachments": {},
   "cell_type": "markdown",
   "metadata": {},
   "source": [
    "## 8. Dim form factor"
   ]
  },
  {
   "cell_type": "code",
   "execution_count": 123,
   "metadata": {},
   "outputs": [
    {
     "data": {
      "text/plain": [
       "array(['Touchscreen Phone', 'Smartphone', 'Bar', 'Feature Phone',\n",
       "       'Touchscreen phone', 'Touch', 'Touchscreen', 'Touchscreen-Handy',\n",
       "       'Foldable Case', 'Palm Handed'], dtype=object)"
      ]
     },
     "execution_count": 123,
     "metadata": {},
     "output_type": "execute_result"
    }
   ],
   "source": [
    "df_dataset_cleaned.form_factor.unique()"
   ]
  },
  {
   "cell_type": "code",
   "execution_count": 124,
   "metadata": {},
   "outputs": [],
   "source": [
    "df_form_factor=pd.DataFrame()\n",
    "df_form_factor['form_factor']=df_dataset_cleaned[\"form_factor\"]"
   ]
  },
  {
   "cell_type": "code",
   "execution_count": 125,
   "metadata": {},
   "outputs": [
    {
     "data": {
      "text/plain": [
       "264"
      ]
     },
     "execution_count": 125,
     "metadata": {},
     "output_type": "execute_result"
    }
   ],
   "source": [
    "len(df_form_factor)"
   ]
  },
  {
   "cell_type": "code",
   "execution_count": 126,
   "metadata": {},
   "outputs": [],
   "source": [
    "df_form_factor=df_form_factor.drop_duplicates()"
   ]
  },
  {
   "cell_type": "code",
   "execution_count": 127,
   "metadata": {},
   "outputs": [
    {
     "data": {
      "text/plain": [
       "10"
      ]
     },
     "execution_count": 127,
     "metadata": {},
     "output_type": "execute_result"
    }
   ],
   "source": [
    "len(df_form_factor)"
   ]
  },
  {
   "cell_type": "code",
   "execution_count": 128,
   "metadata": {},
   "outputs": [
    {
     "data": {
      "text/html": [
       "<div>\n",
       "<style scoped>\n",
       "    .dataframe tbody tr th:only-of-type {\n",
       "        vertical-align: middle;\n",
       "    }\n",
       "\n",
       "    .dataframe tbody tr th {\n",
       "        vertical-align: top;\n",
       "    }\n",
       "\n",
       "    .dataframe thead th {\n",
       "        text-align: right;\n",
       "    }\n",
       "</style>\n",
       "<table border=\"1\" class=\"dataframe\">\n",
       "  <thead>\n",
       "    <tr style=\"text-align: right;\">\n",
       "      <th></th>\n",
       "      <th>form_factor</th>\n",
       "    </tr>\n",
       "  </thead>\n",
       "  <tbody>\n",
       "    <tr>\n",
       "      <th>0</th>\n",
       "      <td>Touchscreen Phone</td>\n",
       "    </tr>\n",
       "    <tr>\n",
       "      <th>1</th>\n",
       "      <td>Smartphone</td>\n",
       "    </tr>\n",
       "    <tr>\n",
       "      <th>2</th>\n",
       "      <td>Bar</td>\n",
       "    </tr>\n",
       "    <tr>\n",
       "      <th>18</th>\n",
       "      <td>Feature Phone</td>\n",
       "    </tr>\n",
       "    <tr>\n",
       "      <th>34</th>\n",
       "      <td>Touchscreen phone</td>\n",
       "    </tr>\n",
       "  </tbody>\n",
       "</table>\n",
       "</div>"
      ],
      "text/plain": [
       "          form_factor\n",
       "0   Touchscreen Phone\n",
       "1          Smartphone\n",
       "2                 Bar\n",
       "18      Feature Phone\n",
       "34  Touchscreen phone"
      ]
     },
     "execution_count": 128,
     "metadata": {},
     "output_type": "execute_result"
    }
   ],
   "source": [
    "df_form_factor.head()"
   ]
  },
  {
   "cell_type": "code",
   "execution_count": 129,
   "metadata": {},
   "outputs": [
    {
     "name": "stdout",
     "output_type": "stream",
     "text": [
      "          form_factor                                    id\n",
      "0   Touchscreen Phone  7fd47185-0fc8-11ee-a7d5-3c9c0f728f90\n",
      "1          Smartphone  7fd47186-0fc8-11ee-b604-3c9c0f728f90\n",
      "2                 Bar  7fd47187-0fc8-11ee-9ad1-3c9c0f728f90\n",
      "18      Feature Phone  7fd47188-0fc8-11ee-af5b-3c9c0f728f90\n",
      "34  Touchscreen phone  7fd47189-0fc8-11ee-b80b-3c9c0f728f90\n"
     ]
    }
   ],
   "source": [
    "import uuid\n",
    "\n",
    "list_uuid=[]\n",
    "for i in range(0,len(df_form_factor)):\n",
    "  #print(i)\n",
    "  list_uuid.append(uuid.uuid1())\n",
    "df_form_factor[\"id\"]=list_uuid\n",
    "\n",
    "print(df_form_factor.head())\n",
    "df_form_factor.to_csv('../data_cleaned/df_form_factor.csv',index=False)"
   ]
  },
  {
   "attachments": {},
   "cell_type": "markdown",
   "metadata": {},
   "source": [
    "## 9 Dim battery power rating"
   ]
  },
  {
   "cell_type": "code",
   "execution_count": 130,
   "metadata": {},
   "outputs": [
    {
     "data": {
      "text/html": [
       "<div>\n",
       "<style scoped>\n",
       "    .dataframe tbody tr th:only-of-type {\n",
       "        vertical-align: middle;\n",
       "    }\n",
       "\n",
       "    .dataframe tbody tr th {\n",
       "        vertical-align: top;\n",
       "    }\n",
       "\n",
       "    .dataframe thead th {\n",
       "        text-align: right;\n",
       "    }\n",
       "</style>\n",
       "<table border=\"1\" class=\"dataframe\">\n",
       "  <thead>\n",
       "    <tr style=\"text-align: right;\">\n",
       "      <th></th>\n",
       "      <th>title</th>\n",
       "      <th>price</th>\n",
       "      <th>rating</th>\n",
       "      <th>total_reviews</th>\n",
       "      <th>availability_status</th>\n",
       "      <th>manufacturer</th>\n",
       "      <th>country_of_origin</th>\n",
       "      <th>os</th>\n",
       "      <th>ram</th>\n",
       "      <th>product_dimensions</th>\n",
       "      <th>weight</th>\n",
       "      <th>batteries</th>\n",
       "      <th>special_features</th>\n",
       "      <th>form_factor</th>\n",
       "      <th>colour</th>\n",
       "      <th>battery_power_rating</th>\n",
       "      <th>product_description</th>\n",
       "    </tr>\n",
       "  </thead>\n",
       "  <tbody>\n",
       "    <tr>\n",
       "      <th>0</th>\n",
       "      <td>OnePlus Nord CE 5G (Blue Void 8GB RAM 128GB St...</td>\n",
       "      <td>45900.0</td>\n",
       "      <td>4.2</td>\n",
       "      <td>4</td>\n",
       "      <td>Only 1 left in stock.</td>\n",
       "      <td>samsung</td>\n",
       "      <td>India</td>\n",
       "      <td>Android</td>\n",
       "      <td>6</td>\n",
       "      <td>16.5 x 7.6 x 0.7 cm</td>\n",
       "      <td>167.0</td>\n",
       "      <td>1 Lithium Polymer</td>\n",
       "      <td>Dual Bluetooth Audio, IR Blaster, X-Axis Hapti...</td>\n",
       "      <td>Touchscreen Phone</td>\n",
       "      <td>Midnight Black</td>\n",
       "      <td>6000.0</td>\n",
       "      <td>Redmi 9A comes with Octa-core Helio G25 proces...</td>\n",
       "    </tr>\n",
       "  </tbody>\n",
       "</table>\n",
       "</div>"
      ],
      "text/plain": [
       "                                               title    price  rating  \\\n",
       "0  OnePlus Nord CE 5G (Blue Void 8GB RAM 128GB St...  45900.0     4.2   \n",
       "\n",
       "   total_reviews    availability_status manufacturer country_of_origin  \\\n",
       "0              4  Only 1 left in stock.      samsung             India   \n",
       "\n",
       "        os  ram   product_dimensions  weight          batteries  \\\n",
       "0  Android    6  16.5 x 7.6 x 0.7 cm   167.0  1 Lithium Polymer   \n",
       "\n",
       "                                    special_features        form_factor  \\\n",
       "0  Dual Bluetooth Audio, IR Blaster, X-Axis Hapti...  Touchscreen Phone   \n",
       "\n",
       "           colour  battery_power_rating  \\\n",
       "0  Midnight Black                6000.0   \n",
       "\n",
       "                                 product_description  \n",
       "0  Redmi 9A comes with Octa-core Helio G25 proces...  "
      ]
     },
     "execution_count": 130,
     "metadata": {},
     "output_type": "execute_result"
    }
   ],
   "source": [
    "df_dataset_cleaned.head(1)"
   ]
  },
  {
   "cell_type": "code",
   "execution_count": 131,
   "metadata": {},
   "outputs": [
    {
     "data": {
      "text/html": [
       "<div>\n",
       "<style scoped>\n",
       "    .dataframe tbody tr th:only-of-type {\n",
       "        vertical-align: middle;\n",
       "    }\n",
       "\n",
       "    .dataframe tbody tr th {\n",
       "        vertical-align: top;\n",
       "    }\n",
       "\n",
       "    .dataframe thead th {\n",
       "        text-align: right;\n",
       "    }\n",
       "</style>\n",
       "<table border=\"1\" class=\"dataframe\">\n",
       "  <thead>\n",
       "    <tr style=\"text-align: right;\">\n",
       "      <th></th>\n",
       "      <th>batteries</th>\n",
       "      <th>battery_power_rating</th>\n",
       "    </tr>\n",
       "  </thead>\n",
       "  <tbody>\n",
       "    <tr>\n",
       "      <th>0</th>\n",
       "      <td>1 Lithium Polymer</td>\n",
       "      <td>6000.0</td>\n",
       "    </tr>\n",
       "    <tr>\n",
       "      <th>1</th>\n",
       "      <td>1 Lithium Polymer</td>\n",
       "      <td>4400.0</td>\n",
       "    </tr>\n",
       "    <tr>\n",
       "      <th>2</th>\n",
       "      <td>1 Lithium Polymer</td>\n",
       "      <td>4500.0</td>\n",
       "    </tr>\n",
       "    <tr>\n",
       "      <th>3</th>\n",
       "      <td>1 Lithium ion</td>\n",
       "      <td>4000.0</td>\n",
       "    </tr>\n",
       "    <tr>\n",
       "      <th>4</th>\n",
       "      <td>1 A</td>\n",
       "      <td>6000.0</td>\n",
       "    </tr>\n",
       "    <tr>\n",
       "      <th>...</th>\n",
       "      <td>...</td>\n",
       "      <td>...</td>\n",
       "    </tr>\n",
       "    <tr>\n",
       "      <th>211</th>\n",
       "      <td>1 A</td>\n",
       "      <td>4520.0</td>\n",
       "    </tr>\n",
       "    <tr>\n",
       "      <th>215</th>\n",
       "      <td>1 A</td>\n",
       "      <td>22.0</td>\n",
       "    </tr>\n",
       "    <tr>\n",
       "      <th>234</th>\n",
       "      <td>1 A</td>\n",
       "      <td>4250.0</td>\n",
       "    </tr>\n",
       "    <tr>\n",
       "      <th>257</th>\n",
       "      <td>1 Lithium ion</td>\n",
       "      <td>3040.0</td>\n",
       "    </tr>\n",
       "    <tr>\n",
       "      <th>258</th>\n",
       "      <td>1 Lithium Polymer</td>\n",
       "      <td>4350.0</td>\n",
       "    </tr>\n",
       "  </tbody>\n",
       "</table>\n",
       "<p>72 rows × 2 columns</p>\n",
       "</div>"
      ],
      "text/plain": [
       "             batteries  battery_power_rating\n",
       "0    1 Lithium Polymer                6000.0\n",
       "1    1 Lithium Polymer                4400.0\n",
       "2    1 Lithium Polymer                4500.0\n",
       "3        1 Lithium ion                4000.0\n",
       "4                  1 A                6000.0\n",
       "..                 ...                   ...\n",
       "211                1 A                4520.0\n",
       "215                1 A                  22.0\n",
       "234                1 A                4250.0\n",
       "257      1 Lithium ion                3040.0\n",
       "258  1 Lithium Polymer                4350.0\n",
       "\n",
       "[72 rows x 2 columns]"
      ]
     },
     "execution_count": 131,
     "metadata": {},
     "output_type": "execute_result"
    }
   ],
   "source": [
    "df_dataset_cleaned[[\"batteries\" ,\"battery_power_rating\"]].drop_duplicates()"
   ]
  },
  {
   "cell_type": "code",
   "execution_count": 132,
   "metadata": {},
   "outputs": [],
   "source": [
    "df_battery_power=pd.DataFrame()\n",
    "df_battery_power=df_dataset_cleaned[[\"batteries\" ,\"battery_power_rating\"]].drop_duplicates()\n"
   ]
  },
  {
   "cell_type": "code",
   "execution_count": 133,
   "metadata": {},
   "outputs": [
    {
     "name": "stdout",
     "output_type": "stream",
     "text": [
      "           batteries  battery_power_rating  \\\n",
      "0  1 Lithium Polymer                6000.0   \n",
      "1  1 Lithium Polymer                4400.0   \n",
      "2  1 Lithium Polymer                4500.0   \n",
      "3      1 Lithium ion                4000.0   \n",
      "4                1 A                6000.0   \n",
      "\n",
      "                                     id  \n",
      "0  7fe0ab87-0fc8-11ee-928f-3c9c0f728f90  \n",
      "1  7fe0ab88-0fc8-11ee-bd8c-3c9c0f728f90  \n",
      "2  7fe0ab89-0fc8-11ee-b673-3c9c0f728f90  \n",
      "3  7fe0ab8a-0fc8-11ee-bb1b-3c9c0f728f90  \n",
      "4  7fe0ab8b-0fc8-11ee-94f2-3c9c0f728f90  \n"
     ]
    }
   ],
   "source": [
    "import uuid\n",
    "\n",
    "list_uuid=[]\n",
    "for i in range(0,len(df_battery_power)):\n",
    "  #print(i)\n",
    "  list_uuid.append(uuid.uuid1())\n",
    "df_battery_power[\"id\"]=list_uuid\n",
    "\n",
    "print(df_battery_power.head())\n",
    "df_battery_power.to_csv('../data_cleaned/df_battery_power.csv',index=False)"
   ]
  },
  {
   "attachments": {},
   "cell_type": "markdown",
   "metadata": {},
   "source": [
    "# III Fact"
   ]
  },
  {
   "cell_type": "code",
   "execution_count": 134,
   "metadata": {},
   "outputs": [
    {
     "data": {
      "text/html": [
       "<div>\n",
       "<style scoped>\n",
       "    .dataframe tbody tr th:only-of-type {\n",
       "        vertical-align: middle;\n",
       "    }\n",
       "\n",
       "    .dataframe tbody tr th {\n",
       "        vertical-align: top;\n",
       "    }\n",
       "\n",
       "    .dataframe thead th {\n",
       "        text-align: right;\n",
       "    }\n",
       "</style>\n",
       "<table border=\"1\" class=\"dataframe\">\n",
       "  <thead>\n",
       "    <tr style=\"text-align: right;\">\n",
       "      <th></th>\n",
       "      <th>title</th>\n",
       "      <th>price</th>\n",
       "      <th>rating</th>\n",
       "      <th>total_reviews</th>\n",
       "      <th>availability_status</th>\n",
       "      <th>manufacturer</th>\n",
       "      <th>country_of_origin</th>\n",
       "      <th>os</th>\n",
       "      <th>ram</th>\n",
       "      <th>product_dimensions</th>\n",
       "      <th>weight</th>\n",
       "      <th>batteries</th>\n",
       "      <th>special_features</th>\n",
       "      <th>form_factor</th>\n",
       "      <th>colour</th>\n",
       "      <th>battery_power_rating</th>\n",
       "      <th>product_description</th>\n",
       "    </tr>\n",
       "  </thead>\n",
       "  <tbody>\n",
       "    <tr>\n",
       "      <th>0</th>\n",
       "      <td>OnePlus Nord CE 5G (Blue Void 8GB RAM 128GB St...</td>\n",
       "      <td>45900.0</td>\n",
       "      <td>4.2</td>\n",
       "      <td>4</td>\n",
       "      <td>Only 1 left in stock.</td>\n",
       "      <td>samsung</td>\n",
       "      <td>India</td>\n",
       "      <td>Android</td>\n",
       "      <td>6</td>\n",
       "      <td>16.5 x 7.6 x 0.7 cm</td>\n",
       "      <td>167.0</td>\n",
       "      <td>1 Lithium Polymer</td>\n",
       "      <td>Dual Bluetooth Audio, IR Blaster, X-Axis Hapti...</td>\n",
       "      <td>Touchscreen Phone</td>\n",
       "      <td>Midnight Black</td>\n",
       "      <td>6000.0</td>\n",
       "      <td>Redmi 9A comes with Octa-core Helio G25 proces...</td>\n",
       "    </tr>\n",
       "  </tbody>\n",
       "</table>\n",
       "</div>"
      ],
      "text/plain": [
       "                                               title    price  rating  \\\n",
       "0  OnePlus Nord CE 5G (Blue Void 8GB RAM 128GB St...  45900.0     4.2   \n",
       "\n",
       "   total_reviews    availability_status manufacturer country_of_origin  \\\n",
       "0              4  Only 1 left in stock.      samsung             India   \n",
       "\n",
       "        os  ram   product_dimensions  weight          batteries  \\\n",
       "0  Android    6  16.5 x 7.6 x 0.7 cm   167.0  1 Lithium Polymer   \n",
       "\n",
       "                                    special_features        form_factor  \\\n",
       "0  Dual Bluetooth Audio, IR Blaster, X-Axis Hapti...  Touchscreen Phone   \n",
       "\n",
       "           colour  battery_power_rating  \\\n",
       "0  Midnight Black                6000.0   \n",
       "\n",
       "                                 product_description  \n",
       "0  Redmi 9A comes with Octa-core Helio G25 proces...  "
      ]
     },
     "execution_count": 134,
     "metadata": {},
     "output_type": "execute_result"
    }
   ],
   "source": [
    "df_dataset_cleaned=pd.read_csv('../data_cleaned/Amazon_Mobile_Data_cleaned.csv')\n",
    "df_dataset_cleaned.head(1)"
   ]
  },
  {
   "cell_type": "code",
   "execution_count": 135,
   "metadata": {},
   "outputs": [
    {
     "data": {
      "text/html": [
       "<div>\n",
       "<style scoped>\n",
       "    .dataframe tbody tr th:only-of-type {\n",
       "        vertical-align: middle;\n",
       "    }\n",
       "\n",
       "    .dataframe tbody tr th {\n",
       "        vertical-align: top;\n",
       "    }\n",
       "\n",
       "    .dataframe thead th {\n",
       "        text-align: right;\n",
       "    }\n",
       "</style>\n",
       "<table border=\"1\" class=\"dataframe\">\n",
       "  <thead>\n",
       "    <tr style=\"text-align: right;\">\n",
       "      <th></th>\n",
       "      <th>batteries</th>\n",
       "      <th>battery_power_rating</th>\n",
       "      <th>id</th>\n",
       "    </tr>\n",
       "  </thead>\n",
       "  <tbody>\n",
       "    <tr>\n",
       "      <th>0</th>\n",
       "      <td>1 Lithium Polymer</td>\n",
       "      <td>6000.0</td>\n",
       "      <td>7fe0ab87-0fc8-11ee-928f-3c9c0f728f90</td>\n",
       "    </tr>\n",
       "  </tbody>\n",
       "</table>\n",
       "</div>"
      ],
      "text/plain": [
       "           batteries  battery_power_rating  \\\n",
       "0  1 Lithium Polymer                6000.0   \n",
       "\n",
       "                                     id  \n",
       "0  7fe0ab87-0fc8-11ee-928f-3c9c0f728f90  "
      ]
     },
     "execution_count": 135,
     "metadata": {},
     "output_type": "execute_result"
    }
   ],
   "source": [
    "df_battery_power=pd.read_csv('../data_cleaned/df_battery_power.csv')\n",
    "df_battery_power.head(1)"
   ]
  },
  {
   "cell_type": "code",
   "execution_count": 136,
   "metadata": {},
   "outputs": [
    {
     "data": {
      "text/html": [
       "<div>\n",
       "<style scoped>\n",
       "    .dataframe tbody tr th:only-of-type {\n",
       "        vertical-align: middle;\n",
       "    }\n",
       "\n",
       "    .dataframe tbody tr th {\n",
       "        vertical-align: top;\n",
       "    }\n",
       "\n",
       "    .dataframe thead th {\n",
       "        text-align: right;\n",
       "    }\n",
       "</style>\n",
       "<table border=\"1\" class=\"dataframe\">\n",
       "  <thead>\n",
       "    <tr style=\"text-align: right;\">\n",
       "      <th></th>\n",
       "      <th>colour</th>\n",
       "      <th>id</th>\n",
       "    </tr>\n",
       "  </thead>\n",
       "  <tbody>\n",
       "    <tr>\n",
       "      <th>0</th>\n",
       "      <td>Midnight Black</td>\n",
       "      <td>7f9fadd0-0fc8-11ee-8f78-3c9c0f728f90</td>\n",
       "    </tr>\n",
       "  </tbody>\n",
       "</table>\n",
       "</div>"
      ],
      "text/plain": [
       "           colour                                    id\n",
       "0  Midnight Black  7f9fadd0-0fc8-11ee-8f78-3c9c0f728f90"
      ]
     },
     "execution_count": 136,
     "metadata": {},
     "output_type": "execute_result"
    }
   ],
   "source": [
    "df_colour=pd.read_csv('../data_cleaned/df_colour.csv')\n",
    "df_colour.head(1)"
   ]
  },
  {
   "cell_type": "code",
   "execution_count": 137,
   "metadata": {},
   "outputs": [
    {
     "data": {
      "text/html": [
       "<div>\n",
       "<style scoped>\n",
       "    .dataframe tbody tr th:only-of-type {\n",
       "        vertical-align: middle;\n",
       "    }\n",
       "\n",
       "    .dataframe tbody tr th {\n",
       "        vertical-align: top;\n",
       "    }\n",
       "\n",
       "    .dataframe thead th {\n",
       "        text-align: right;\n",
       "    }\n",
       "</style>\n",
       "<table border=\"1\" class=\"dataframe\">\n",
       "  <thead>\n",
       "    <tr style=\"text-align: right;\">\n",
       "      <th></th>\n",
       "      <th>manufacturer</th>\n",
       "      <th>country_of_origin</th>\n",
       "      <th>id</th>\n",
       "    </tr>\n",
       "  </thead>\n",
       "  <tbody>\n",
       "    <tr>\n",
       "      <th>0</th>\n",
       "      <td>samsung</td>\n",
       "      <td>India</td>\n",
       "      <td>7f8f4894-0fc8-11ee-ae4f-3c9c0f728f90</td>\n",
       "    </tr>\n",
       "  </tbody>\n",
       "</table>\n",
       "</div>"
      ],
      "text/plain": [
       "  manufacturer country_of_origin                                    id\n",
       "0      samsung             India  7f8f4894-0fc8-11ee-ae4f-3c9c0f728f90"
      ]
     },
     "execution_count": 137,
     "metadata": {},
     "output_type": "execute_result"
    }
   ],
   "source": [
    "df_company=pd.read_csv('../data_cleaned/df_company.csv')\n",
    "df_company.head(1)"
   ]
  },
  {
   "cell_type": "code",
   "execution_count": 138,
   "metadata": {},
   "outputs": [
    {
     "data": {
      "text/html": [
       "<div>\n",
       "<style scoped>\n",
       "    .dataframe tbody tr th:only-of-type {\n",
       "        vertical-align: middle;\n",
       "    }\n",
       "\n",
       "    .dataframe tbody tr th {\n",
       "        vertical-align: top;\n",
       "    }\n",
       "\n",
       "    .dataframe thead th {\n",
       "        text-align: right;\n",
       "    }\n",
       "</style>\n",
       "<table border=\"1\" class=\"dataframe\">\n",
       "  <thead>\n",
       "    <tr style=\"text-align: right;\">\n",
       "      <th></th>\n",
       "      <th>form_factor</th>\n",
       "      <th>id</th>\n",
       "    </tr>\n",
       "  </thead>\n",
       "  <tbody>\n",
       "    <tr>\n",
       "      <th>0</th>\n",
       "      <td>Touchscreen Phone</td>\n",
       "      <td>7fd47185-0fc8-11ee-a7d5-3c9c0f728f90</td>\n",
       "    </tr>\n",
       "  </tbody>\n",
       "</table>\n",
       "</div>"
      ],
      "text/plain": [
       "         form_factor                                    id\n",
       "0  Touchscreen Phone  7fd47185-0fc8-11ee-a7d5-3c9c0f728f90"
      ]
     },
     "execution_count": 138,
     "metadata": {},
     "output_type": "execute_result"
    }
   ],
   "source": [
    "df_form_factor=pd.read_csv('../data_cleaned/df_form_factor.csv')\n",
    "df_form_factor.head(1)"
   ]
  },
  {
   "cell_type": "code",
   "execution_count": 139,
   "metadata": {},
   "outputs": [
    {
     "data": {
      "text/html": [
       "<div>\n",
       "<style scoped>\n",
       "    .dataframe tbody tr th:only-of-type {\n",
       "        vertical-align: middle;\n",
       "    }\n",
       "\n",
       "    .dataframe tbody tr th {\n",
       "        vertical-align: top;\n",
       "    }\n",
       "\n",
       "    .dataframe thead th {\n",
       "        text-align: right;\n",
       "    }\n",
       "</style>\n",
       "<table border=\"1\" class=\"dataframe\">\n",
       "  <thead>\n",
       "    <tr style=\"text-align: right;\">\n",
       "      <th></th>\n",
       "      <th>os</th>\n",
       "      <th>id</th>\n",
       "    </tr>\n",
       "  </thead>\n",
       "  <tbody>\n",
       "    <tr>\n",
       "      <th>0</th>\n",
       "      <td>Android</td>\n",
       "      <td>7fbce2c2-0fc8-11ee-850a-3c9c0f728f90</td>\n",
       "    </tr>\n",
       "  </tbody>\n",
       "</table>\n",
       "</div>"
      ],
      "text/plain": [
       "        os                                    id\n",
       "0  Android  7fbce2c2-0fc8-11ee-850a-3c9c0f728f90"
      ]
     },
     "execution_count": 139,
     "metadata": {},
     "output_type": "execute_result"
    }
   ],
   "source": [
    "df_os=pd.read_csv('../data_cleaned/df_os.csv')\n",
    "df_os.head(1)"
   ]
  },
  {
   "cell_type": "code",
   "execution_count": 140,
   "metadata": {},
   "outputs": [
    {
     "data": {
      "text/html": [
       "<div>\n",
       "<style scoped>\n",
       "    .dataframe tbody tr th:only-of-type {\n",
       "        vertical-align: middle;\n",
       "    }\n",
       "\n",
       "    .dataframe tbody tr th {\n",
       "        vertical-align: top;\n",
       "    }\n",
       "\n",
       "    .dataframe thead th {\n",
       "        text-align: right;\n",
       "    }\n",
       "</style>\n",
       "<table border=\"1\" class=\"dataframe\">\n",
       "  <thead>\n",
       "    <tr style=\"text-align: right;\">\n",
       "      <th></th>\n",
       "      <th>product_dimensions</th>\n",
       "      <th>product_dimension_length</th>\n",
       "      <th>product_dimension_width</th>\n",
       "      <th>product_dimension_height</th>\n",
       "    </tr>\n",
       "  </thead>\n",
       "  <tbody>\n",
       "    <tr>\n",
       "      <th>0</th>\n",
       "      <td>16.5 x 7.6 x 0.7 cm</td>\n",
       "      <td>16.5</td>\n",
       "      <td>7.6</td>\n",
       "      <td>0.7</td>\n",
       "    </tr>\n",
       "  </tbody>\n",
       "</table>\n",
       "</div>"
      ],
      "text/plain": [
       "    product_dimensions  product_dimension_length  product_dimension_width  \\\n",
       "0  16.5 x 7.6 x 0.7 cm                      16.5                      7.6   \n",
       "\n",
       "   product_dimension_height  \n",
       "0                       0.7  "
      ]
     },
     "execution_count": 140,
     "metadata": {},
     "output_type": "execute_result"
    }
   ],
   "source": [
    "\n",
    "df_product_dimensions=pd.read_csv('../data_cleaned/df_product_dimensions.csv')\n",
    "df_product_dimensions.head(1)"
   ]
  },
  {
   "cell_type": "code",
   "execution_count": 141,
   "metadata": {},
   "outputs": [
    {
     "data": {
      "text/html": [
       "<div>\n",
       "<style scoped>\n",
       "    .dataframe tbody tr th:only-of-type {\n",
       "        vertical-align: middle;\n",
       "    }\n",
       "\n",
       "    .dataframe tbody tr th {\n",
       "        vertical-align: top;\n",
       "    }\n",
       "\n",
       "    .dataframe thead th {\n",
       "        text-align: right;\n",
       "    }\n",
       "</style>\n",
       "<table border=\"1\" class=\"dataframe\">\n",
       "  <thead>\n",
       "    <tr style=\"text-align: right;\">\n",
       "      <th></th>\n",
       "      <th>ram</th>\n",
       "      <th>id</th>\n",
       "    </tr>\n",
       "  </thead>\n",
       "  <tbody>\n",
       "    <tr>\n",
       "      <th>0</th>\n",
       "      <td>6</td>\n",
       "      <td>7facc0a0-0fc8-11ee-bbe5-3c9c0f728f90</td>\n",
       "    </tr>\n",
       "  </tbody>\n",
       "</table>\n",
       "</div>"
      ],
      "text/plain": [
       "   ram                                    id\n",
       "0    6  7facc0a0-0fc8-11ee-bbe5-3c9c0f728f90"
      ]
     },
     "execution_count": 141,
     "metadata": {},
     "output_type": "execute_result"
    }
   ],
   "source": [
    "df_ram=pd.read_csv('../data_cleaned/df_ram.csv')\n",
    "df_ram.head(1)"
   ]
  },
  {
   "cell_type": "code",
   "execution_count": 142,
   "metadata": {},
   "outputs": [
    {
     "data": {
      "text/html": [
       "<div>\n",
       "<style scoped>\n",
       "    .dataframe tbody tr th:only-of-type {\n",
       "        vertical-align: middle;\n",
       "    }\n",
       "\n",
       "    .dataframe tbody tr th {\n",
       "        vertical-align: top;\n",
       "    }\n",
       "\n",
       "    .dataframe thead th {\n",
       "        text-align: right;\n",
       "    }\n",
       "</style>\n",
       "<table border=\"1\" class=\"dataframe\">\n",
       "  <thead>\n",
       "    <tr style=\"text-align: right;\">\n",
       "      <th></th>\n",
       "      <th>id</th>\n",
       "      <th>special_feature</th>\n",
       "    </tr>\n",
       "  </thead>\n",
       "  <tbody>\n",
       "    <tr>\n",
       "      <th>0</th>\n",
       "      <td>7f7ae427-0fc8-11ee-a9f1-3c9c0f728f90</td>\n",
       "      <td>Dual Bluetooth Audio</td>\n",
       "    </tr>\n",
       "  </tbody>\n",
       "</table>\n",
       "</div>"
      ],
      "text/plain": [
       "                                     id       special_feature\n",
       "0  7f7ae427-0fc8-11ee-a9f1-3c9c0f728f90  Dual Bluetooth Audio"
      ]
     },
     "execution_count": 142,
     "metadata": {},
     "output_type": "execute_result"
    }
   ],
   "source": [
    "df_special_feature_nomaly=pd.read_csv('../data_cleaned/df_special_feature_nomaly.csv')\n",
    "df_special_feature_nomaly.head(1)"
   ]
  },
  {
   "cell_type": "code",
   "execution_count": 143,
   "metadata": {},
   "outputs": [],
   "source": [
    "df_fact=pd.DataFrame()\n"
   ]
  },
  {
   "cell_type": "code",
   "execution_count": 144,
   "metadata": {},
   "outputs": [],
   "source": [
    "df_fact=df_dataset_cleaned[['title', 'price', 'rating', 'total_reviews', 'availability_status',\n",
    "        'product_dimensions', 'weight',  'product_description']]"
   ]
  },
  {
   "cell_type": "code",
   "execution_count": 145,
   "metadata": {},
   "outputs": [
    {
     "data": {
      "text/html": [
       "<div>\n",
       "<style scoped>\n",
       "    .dataframe tbody tr th:only-of-type {\n",
       "        vertical-align: middle;\n",
       "    }\n",
       "\n",
       "    .dataframe tbody tr th {\n",
       "        vertical-align: top;\n",
       "    }\n",
       "\n",
       "    .dataframe thead th {\n",
       "        text-align: right;\n",
       "    }\n",
       "</style>\n",
       "<table border=\"1\" class=\"dataframe\">\n",
       "  <thead>\n",
       "    <tr style=\"text-align: right;\">\n",
       "      <th></th>\n",
       "      <th>title</th>\n",
       "      <th>price</th>\n",
       "      <th>rating</th>\n",
       "      <th>total_reviews</th>\n",
       "      <th>availability_status</th>\n",
       "      <th>product_dimensions</th>\n",
       "      <th>weight</th>\n",
       "      <th>product_description</th>\n",
       "    </tr>\n",
       "  </thead>\n",
       "  <tbody>\n",
       "    <tr>\n",
       "      <th>0</th>\n",
       "      <td>OnePlus Nord CE 5G (Blue Void 8GB RAM 128GB St...</td>\n",
       "      <td>45900.0</td>\n",
       "      <td>4.2</td>\n",
       "      <td>4</td>\n",
       "      <td>Only 1 left in stock.</td>\n",
       "      <td>16.5 x 7.6 x 0.7 cm</td>\n",
       "      <td>167.0</td>\n",
       "      <td>Redmi 9A comes with Octa-core Helio G25 proces...</td>\n",
       "    </tr>\n",
       "    <tr>\n",
       "      <th>1</th>\n",
       "      <td>Samsung Galaxy M42 5G (Prism Dot Black 8GB RAM...</td>\n",
       "      <td>9490.0</td>\n",
       "      <td>4.3</td>\n",
       "      <td>47</td>\n",
       "      <td>In stock.</td>\n",
       "      <td>15 x 1 x 7.5 cm</td>\n",
       "      <td>161.0</td>\n",
       "      <td>The product comes in a very proper packaging. ...</td>\n",
       "    </tr>\n",
       "  </tbody>\n",
       "</table>\n",
       "</div>"
      ],
      "text/plain": [
       "                                               title    price  rating  \\\n",
       "0  OnePlus Nord CE 5G (Blue Void 8GB RAM 128GB St...  45900.0     4.2   \n",
       "1  Samsung Galaxy M42 5G (Prism Dot Black 8GB RAM...   9490.0     4.3   \n",
       "\n",
       "   total_reviews    availability_status   product_dimensions  weight  \\\n",
       "0              4  Only 1 left in stock.  16.5 x 7.6 x 0.7 cm   167.0   \n",
       "1             47              In stock.      15 x 1 x 7.5 cm   161.0   \n",
       "\n",
       "                                 product_description  \n",
       "0  Redmi 9A comes with Octa-core Helio G25 proces...  \n",
       "1  The product comes in a very proper packaging. ...  "
      ]
     },
     "execution_count": 145,
     "metadata": {},
     "output_type": "execute_result"
    }
   ],
   "source": [
    "df_fact.head(2)"
   ]
  },
  {
   "cell_type": "code",
   "execution_count": 146,
   "metadata": {},
   "outputs": [],
   "source": [
    "number_special_features=[]\n",
    "count=0\n",
    "for special_features in df_dataset_cleaned.special_features:\n",
    "  for features in df_special_feature_nomaly.special_feature:\n",
    "    if features in special_features:\n",
    "      count=count+1\n",
    "      #print(features,'|',special_features)\n",
    "  number_special_features.append(count)\n",
    "  count=0"
   ]
  },
  {
   "cell_type": "code",
   "execution_count": 147,
   "metadata": {},
   "outputs": [
    {
     "data": {
      "text/plain": [
       "True"
      ]
     },
     "execution_count": 147,
     "metadata": {},
     "output_type": "execute_result"
    }
   ],
   "source": [
    "len(number_special_features)==len(df_fact)"
   ]
  },
  {
   "cell_type": "code",
   "execution_count": 148,
   "metadata": {},
   "outputs": [
    {
     "name": "stderr",
     "output_type": "stream",
     "text": [
      "C:\\Users\\Acer\\AppData\\Local\\Temp\\ipykernel_9372\\2669433462.py:1: SettingWithCopyWarning: \n",
      "A value is trying to be set on a copy of a slice from a DataFrame.\n",
      "Try using .loc[row_indexer,col_indexer] = value instead\n",
      "\n",
      "See the caveats in the documentation: https://pandas.pydata.org/pandas-docs/stable/user_guide/indexing.html#returning-a-view-versus-a-copy\n",
      "  df_fact['number_special_features']=number_special_features\n"
     ]
    }
   ],
   "source": [
    "df_fact['number_special_features']=number_special_features"
   ]
  },
  {
   "cell_type": "code",
   "execution_count": 149,
   "metadata": {},
   "outputs": [],
   "source": [
    "key_company=[]\n",
    "for index_dataset_cleaned  in df_dataset_cleaned.index:\t\n",
    "  for index_company in df_company.index:\n",
    "    #print(df_company[\"country_of_origin\"])\n",
    "    if((df_dataset_cleaned[\"country_of_origin\"][index_dataset_cleaned]\t== df_company[\"country_of_origin\"][index_company]\t) and (df_dataset_cleaned[\"manufacturer\"][index_dataset_cleaned]==df_company[\"manufacturer\"][index_company])):\n",
    "      key_company.append(df_company[\"id\"][index_company])\n",
    " "
   ]
  },
  {
   "cell_type": "code",
   "execution_count": 150,
   "metadata": {},
   "outputs": [
    {
     "data": {
      "text/plain": [
       "['7f8f4894-0fc8-11ee-ae4f-3c9c0f728f90',\n",
       " '7f8f4895-0fc8-11ee-a607-3c9c0f728f90',\n",
       " '7f8f4896-0fc8-11ee-a4d4-3c9c0f728f90',\n",
       " '7f8f4896-0fc8-11ee-a4d4-3c9c0f728f90',\n",
       " '7f8f4897-0fc8-11ee-91df-3c9c0f728f90']"
      ]
     },
     "execution_count": 150,
     "metadata": {},
     "output_type": "execute_result"
    }
   ],
   "source": [
    "key_company[0:5]"
   ]
  },
  {
   "cell_type": "code",
   "execution_count": 151,
   "metadata": {},
   "outputs": [
    {
     "data": {
      "text/plain": [
       "264"
      ]
     },
     "execution_count": 151,
     "metadata": {},
     "output_type": "execute_result"
    }
   ],
   "source": [
    "len(df_fact)"
   ]
  },
  {
   "cell_type": "code",
   "execution_count": 152,
   "metadata": {},
   "outputs": [
    {
     "data": {
      "text/plain": [
       "264"
      ]
     },
     "execution_count": 152,
     "metadata": {},
     "output_type": "execute_result"
    }
   ],
   "source": [
    "len(key_company)"
   ]
  },
  {
   "cell_type": "code",
   "execution_count": 153,
   "metadata": {},
   "outputs": [
    {
     "name": "stderr",
     "output_type": "stream",
     "text": [
      "C:\\Users\\Acer\\AppData\\Local\\Temp\\ipykernel_9372\\980503691.py:1: SettingWithCopyWarning: \n",
      "A value is trying to be set on a copy of a slice from a DataFrame.\n",
      "Try using .loc[row_indexer,col_indexer] = value instead\n",
      "\n",
      "See the caveats in the documentation: https://pandas.pydata.org/pandas-docs/stable/user_guide/indexing.html#returning-a-view-versus-a-copy\n",
      "  df_fact[\"key_company\"]=key_company\n"
     ]
    }
   ],
   "source": [
    "df_fact[\"key_company\"]=key_company"
   ]
  },
  {
   "cell_type": "code",
   "execution_count": 154,
   "metadata": {},
   "outputs": [],
   "source": [
    "key_colour=[]\n",
    "for index_dataset_cleaned  in df_dataset_cleaned.index:\t\n",
    "  for index_colour in df_colour.index:\n",
    "    #print(df_colour[\"country_of_origin\"])\n",
    "    if((df_dataset_cleaned[\"colour\"][index_dataset_cleaned]\t== df_colour[\"colour\"][index_colour]\t)):\n",
    "      key_colour.append(df_colour[\"id\"][index_colour])\n",
    " "
   ]
  },
  {
   "cell_type": "code",
   "execution_count": 155,
   "metadata": {},
   "outputs": [
    {
     "data": {
      "text/plain": [
       "True"
      ]
     },
     "execution_count": 155,
     "metadata": {},
     "output_type": "execute_result"
    }
   ],
   "source": [
    "len(df_fact)==len(key_colour)\n"
   ]
  },
  {
   "cell_type": "code",
   "execution_count": 156,
   "metadata": {},
   "outputs": [
    {
     "name": "stderr",
     "output_type": "stream",
     "text": [
      "C:\\Users\\Acer\\AppData\\Local\\Temp\\ipykernel_9372\\2073915282.py:1: SettingWithCopyWarning: \n",
      "A value is trying to be set on a copy of a slice from a DataFrame.\n",
      "Try using .loc[row_indexer,col_indexer] = value instead\n",
      "\n",
      "See the caveats in the documentation: https://pandas.pydata.org/pandas-docs/stable/user_guide/indexing.html#returning-a-view-versus-a-copy\n",
      "  df_fact[\"key_colour\"]=key_colour\n"
     ]
    }
   ],
   "source": [
    "df_fact[\"key_colour\"]=key_colour\n"
   ]
  },
  {
   "cell_type": "code",
   "execution_count": 157,
   "metadata": {},
   "outputs": [
    {
     "data": {
      "text/html": [
       "<div>\n",
       "<style scoped>\n",
       "    .dataframe tbody tr th:only-of-type {\n",
       "        vertical-align: middle;\n",
       "    }\n",
       "\n",
       "    .dataframe tbody tr th {\n",
       "        vertical-align: top;\n",
       "    }\n",
       "\n",
       "    .dataframe thead th {\n",
       "        text-align: right;\n",
       "    }\n",
       "</style>\n",
       "<table border=\"1\" class=\"dataframe\">\n",
       "  <thead>\n",
       "    <tr style=\"text-align: right;\">\n",
       "      <th></th>\n",
       "      <th>title</th>\n",
       "      <th>price</th>\n",
       "      <th>rating</th>\n",
       "      <th>total_reviews</th>\n",
       "      <th>availability_status</th>\n",
       "      <th>product_dimensions</th>\n",
       "      <th>weight</th>\n",
       "      <th>product_description</th>\n",
       "      <th>number_special_features</th>\n",
       "      <th>key_company</th>\n",
       "      <th>key_colour</th>\n",
       "    </tr>\n",
       "  </thead>\n",
       "  <tbody>\n",
       "    <tr>\n",
       "      <th>0</th>\n",
       "      <td>OnePlus Nord CE 5G (Blue Void 8GB RAM 128GB St...</td>\n",
       "      <td>45900.0</td>\n",
       "      <td>4.2</td>\n",
       "      <td>4</td>\n",
       "      <td>Only 1 left in stock.</td>\n",
       "      <td>16.5 x 7.6 x 0.7 cm</td>\n",
       "      <td>167.0</td>\n",
       "      <td>Redmi 9A comes with Octa-core Helio G25 proces...</td>\n",
       "      <td>35</td>\n",
       "      <td>7f8f4894-0fc8-11ee-ae4f-3c9c0f728f90</td>\n",
       "      <td>7f9fadd0-0fc8-11ee-8f78-3c9c0f728f90</td>\n",
       "    </tr>\n",
       "  </tbody>\n",
       "</table>\n",
       "</div>"
      ],
      "text/plain": [
       "                                               title    price  rating  \\\n",
       "0  OnePlus Nord CE 5G (Blue Void 8GB RAM 128GB St...  45900.0     4.2   \n",
       "\n",
       "   total_reviews    availability_status   product_dimensions  weight  \\\n",
       "0              4  Only 1 left in stock.  16.5 x 7.6 x 0.7 cm   167.0   \n",
       "\n",
       "                                 product_description  number_special_features  \\\n",
       "0  Redmi 9A comes with Octa-core Helio G25 proces...                       35   \n",
       "\n",
       "                            key_company                            key_colour  \n",
       "0  7f8f4894-0fc8-11ee-ae4f-3c9c0f728f90  7f9fadd0-0fc8-11ee-8f78-3c9c0f728f90  "
      ]
     },
     "execution_count": 157,
     "metadata": {},
     "output_type": "execute_result"
    }
   ],
   "source": [
    "df_fact.head(1)"
   ]
  },
  {
   "cell_type": "code",
   "execution_count": 158,
   "metadata": {},
   "outputs": [
    {
     "name": "stdout",
     "output_type": "stream",
     "text": [
      "True\n"
     ]
    },
    {
     "name": "stderr",
     "output_type": "stream",
     "text": [
      "C:\\Users\\Acer\\AppData\\Local\\Temp\\ipykernel_9372\\633398112.py:8: SettingWithCopyWarning: \n",
      "A value is trying to be set on a copy of a slice from a DataFrame.\n",
      "Try using .loc[row_indexer,col_indexer] = value instead\n",
      "\n",
      "See the caveats in the documentation: https://pandas.pydata.org/pandas-docs/stable/user_guide/indexing.html#returning-a-view-versus-a-copy\n",
      "  df_fact[\"key_ram\"]=key_ram\n"
     ]
    },
    {
     "data": {
      "text/html": [
       "<div>\n",
       "<style scoped>\n",
       "    .dataframe tbody tr th:only-of-type {\n",
       "        vertical-align: middle;\n",
       "    }\n",
       "\n",
       "    .dataframe tbody tr th {\n",
       "        vertical-align: top;\n",
       "    }\n",
       "\n",
       "    .dataframe thead th {\n",
       "        text-align: right;\n",
       "    }\n",
       "</style>\n",
       "<table border=\"1\" class=\"dataframe\">\n",
       "  <thead>\n",
       "    <tr style=\"text-align: right;\">\n",
       "      <th></th>\n",
       "      <th>title</th>\n",
       "      <th>price</th>\n",
       "      <th>rating</th>\n",
       "      <th>total_reviews</th>\n",
       "      <th>availability_status</th>\n",
       "      <th>product_dimensions</th>\n",
       "      <th>weight</th>\n",
       "      <th>product_description</th>\n",
       "      <th>number_special_features</th>\n",
       "      <th>key_company</th>\n",
       "      <th>key_colour</th>\n",
       "      <th>key_ram</th>\n",
       "    </tr>\n",
       "  </thead>\n",
       "  <tbody>\n",
       "    <tr>\n",
       "      <th>0</th>\n",
       "      <td>OnePlus Nord CE 5G (Blue Void 8GB RAM 128GB St...</td>\n",
       "      <td>45900.0</td>\n",
       "      <td>4.2</td>\n",
       "      <td>4</td>\n",
       "      <td>Only 1 left in stock.</td>\n",
       "      <td>16.5 x 7.6 x 0.7 cm</td>\n",
       "      <td>167.0</td>\n",
       "      <td>Redmi 9A comes with Octa-core Helio G25 proces...</td>\n",
       "      <td>35</td>\n",
       "      <td>7f8f4894-0fc8-11ee-ae4f-3c9c0f728f90</td>\n",
       "      <td>7f9fadd0-0fc8-11ee-8f78-3c9c0f728f90</td>\n",
       "      <td>7facc0a0-0fc8-11ee-bbe5-3c9c0f728f90</td>\n",
       "    </tr>\n",
       "  </tbody>\n",
       "</table>\n",
       "</div>"
      ],
      "text/plain": [
       "                                               title    price  rating  \\\n",
       "0  OnePlus Nord CE 5G (Blue Void 8GB RAM 128GB St...  45900.0     4.2   \n",
       "\n",
       "   total_reviews    availability_status   product_dimensions  weight  \\\n",
       "0              4  Only 1 left in stock.  16.5 x 7.6 x 0.7 cm   167.0   \n",
       "\n",
       "                                 product_description  number_special_features  \\\n",
       "0  Redmi 9A comes with Octa-core Helio G25 proces...                       35   \n",
       "\n",
       "                            key_company                            key_colour  \\\n",
       "0  7f8f4894-0fc8-11ee-ae4f-3c9c0f728f90  7f9fadd0-0fc8-11ee-8f78-3c9c0f728f90   \n",
       "\n",
       "                                key_ram  \n",
       "0  7facc0a0-0fc8-11ee-bbe5-3c9c0f728f90  "
      ]
     },
     "execution_count": 158,
     "metadata": {},
     "output_type": "execute_result"
    }
   ],
   "source": [
    "key_ram=[]\n",
    "for index_dataset_cleaned  in df_dataset_cleaned.index:\t\n",
    "  for index_ram in df_ram.index:\n",
    "    #print(df_ram[\"country_of_origin\"])\n",
    "    if((df_dataset_cleaned[\"ram\"][index_dataset_cleaned]\t== df_ram[\"ram\"][index_ram]\t)):\n",
    "      key_ram.append(df_ram[\"id\"][index_ram])\n",
    "print(len(df_fact)==len(key_ram))\n",
    "df_fact[\"key_ram\"]=key_ram\n",
    "df_fact.head(1)"
   ]
  },
  {
   "cell_type": "code",
   "execution_count": 159,
   "metadata": {},
   "outputs": [
    {
     "name": "stdout",
     "output_type": "stream",
     "text": [
      "True\n"
     ]
    },
    {
     "name": "stderr",
     "output_type": "stream",
     "text": [
      "C:\\Users\\Acer\\AppData\\Local\\Temp\\ipykernel_9372\\3938061010.py:7: SettingWithCopyWarning: \n",
      "A value is trying to be set on a copy of a slice from a DataFrame.\n",
      "Try using .loc[row_indexer,col_indexer] = value instead\n",
      "\n",
      "See the caveats in the documentation: https://pandas.pydata.org/pandas-docs/stable/user_guide/indexing.html#returning-a-view-versus-a-copy\n",
      "  df_fact[\"key_form_factor\"]=key_form_factor\n"
     ]
    },
    {
     "data": {
      "text/html": [
       "<div>\n",
       "<style scoped>\n",
       "    .dataframe tbody tr th:only-of-type {\n",
       "        vertical-align: middle;\n",
       "    }\n",
       "\n",
       "    .dataframe tbody tr th {\n",
       "        vertical-align: top;\n",
       "    }\n",
       "\n",
       "    .dataframe thead th {\n",
       "        text-align: right;\n",
       "    }\n",
       "</style>\n",
       "<table border=\"1\" class=\"dataframe\">\n",
       "  <thead>\n",
       "    <tr style=\"text-align: right;\">\n",
       "      <th></th>\n",
       "      <th>title</th>\n",
       "      <th>price</th>\n",
       "      <th>rating</th>\n",
       "      <th>total_reviews</th>\n",
       "      <th>availability_status</th>\n",
       "      <th>product_dimensions</th>\n",
       "      <th>weight</th>\n",
       "      <th>product_description</th>\n",
       "      <th>number_special_features</th>\n",
       "      <th>key_company</th>\n",
       "      <th>key_colour</th>\n",
       "      <th>key_ram</th>\n",
       "      <th>key_form_factor</th>\n",
       "    </tr>\n",
       "  </thead>\n",
       "  <tbody>\n",
       "    <tr>\n",
       "      <th>0</th>\n",
       "      <td>OnePlus Nord CE 5G (Blue Void 8GB RAM 128GB St...</td>\n",
       "      <td>45900.0</td>\n",
       "      <td>4.2</td>\n",
       "      <td>4</td>\n",
       "      <td>Only 1 left in stock.</td>\n",
       "      <td>16.5 x 7.6 x 0.7 cm</td>\n",
       "      <td>167.0</td>\n",
       "      <td>Redmi 9A comes with Octa-core Helio G25 proces...</td>\n",
       "      <td>35</td>\n",
       "      <td>7f8f4894-0fc8-11ee-ae4f-3c9c0f728f90</td>\n",
       "      <td>7f9fadd0-0fc8-11ee-8f78-3c9c0f728f90</td>\n",
       "      <td>7facc0a0-0fc8-11ee-bbe5-3c9c0f728f90</td>\n",
       "      <td>7fd47185-0fc8-11ee-a7d5-3c9c0f728f90</td>\n",
       "    </tr>\n",
       "  </tbody>\n",
       "</table>\n",
       "</div>"
      ],
      "text/plain": [
       "                                               title    price  rating  \\\n",
       "0  OnePlus Nord CE 5G (Blue Void 8GB RAM 128GB St...  45900.0     4.2   \n",
       "\n",
       "   total_reviews    availability_status   product_dimensions  weight  \\\n",
       "0              4  Only 1 left in stock.  16.5 x 7.6 x 0.7 cm   167.0   \n",
       "\n",
       "                                 product_description  number_special_features  \\\n",
       "0  Redmi 9A comes with Octa-core Helio G25 proces...                       35   \n",
       "\n",
       "                            key_company                            key_colour  \\\n",
       "0  7f8f4894-0fc8-11ee-ae4f-3c9c0f728f90  7f9fadd0-0fc8-11ee-8f78-3c9c0f728f90   \n",
       "\n",
       "                                key_ram                       key_form_factor  \n",
       "0  7facc0a0-0fc8-11ee-bbe5-3c9c0f728f90  7fd47185-0fc8-11ee-a7d5-3c9c0f728f90  "
      ]
     },
     "execution_count": 159,
     "metadata": {},
     "output_type": "execute_result"
    }
   ],
   "source": [
    "key_form_factor=[]\n",
    "for index_dataset_cleaned  in df_dataset_cleaned.index:\t\n",
    "  for index_form_factor in df_form_factor.index:\n",
    "    if((df_dataset_cleaned[\"form_factor\"][index_dataset_cleaned]\t== df_form_factor[\"form_factor\"][index_form_factor]\t)):\n",
    "      key_form_factor.append(df_form_factor[\"id\"][index_form_factor])\n",
    "print(len(df_fact)==len(key_form_factor))\n",
    "df_fact[\"key_form_factor\"]=key_form_factor\n",
    "df_fact.head(1)"
   ]
  },
  {
   "cell_type": "code",
   "execution_count": 160,
   "metadata": {},
   "outputs": [
    {
     "name": "stdout",
     "output_type": "stream",
     "text": [
      "True\n"
     ]
    },
    {
     "name": "stderr",
     "output_type": "stream",
     "text": [
      "C:\\Users\\Acer\\AppData\\Local\\Temp\\ipykernel_9372\\3938061010.py:7: SettingWithCopyWarning: \n",
      "A value is trying to be set on a copy of a slice from a DataFrame.\n",
      "Try using .loc[row_indexer,col_indexer] = value instead\n",
      "\n",
      "See the caveats in the documentation: https://pandas.pydata.org/pandas-docs/stable/user_guide/indexing.html#returning-a-view-versus-a-copy\n",
      "  df_fact[\"key_form_factor\"]=key_form_factor\n"
     ]
    },
    {
     "data": {
      "text/html": [
       "<div>\n",
       "<style scoped>\n",
       "    .dataframe tbody tr th:only-of-type {\n",
       "        vertical-align: middle;\n",
       "    }\n",
       "\n",
       "    .dataframe tbody tr th {\n",
       "        vertical-align: top;\n",
       "    }\n",
       "\n",
       "    .dataframe thead th {\n",
       "        text-align: right;\n",
       "    }\n",
       "</style>\n",
       "<table border=\"1\" class=\"dataframe\">\n",
       "  <thead>\n",
       "    <tr style=\"text-align: right;\">\n",
       "      <th></th>\n",
       "      <th>title</th>\n",
       "      <th>price</th>\n",
       "      <th>rating</th>\n",
       "      <th>total_reviews</th>\n",
       "      <th>availability_status</th>\n",
       "      <th>product_dimensions</th>\n",
       "      <th>weight</th>\n",
       "      <th>product_description</th>\n",
       "      <th>number_special_features</th>\n",
       "      <th>key_company</th>\n",
       "      <th>key_colour</th>\n",
       "      <th>key_ram</th>\n",
       "      <th>key_form_factor</th>\n",
       "    </tr>\n",
       "  </thead>\n",
       "  <tbody>\n",
       "    <tr>\n",
       "      <th>0</th>\n",
       "      <td>OnePlus Nord CE 5G (Blue Void 8GB RAM 128GB St...</td>\n",
       "      <td>45900.0</td>\n",
       "      <td>4.2</td>\n",
       "      <td>4</td>\n",
       "      <td>Only 1 left in stock.</td>\n",
       "      <td>16.5 x 7.6 x 0.7 cm</td>\n",
       "      <td>167.0</td>\n",
       "      <td>Redmi 9A comes with Octa-core Helio G25 proces...</td>\n",
       "      <td>35</td>\n",
       "      <td>7f8f4894-0fc8-11ee-ae4f-3c9c0f728f90</td>\n",
       "      <td>7f9fadd0-0fc8-11ee-8f78-3c9c0f728f90</td>\n",
       "      <td>7facc0a0-0fc8-11ee-bbe5-3c9c0f728f90</td>\n",
       "      <td>7fd47185-0fc8-11ee-a7d5-3c9c0f728f90</td>\n",
       "    </tr>\n",
       "  </tbody>\n",
       "</table>\n",
       "</div>"
      ],
      "text/plain": [
       "                                               title    price  rating  \\\n",
       "0  OnePlus Nord CE 5G (Blue Void 8GB RAM 128GB St...  45900.0     4.2   \n",
       "\n",
       "   total_reviews    availability_status   product_dimensions  weight  \\\n",
       "0              4  Only 1 left in stock.  16.5 x 7.6 x 0.7 cm   167.0   \n",
       "\n",
       "                                 product_description  number_special_features  \\\n",
       "0  Redmi 9A comes with Octa-core Helio G25 proces...                       35   \n",
       "\n",
       "                            key_company                            key_colour  \\\n",
       "0  7f8f4894-0fc8-11ee-ae4f-3c9c0f728f90  7f9fadd0-0fc8-11ee-8f78-3c9c0f728f90   \n",
       "\n",
       "                                key_ram                       key_form_factor  \n",
       "0  7facc0a0-0fc8-11ee-bbe5-3c9c0f728f90  7fd47185-0fc8-11ee-a7d5-3c9c0f728f90  "
      ]
     },
     "execution_count": 160,
     "metadata": {},
     "output_type": "execute_result"
    }
   ],
   "source": [
    "key_form_factor=[]\n",
    "for index_dataset_cleaned  in df_dataset_cleaned.index:\t\n",
    "  for index_form_factor in df_form_factor.index:\n",
    "    if((df_dataset_cleaned[\"form_factor\"][index_dataset_cleaned]\t== df_form_factor[\"form_factor\"][index_form_factor]\t)):\n",
    "      key_form_factor.append(df_form_factor[\"id\"][index_form_factor])\n",
    "print(len(df_fact)==len(key_form_factor))\n",
    "df_fact[\"key_form_factor\"]=key_form_factor\n",
    "df_fact.head(1)"
   ]
  },
  {
   "cell_type": "code",
   "execution_count": 161,
   "metadata": {},
   "outputs": [
    {
     "name": "stdout",
     "output_type": "stream",
     "text": [
      "True\n"
     ]
    },
    {
     "name": "stderr",
     "output_type": "stream",
     "text": [
      "C:\\Users\\Acer\\AppData\\Local\\Temp\\ipykernel_9372\\2209060094.py:7: SettingWithCopyWarning: \n",
      "A value is trying to be set on a copy of a slice from a DataFrame.\n",
      "Try using .loc[row_indexer,col_indexer] = value instead\n",
      "\n",
      "See the caveats in the documentation: https://pandas.pydata.org/pandas-docs/stable/user_guide/indexing.html#returning-a-view-versus-a-copy\n",
      "  df_fact[\"key_os\"]=key_os\n"
     ]
    },
    {
     "data": {
      "text/html": [
       "<div>\n",
       "<style scoped>\n",
       "    .dataframe tbody tr th:only-of-type {\n",
       "        vertical-align: middle;\n",
       "    }\n",
       "\n",
       "    .dataframe tbody tr th {\n",
       "        vertical-align: top;\n",
       "    }\n",
       "\n",
       "    .dataframe thead th {\n",
       "        text-align: right;\n",
       "    }\n",
       "</style>\n",
       "<table border=\"1\" class=\"dataframe\">\n",
       "  <thead>\n",
       "    <tr style=\"text-align: right;\">\n",
       "      <th></th>\n",
       "      <th>title</th>\n",
       "      <th>price</th>\n",
       "      <th>rating</th>\n",
       "      <th>total_reviews</th>\n",
       "      <th>availability_status</th>\n",
       "      <th>product_dimensions</th>\n",
       "      <th>weight</th>\n",
       "      <th>product_description</th>\n",
       "      <th>number_special_features</th>\n",
       "      <th>key_company</th>\n",
       "      <th>key_colour</th>\n",
       "      <th>key_ram</th>\n",
       "      <th>key_form_factor</th>\n",
       "      <th>key_os</th>\n",
       "    </tr>\n",
       "  </thead>\n",
       "  <tbody>\n",
       "    <tr>\n",
       "      <th>0</th>\n",
       "      <td>OnePlus Nord CE 5G (Blue Void 8GB RAM 128GB St...</td>\n",
       "      <td>45900.0</td>\n",
       "      <td>4.2</td>\n",
       "      <td>4</td>\n",
       "      <td>Only 1 left in stock.</td>\n",
       "      <td>16.5 x 7.6 x 0.7 cm</td>\n",
       "      <td>167.0</td>\n",
       "      <td>Redmi 9A comes with Octa-core Helio G25 proces...</td>\n",
       "      <td>35</td>\n",
       "      <td>7f8f4894-0fc8-11ee-ae4f-3c9c0f728f90</td>\n",
       "      <td>7f9fadd0-0fc8-11ee-8f78-3c9c0f728f90</td>\n",
       "      <td>7facc0a0-0fc8-11ee-bbe5-3c9c0f728f90</td>\n",
       "      <td>7fd47185-0fc8-11ee-a7d5-3c9c0f728f90</td>\n",
       "      <td>7fbce2c2-0fc8-11ee-850a-3c9c0f728f90</td>\n",
       "    </tr>\n",
       "  </tbody>\n",
       "</table>\n",
       "</div>"
      ],
      "text/plain": [
       "                                               title    price  rating  \\\n",
       "0  OnePlus Nord CE 5G (Blue Void 8GB RAM 128GB St...  45900.0     4.2   \n",
       "\n",
       "   total_reviews    availability_status   product_dimensions  weight  \\\n",
       "0              4  Only 1 left in stock.  16.5 x 7.6 x 0.7 cm   167.0   \n",
       "\n",
       "                                 product_description  number_special_features  \\\n",
       "0  Redmi 9A comes with Octa-core Helio G25 proces...                       35   \n",
       "\n",
       "                            key_company                            key_colour  \\\n",
       "0  7f8f4894-0fc8-11ee-ae4f-3c9c0f728f90  7f9fadd0-0fc8-11ee-8f78-3c9c0f728f90   \n",
       "\n",
       "                                key_ram                       key_form_factor  \\\n",
       "0  7facc0a0-0fc8-11ee-bbe5-3c9c0f728f90  7fd47185-0fc8-11ee-a7d5-3c9c0f728f90   \n",
       "\n",
       "                                 key_os  \n",
       "0  7fbce2c2-0fc8-11ee-850a-3c9c0f728f90  "
      ]
     },
     "execution_count": 161,
     "metadata": {},
     "output_type": "execute_result"
    }
   ],
   "source": [
    "key_os=[]\n",
    "for index_dataset_cleaned  in df_dataset_cleaned.index:\t\n",
    "  for index_os in df_os.index:\n",
    "    if((df_dataset_cleaned[\"os\"][index_dataset_cleaned]\t== df_os[\"os\"][index_os]\t)):\n",
    "      key_os.append(df_os[\"id\"][index_os])\n",
    "print(len(df_fact)==len(key_os))\n",
    "df_fact[\"key_os\"]=key_os\n",
    "df_fact.head(1)"
   ]
  },
  {
   "cell_type": "code",
   "execution_count": 162,
   "metadata": {},
   "outputs": [
    {
     "name": "stderr",
     "output_type": "stream",
     "text": [
      "C:\\Users\\Acer\\AppData\\Local\\Temp\\ipykernel_9372\\709724463.py:11: SettingWithCopyWarning: \n",
      "A value is trying to be set on a copy of a slice from a DataFrame.\n",
      "Try using .loc[row_indexer,col_indexer] = value instead\n",
      "\n",
      "See the caveats in the documentation: https://pandas.pydata.org/pandas-docs/stable/user_guide/indexing.html#returning-a-view-versus-a-copy\n",
      "  df_fact[\"key_battery_power\"]=key_battery_power\n"
     ]
    },
    {
     "data": {
      "text/html": [
       "<div>\n",
       "<style scoped>\n",
       "    .dataframe tbody tr th:only-of-type {\n",
       "        vertical-align: middle;\n",
       "    }\n",
       "\n",
       "    .dataframe tbody tr th {\n",
       "        vertical-align: top;\n",
       "    }\n",
       "\n",
       "    .dataframe thead th {\n",
       "        text-align: right;\n",
       "    }\n",
       "</style>\n",
       "<table border=\"1\" class=\"dataframe\">\n",
       "  <thead>\n",
       "    <tr style=\"text-align: right;\">\n",
       "      <th></th>\n",
       "      <th>title</th>\n",
       "      <th>price</th>\n",
       "      <th>rating</th>\n",
       "      <th>total_reviews</th>\n",
       "      <th>availability_status</th>\n",
       "      <th>product_dimensions</th>\n",
       "      <th>weight</th>\n",
       "      <th>product_description</th>\n",
       "      <th>number_special_features</th>\n",
       "      <th>key_company</th>\n",
       "      <th>key_colour</th>\n",
       "      <th>key_ram</th>\n",
       "      <th>key_form_factor</th>\n",
       "      <th>key_os</th>\n",
       "      <th>key_battery_power</th>\n",
       "    </tr>\n",
       "  </thead>\n",
       "  <tbody>\n",
       "    <tr>\n",
       "      <th>0</th>\n",
       "      <td>OnePlus Nord CE 5G (Blue Void 8GB RAM 128GB St...</td>\n",
       "      <td>45900.0</td>\n",
       "      <td>4.2</td>\n",
       "      <td>4</td>\n",
       "      <td>Only 1 left in stock.</td>\n",
       "      <td>16.5 x 7.6 x 0.7 cm</td>\n",
       "      <td>167.0</td>\n",
       "      <td>Redmi 9A comes with Octa-core Helio G25 proces...</td>\n",
       "      <td>35</td>\n",
       "      <td>7f8f4894-0fc8-11ee-ae4f-3c9c0f728f90</td>\n",
       "      <td>7f9fadd0-0fc8-11ee-8f78-3c9c0f728f90</td>\n",
       "      <td>7facc0a0-0fc8-11ee-bbe5-3c9c0f728f90</td>\n",
       "      <td>7fd47185-0fc8-11ee-a7d5-3c9c0f728f90</td>\n",
       "      <td>7fbce2c2-0fc8-11ee-850a-3c9c0f728f90</td>\n",
       "      <td>7fe0ab87-0fc8-11ee-928f-3c9c0f728f90</td>\n",
       "    </tr>\n",
       "  </tbody>\n",
       "</table>\n",
       "</div>"
      ],
      "text/plain": [
       "                                               title    price  rating  \\\n",
       "0  OnePlus Nord CE 5G (Blue Void 8GB RAM 128GB St...  45900.0     4.2   \n",
       "\n",
       "   total_reviews    availability_status   product_dimensions  weight  \\\n",
       "0              4  Only 1 left in stock.  16.5 x 7.6 x 0.7 cm   167.0   \n",
       "\n",
       "                                 product_description  number_special_features  \\\n",
       "0  Redmi 9A comes with Octa-core Helio G25 proces...                       35   \n",
       "\n",
       "                            key_company                            key_colour  \\\n",
       "0  7f8f4894-0fc8-11ee-ae4f-3c9c0f728f90  7f9fadd0-0fc8-11ee-8f78-3c9c0f728f90   \n",
       "\n",
       "                                key_ram                       key_form_factor  \\\n",
       "0  7facc0a0-0fc8-11ee-bbe5-3c9c0f728f90  7fd47185-0fc8-11ee-a7d5-3c9c0f728f90   \n",
       "\n",
       "                                 key_os                     key_battery_power  \n",
       "0  7fbce2c2-0fc8-11ee-850a-3c9c0f728f90  7fe0ab87-0fc8-11ee-928f-3c9c0f728f90  "
      ]
     },
     "execution_count": 162,
     "metadata": {},
     "output_type": "execute_result"
    }
   ],
   "source": [
    "\n",
    "key_battery_power=[]\n",
    "for index_dataset_cleaned  in df_dataset_cleaned.index:\t\n",
    "  for index_battery_power in df_battery_power.index:\n",
    "    if(\n",
    "      (df_dataset_cleaned[\"battery_power_rating\"][index_dataset_cleaned]\t== df_battery_power[\"battery_power_rating\"][index_battery_power]\t)\n",
    "      and \n",
    "      (df_dataset_cleaned[\"batteries\"][index_dataset_cleaned]\t== df_battery_power[\"batteries\"][index_battery_power]\t)\n",
    "    ):\n",
    "      key_battery_power.append(df_battery_power[\"id\"][index_battery_power])\n",
    "if(len(df_fact)==len(key_battery_power)):\n",
    "  df_fact[\"key_battery_power\"]=key_battery_power\n",
    "else:\n",
    "  stop\n",
    "df_fact.head(1)"
   ]
  },
  {
   "attachments": {},
   "cell_type": "markdown",
   "metadata": {},
   "source": [
    "## save data"
   ]
  },
  {
   "cell_type": "code",
   "execution_count": 163,
   "metadata": {},
   "outputs": [],
   "source": [
    "df_fact.to_csv('../data_cleaned/df_facts.csv',index=False,sep=';')\n"
   ]
  },
  {
   "cell_type": "code",
   "execution_count": 164,
   "metadata": {},
   "outputs": [
    {
     "data": {
      "text/plain": [
       "264"
      ]
     },
     "execution_count": 164,
     "metadata": {},
     "output_type": "execute_result"
    }
   ],
   "source": [
    "len(df_fact)"
   ]
  }
 ],
 "metadata": {
  "kernelspec": {
   "display_name": "Python 3",
   "language": "python",
   "name": "python3"
  },
  "language_info": {
   "codemirror_mode": {
    "name": "ipython",
    "version": 3
   },
   "file_extension": ".py",
   "mimetype": "text/x-python",
   "name": "python",
   "nbconvert_exporter": "python",
   "pygments_lexer": "ipython3",
   "version": "3.11.3"
  },
  "orig_nbformat": 4
 },
 "nbformat": 4,
 "nbformat_minor": 2
}
